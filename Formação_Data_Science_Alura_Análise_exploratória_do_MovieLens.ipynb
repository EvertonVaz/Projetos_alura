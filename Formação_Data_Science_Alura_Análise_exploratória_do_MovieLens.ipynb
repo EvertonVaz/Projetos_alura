{
  "nbformat": 4,
  "nbformat_minor": 0,
  "metadata": {
    "kernelspec": {
      "display_name": "Python 3",
      "language": "python",
      "name": "python3"
    },
    "language_info": {
      "codemirror_mode": {
        "name": "ipython",
        "version": 3
      },
      "file_extension": ".py",
      "mimetype": "text/x-python",
      "name": "python",
      "nbconvert_exporter": "python",
      "pygments_lexer": "ipython3",
      "version": "3.7.4"
    },
    "colab": {
      "name": "Formação Data Science Alura - Análise exploratória do MovieLens.ipynb",
      "provenance": [],
      "include_colab_link": true
    }
  },
  "cells": [
    {
      "cell_type": "markdown",
      "metadata": {
        "id": "view-in-github",
        "colab_type": "text"
      },
      "source": [
        "<a href=\"https://colab.research.google.com/github/EvertonVaz/Projetos_alura/blob/master/Forma%C3%A7%C3%A3o_Data_Science_Alura_An%C3%A1lise_explorat%C3%B3ria_do_MovieLens.ipynb\" target=\"_parent\"><img src=\"https://colab.research.google.com/assets/colab-badge.svg\" alt=\"Open In Colab\"/></a>"
      ]
    },
    {
      "cell_type": "markdown",
      "metadata": {
        "id": "Pes8Suq0W6fl",
        "colab_type": "text"
      },
      "source": [
        "## Pergunta: Coloque um cabeçalho nesse notebook com o seu nome e resumindo o que descobriu ao explorar esses dados\n",
        "\n",
        "Everton Vaz"
      ]
    },
    {
      "cell_type": "code",
      "metadata": {
        "id": "Ze4pLoRddsM-",
        "colab_type": "code",
        "colab": {
          "base_uri": "https://localhost:8080/",
          "height": 34
        },
        "outputId": "940e8ba1-72e2-4da6-9444-6f4af6244e55"
      },
      "source": [
        "from google.colab import drive\n",
        "drive.mount('/content/drive')"
      ],
      "execution_count": 2,
      "outputs": [
        {
          "output_type": "stream",
          "text": [
            "Drive already mounted at /content/drive; to attempt to forcibly remount, call drive.mount(\"/content/drive\", force_remount=True).\n"
          ],
          "name": "stdout"
        }
      ]
    },
    {
      "cell_type": "markdown",
      "metadata": {
        "id": "xIRC4xuIW6fm",
        "colab_type": "text"
      },
      "source": [
        "## Formação Data Science Alura - Análise exploratória do MovieLens\n",
        "\n",
        "Na formação de Data Scienda www.alura.com.br um dos conjuntos de dados que utilizamos é o de avaliações para filmes no site MovieLens. Neste projeto faremos uma análise exploratória desses dados."
      ]
    },
    {
      "cell_type": "markdown",
      "metadata": {
        "id": "ytjRnsAsW6fn",
        "colab_type": "text"
      },
      "source": [
        "### Dicas para o projeto completo:\n",
        "\n",
        "- todo gráfico deve ter um título, labels e legendas que fazem sentido\n",
        "- configure um tamanho adequado para os gráficos\n",
        "- utilize as versões dos arquivos de dados disponíveis no github"
      ]
    },
    {
      "cell_type": "markdown",
      "metadata": {
        "id": "_6Tgw73ZW6fo",
        "colab_type": "text"
      },
      "source": [
        "## Pergunta: conferindo as versões utilizadas\n",
        "\n",
        "- Devemos usar pandas 0.24.0 ou mais recente\n",
        "- Devemos usar seaborn 0.9.0 ou mais recente\n",
        "- Devemos usar scipy 1.2.0 ou mais recente"
      ]
    },
    {
      "cell_type": "code",
      "metadata": {
        "id": "GW5psAQ6W6fo",
        "colab_type": "code",
        "colab": {
          "base_uri": "https://localhost:8080/",
          "height": 35
        },
        "outputId": "d8c299fe-a3cc-4c1c-d985-4d2b6b307cfe"
      },
      "source": [
        "'''!pip install pandas==\"0.24.0\" --quiet\n",
        "!pip install seaborn==\"0.9.0\" --quiet\n",
        "!pip install scipy==\"1.2.0\" --quiet'''"
      ],
      "execution_count": 3,
      "outputs": [
        {
          "output_type": "execute_result",
          "data": {
            "application/vnd.google.colaboratory.intrinsic": {
              "type": "string"
            },
            "text/plain": [
              "'!pip install pandas==\"0.24.0\" --quiet\\n!pip install seaborn==\"0.9.0\" --quiet\\n!pip install scipy==\"1.2.0\" --quiet'"
            ]
          },
          "metadata": {
            "tags": []
          },
          "execution_count": 3
        }
      ]
    },
    {
      "cell_type": "code",
      "metadata": {
        "id": "Saokq1HgW6fs",
        "colab_type": "code",
        "colab": {
          "base_uri": "https://localhost:8080/",
          "height": 67
        },
        "outputId": "47da2a7a-3b36-4100-ab37-67fc6ea02c9a"
      },
      "source": [
        "import pandas as pd\n",
        "import seaborn as sns\n",
        "import scipy\n",
        "\n",
        "print(\"Usando pandas %s\" % pd.__version__)\n",
        "print(\"Usando seaborn %s\" % sns.__version__)\n",
        "print(\"Usando scipy %s\" % scipy.__version__)"
      ],
      "execution_count": 3,
      "outputs": [
        {
          "output_type": "stream",
          "text": [
            "Usando pandas 1.0.5\n",
            "Usando seaborn 0.10.1\n",
            "Usando scipy 1.4.1\n"
          ],
          "name": "stdout"
        }
      ]
    },
    {
      "cell_type": "markdown",
      "metadata": {
        "id": "rhScpMHOW6fv",
        "colab_type": "text"
      },
      "source": [
        "## Pergunta: carregue os filmes\n",
        "\n",
        "- os dados `https://raw.githubusercontent.com/alura-cursos/formacao-data-science/master/movies.csv` devem ser carregado em `filmes`\n",
        "- renomeie as colunas para `filmeId`, `titulo` e `generos`\n",
        "- configure o indice (`index`) para ser o `filmeId`"
      ]
    },
    {
      "cell_type": "code",
      "metadata": {
        "id": "A4AZ1LvmW6fw",
        "colab_type": "code",
        "colab": {}
      },
      "source": [
        "# solução\n",
        "filmes = pd.read_csv('/content/drive/My Drive/formação alura/formacao-data-science-master/movies.csv')\n",
        "filmes = filmes.rename(columns={'movieId': 'filmeId', 'title': 'titulo', 'genres': 'generos'}).set_index(['filmeId'])"
      ],
      "execution_count": 89,
      "outputs": []
    },
    {
      "cell_type": "code",
      "metadata": {
        "id": "9XCE5DKVW6fz",
        "colab_type": "code",
        "colab": {
          "base_uri": "https://localhost:8080/",
          "height": 225
        },
        "outputId": "d601a0f8-301e-4204-fc1c-7e20205b7a0c"
      },
      "source": [
        "filmes.head()"
      ],
      "execution_count": 90,
      "outputs": [
        {
          "output_type": "execute_result",
          "data": {
            "text/html": [
              "<div>\n",
              "<style scoped>\n",
              "    .dataframe tbody tr th:only-of-type {\n",
              "        vertical-align: middle;\n",
              "    }\n",
              "\n",
              "    .dataframe tbody tr th {\n",
              "        vertical-align: top;\n",
              "    }\n",
              "\n",
              "    .dataframe thead th {\n",
              "        text-align: right;\n",
              "    }\n",
              "</style>\n",
              "<table border=\"1\" class=\"dataframe\">\n",
              "  <thead>\n",
              "    <tr style=\"text-align: right;\">\n",
              "      <th></th>\n",
              "      <th>titulo</th>\n",
              "      <th>generos</th>\n",
              "    </tr>\n",
              "    <tr>\n",
              "      <th>filmeId</th>\n",
              "      <th></th>\n",
              "      <th></th>\n",
              "    </tr>\n",
              "  </thead>\n",
              "  <tbody>\n",
              "    <tr>\n",
              "      <th>1</th>\n",
              "      <td>Toy Story (1995)</td>\n",
              "      <td>Adventure|Animation|Children|Comedy|Fantasy</td>\n",
              "    </tr>\n",
              "    <tr>\n",
              "      <th>2</th>\n",
              "      <td>Jumanji (1995)</td>\n",
              "      <td>Adventure|Children|Fantasy</td>\n",
              "    </tr>\n",
              "    <tr>\n",
              "      <th>3</th>\n",
              "      <td>Grumpier Old Men (1995)</td>\n",
              "      <td>Comedy|Romance</td>\n",
              "    </tr>\n",
              "    <tr>\n",
              "      <th>4</th>\n",
              "      <td>Waiting to Exhale (1995)</td>\n",
              "      <td>Comedy|Drama|Romance</td>\n",
              "    </tr>\n",
              "    <tr>\n",
              "      <th>5</th>\n",
              "      <td>Father of the Bride Part II (1995)</td>\n",
              "      <td>Comedy</td>\n",
              "    </tr>\n",
              "  </tbody>\n",
              "</table>\n",
              "</div>"
            ],
            "text/plain": [
              "                                     titulo                                      generos\n",
              "filmeId                                                                                 \n",
              "1                          Toy Story (1995)  Adventure|Animation|Children|Comedy|Fantasy\n",
              "2                            Jumanji (1995)                   Adventure|Children|Fantasy\n",
              "3                   Grumpier Old Men (1995)                               Comedy|Romance\n",
              "4                  Waiting to Exhale (1995)                         Comedy|Drama|Romance\n",
              "5        Father of the Bride Part II (1995)                                       Comedy"
            ]
          },
          "metadata": {
            "tags": []
          },
          "execution_count": 90
        }
      ]
    },
    {
      "cell_type": "code",
      "metadata": {
        "scrolled": true,
        "id": "40PFrYUqW6f3",
        "colab_type": "code",
        "colab": {
          "base_uri": "https://localhost:8080/",
          "height": 34
        },
        "outputId": "4a575a73-f7b8-4692-a9f5-23dc68afdc67"
      },
      "source": [
        "print(\"Carregamos %d filmes\" % len(filmes))\n",
        "if(len(filmes) != 9742):\n",
        "    print(\"ERRO! O conjunto de dados que estamos trabalhando nesse projeto possui 9742 elementos.\")"
      ],
      "execution_count": 6,
      "outputs": [
        {
          "output_type": "stream",
          "text": [
            "Carregamos 9742 filmes\n"
          ],
          "name": "stdout"
        }
      ]
    },
    {
      "cell_type": "markdown",
      "metadata": {
        "id": "ORJKrSfRW6f6",
        "colab_type": "text"
      },
      "source": [
        "Vamos extrair o ano dos filmes (código já pronto): "
      ]
    },
    {
      "cell_type": "code",
      "metadata": {
        "id": "keEN9fJ6W6f7",
        "colab_type": "code",
        "colab": {
          "base_uri": "https://localhost:8080/",
          "height": 225
        },
        "outputId": "2efb701c-bc27-467a-b505-b8cd4192acd4"
      },
      "source": [
        "ano_de_lancamento = filmes.titulo.str.extract(\"\\((\\d{4})\\)\")\n",
        "filmes['ano_de_lancamento'] = ano_de_lancamento.astype(float)\n",
        "\n",
        "categorias = filmes['generos'].copy()\n",
        "\n",
        "filmes.head()"
      ],
      "execution_count": 93,
      "outputs": [
        {
          "output_type": "execute_result",
          "data": {
            "text/html": [
              "<div>\n",
              "<style scoped>\n",
              "    .dataframe tbody tr th:only-of-type {\n",
              "        vertical-align: middle;\n",
              "    }\n",
              "\n",
              "    .dataframe tbody tr th {\n",
              "        vertical-align: top;\n",
              "    }\n",
              "\n",
              "    .dataframe thead th {\n",
              "        text-align: right;\n",
              "    }\n",
              "</style>\n",
              "<table border=\"1\" class=\"dataframe\">\n",
              "  <thead>\n",
              "    <tr style=\"text-align: right;\">\n",
              "      <th></th>\n",
              "      <th>titulo</th>\n",
              "      <th>generos</th>\n",
              "      <th>ano_de_lancamento</th>\n",
              "    </tr>\n",
              "    <tr>\n",
              "      <th>filmeId</th>\n",
              "      <th></th>\n",
              "      <th></th>\n",
              "      <th></th>\n",
              "    </tr>\n",
              "  </thead>\n",
              "  <tbody>\n",
              "    <tr>\n",
              "      <th>1</th>\n",
              "      <td>Toy Story (1995)</td>\n",
              "      <td>Adventure|Animation|Children|Comedy|Fantasy</td>\n",
              "      <td>1995.0</td>\n",
              "    </tr>\n",
              "    <tr>\n",
              "      <th>2</th>\n",
              "      <td>Jumanji (1995)</td>\n",
              "      <td>Adventure|Children|Fantasy</td>\n",
              "      <td>1995.0</td>\n",
              "    </tr>\n",
              "    <tr>\n",
              "      <th>3</th>\n",
              "      <td>Grumpier Old Men (1995)</td>\n",
              "      <td>Comedy|Romance</td>\n",
              "      <td>1995.0</td>\n",
              "    </tr>\n",
              "    <tr>\n",
              "      <th>4</th>\n",
              "      <td>Waiting to Exhale (1995)</td>\n",
              "      <td>Comedy|Drama|Romance</td>\n",
              "      <td>1995.0</td>\n",
              "    </tr>\n",
              "    <tr>\n",
              "      <th>5</th>\n",
              "      <td>Father of the Bride Part II (1995)</td>\n",
              "      <td>Comedy</td>\n",
              "      <td>1995.0</td>\n",
              "    </tr>\n",
              "  </tbody>\n",
              "</table>\n",
              "</div>"
            ],
            "text/plain": [
              "                                     titulo  ... ano_de_lancamento\n",
              "filmeId                                      ...                  \n",
              "1                          Toy Story (1995)  ...            1995.0\n",
              "2                            Jumanji (1995)  ...            1995.0\n",
              "3                   Grumpier Old Men (1995)  ...            1995.0\n",
              "4                  Waiting to Exhale (1995)  ...            1995.0\n",
              "5        Father of the Bride Part II (1995)  ...            1995.0\n",
              "\n",
              "[5 rows x 3 columns]"
            ]
          },
          "metadata": {
            "tags": []
          },
          "execution_count": 93
        }
      ]
    },
    {
      "cell_type": "markdown",
      "metadata": {
        "id": "B1RbeVwGW6f_",
        "colab_type": "text"
      },
      "source": [
        "## Pergunta: carregando as notas\n",
        "\n",
        "- os dados `https://raw.githubusercontent.com/alura-cursos/formacao-data-science/master/ratings.csv` devem ser carregado em `notas`\n",
        "- renomeie as colunas para `usuarioId`, `filmeId`, `nota` e `momento`"
      ]
    },
    {
      "cell_type": "code",
      "metadata": {
        "id": "yuszp7SeW6f_",
        "colab_type": "code",
        "colab": {}
      },
      "source": [
        "# solução\n",
        "notas = pd.read_csv('/content/drive/My Drive/formação alura/formacao-data-science-master/ratings.csv')\n",
        "notas = notas.rename(columns={'userId': 'usuarioId', 'movieId': 'filmeId', 'rating': 'nota', 'timestamp': 'momento'}) #.set_index(['filmeId'])"
      ],
      "execution_count": 94,
      "outputs": []
    },
    {
      "cell_type": "code",
      "metadata": {
        "id": "soM5yN5uW6gC",
        "colab_type": "code",
        "colab": {
          "base_uri": "https://localhost:8080/",
          "height": 195
        },
        "outputId": "eb9ac9a3-9bcb-4dc0-f4c0-e756f016bef7"
      },
      "source": [
        "notas.head()"
      ],
      "execution_count": 95,
      "outputs": [
        {
          "output_type": "execute_result",
          "data": {
            "text/html": [
              "<div>\n",
              "<style scoped>\n",
              "    .dataframe tbody tr th:only-of-type {\n",
              "        vertical-align: middle;\n",
              "    }\n",
              "\n",
              "    .dataframe tbody tr th {\n",
              "        vertical-align: top;\n",
              "    }\n",
              "\n",
              "    .dataframe thead th {\n",
              "        text-align: right;\n",
              "    }\n",
              "</style>\n",
              "<table border=\"1\" class=\"dataframe\">\n",
              "  <thead>\n",
              "    <tr style=\"text-align: right;\">\n",
              "      <th></th>\n",
              "      <th>usuarioId</th>\n",
              "      <th>filmeId</th>\n",
              "      <th>nota</th>\n",
              "      <th>momento</th>\n",
              "    </tr>\n",
              "  </thead>\n",
              "  <tbody>\n",
              "    <tr>\n",
              "      <th>0</th>\n",
              "      <td>1</td>\n",
              "      <td>1</td>\n",
              "      <td>4.0</td>\n",
              "      <td>964982703</td>\n",
              "    </tr>\n",
              "    <tr>\n",
              "      <th>1</th>\n",
              "      <td>1</td>\n",
              "      <td>3</td>\n",
              "      <td>4.0</td>\n",
              "      <td>964981247</td>\n",
              "    </tr>\n",
              "    <tr>\n",
              "      <th>2</th>\n",
              "      <td>1</td>\n",
              "      <td>6</td>\n",
              "      <td>4.0</td>\n",
              "      <td>964982224</td>\n",
              "    </tr>\n",
              "    <tr>\n",
              "      <th>3</th>\n",
              "      <td>1</td>\n",
              "      <td>47</td>\n",
              "      <td>5.0</td>\n",
              "      <td>964983815</td>\n",
              "    </tr>\n",
              "    <tr>\n",
              "      <th>4</th>\n",
              "      <td>1</td>\n",
              "      <td>50</td>\n",
              "      <td>5.0</td>\n",
              "      <td>964982931</td>\n",
              "    </tr>\n",
              "  </tbody>\n",
              "</table>\n",
              "</div>"
            ],
            "text/plain": [
              "   usuarioId  filmeId  nota    momento\n",
              "0          1        1   4.0  964982703\n",
              "1          1        3   4.0  964981247\n",
              "2          1        6   4.0  964982224\n",
              "3          1       47   5.0  964983815\n",
              "4          1       50   5.0  964982931"
            ]
          },
          "metadata": {
            "tags": []
          },
          "execution_count": 95
        }
      ]
    },
    {
      "cell_type": "markdown",
      "metadata": {
        "id": "ONah2hrnW6gF",
        "colab_type": "text"
      },
      "source": [
        "## Pergunta: gere uma nova feature, a média dos votos por filme\n",
        "\n",
        "- crie uma nova coluna chamada `nota_media` dentro do dataframe `filmes`\n",
        "\n",
        "Dicas:\n",
        "- como filmeId já é o indice de seu dataframe filmes, se você possui uma série com o número de votos por filme, basta atribuir uma nova coluna normalmente que será usado o mesmo índice"
      ]
    },
    {
      "cell_type": "code",
      "metadata": {
        "id": "WTovLvLJW6gG",
        "colab_type": "code",
        "colab": {}
      },
      "source": [
        "# solução\n",
        "nota_media = notas.groupby(['filmeId'])['nota'].mean()\n",
        "filmes['nota_media'] = nota_media"
      ],
      "execution_count": 96,
      "outputs": []
    },
    {
      "cell_type": "code",
      "metadata": {
        "id": "XHkxHjJ-W6gI",
        "colab_type": "code",
        "colab": {
          "base_uri": "https://localhost:8080/",
          "height": 225
        },
        "outputId": "a3a910f0-05d8-4ad4-bba3-6ed85ebae499"
      },
      "source": [
        "filmes.head()"
      ],
      "execution_count": 97,
      "outputs": [
        {
          "output_type": "execute_result",
          "data": {
            "text/html": [
              "<div>\n",
              "<style scoped>\n",
              "    .dataframe tbody tr th:only-of-type {\n",
              "        vertical-align: middle;\n",
              "    }\n",
              "\n",
              "    .dataframe tbody tr th {\n",
              "        vertical-align: top;\n",
              "    }\n",
              "\n",
              "    .dataframe thead th {\n",
              "        text-align: right;\n",
              "    }\n",
              "</style>\n",
              "<table border=\"1\" class=\"dataframe\">\n",
              "  <thead>\n",
              "    <tr style=\"text-align: right;\">\n",
              "      <th></th>\n",
              "      <th>titulo</th>\n",
              "      <th>generos</th>\n",
              "      <th>ano_de_lancamento</th>\n",
              "      <th>nota_media</th>\n",
              "    </tr>\n",
              "    <tr>\n",
              "      <th>filmeId</th>\n",
              "      <th></th>\n",
              "      <th></th>\n",
              "      <th></th>\n",
              "      <th></th>\n",
              "    </tr>\n",
              "  </thead>\n",
              "  <tbody>\n",
              "    <tr>\n",
              "      <th>1</th>\n",
              "      <td>Toy Story (1995)</td>\n",
              "      <td>Adventure|Animation|Children|Comedy|Fantasy</td>\n",
              "      <td>1995.0</td>\n",
              "      <td>3.920930</td>\n",
              "    </tr>\n",
              "    <tr>\n",
              "      <th>2</th>\n",
              "      <td>Jumanji (1995)</td>\n",
              "      <td>Adventure|Children|Fantasy</td>\n",
              "      <td>1995.0</td>\n",
              "      <td>3.431818</td>\n",
              "    </tr>\n",
              "    <tr>\n",
              "      <th>3</th>\n",
              "      <td>Grumpier Old Men (1995)</td>\n",
              "      <td>Comedy|Romance</td>\n",
              "      <td>1995.0</td>\n",
              "      <td>3.259615</td>\n",
              "    </tr>\n",
              "    <tr>\n",
              "      <th>4</th>\n",
              "      <td>Waiting to Exhale (1995)</td>\n",
              "      <td>Comedy|Drama|Romance</td>\n",
              "      <td>1995.0</td>\n",
              "      <td>2.357143</td>\n",
              "    </tr>\n",
              "    <tr>\n",
              "      <th>5</th>\n",
              "      <td>Father of the Bride Part II (1995)</td>\n",
              "      <td>Comedy</td>\n",
              "      <td>1995.0</td>\n",
              "      <td>3.071429</td>\n",
              "    </tr>\n",
              "  </tbody>\n",
              "</table>\n",
              "</div>"
            ],
            "text/plain": [
              "                                     titulo  ... nota_media\n",
              "filmeId                                      ...           \n",
              "1                          Toy Story (1995)  ...   3.920930\n",
              "2                            Jumanji (1995)  ...   3.431818\n",
              "3                   Grumpier Old Men (1995)  ...   3.259615\n",
              "4                  Waiting to Exhale (1995)  ...   2.357143\n",
              "5        Father of the Bride Part II (1995)  ...   3.071429\n",
              "\n",
              "[5 rows x 4 columns]"
            ]
          },
          "metadata": {
            "tags": []
          },
          "execution_count": 97
        }
      ]
    },
    {
      "cell_type": "markdown",
      "metadata": {
        "id": "sEEWrUymW6gM",
        "colab_type": "text"
      },
      "source": [
        "## Pergunta: remova os filmes com menos de 50 avaliações\n",
        "\n",
        "- conte o número de notas por filme\n",
        "- adicione uma coluna nova chamada `total_de_votos` a `filmes` que representa o número de avaliações que aquele filme teve no conjunto de dados\n",
        "- remova os que tem 49 ou menos de `filmes`"
      ]
    },
    {
      "cell_type": "markdown",
      "metadata": {
        "id": "voSF4RKMW6gN",
        "colab_type": "text"
      },
      "source": [
        "## Solução"
      ]
    },
    {
      "cell_type": "code",
      "metadata": {
        "id": "BXGpO40rW6gN",
        "colab_type": "code",
        "colab": {}
      },
      "source": [
        "# solução para calcular o total de votos por filme\n",
        "votos = notas.groupby(['filmeId'])['nota'].count()\n",
        "filmes['total_de_votos'] = votos\n"
      ],
      "execution_count": 98,
      "outputs": []
    },
    {
      "cell_type": "code",
      "metadata": {
        "id": "vANLv-hlW6gQ",
        "colab_type": "code",
        "colab": {
          "base_uri": "https://localhost:8080/",
          "height": 34
        },
        "outputId": "8cb7f286-84a7-42ca-e349-e9a80b956886"
      },
      "source": [
        "# solução para criar a nova coluna e filtrar os filmes\n",
        "filmes = filmes[filmes['total_de_votos'] >= 50]\n",
        "filmes.total_de_votos.min()"
      ],
      "execution_count": 99,
      "outputs": [
        {
          "output_type": "execute_result",
          "data": {
            "text/plain": [
              "50.0"
            ]
          },
          "metadata": {
            "tags": []
          },
          "execution_count": 99
        }
      ]
    },
    {
      "cell_type": "code",
      "metadata": {
        "id": "ZbB_cuYhW6gS",
        "colab_type": "code",
        "colab": {
          "base_uri": "https://localhost:8080/",
          "height": 342
        },
        "outputId": "def80960-02a1-440e-8635-ce22b759db1b"
      },
      "source": [
        "print(filmes.dtypes)\n",
        "print(len(filmes))\n",
        "filmes.head()"
      ],
      "execution_count": 100,
      "outputs": [
        {
          "output_type": "stream",
          "text": [
            "titulo                object\n",
            "generos               object\n",
            "ano_de_lancamento    float64\n",
            "nota_media           float64\n",
            "total_de_votos       float64\n",
            "dtype: object\n",
            "450\n"
          ],
          "name": "stdout"
        },
        {
          "output_type": "execute_result",
          "data": {
            "text/html": [
              "<div>\n",
              "<style scoped>\n",
              "    .dataframe tbody tr th:only-of-type {\n",
              "        vertical-align: middle;\n",
              "    }\n",
              "\n",
              "    .dataframe tbody tr th {\n",
              "        vertical-align: top;\n",
              "    }\n",
              "\n",
              "    .dataframe thead th {\n",
              "        text-align: right;\n",
              "    }\n",
              "</style>\n",
              "<table border=\"1\" class=\"dataframe\">\n",
              "  <thead>\n",
              "    <tr style=\"text-align: right;\">\n",
              "      <th></th>\n",
              "      <th>titulo</th>\n",
              "      <th>generos</th>\n",
              "      <th>ano_de_lancamento</th>\n",
              "      <th>nota_media</th>\n",
              "      <th>total_de_votos</th>\n",
              "    </tr>\n",
              "    <tr>\n",
              "      <th>filmeId</th>\n",
              "      <th></th>\n",
              "      <th></th>\n",
              "      <th></th>\n",
              "      <th></th>\n",
              "      <th></th>\n",
              "    </tr>\n",
              "  </thead>\n",
              "  <tbody>\n",
              "    <tr>\n",
              "      <th>1</th>\n",
              "      <td>Toy Story (1995)</td>\n",
              "      <td>Adventure|Animation|Children|Comedy|Fantasy</td>\n",
              "      <td>1995.0</td>\n",
              "      <td>3.920930</td>\n",
              "      <td>215.0</td>\n",
              "    </tr>\n",
              "    <tr>\n",
              "      <th>2</th>\n",
              "      <td>Jumanji (1995)</td>\n",
              "      <td>Adventure|Children|Fantasy</td>\n",
              "      <td>1995.0</td>\n",
              "      <td>3.431818</td>\n",
              "      <td>110.0</td>\n",
              "    </tr>\n",
              "    <tr>\n",
              "      <th>3</th>\n",
              "      <td>Grumpier Old Men (1995)</td>\n",
              "      <td>Comedy|Romance</td>\n",
              "      <td>1995.0</td>\n",
              "      <td>3.259615</td>\n",
              "      <td>52.0</td>\n",
              "    </tr>\n",
              "    <tr>\n",
              "      <th>6</th>\n",
              "      <td>Heat (1995)</td>\n",
              "      <td>Action|Crime|Thriller</td>\n",
              "      <td>1995.0</td>\n",
              "      <td>3.946078</td>\n",
              "      <td>102.0</td>\n",
              "    </tr>\n",
              "    <tr>\n",
              "      <th>7</th>\n",
              "      <td>Sabrina (1995)</td>\n",
              "      <td>Comedy|Romance</td>\n",
              "      <td>1995.0</td>\n",
              "      <td>3.185185</td>\n",
              "      <td>54.0</td>\n",
              "    </tr>\n",
              "  </tbody>\n",
              "</table>\n",
              "</div>"
            ],
            "text/plain": [
              "                          titulo  ... total_de_votos\n",
              "filmeId                           ...               \n",
              "1               Toy Story (1995)  ...          215.0\n",
              "2                 Jumanji (1995)  ...          110.0\n",
              "3        Grumpier Old Men (1995)  ...           52.0\n",
              "6                    Heat (1995)  ...          102.0\n",
              "7                 Sabrina (1995)  ...           54.0\n",
              "\n",
              "[5 rows x 5 columns]"
            ]
          },
          "metadata": {
            "tags": []
          },
          "execution_count": 100
        }
      ]
    },
    {
      "cell_type": "markdown",
      "metadata": {
        "id": "ol2sXy8wW6gW",
        "colab_type": "text"
      },
      "source": [
        "# Visualizando os dados gerais"
      ]
    },
    {
      "cell_type": "markdown",
      "metadata": {
        "id": "8UsIPJ0OW6gX",
        "colab_type": "text"
      },
      "source": [
        "## Pergunta: Visualize as notas médias\n",
        "\n",
        "- histograma\n",
        "- cummulative distribution function\n",
        "\n",
        "Dicas:\n",
        "\n",
        "- lembre-se de colocar um título nas imagens além de nomes nos eixos x e y\n",
        "- para gerar a versão cumulativa lembre-se de usar os parâmetros `hist_kws` e `kde_kws` para definir `'cumulative'=True`"
      ]
    },
    {
      "cell_type": "code",
      "metadata": {
        "id": "CxHQPd5OixFY",
        "colab_type": "code",
        "colab": {}
      },
      "source": [
        "def nomear_grafico(grafico, titulo, eixo_x, eixo_y=None):\n",
        "  grafico.update_layout(title={'text': titulo,                                \n",
        "                               'x':0.5,\n",
        "                               'xanchor': 'center',\n",
        "                               'yanchor': 'top'})\n",
        "  grafico.update_xaxes(title_text=eixo_x)\n",
        "  grafico.update_yaxes(title_text=eixo_y)"
      ],
      "execution_count": 101,
      "outputs": []
    },
    {
      "cell_type": "code",
      "metadata": {
        "id": "iT-ek9TPW6gX",
        "colab_type": "code",
        "colab": {
          "base_uri": "https://localhost:8080/",
          "height": 542
        },
        "outputId": "70897fee-ce67-4a38-9c62-575872732f1e"
      },
      "source": [
        "# solução histograma\n",
        "import plotly.figure_factory as ff\n",
        "\n",
        "x = filmes['nota_media']\n",
        "hist_data = [x]\n",
        "group_labels = ['Nota Média']\n",
        "\n",
        "fig = ff.create_distplot(hist_data, group_labels, bin_size=0)\n",
        "\n",
        "nomear_grafico(fig, 'Histograma da nota média', 'Nota Média')\n",
        "\n",
        "fig.show()"
      ],
      "execution_count": 102,
      "outputs": [
        {
          "output_type": "display_data",
          "data": {
            "text/html": [
              "<html>\n",
              "<head><meta charset=\"utf-8\" /></head>\n",
              "<body>\n",
              "    <div>\n",
              "            <script src=\"https://cdnjs.cloudflare.com/ajax/libs/mathjax/2.7.5/MathJax.js?config=TeX-AMS-MML_SVG\"></script><script type=\"text/javascript\">if (window.MathJax) {MathJax.Hub.Config({SVG: {font: \"STIX-Web\"}});}</script>\n",
              "                <script type=\"text/javascript\">window.PlotlyConfig = {MathJaxConfig: 'local'};</script>\n",
              "        <script src=\"https://cdn.plot.ly/plotly-latest.min.js\"></script>    \n",
              "            <div id=\"f4d90d8b-29fe-44f9-b85d-933b4d1da16a\" class=\"plotly-graph-div\" style=\"height:525px; width:100%;\"></div>\n",
              "            <script type=\"text/javascript\">\n",
              "                \n",
              "                    window.PLOTLYENV=window.PLOTLYENV || {};\n",
              "                    \n",
              "                if (document.getElementById(\"f4d90d8b-29fe-44f9-b85d-933b4d1da16a\")) {\n",
              "                    Plotly.newPlot(\n",
              "                        'f4d90d8b-29fe-44f9-b85d-933b4d1da16a',\n",
              "                        [{\"autobinx\": false, \"histnorm\": \"probability density\", \"legendgroup\": \"Nota M\\u00e9dia\", \"marker\": {\"color\": \"rgb(31, 119, 180)\"}, \"name\": \"Nota M\\u00e9dia\", \"opacity\": 0.7, \"type\": \"histogram\", \"x\": [3.9209302325581397, 3.4318181818181817, 3.2596153846153846, 3.946078431372549, 3.185185185185185, 3.496212121212121, 3.6714285714285713, 3.926829268292683, 3.7761194029850746, 2.727272727272727, 3.49438202247191, 3.625, 3.983050847457627, 3.65234375, 3.8358208955223883, 3.293269230769231, 3.9753694581280787, 3.1470588235294117, 4.237745098039215, 3.70625, 3.5090909090909093, 3.0238095238095237, 3.4393939393939394, 4.031645569620253, 4.105769230769231, 3.494186046511628, 3.2450980392156863, 3.845771144278607, 2.9160583941605838, 2.806451612903226, 2.8771929824561404, 3.6359223300970873, 3.5606060606060606, 3.5555555555555554, 3.0833333333333335, 2.6792452830188678, 2.6693548387096775, 3.0401785714285716, 2.9130434782608696, 3.855769230769231, 3.5384615384615383, 3.0601503759398496, 3.6785714285714284, 3.458715596330275, 4.231075697211155, 3.3970588235294117, 3.233695652173913, 3.4257425742574257, 4.018796992481203, 4.197068403908795, 3.5185185185185186, 3.375, 3.2037037037037037, 4.429022082018927, 3.3935185185185186, 3.78, 3.7662337662337664, 3.4693877551020407, 3.040372670807453, 3.6045454545454545, 3.3859649122807016, 3.609375, 4.164133738601824, 3.5194174757281553, 3.941860465116279, 3.1847133757961785, 3.5, 3.060344827586207, 3.5292397660818713, 3.497191011235955, 3.1011904761904763, 2.7203389830508473, 2.6454545454545455, 3.0346534653465347, 2.4206349206349205, 3.5460526315789473, 3.0925925925925926, 3.5346534653465347, 3.9921052631578946, 2.8666666666666667, 3.692857142857143, 3.75, 2.9339622641509435, 3.388888888888889, 3.6136363636363638, 3.540983606557377, 3.130434782608696, 4.225, 3.4716981132075473, 4.100806451612903, 3.553763440860215, 3.262295081967213, 3.8153846153846156, 3.8, 2.9956896551724137, 3.4347826086956523, 3.7923497267759565, 3.970982142857143, 3.8353658536585367, 3.4285714285714284, 4.161290322580645, 3.616883116883117, 3.7705479452054793, 3.45, 3.4851851851851854, 4.116022099447513, 3.537037037037037, 3.0923076923076924, 2.707547169811321, 3.3879310344827585, 3.6404958677685952, 3.321138211382114, 4.268041237113402, 4.03921568627451, 3.4455445544554455, 2.8055555555555554, 3.109375, 2.731707317073171, 4.2890625, 4.025, 4.261904761904762, 4.184210526315789, 4.01, 4.24, 3.880434782608696, 4.043478260869565, 3.8944954128440368, 4.0344827586206895, 3.887323943661972, 3.9375, 3.8620689655172415, 3.8739495798319328, 3.9225352112676055, 3.9269662921348316, 4.202290076335878, 3.984126984126984, 3.7663934426229506, 3.3012048192771086, 3.475806451612903, 4.161764705882353, 4.035714285714286, 4.203007518796992, 4.2156398104265405, 4.232394366197183, 4.2075, 4.177966101694915, 3.9642857142857144, 4.145833333333333, 4.149122807017544, 3.995833333333333, 4.120689655172414, 4.219626168224299, 4.137755102040816, 4.25, 3.969178082191781, 4.03921568627451, 4.036144578313253, 3.8095238095238093, 4.25968992248062, 4.098039215686274, 4.184210526315789, 3.8706896551724137, 3.9765625, 3.8969465648854964, 3.9593023255813953, 4.063291139240507, 4.211864406779661, 4.08256880733945, 4.0054945054945055, 3.944055944055944, 4.038011695906433, 4.271929824561403, 3.9927536231884058, 3.7830188679245285, 4.015151515151516, 4.046428571428572, 3.517857142857143, 3.943548387096774, 3.8588235294117648, 3.879120879120879, 3.4044117647058822, 3.7661290322580645, 3.025, 3.139705882352941, 4.0054945054945055, 3.0930232558139537, 3.5941176470588236, 3.9913793103448274, 3.2, 3.7403846153846154, 3.0337837837837838, 3.610169491525424, 3.535, 3.7456896551724137, 2.753731343283582, 3.0338983050847457, 3.3701298701298703, 3.487878787878788, 3.652439024390244, 3.3448275862068964, 3.8722222222222222, 4.061855670103093, 3.7012987012987013, 3.576923076923077, 3.7589285714285716, 3.411764705882353, 3.953488372093023, 3.33125, 3.812, 4.078014184397163, 3.414285714285714, 3.9245283018867925, 3.419642857142857, 3.6979166666666665, 3.0543478260869565, 3.676190476190476, 3.828125, 3.8072916666666665, 3.7787610619469025, 3.80188679245283, 3.6733333333333333, 3.5701754385964914, 3.1, 3.5057471264367814, 3.3693181818181817, 4.1462765957446805, 2.7573529411764706, 3.830188679245283, 3.4, 3.425373134328358, 3.1176470588235294, 3.34, 3.638888888888889, 3.3620689655172415, 3.4725274725274726, 3.9384615384615387, 3.789473684210526, 3.7, 3.26271186440678, 3.4836065573770494, 4.1477272727272725, 4.217054263565892, 3.4925373134328357, 3.516304347826087, 3.544642857142857, 3.777173913043478, 3.4537037037037037, 3.12, 3.175438596491228, 4.090425531914893, 3.8035714285714284, 4.052238805970149, 4.192446043165468, 3.5277777777777777, 3.6607142857142856, 3.1206896551724137, 3.107142857142857, 3.6065573770491803, 3.3412698412698414, 3.455357142857143, 3.1983471074380163, 4.0, 2.811320754716981, 3.861842105263158, 2.207547169811321, 3.378640776699029, 2.796875, 3.4622641509433962, 3.775, 3.893854748603352, 3.8563218390804597, 3.71978021978022, 3.9727272727272727, 4.056372549019608, 3.653409090909091, 3.8394495412844036, 3.839622641509434, 4.272935779816514, 3.3714285714285714, 3.5721649484536084, 3.9545454545454546, 3.483050847457627, 3.6455696202531644, 3.475806451612903, 3.8608247422680413, 4.148648648648648, 3.7115384615384617, 3.58, 3.4754098360655736, 3.5285714285714285, 3.693548387096774, 3.7416666666666667, 3.6666666666666665, 3.358490566037736, 3.581967213114754, 3.788135593220339, 3.826923076923077, 3.9382352941176473, 2.7142857142857144, 3.935483870967742, 3.221311475409836, 3.551282051282051, 3.448529411764706, 2.92, 3.699248120300752, 3.8674698795180724, 3.688679245283019, 3.4175824175824174, 3.921875, 2.7222222222222223, 3.4794520547945207, 3.8363636363636364, 4.155913978494624, 3.138888888888889, 3.7, 3.0546875, 3.8085106382978724, 3.9, 4.122641509433962, 3.8137254901960786, 3.623076923076923, 3.9328358208955225, 3.8676470588235294, 3.590909090909091, 3.3392857142857144, 3.15625, 3.6272727272727274, 3.7941176470588234, 3.509259259259259, 3.843137254901961, 3.981651376146789, 3.871212121212121, 3.7616822429906542, 3.8445378151260505, 4.183333333333334, 3.6838235294117645, 4.106060606060606, 4.0, 3.81, 3.6882352941176473, 3.2666666666666666, 3.540983606557377, 3.157608695652174, 3.8169642857142856, 3.6375, 2.959016393442623, 2.8461538461538463, 3.1666666666666665, 4.155172413793103, 3.7758620689655173, 3.5980392156862746, 4.0212765957446805, 3.518181818181818, 3.9217391304347826, 4.1466666666666665, 3.723684210526316, 3.3541666666666665, 3.316901408450704, 3.9609929078014185, 3.6186440677966103, 3.9741379310344827, 3.778523489932886, 4.033783783783784, 3.4015151515151514, 3.7115384615384617, 3.9618320610687023, 3.151898734177215, 3.788135593220339, 3.903225806451613, 3.8333333333333335, 4.118918918918919, 4.1603053435114505, 3.868181818181818, 3.5760869565217392, 3.05, 3.913978494623656, 3.51, 3.8037974683544302, 3.7719298245614037, 3.4918032786885247, 3.7866666666666666, 4.0064935064935066, 3.836, 3.8461538461538463, 3.0, 3.857142857142857, 3.89, 3.4294871794871793, 3.2796610169491527, 3.8620689655172415, 3.15, 3.5086206896551726, 3.94, 3.5472972972972974, 3.816901408450704, 3.443548387096774, 3.885, 3.355769230769231, 3.5069444444444446, 3.883116883116883, 3.3461538461538463, 3.814814814814815, 4.252336448598131, 3.9453125, 4.0055555555555555, 3.9444444444444446, 3.7641509433962264, 3.8680555555555554, 4.0, 3.68125, 3.6538461538461537, 3.4375, 3.8620689655172415, 3.697530864197531, 3.8636363636363638, 3.8984375, 3.4838709677419355, 3.769230769230769, 4.238255033557047, 3.824468085106383, 3.4444444444444446, 4.0576923076923075, 3.8098591549295775, 4.136363636363637, 3.864406779661017, 4.004761904761905, 3.6315789473684212, 3.8879310344827585, 3.776923076923077, 3.8773584905660377, 3.6030927835051547, 3.853448275862069, 4.022388059701493, 3.943396226415094, 4.109090909090909, 4.066433566433567, 3.8859649122807016, 4.043103448275862, 3.91, 3.869565217391304, 3.435185185185185, 3.9934210526315788, 3.81, 3.943661971830986, 3.9166666666666665, 3.7788461538461537, 3.993150684931507, 4.0508474576271185, 4.02, 3.8333333333333335], \"xaxis\": \"x\", \"xbins\": {\"end\": 4.429022082018927, \"size\": 0, \"start\": 2.207547169811321}, \"yaxis\": \"y\"}, {\"legendgroup\": \"Nota M\\u00e9dia\", \"marker\": {\"color\": \"rgb(31, 119, 180)\"}, \"mode\": \"lines\", \"name\": \"Nota M\\u00e9dia\", \"showlegend\": false, \"type\": \"scatter\", \"x\": [2.207547169811321, 2.211990119635736, 2.2164330694601513, 2.2208760192845665, 2.2253189691089816, 2.229761918933397, 2.234204868757812, 2.2386478185822276, 2.243090768406643, 2.247533718231058, 2.251976668055473, 2.2564196178798883, 2.2608625677043035, 2.2653055175287187, 2.269748467353134, 2.274191417177549, 2.278634367001964, 2.2830773168263794, 2.2875202666507946, 2.29196321647521, 2.2964061662996254, 2.3008491161240405, 2.3052920659484557, 2.309735015772871, 2.314177965597286, 2.3186209154217012, 2.3230638652461164, 2.3275068150705316, 2.3319497648949468, 2.336392714719362, 2.3408356645437776, 2.3452786143681923, 2.349721564192608, 2.354164514017023, 2.3586074638414383, 2.3630504136658534, 2.3674933634902686, 2.371936313314684, 2.376379263139099, 2.380822212963514, 2.3852651627879293, 2.3897081126123445, 2.3941510624367597, 2.3985940122611753, 2.4030369620855905, 2.4074799119100057, 2.411922861734421, 2.416365811558836, 2.420808761383251, 2.4252517112076664, 2.4296946610320815, 2.4341376108564967, 2.438580560680912, 2.443023510505327, 2.4474664603297422, 2.4519094101541574, 2.456352359978573, 2.460795309802988, 2.4652382596274034, 2.4696812094518186, 2.4741241592762337, 2.478567109100649, 2.483010058925064, 2.4874530087494793, 2.4918959585738945, 2.4963389083983096, 2.500781858222725, 2.50522480804714, 2.509667757871555, 2.514110707695971, 2.518553657520386, 2.522996607344801, 2.5274395571692163, 2.5318825069936315, 2.5363254568180467, 2.540768406642462, 2.545211356466877, 2.549654306291292, 2.554097256115708, 2.5585402059401225, 2.562983155764538, 2.5674261055889533, 2.5718690554133685, 2.5763120052377837, 2.580754955062199, 2.585197904886614, 2.5896408547110292, 2.5940838045354444, 2.5985267543598596, 2.6029697041842748, 2.60741265400869, 2.611855603833105, 2.6162985536575203, 2.620741503481936, 2.625184453306351, 2.6296274031307663, 2.6340703529551814, 2.6385133027795966, 2.642956252604012, 2.647399202428427, 2.651842152252842, 2.6562851020772573, 2.6607280519016725, 2.6651710017260877, 2.6696139515505033, 2.6740569013749185, 2.6784998511993336, 2.682942801023749, 2.687385750848164, 2.691828700672579, 2.6962716504969944, 2.7007146003214095, 2.7051575501458247, 2.70960049997024, 2.714043449794655, 2.7184863996190707, 2.7229293494434854, 2.727372299267901, 2.731815249092316, 2.7362581989167314, 2.7407011487411466, 2.7451440985655617, 2.749587048389977, 2.754029998214392, 2.7584729480388073, 2.7629158978632224, 2.7673588476876376, 2.771801797512053, 2.7762447473364684, 2.780687697160883, 2.7851306469852988, 2.789573596809714, 2.794016546634129, 2.7984594964585443, 2.8029024462829595, 2.8073453961073747, 2.81178834593179, 2.816231295756205, 2.82067424558062, 2.825117195405036, 2.8295601452294505, 2.834003095053866, 2.8384460448782813, 2.8428889947026965, 2.8473319445271117, 2.851774894351527, 2.856217844175942, 2.860660794000357, 2.8651037438247724, 2.8695466936491876, 2.8739896434736028, 2.878432593298018, 2.8828755431224335, 2.8873184929468483, 2.891761442771264, 2.896204392595679, 2.9006473424200943, 2.9050902922445094, 2.9095332420689246, 2.91397619189334, 2.918419141717755, 2.92286209154217, 2.9273050413665853, 2.9317479911910005, 2.9361909410154157, 2.9406338908398313, 2.9450768406642465, 2.9495197904886616, 2.953962740313077, 2.958405690137492, 2.962848639961907, 2.9672915897863223, 2.9717345396107375, 2.9761774894351527, 2.980620439259568, 2.985063389083983, 2.9895063389083987, 2.9939492887328134, 2.998392238557229, 3.002835188381644, 3.0072781382060594, 3.0117210880304746, 3.0161640378548897, 3.020606987679305, 3.02504993750372, 3.0294928873281353, 3.0339358371525504, 3.0383787869769656, 3.042821736801381, 3.0472646866257964, 3.0517076364502116, 3.0561505862746268, 3.060593536099042, 3.065036485923457, 3.0694794357478723, 3.0739223855722875, 3.0783653353967027, 3.082808285221118, 3.087251235045533, 3.091694184869948, 3.096137134694364, 3.1005800845187785, 3.105023034343194, 3.1094659841676093, 3.1139089339920245, 3.1183518838164397, 3.122794833640855, 3.12723778346527, 3.131680733289685, 3.1361236831141004, 3.1405666329385156, 3.1450095827629307, 3.149452532587346, 3.1538954824117615, 3.1583384322361767, 3.162781382060592, 3.1672243318850066, 3.1716672817094222, 3.1761102315338374, 3.1805531813582526, 3.1849961311826678, 3.189439081007083, 3.193882030831498, 3.1983249806559133, 3.202767930480329, 3.2072108803047437, 3.2116538301291593, 3.216096779953574, 3.2205397297779896, 3.2249826796024044, 3.22942562942682, 3.233868579251235, 3.2383115290756503, 3.2427544789000655, 3.2471974287244807, 3.251640378548896, 3.256083328373311, 3.2605262781977267, 3.2649692280221414, 3.269412177846557, 3.273855127670972, 3.2782980774953874, 3.2827410273198026, 3.2871839771442177, 3.2916269269686333, 3.296069876793048, 3.3005128266174633, 3.3049557764418784, 3.3093987262662936, 3.313841676090709, 3.3182846259151244, 3.322727575739539, 3.3271705255639548, 3.33161347538837, 3.336056425212785, 3.3404993750372003, 3.3449423248616155, 3.3493852746860306, 3.353828224510446, 3.358271174334861, 3.362714124159276, 3.367157073983692, 3.3716000238081065, 3.376042973632522, 3.3804859234569373, 3.3849288732813525, 3.3893718231057677, 3.393814772930183, 3.3982577227545976, 3.402700672579013, 3.4071436224034284, 3.4115865722278436, 3.4160295220522587, 3.420472471876674, 3.4249154217010895, 3.4293583715255043, 3.43380132134992, 3.438244271174335, 3.4426872209987502, 3.4471301708231654, 3.4515731206475806, 3.4560160704719958, 3.460459020296411, 3.464901970120826, 3.4693449199452413, 3.4737878697696565, 3.4782308195940717, 3.4826737694184873, 3.4871167192429025, 3.4915596690673176, 3.496002618891733, 3.500445568716148, 3.5048885185405627, 3.5093314683649783, 3.5137744181893935, 3.5182173680138087, 3.522660317838224, 3.527103267662639, 3.5315462174870547, 3.5359891673114694, 3.540432117135885, 3.5448750669603, 3.5493180167847154, 3.55376096660913, 3.5582039164335457, 3.562646866257961, 3.567089816082376, 3.5715327659067913, 3.5759757157312064, 3.5804186655556216, 3.584861615380037, 3.5893045652044524, 3.5937475150288676, 3.5981904648532828, 3.602633414677698, 3.607076364502113, 3.611519314326528, 3.6159622641509435, 3.6204052139753586, 3.624848163799774, 3.629291113624189, 3.633734063448604, 3.63817701327302, 3.6426199630974345, 3.64706291292185, 3.6515058627462653, 3.6559488125706805, 3.6603917623950952, 3.664834712219511, 3.669277662043926, 3.673720611868341, 3.6781635616927564, 3.6826065115171716, 3.6870494613415867, 3.691492411166002, 3.6959353609904175, 3.7003783108148327, 3.704821260639248, 3.7092642104636626, 3.7137071602880782, 3.718150110112493, 3.7225930599369086, 3.7270360097613238, 3.731478959585739, 3.735921909410154, 3.7403648592345693, 3.744807809058985, 3.7492507588833996, 3.7536937087078153, 3.7581366585322304, 3.7625796083566456, 3.7670225581810604, 3.771465508005476, 3.775908457829891, 3.7803514076543063, 3.7847943574787215, 3.7892373073031367, 3.793680257127552, 3.798123206951967, 3.8025661567763827, 3.807009106600798, 3.811452056425213, 3.8158950062496277, 3.8203379560740434, 3.824780905898458, 3.8292238557228737, 3.833666805547289, 3.838109755371704, 3.8425527051961192, 3.8469956550205344, 3.85143860484495, 3.8558815546693648, 3.8603245044937804, 3.864767454318195, 3.8692104041426107, 3.8736533539670255, 3.878096303791441, 3.8825392536158563, 3.8869822034402715, 3.8914251532646866, 3.895868103089102, 3.900311052913517, 3.904754002737932, 3.909196952562348, 3.9136399023867625, 3.918082852211178, 3.922525802035593, 3.9269687518600085, 3.931411701684423, 3.935854651508839, 3.940297601333254, 3.944740551157669, 3.9491835009820844, 3.9536264508064995, 3.958069400630915, 3.96251235045533, 3.9669553002797455, 3.9713982501041603, 3.975841199928576, 3.9802841497529906, 3.9847270995774062, 3.989170049401821, 3.9936129992262366, 3.9980559490506518, 4.002498898875067, 4.006941848699482, 4.011384798523897, 4.015827748348313, 4.020270698172728, 4.024713647997143, 4.029156597821558, 4.033599547645974, 4.038042497470388, 4.042485447294804, 4.046928397119219, 4.051371346943634, 4.05581429676805, 4.060257246592465, 4.06470019641688, 4.069143146241295, 4.073586096065711, 4.078029045890125, 4.082471995714541, 4.086914945538956, 4.091357895363371, 4.095800845187786, 4.100243795012202, 4.104686744836616, 4.109129694661032, 4.113572644485448, 4.118015594309862, 4.122458544134278, 4.126901493958693, 4.131344443783108, 4.135787393607523, 4.140230343431939, 4.1446732932563535, 4.149116243080769, 4.153559192905185, 4.1580021427295994, 4.162445092554014, 4.16688804237843, 4.171330992202845, 4.17577394202726, 4.180216891851676, 4.1846598416760905, 4.189102791500506, 4.193545741324921, 4.1979886911493365, 4.202431640973751, 4.206874590798167, 4.2113175406225825, 4.215760490446997, 4.220203440271412, 4.2246463900958275, 4.229089339920243, 4.233532289744658, 4.2379752395690735, 4.242418189393488, 4.246861139217904, 4.2513040890423195, 4.255747038866734, 4.260189988691149, 4.264632938515565, 4.26907588833998, 4.273518838164395, 4.27796178798881, 4.282404737813225, 4.286847687637641, 4.2912906374620565, 4.29573358728647, 4.300176537110886, 4.304619486935302, 4.309062436759717, 4.313505386584132, 4.317948336408547, 4.322391286232962, 4.326834236057378, 4.331277185881793, 4.335720135706207, 4.340163085530623, 4.344606035355039, 4.349048985179453, 4.353491935003869, 4.357934884828284, 4.362377834652699, 4.366820784477115, 4.37126373430153, 4.375706684125945, 4.38014963395036, 4.384592583774776, 4.389035533599191, 4.393478483423605, 4.397921433248021, 4.402364383072436, 4.406807332896852, 4.411250282721266, 4.4156932325456815, 4.420136182370097, 4.424579132194513], \"xaxis\": \"x\", \"y\": [0.009181966066803111, 0.009278403816257037, 0.00936830900326645, 0.009451860272304944, 0.009529275227977802, 0.009600808188042759, 0.009666747642472396, 0.00972741345946535, 0.009783153884077106, 0.009834342379346253, 0.00988137436335987, 0.009924663898559486, 0.009964640391675128, 0.0100017453639359, 0.010036429351601055, 0.010069148996356334, 0.010100364383710614, 0.010130536685204665, 0.010160126157017644, 0.01018959054345266, 0.010219383928836803, 0.010249956075634501, 0.0102817522801089, 0.010315213769747046, 0.010350778658977001, 0.0103888834715415, 0.010429965229355876, 0.010474464098876209, 0.010522826577050275, 0.010575509189937321, 0.010632982668180408, 0.010695736554818794, 0.010764284192554098, 0.010839168029649, 0.010920965176252852, 0.011010293136218478, 0.01110781563349855, 0.011214248447077165, 0.011330365164183695, 0.01145700275832098, 0.011595066896478786, 0.01174553687884222, 0.011909470114379045, 0.012088006036922148, 0.012282369368763146, 0.012493872642337336, 0.012723917895292935, 0.012973997460072113, 0.013245693776044048, 0.013540678160174366, 0.013860708481123309, 0.01420762569146585, 0.014583349183338179, 0.014989870944143497, 0.01542924850089488, 0.015903596654229652, 0.016415078015982056, 0.016965892377327808, 0.01755826494779802, 0.018194433518763504, 0.018876634618191855, 0.019607088736441035, 0.02038798471544542, 0.021221463405734203, 0.022109600707175193, 0.023054390120023617, 0.02405772494264868, 0.025121380261097614, 0.02624699488331416, 0.027436053377249674, 0.028689868377193655, 0.03000956332631671, 0.031396055825568876, 0.032850041759667825, 0.034371980369865975, 0.035962080440471715, 0.037620287761698075, 0.03934627402530647, 0.041139427301708595, 0.042998844237726506, 0.04492332410312639, 0.046911364801382506, 0.048961160946025095, 0.05107060408842114, 0.05323728516609601, 0.05545849922285165, 0.05773125243312118, 0.0600522714434016, 0.062418015023408435, 0.06482468799900623, 0.06726825741816711, 0.06974447088045599, 0.07224887694001995, 0.07477684747201016, 0.07732360187301644, 0.07988423294766682, 0.08245373431622335, 0.08502702916205013, 0.08759900012337717, 0.09016452012102981, 0.0927184839029109, 0.09525584007711312, 0.09777162339873448, 0.1002609870708524, 0.10271923481773525, 0.10514185248825449, 0.10752453894962924, 0.1098632360360315, 0.11215415732315633, 0.11439381550853954, 0.11657904818804986, 0.11870704183147246, 0.12077535377425944, 0.12278193205818784, 0.12472513297060779, 0.1266037361499976, 0.12841695714443954, 0.13016445732914544, 0.13184635110908233, 0.13346321035285688, 0.13501606602404448, 0.13650640699595068, 0.13793617605510813, 0.1393077631174957, 0.1406239956993484, 0.14188812670135523, 0.1431038195809109, 0.14427513100180447, 0.14540649106422382, 0.14650268123018023, 0.14756881007042974, 0.14861028696864928, 0.14963279392710116, 0.1506422556253024, 0.15164480788940282, 0.15264676473515215, 0.1536545841515928, 0.15467483279607086, 0.15571414977393766, 0.15677920967849251, 0.15787668506846608, 0.159013208561725, 0.160195334724986, 0.16142950194030253, 0.16272199442989613, 0.16407890462171015, 0.16550609603879374, 0.16700916689635104, 0.16859341459096885, 0.1702638012671219, 0.17202492064652328, 0.17388096630609073, 0.17583570159021664, 0.1778924313424695, 0.180053975640739, 0.18232264571797255, 0.18470022224795946, 0.1871879361718476, 0.1897864522361803, 0.19249585540698913, 0.19531564031678314, 0.19824470389198462, 0.20128134129741007, 0.2044232453216356, 0.20766750931254202, 0.2110106337559117, 0.21444853657166324, 0.21797656718224506, 0.22158952438583582, 0.22528167804351687, 0.2290467945645707, 0.23287816614768836, 0.23676864370836737, 0.2407106733943442, 0.24469633656182788, 0.2487173930558064, 0.2527653276081558, 0.2568313991379409, 0.26090669270952355, 0.2649821738761941, 0.26904874511039634, 0.27309730399645304, 0.2771188028384707, 0.2811043093150107, 0.28504506779347055, 0.2889325609012569, 0.2927585709378774, 0.2965152407023303, 0.3001951333037865, 0.3037912905206434, 0.30729728927371747, 0.31070729578372125, 0.3140161169911933, 0.31721924882877467, 0.3203129209510572, 0.3232941375460768, 0.3261607138747759, 0.32891130821021614, 0.3315454488768029, 0.33406355612105293, 0.3364669585792329, 0.33875790414321266, 0.3409395650638489, 0.34301603717076173, 0.34499233312821026, 0.3468743696884941, 0.3486689489466181, 0.35038373364244685, 0.35202721659891023, 0.35360868442664684, 0.35513817566643546, 0.3566264335805379, 0.3580848538423406, 0.3595254274101521, 0.36096067890534866, 0.3624036008471156, 0.36386758412542697, 0.36536634512058236, 0.3669138499012732, 0.36852423595371253, 0.37021173191169254, 0.3719905757713602, 0.3738749320851642, 0.3758788086365126, 0.37801597310044766, 0.38029987019597145, 0.3827435398326235, 0.38535953674761614, 0.38815985212041854, 0.39115583763912565, 0.39435813247764523, 0.39777659362454343, 0.40142022998382354, 0.40529714064483663, 0.40941445769344054, 0.41377829390937965, 0.41839369566611906, 0.4232646013190352, 0.4283938053363108, 0.4337829283942645, 0.43943239362534825, 0.4453414091729772, 0.45150795717277925, 0.45792878924506547, 0.4645994285484654, 0.47151417840987425, 0.4786661375113887, 0.48604722158068714, 0.4936481914978201, 0.5014586876982868, 0.5094672707201683, 0.5176614677116074, 0.526027824684614, 0.5345519642716321, 0.5432186487131259, 0.5520118477772157, 0.5609148112865826, 0.56991014590328, 0.5789798957989682, 0.588105626816442, 0.5972685137082266, 0.6064494300196295, 0.6156290401669727, 0.6247878932469587, 0.6339065181002821, 0.6429655191419519, 0.6519456724621813, 0.6608280216955749, 0.6695939731525773, 0.6782253897059382, 0.6867046829264031, 0.6950149029661572, 0.7031398256954895, 0.7110640366082966, 0.7187730110249121, 0.7262531901367627, 0.7334920524563526, 0.7404781802579302, 0.747201320619151, 0.753652440701629, 0.7598237769386653, 0.765708877831333, 0.7713026400892371, 0.7766013378896488, 0.7816026450677375, 0.7863056500913504, 0.7907108637155849, 0.7948202192551342, 0.798637065455609, 0.8021661519883935, 0.8054136076366456, 0.8083869112825904, 0.8110948558476606, 0.8135475053772173, 0.8157561454999436, 0.8177332275284931, 0.8194923065020485, 0.8210479735030893, 0.8224157826095427, 0.8236121728694623, 0.8246543857083699, 0.8255603781993247, 0.8263487326425978, 0.827038562915593, 0.8276494180644663, 0.828201183616768, 0.828713981099626, 0.8292080662506031, 0.829703726408654, 0.830221177570706, 0.8307804615956539, 0.83140134403212, 0.8321032130394028, 0.832904979862926, 0.8338249813163066, 0.834880884712077, 0.8360895956722709, 0.8374671692385902, 0.8390287246897674, 0.8407883644610761, 0.8427590975475998, 0.8449527677589231, 0.847379987178095, 0.850050075161993, 0.8529710032033986, 0.8561493459569505, 0.8595902387114507, 0.8632973415696694, 0.8672728105733938, 0.8715172759859835, 0.8760298279168901, 0.8808080094422485, 0.8858478173427431, 0.8911437105444174, 0.8966886263098628, 0.9024740041864148, 0.9084898176747684, 0.9147246135358844, 0.9211655586065881, 0.9277984939451934, 0.9346079960781335, 0.9415774450676592, 0.9486890990694095, 0.9559241749980568, 0.9632629348694889, 0.9706847773402529, 0.9781683339194543, 0.9856915692862003, 0.9932318851071351, 1.0007662267148163, 1.0082711919788443, 1.015723141678579, 1.0230983106694174, 1.0303729191242261, 1.0375232831282681, 1.0445259239096696, 1.051357674998579, 1.057995786626457, 1.0644180267024768, 1.070602777736285, 1.0765291291154204, 1.0821769641906, 1.0875270416726603, 1.0925610709002955, 1.0972617805971276, 1.1016129807994384, 1.1055996177008502, 1.1092078212268766, 1.1124249452192259, 1.1152396001763891, 1.1176416785621748, 1.1196223727569192, 1.1211741857857522, 1.1222909350143107, 1.1229677490534353, 1.1232010581604817, 1.1229885784650908, 1.1223292903813995, 1.1212234115964137, 1.119672365045436, 1.1176787423000372, 1.1152462628022555, 1.1123797293806061, 1.10908498047963, 1.1053688395252854, 1.101239061834335, 1.096704279457443, 1.0917739443236456, 1.0864582700291783, 1.0807681725867644, 1.0747152104235074, 1.0683115238870586, 1.0615697744916175, 1.0545030841082905, 1.0471249742790003, 1.0394493058101788, 1.0314902187823338, 1.0232620730948327, 1.0147793896519182, 1.0060567922867025, 0.9971089505143246, 0.9879505232040229, 0.9785961032619557, 0.9690601634225942, 0.9593570032553064, 0.9495006975047136, 0.9395050458972974, 0.9293835245626024, 0.9191492392339835, 0.9088148804110845, 0.8983926806829668, 0.8878943744263958, 0.8773311601079187, 0.866713665429617, 0.8560519155669944, 0.8453553047520839, 0.8346325714555229, 0.8238917774172445, 0.8131402907666516, 0.8023847734590378, 0.7916311732357292, 0.7808847202910636, 0.7701499287995076, 0.7594306034219477, 0.7487298508709139, 0.7380500965715863, 0.7273931064085386, 0.7167600134987165, 0.7061513498792014, 0.6955670829451316, 0.6850066564191407, 0.6744690355800896, 0.6639527564262323, 0.653455978397309, 0.6429765402323225, 0.6325120184954751, 0.6220597882631803, 0.6116170854302465, 0.6011810700647368, 0.5907488902183726, 0.580317745583819, 0.5698849503816835, 0.5594479948589798, 0.5490046047874175, 0.5385527983638944, 0.5280909399372791, 0.5176177900143408, 0.5071325510336285, 0.49663490843835656, 0.4861250666278221, 0.4756037794204921, 0.4650723747204169, 0.4545327731408291, 0.4439875004042435, 0.43343969340596994, 0.4228930998968494, 0.4123520718103315, 0.4018215523278663, 0.39130705684398437, 0.38081464805751614, 0.3703509054774795, 0.3599228896902499, 0.34953810178813405, 0.33920443840774067, 0.32893014286894623, 0.3187237529414062, 0.3085940457949604, 0.2985499807128854, 0.2886006401621674, 0.2787551698231544, 0.26902271818189266, 0.25941237628220326, 0.2499331182216737, 0.24059374295596722, 0.23140281795025078, 0.22236862518497225, 0.2134991099866354, 0.20480183311295982, 0.19628392647662207, 0.18795205284340205, 0.1798123697894904, 0.1718704981498907, 0.16413149513587302, 0.1565998322450677, 0.1492793780337206, 0.14217338576750566, 0.1352844859158594, 0.1286146834054628, 0.12216535950204903, 0.11593727814643363, 0.1099305965310377, 0.10414487966771306, 0.09857911866636164, 0.0932317524172273, 0.08810069234776342, 0.08318334990772869, 0.07847666642379302, 0.073977144957218, 0.06968088379510737, 0.06558361120701253], \"yaxis\": \"y\"}, {\"legendgroup\": \"Nota M\\u00e9dia\", \"marker\": {\"color\": \"rgb(31, 119, 180)\", \"symbol\": \"line-ns-open\"}, \"mode\": \"markers\", \"name\": \"Nota M\\u00e9dia\", \"showlegend\": false, \"type\": \"scatter\", \"x\": [3.9209302325581397, 3.4318181818181817, 3.2596153846153846, 3.946078431372549, 3.185185185185185, 3.496212121212121, 3.6714285714285713, 3.926829268292683, 3.7761194029850746, 2.727272727272727, 3.49438202247191, 3.625, 3.983050847457627, 3.65234375, 3.8358208955223883, 3.293269230769231, 3.9753694581280787, 3.1470588235294117, 4.237745098039215, 3.70625, 3.5090909090909093, 3.0238095238095237, 3.4393939393939394, 4.031645569620253, 4.105769230769231, 3.494186046511628, 3.2450980392156863, 3.845771144278607, 2.9160583941605838, 2.806451612903226, 2.8771929824561404, 3.6359223300970873, 3.5606060606060606, 3.5555555555555554, 3.0833333333333335, 2.6792452830188678, 2.6693548387096775, 3.0401785714285716, 2.9130434782608696, 3.855769230769231, 3.5384615384615383, 3.0601503759398496, 3.6785714285714284, 3.458715596330275, 4.231075697211155, 3.3970588235294117, 3.233695652173913, 3.4257425742574257, 4.018796992481203, 4.197068403908795, 3.5185185185185186, 3.375, 3.2037037037037037, 4.429022082018927, 3.3935185185185186, 3.78, 3.7662337662337664, 3.4693877551020407, 3.040372670807453, 3.6045454545454545, 3.3859649122807016, 3.609375, 4.164133738601824, 3.5194174757281553, 3.941860465116279, 3.1847133757961785, 3.5, 3.060344827586207, 3.5292397660818713, 3.497191011235955, 3.1011904761904763, 2.7203389830508473, 2.6454545454545455, 3.0346534653465347, 2.4206349206349205, 3.5460526315789473, 3.0925925925925926, 3.5346534653465347, 3.9921052631578946, 2.8666666666666667, 3.692857142857143, 3.75, 2.9339622641509435, 3.388888888888889, 3.6136363636363638, 3.540983606557377, 3.130434782608696, 4.225, 3.4716981132075473, 4.100806451612903, 3.553763440860215, 3.262295081967213, 3.8153846153846156, 3.8, 2.9956896551724137, 3.4347826086956523, 3.7923497267759565, 3.970982142857143, 3.8353658536585367, 3.4285714285714284, 4.161290322580645, 3.616883116883117, 3.7705479452054793, 3.45, 3.4851851851851854, 4.116022099447513, 3.537037037037037, 3.0923076923076924, 2.707547169811321, 3.3879310344827585, 3.6404958677685952, 3.321138211382114, 4.268041237113402, 4.03921568627451, 3.4455445544554455, 2.8055555555555554, 3.109375, 2.731707317073171, 4.2890625, 4.025, 4.261904761904762, 4.184210526315789, 4.01, 4.24, 3.880434782608696, 4.043478260869565, 3.8944954128440368, 4.0344827586206895, 3.887323943661972, 3.9375, 3.8620689655172415, 3.8739495798319328, 3.9225352112676055, 3.9269662921348316, 4.202290076335878, 3.984126984126984, 3.7663934426229506, 3.3012048192771086, 3.475806451612903, 4.161764705882353, 4.035714285714286, 4.203007518796992, 4.2156398104265405, 4.232394366197183, 4.2075, 4.177966101694915, 3.9642857142857144, 4.145833333333333, 4.149122807017544, 3.995833333333333, 4.120689655172414, 4.219626168224299, 4.137755102040816, 4.25, 3.969178082191781, 4.03921568627451, 4.036144578313253, 3.8095238095238093, 4.25968992248062, 4.098039215686274, 4.184210526315789, 3.8706896551724137, 3.9765625, 3.8969465648854964, 3.9593023255813953, 4.063291139240507, 4.211864406779661, 4.08256880733945, 4.0054945054945055, 3.944055944055944, 4.038011695906433, 4.271929824561403, 3.9927536231884058, 3.7830188679245285, 4.015151515151516, 4.046428571428572, 3.517857142857143, 3.943548387096774, 3.8588235294117648, 3.879120879120879, 3.4044117647058822, 3.7661290322580645, 3.025, 3.139705882352941, 4.0054945054945055, 3.0930232558139537, 3.5941176470588236, 3.9913793103448274, 3.2, 3.7403846153846154, 3.0337837837837838, 3.610169491525424, 3.535, 3.7456896551724137, 2.753731343283582, 3.0338983050847457, 3.3701298701298703, 3.487878787878788, 3.652439024390244, 3.3448275862068964, 3.8722222222222222, 4.061855670103093, 3.7012987012987013, 3.576923076923077, 3.7589285714285716, 3.411764705882353, 3.953488372093023, 3.33125, 3.812, 4.078014184397163, 3.414285714285714, 3.9245283018867925, 3.419642857142857, 3.6979166666666665, 3.0543478260869565, 3.676190476190476, 3.828125, 3.8072916666666665, 3.7787610619469025, 3.80188679245283, 3.6733333333333333, 3.5701754385964914, 3.1, 3.5057471264367814, 3.3693181818181817, 4.1462765957446805, 2.7573529411764706, 3.830188679245283, 3.4, 3.425373134328358, 3.1176470588235294, 3.34, 3.638888888888889, 3.3620689655172415, 3.4725274725274726, 3.9384615384615387, 3.789473684210526, 3.7, 3.26271186440678, 3.4836065573770494, 4.1477272727272725, 4.217054263565892, 3.4925373134328357, 3.516304347826087, 3.544642857142857, 3.777173913043478, 3.4537037037037037, 3.12, 3.175438596491228, 4.090425531914893, 3.8035714285714284, 4.052238805970149, 4.192446043165468, 3.5277777777777777, 3.6607142857142856, 3.1206896551724137, 3.107142857142857, 3.6065573770491803, 3.3412698412698414, 3.455357142857143, 3.1983471074380163, 4.0, 2.811320754716981, 3.861842105263158, 2.207547169811321, 3.378640776699029, 2.796875, 3.4622641509433962, 3.775, 3.893854748603352, 3.8563218390804597, 3.71978021978022, 3.9727272727272727, 4.056372549019608, 3.653409090909091, 3.8394495412844036, 3.839622641509434, 4.272935779816514, 3.3714285714285714, 3.5721649484536084, 3.9545454545454546, 3.483050847457627, 3.6455696202531644, 3.475806451612903, 3.8608247422680413, 4.148648648648648, 3.7115384615384617, 3.58, 3.4754098360655736, 3.5285714285714285, 3.693548387096774, 3.7416666666666667, 3.6666666666666665, 3.358490566037736, 3.581967213114754, 3.788135593220339, 3.826923076923077, 3.9382352941176473, 2.7142857142857144, 3.935483870967742, 3.221311475409836, 3.551282051282051, 3.448529411764706, 2.92, 3.699248120300752, 3.8674698795180724, 3.688679245283019, 3.4175824175824174, 3.921875, 2.7222222222222223, 3.4794520547945207, 3.8363636363636364, 4.155913978494624, 3.138888888888889, 3.7, 3.0546875, 3.8085106382978724, 3.9, 4.122641509433962, 3.8137254901960786, 3.623076923076923, 3.9328358208955225, 3.8676470588235294, 3.590909090909091, 3.3392857142857144, 3.15625, 3.6272727272727274, 3.7941176470588234, 3.509259259259259, 3.843137254901961, 3.981651376146789, 3.871212121212121, 3.7616822429906542, 3.8445378151260505, 4.183333333333334, 3.6838235294117645, 4.106060606060606, 4.0, 3.81, 3.6882352941176473, 3.2666666666666666, 3.540983606557377, 3.157608695652174, 3.8169642857142856, 3.6375, 2.959016393442623, 2.8461538461538463, 3.1666666666666665, 4.155172413793103, 3.7758620689655173, 3.5980392156862746, 4.0212765957446805, 3.518181818181818, 3.9217391304347826, 4.1466666666666665, 3.723684210526316, 3.3541666666666665, 3.316901408450704, 3.9609929078014185, 3.6186440677966103, 3.9741379310344827, 3.778523489932886, 4.033783783783784, 3.4015151515151514, 3.7115384615384617, 3.9618320610687023, 3.151898734177215, 3.788135593220339, 3.903225806451613, 3.8333333333333335, 4.118918918918919, 4.1603053435114505, 3.868181818181818, 3.5760869565217392, 3.05, 3.913978494623656, 3.51, 3.8037974683544302, 3.7719298245614037, 3.4918032786885247, 3.7866666666666666, 4.0064935064935066, 3.836, 3.8461538461538463, 3.0, 3.857142857142857, 3.89, 3.4294871794871793, 3.2796610169491527, 3.8620689655172415, 3.15, 3.5086206896551726, 3.94, 3.5472972972972974, 3.816901408450704, 3.443548387096774, 3.885, 3.355769230769231, 3.5069444444444446, 3.883116883116883, 3.3461538461538463, 3.814814814814815, 4.252336448598131, 3.9453125, 4.0055555555555555, 3.9444444444444446, 3.7641509433962264, 3.8680555555555554, 4.0, 3.68125, 3.6538461538461537, 3.4375, 3.8620689655172415, 3.697530864197531, 3.8636363636363638, 3.8984375, 3.4838709677419355, 3.769230769230769, 4.238255033557047, 3.824468085106383, 3.4444444444444446, 4.0576923076923075, 3.8098591549295775, 4.136363636363637, 3.864406779661017, 4.004761904761905, 3.6315789473684212, 3.8879310344827585, 3.776923076923077, 3.8773584905660377, 3.6030927835051547, 3.853448275862069, 4.022388059701493, 3.943396226415094, 4.109090909090909, 4.066433566433567, 3.8859649122807016, 4.043103448275862, 3.91, 3.869565217391304, 3.435185185185185, 3.9934210526315788, 3.81, 3.943661971830986, 3.9166666666666665, 3.7788461538461537, 3.993150684931507, 4.0508474576271185, 4.02, 3.8333333333333335], \"xaxis\": \"x\", \"y\": [\"Nota M\\u00e9dia\", \"Nota M\\u00e9dia\", \"Nota M\\u00e9dia\", \"Nota M\\u00e9dia\", \"Nota M\\u00e9dia\", \"Nota M\\u00e9dia\", \"Nota M\\u00e9dia\", \"Nota M\\u00e9dia\", \"Nota M\\u00e9dia\", \"Nota M\\u00e9dia\", \"Nota M\\u00e9dia\", \"Nota M\\u00e9dia\", \"Nota M\\u00e9dia\", \"Nota M\\u00e9dia\", \"Nota M\\u00e9dia\", \"Nota M\\u00e9dia\", \"Nota M\\u00e9dia\", \"Nota M\\u00e9dia\", \"Nota M\\u00e9dia\", \"Nota M\\u00e9dia\", \"Nota M\\u00e9dia\", \"Nota M\\u00e9dia\", \"Nota M\\u00e9dia\", \"Nota M\\u00e9dia\", \"Nota M\\u00e9dia\", \"Nota M\\u00e9dia\", \"Nota M\\u00e9dia\", \"Nota M\\u00e9dia\", \"Nota M\\u00e9dia\", \"Nota M\\u00e9dia\", \"Nota M\\u00e9dia\", \"Nota M\\u00e9dia\", \"Nota M\\u00e9dia\", \"Nota M\\u00e9dia\", \"Nota M\\u00e9dia\", \"Nota M\\u00e9dia\", \"Nota M\\u00e9dia\", \"Nota M\\u00e9dia\", \"Nota M\\u00e9dia\", \"Nota M\\u00e9dia\", \"Nota M\\u00e9dia\", \"Nota M\\u00e9dia\", \"Nota M\\u00e9dia\", \"Nota M\\u00e9dia\", \"Nota M\\u00e9dia\", \"Nota M\\u00e9dia\", \"Nota M\\u00e9dia\", \"Nota M\\u00e9dia\", \"Nota M\\u00e9dia\", \"Nota M\\u00e9dia\", \"Nota M\\u00e9dia\", \"Nota M\\u00e9dia\", \"Nota M\\u00e9dia\", \"Nota M\\u00e9dia\", \"Nota M\\u00e9dia\", \"Nota M\\u00e9dia\", \"Nota M\\u00e9dia\", \"Nota M\\u00e9dia\", \"Nota M\\u00e9dia\", \"Nota M\\u00e9dia\", \"Nota M\\u00e9dia\", \"Nota M\\u00e9dia\", \"Nota M\\u00e9dia\", \"Nota M\\u00e9dia\", \"Nota M\\u00e9dia\", \"Nota M\\u00e9dia\", \"Nota M\\u00e9dia\", \"Nota M\\u00e9dia\", \"Nota M\\u00e9dia\", \"Nota M\\u00e9dia\", \"Nota M\\u00e9dia\", \"Nota M\\u00e9dia\", \"Nota M\\u00e9dia\", \"Nota M\\u00e9dia\", \"Nota M\\u00e9dia\", \"Nota M\\u00e9dia\", \"Nota M\\u00e9dia\", \"Nota M\\u00e9dia\", \"Nota M\\u00e9dia\", \"Nota M\\u00e9dia\", \"Nota M\\u00e9dia\", \"Nota M\\u00e9dia\", \"Nota M\\u00e9dia\", \"Nota M\\u00e9dia\", \"Nota M\\u00e9dia\", \"Nota M\\u00e9dia\", \"Nota M\\u00e9dia\", \"Nota M\\u00e9dia\", \"Nota M\\u00e9dia\", \"Nota M\\u00e9dia\", \"Nota M\\u00e9dia\", \"Nota M\\u00e9dia\", \"Nota M\\u00e9dia\", \"Nota M\\u00e9dia\", \"Nota M\\u00e9dia\", \"Nota M\\u00e9dia\", \"Nota M\\u00e9dia\", \"Nota M\\u00e9dia\", \"Nota M\\u00e9dia\", \"Nota M\\u00e9dia\", \"Nota M\\u00e9dia\", \"Nota M\\u00e9dia\", \"Nota M\\u00e9dia\", \"Nota M\\u00e9dia\", \"Nota M\\u00e9dia\", \"Nota M\\u00e9dia\", \"Nota M\\u00e9dia\", \"Nota M\\u00e9dia\", \"Nota M\\u00e9dia\", \"Nota M\\u00e9dia\", \"Nota M\\u00e9dia\", \"Nota M\\u00e9dia\", \"Nota M\\u00e9dia\", \"Nota M\\u00e9dia\", \"Nota M\\u00e9dia\", \"Nota M\\u00e9dia\", \"Nota M\\u00e9dia\", \"Nota M\\u00e9dia\", \"Nota M\\u00e9dia\", \"Nota M\\u00e9dia\", \"Nota M\\u00e9dia\", \"Nota M\\u00e9dia\", \"Nota M\\u00e9dia\", \"Nota M\\u00e9dia\", \"Nota M\\u00e9dia\", \"Nota M\\u00e9dia\", \"Nota M\\u00e9dia\", \"Nota M\\u00e9dia\", \"Nota M\\u00e9dia\", \"Nota M\\u00e9dia\", \"Nota M\\u00e9dia\", \"Nota M\\u00e9dia\", \"Nota M\\u00e9dia\", \"Nota M\\u00e9dia\", \"Nota M\\u00e9dia\", \"Nota M\\u00e9dia\", \"Nota M\\u00e9dia\", \"Nota M\\u00e9dia\", \"Nota M\\u00e9dia\", \"Nota M\\u00e9dia\", \"Nota M\\u00e9dia\", \"Nota M\\u00e9dia\", \"Nota M\\u00e9dia\", \"Nota M\\u00e9dia\", \"Nota M\\u00e9dia\", \"Nota M\\u00e9dia\", \"Nota M\\u00e9dia\", \"Nota M\\u00e9dia\", \"Nota M\\u00e9dia\", \"Nota M\\u00e9dia\", \"Nota M\\u00e9dia\", \"Nota M\\u00e9dia\", \"Nota M\\u00e9dia\", \"Nota M\\u00e9dia\", \"Nota M\\u00e9dia\", \"Nota M\\u00e9dia\", \"Nota M\\u00e9dia\", \"Nota M\\u00e9dia\", \"Nota M\\u00e9dia\", \"Nota M\\u00e9dia\", \"Nota M\\u00e9dia\", \"Nota M\\u00e9dia\", \"Nota M\\u00e9dia\", \"Nota M\\u00e9dia\", \"Nota M\\u00e9dia\", \"Nota M\\u00e9dia\", \"Nota M\\u00e9dia\", \"Nota M\\u00e9dia\", \"Nota M\\u00e9dia\", \"Nota M\\u00e9dia\", \"Nota M\\u00e9dia\", \"Nota M\\u00e9dia\", \"Nota M\\u00e9dia\", \"Nota M\\u00e9dia\", \"Nota M\\u00e9dia\", \"Nota M\\u00e9dia\", \"Nota M\\u00e9dia\", \"Nota M\\u00e9dia\", \"Nota M\\u00e9dia\", \"Nota M\\u00e9dia\", \"Nota M\\u00e9dia\", \"Nota M\\u00e9dia\", \"Nota M\\u00e9dia\", \"Nota M\\u00e9dia\", \"Nota M\\u00e9dia\", \"Nota M\\u00e9dia\", \"Nota M\\u00e9dia\", \"Nota M\\u00e9dia\", \"Nota M\\u00e9dia\", \"Nota M\\u00e9dia\", \"Nota M\\u00e9dia\", \"Nota M\\u00e9dia\", \"Nota M\\u00e9dia\", \"Nota M\\u00e9dia\", \"Nota M\\u00e9dia\", \"Nota M\\u00e9dia\", \"Nota M\\u00e9dia\", \"Nota M\\u00e9dia\", \"Nota M\\u00e9dia\", \"Nota M\\u00e9dia\", \"Nota M\\u00e9dia\", \"Nota M\\u00e9dia\", \"Nota M\\u00e9dia\", \"Nota M\\u00e9dia\", \"Nota M\\u00e9dia\", \"Nota M\\u00e9dia\", \"Nota M\\u00e9dia\", \"Nota M\\u00e9dia\", \"Nota M\\u00e9dia\", \"Nota M\\u00e9dia\", \"Nota M\\u00e9dia\", \"Nota M\\u00e9dia\", \"Nota M\\u00e9dia\", \"Nota M\\u00e9dia\", \"Nota M\\u00e9dia\", \"Nota M\\u00e9dia\", \"Nota M\\u00e9dia\", \"Nota M\\u00e9dia\", \"Nota M\\u00e9dia\", \"Nota M\\u00e9dia\", \"Nota M\\u00e9dia\", \"Nota M\\u00e9dia\", \"Nota M\\u00e9dia\", \"Nota M\\u00e9dia\", \"Nota M\\u00e9dia\", \"Nota M\\u00e9dia\", \"Nota M\\u00e9dia\", \"Nota M\\u00e9dia\", \"Nota M\\u00e9dia\", \"Nota M\\u00e9dia\", \"Nota M\\u00e9dia\", \"Nota M\\u00e9dia\", \"Nota M\\u00e9dia\", \"Nota M\\u00e9dia\", \"Nota M\\u00e9dia\", \"Nota M\\u00e9dia\", \"Nota M\\u00e9dia\", \"Nota M\\u00e9dia\", \"Nota M\\u00e9dia\", \"Nota M\\u00e9dia\", \"Nota M\\u00e9dia\", \"Nota M\\u00e9dia\", \"Nota M\\u00e9dia\", \"Nota M\\u00e9dia\", \"Nota M\\u00e9dia\", \"Nota M\\u00e9dia\", \"Nota M\\u00e9dia\", \"Nota M\\u00e9dia\", \"Nota M\\u00e9dia\", \"Nota M\\u00e9dia\", \"Nota M\\u00e9dia\", \"Nota M\\u00e9dia\", \"Nota M\\u00e9dia\", \"Nota M\\u00e9dia\", \"Nota M\\u00e9dia\", \"Nota M\\u00e9dia\", \"Nota M\\u00e9dia\", \"Nota M\\u00e9dia\", \"Nota M\\u00e9dia\", \"Nota M\\u00e9dia\", \"Nota M\\u00e9dia\", \"Nota M\\u00e9dia\", \"Nota M\\u00e9dia\", \"Nota M\\u00e9dia\", \"Nota M\\u00e9dia\", \"Nota M\\u00e9dia\", \"Nota M\\u00e9dia\", \"Nota M\\u00e9dia\", \"Nota M\\u00e9dia\", \"Nota M\\u00e9dia\", \"Nota M\\u00e9dia\", \"Nota M\\u00e9dia\", \"Nota M\\u00e9dia\", \"Nota M\\u00e9dia\", \"Nota M\\u00e9dia\", \"Nota M\\u00e9dia\", \"Nota M\\u00e9dia\", \"Nota M\\u00e9dia\", \"Nota M\\u00e9dia\", \"Nota M\\u00e9dia\", \"Nota M\\u00e9dia\", \"Nota M\\u00e9dia\", \"Nota M\\u00e9dia\", \"Nota M\\u00e9dia\", \"Nota M\\u00e9dia\", \"Nota M\\u00e9dia\", \"Nota M\\u00e9dia\", \"Nota M\\u00e9dia\", \"Nota M\\u00e9dia\", \"Nota M\\u00e9dia\", \"Nota M\\u00e9dia\", \"Nota M\\u00e9dia\", \"Nota M\\u00e9dia\", \"Nota M\\u00e9dia\", \"Nota M\\u00e9dia\", \"Nota M\\u00e9dia\", \"Nota M\\u00e9dia\", \"Nota M\\u00e9dia\", \"Nota M\\u00e9dia\", \"Nota M\\u00e9dia\", \"Nota M\\u00e9dia\", \"Nota M\\u00e9dia\", \"Nota M\\u00e9dia\", \"Nota M\\u00e9dia\", \"Nota M\\u00e9dia\", \"Nota M\\u00e9dia\", \"Nota M\\u00e9dia\", \"Nota M\\u00e9dia\", \"Nota M\\u00e9dia\", \"Nota M\\u00e9dia\", \"Nota M\\u00e9dia\", \"Nota M\\u00e9dia\", \"Nota M\\u00e9dia\", \"Nota M\\u00e9dia\", \"Nota M\\u00e9dia\", \"Nota M\\u00e9dia\", \"Nota M\\u00e9dia\", \"Nota M\\u00e9dia\", \"Nota M\\u00e9dia\", \"Nota M\\u00e9dia\", \"Nota M\\u00e9dia\", \"Nota M\\u00e9dia\", \"Nota M\\u00e9dia\", \"Nota M\\u00e9dia\", \"Nota M\\u00e9dia\", \"Nota M\\u00e9dia\", \"Nota M\\u00e9dia\", \"Nota M\\u00e9dia\", \"Nota M\\u00e9dia\", \"Nota M\\u00e9dia\", \"Nota M\\u00e9dia\", \"Nota M\\u00e9dia\", \"Nota M\\u00e9dia\", \"Nota M\\u00e9dia\", \"Nota M\\u00e9dia\", \"Nota M\\u00e9dia\", \"Nota M\\u00e9dia\", \"Nota M\\u00e9dia\", \"Nota M\\u00e9dia\", \"Nota M\\u00e9dia\", \"Nota M\\u00e9dia\", \"Nota M\\u00e9dia\", \"Nota M\\u00e9dia\", \"Nota M\\u00e9dia\", \"Nota M\\u00e9dia\", \"Nota M\\u00e9dia\", \"Nota M\\u00e9dia\", \"Nota M\\u00e9dia\", \"Nota M\\u00e9dia\", \"Nota M\\u00e9dia\", \"Nota M\\u00e9dia\", \"Nota M\\u00e9dia\", \"Nota M\\u00e9dia\", \"Nota M\\u00e9dia\", \"Nota M\\u00e9dia\", \"Nota M\\u00e9dia\", \"Nota M\\u00e9dia\", \"Nota M\\u00e9dia\", \"Nota M\\u00e9dia\", \"Nota M\\u00e9dia\", \"Nota M\\u00e9dia\", \"Nota M\\u00e9dia\", \"Nota M\\u00e9dia\", \"Nota M\\u00e9dia\", \"Nota M\\u00e9dia\", \"Nota M\\u00e9dia\", \"Nota M\\u00e9dia\", \"Nota M\\u00e9dia\", \"Nota M\\u00e9dia\", \"Nota M\\u00e9dia\", \"Nota M\\u00e9dia\", \"Nota M\\u00e9dia\", \"Nota M\\u00e9dia\", \"Nota M\\u00e9dia\", \"Nota M\\u00e9dia\", \"Nota M\\u00e9dia\", \"Nota M\\u00e9dia\", \"Nota M\\u00e9dia\", \"Nota M\\u00e9dia\", \"Nota M\\u00e9dia\", \"Nota M\\u00e9dia\", \"Nota M\\u00e9dia\", \"Nota M\\u00e9dia\", \"Nota M\\u00e9dia\", \"Nota M\\u00e9dia\", \"Nota M\\u00e9dia\", \"Nota M\\u00e9dia\", \"Nota M\\u00e9dia\", \"Nota M\\u00e9dia\", \"Nota M\\u00e9dia\", \"Nota M\\u00e9dia\", \"Nota M\\u00e9dia\", \"Nota M\\u00e9dia\", \"Nota M\\u00e9dia\", \"Nota M\\u00e9dia\", \"Nota M\\u00e9dia\", \"Nota M\\u00e9dia\", \"Nota M\\u00e9dia\", \"Nota M\\u00e9dia\", \"Nota M\\u00e9dia\", \"Nota M\\u00e9dia\", \"Nota M\\u00e9dia\", \"Nota M\\u00e9dia\", \"Nota M\\u00e9dia\", \"Nota M\\u00e9dia\", \"Nota M\\u00e9dia\", \"Nota M\\u00e9dia\", \"Nota M\\u00e9dia\", \"Nota M\\u00e9dia\", \"Nota M\\u00e9dia\", \"Nota M\\u00e9dia\", \"Nota M\\u00e9dia\", \"Nota M\\u00e9dia\", \"Nota M\\u00e9dia\", \"Nota M\\u00e9dia\", \"Nota M\\u00e9dia\", \"Nota M\\u00e9dia\", \"Nota M\\u00e9dia\", \"Nota M\\u00e9dia\", \"Nota M\\u00e9dia\", \"Nota M\\u00e9dia\", \"Nota M\\u00e9dia\", \"Nota M\\u00e9dia\", \"Nota M\\u00e9dia\", \"Nota M\\u00e9dia\", \"Nota M\\u00e9dia\", \"Nota M\\u00e9dia\", \"Nota M\\u00e9dia\", \"Nota M\\u00e9dia\", \"Nota M\\u00e9dia\", \"Nota M\\u00e9dia\", \"Nota M\\u00e9dia\", \"Nota M\\u00e9dia\", \"Nota M\\u00e9dia\", \"Nota M\\u00e9dia\", \"Nota M\\u00e9dia\", \"Nota M\\u00e9dia\", \"Nota M\\u00e9dia\", \"Nota M\\u00e9dia\", \"Nota M\\u00e9dia\", \"Nota M\\u00e9dia\", \"Nota M\\u00e9dia\", \"Nota M\\u00e9dia\", \"Nota M\\u00e9dia\", \"Nota M\\u00e9dia\", \"Nota M\\u00e9dia\", \"Nota M\\u00e9dia\", \"Nota M\\u00e9dia\", \"Nota M\\u00e9dia\", \"Nota M\\u00e9dia\"], \"yaxis\": \"y2\"}],\n",
              "                        {\"barmode\": \"overlay\", \"hovermode\": \"closest\", \"legend\": {\"traceorder\": \"reversed\"}, \"template\": {\"data\": {\"bar\": [{\"error_x\": {\"color\": \"#2a3f5f\"}, \"error_y\": {\"color\": \"#2a3f5f\"}, \"marker\": {\"line\": {\"color\": \"#E5ECF6\", \"width\": 0.5}}, \"type\": \"bar\"}], \"barpolar\": [{\"marker\": {\"line\": {\"color\": \"#E5ECF6\", \"width\": 0.5}}, \"type\": \"barpolar\"}], \"carpet\": [{\"aaxis\": {\"endlinecolor\": \"#2a3f5f\", \"gridcolor\": \"white\", \"linecolor\": \"white\", \"minorgridcolor\": \"white\", \"startlinecolor\": \"#2a3f5f\"}, \"baxis\": {\"endlinecolor\": \"#2a3f5f\", \"gridcolor\": \"white\", \"linecolor\": \"white\", \"minorgridcolor\": \"white\", \"startlinecolor\": \"#2a3f5f\"}, \"type\": \"carpet\"}], \"choropleth\": [{\"colorbar\": {\"outlinewidth\": 0, \"ticks\": \"\"}, \"type\": \"choropleth\"}], \"contour\": [{\"colorbar\": {\"outlinewidth\": 0, \"ticks\": \"\"}, \"colorscale\": [[0.0, \"#0d0887\"], [0.1111111111111111, \"#46039f\"], [0.2222222222222222, \"#7201a8\"], [0.3333333333333333, \"#9c179e\"], [0.4444444444444444, \"#bd3786\"], [0.5555555555555556, \"#d8576b\"], [0.6666666666666666, \"#ed7953\"], [0.7777777777777778, \"#fb9f3a\"], [0.8888888888888888, \"#fdca26\"], [1.0, \"#f0f921\"]], \"type\": \"contour\"}], \"contourcarpet\": [{\"colorbar\": {\"outlinewidth\": 0, \"ticks\": \"\"}, \"type\": \"contourcarpet\"}], \"heatmap\": [{\"colorbar\": {\"outlinewidth\": 0, \"ticks\": \"\"}, \"colorscale\": [[0.0, \"#0d0887\"], [0.1111111111111111, \"#46039f\"], [0.2222222222222222, \"#7201a8\"], [0.3333333333333333, \"#9c179e\"], [0.4444444444444444, \"#bd3786\"], [0.5555555555555556, \"#d8576b\"], [0.6666666666666666, \"#ed7953\"], [0.7777777777777778, \"#fb9f3a\"], [0.8888888888888888, \"#fdca26\"], [1.0, \"#f0f921\"]], \"type\": \"heatmap\"}], \"heatmapgl\": [{\"colorbar\": {\"outlinewidth\": 0, \"ticks\": \"\"}, \"colorscale\": [[0.0, \"#0d0887\"], [0.1111111111111111, \"#46039f\"], [0.2222222222222222, \"#7201a8\"], [0.3333333333333333, \"#9c179e\"], [0.4444444444444444, \"#bd3786\"], [0.5555555555555556, \"#d8576b\"], [0.6666666666666666, \"#ed7953\"], [0.7777777777777778, \"#fb9f3a\"], [0.8888888888888888, \"#fdca26\"], [1.0, \"#f0f921\"]], \"type\": \"heatmapgl\"}], \"histogram\": [{\"marker\": {\"colorbar\": {\"outlinewidth\": 0, \"ticks\": \"\"}}, \"type\": \"histogram\"}], \"histogram2d\": [{\"colorbar\": {\"outlinewidth\": 0, \"ticks\": \"\"}, \"colorscale\": [[0.0, \"#0d0887\"], [0.1111111111111111, \"#46039f\"], [0.2222222222222222, \"#7201a8\"], [0.3333333333333333, \"#9c179e\"], [0.4444444444444444, \"#bd3786\"], [0.5555555555555556, \"#d8576b\"], [0.6666666666666666, \"#ed7953\"], [0.7777777777777778, \"#fb9f3a\"], [0.8888888888888888, \"#fdca26\"], [1.0, \"#f0f921\"]], \"type\": \"histogram2d\"}], \"histogram2dcontour\": [{\"colorbar\": {\"outlinewidth\": 0, \"ticks\": \"\"}, \"colorscale\": [[0.0, \"#0d0887\"], [0.1111111111111111, \"#46039f\"], [0.2222222222222222, \"#7201a8\"], [0.3333333333333333, \"#9c179e\"], [0.4444444444444444, \"#bd3786\"], [0.5555555555555556, \"#d8576b\"], [0.6666666666666666, \"#ed7953\"], [0.7777777777777778, \"#fb9f3a\"], [0.8888888888888888, \"#fdca26\"], [1.0, \"#f0f921\"]], \"type\": \"histogram2dcontour\"}], \"mesh3d\": [{\"colorbar\": {\"outlinewidth\": 0, \"ticks\": \"\"}, \"type\": \"mesh3d\"}], \"parcoords\": [{\"line\": {\"colorbar\": {\"outlinewidth\": 0, \"ticks\": \"\"}}, \"type\": \"parcoords\"}], \"pie\": [{\"automargin\": true, \"type\": \"pie\"}], \"scatter\": [{\"marker\": {\"colorbar\": {\"outlinewidth\": 0, \"ticks\": \"\"}}, \"type\": \"scatter\"}], \"scatter3d\": [{\"line\": {\"colorbar\": {\"outlinewidth\": 0, \"ticks\": \"\"}}, \"marker\": {\"colorbar\": {\"outlinewidth\": 0, \"ticks\": \"\"}}, \"type\": \"scatter3d\"}], \"scattercarpet\": [{\"marker\": {\"colorbar\": {\"outlinewidth\": 0, \"ticks\": \"\"}}, \"type\": \"scattercarpet\"}], \"scattergeo\": [{\"marker\": {\"colorbar\": {\"outlinewidth\": 0, \"ticks\": \"\"}}, \"type\": \"scattergeo\"}], \"scattergl\": [{\"marker\": {\"colorbar\": {\"outlinewidth\": 0, \"ticks\": \"\"}}, \"type\": \"scattergl\"}], \"scattermapbox\": [{\"marker\": {\"colorbar\": {\"outlinewidth\": 0, \"ticks\": \"\"}}, \"type\": \"scattermapbox\"}], \"scatterpolar\": [{\"marker\": {\"colorbar\": {\"outlinewidth\": 0, \"ticks\": \"\"}}, \"type\": \"scatterpolar\"}], \"scatterpolargl\": [{\"marker\": {\"colorbar\": {\"outlinewidth\": 0, \"ticks\": \"\"}}, \"type\": \"scatterpolargl\"}], \"scatterternary\": [{\"marker\": {\"colorbar\": {\"outlinewidth\": 0, \"ticks\": \"\"}}, \"type\": \"scatterternary\"}], \"surface\": [{\"colorbar\": {\"outlinewidth\": 0, \"ticks\": \"\"}, \"colorscale\": [[0.0, \"#0d0887\"], [0.1111111111111111, \"#46039f\"], [0.2222222222222222, \"#7201a8\"], [0.3333333333333333, \"#9c179e\"], [0.4444444444444444, \"#bd3786\"], [0.5555555555555556, \"#d8576b\"], [0.6666666666666666, \"#ed7953\"], [0.7777777777777778, \"#fb9f3a\"], [0.8888888888888888, \"#fdca26\"], [1.0, \"#f0f921\"]], \"type\": \"surface\"}], \"table\": [{\"cells\": {\"fill\": {\"color\": \"#EBF0F8\"}, \"line\": {\"color\": \"white\"}}, \"header\": {\"fill\": {\"color\": \"#C8D4E3\"}, \"line\": {\"color\": \"white\"}}, \"type\": \"table\"}]}, \"layout\": {\"annotationdefaults\": {\"arrowcolor\": \"#2a3f5f\", \"arrowhead\": 0, \"arrowwidth\": 1}, \"coloraxis\": {\"colorbar\": {\"outlinewidth\": 0, \"ticks\": \"\"}}, \"colorscale\": {\"diverging\": [[0, \"#8e0152\"], [0.1, \"#c51b7d\"], [0.2, \"#de77ae\"], [0.3, \"#f1b6da\"], [0.4, \"#fde0ef\"], [0.5, \"#f7f7f7\"], [0.6, \"#e6f5d0\"], [0.7, \"#b8e186\"], [0.8, \"#7fbc41\"], [0.9, \"#4d9221\"], [1, \"#276419\"]], \"sequential\": [[0.0, \"#0d0887\"], [0.1111111111111111, \"#46039f\"], [0.2222222222222222, \"#7201a8\"], [0.3333333333333333, \"#9c179e\"], [0.4444444444444444, \"#bd3786\"], [0.5555555555555556, \"#d8576b\"], [0.6666666666666666, \"#ed7953\"], [0.7777777777777778, \"#fb9f3a\"], [0.8888888888888888, \"#fdca26\"], [1.0, \"#f0f921\"]], \"sequentialminus\": [[0.0, \"#0d0887\"], [0.1111111111111111, \"#46039f\"], [0.2222222222222222, \"#7201a8\"], [0.3333333333333333, \"#9c179e\"], [0.4444444444444444, \"#bd3786\"], [0.5555555555555556, \"#d8576b\"], [0.6666666666666666, \"#ed7953\"], [0.7777777777777778, \"#fb9f3a\"], [0.8888888888888888, \"#fdca26\"], [1.0, \"#f0f921\"]]}, \"colorway\": [\"#636efa\", \"#EF553B\", \"#00cc96\", \"#ab63fa\", \"#FFA15A\", \"#19d3f3\", \"#FF6692\", \"#B6E880\", \"#FF97FF\", \"#FECB52\"], \"font\": {\"color\": \"#2a3f5f\"}, \"geo\": {\"bgcolor\": \"white\", \"lakecolor\": \"white\", \"landcolor\": \"#E5ECF6\", \"showlakes\": true, \"showland\": true, \"subunitcolor\": \"white\"}, \"hoverlabel\": {\"align\": \"left\"}, \"hovermode\": \"closest\", \"mapbox\": {\"style\": \"light\"}, \"paper_bgcolor\": \"white\", \"plot_bgcolor\": \"#E5ECF6\", \"polar\": {\"angularaxis\": {\"gridcolor\": \"white\", \"linecolor\": \"white\", \"ticks\": \"\"}, \"bgcolor\": \"#E5ECF6\", \"radialaxis\": {\"gridcolor\": \"white\", \"linecolor\": \"white\", \"ticks\": \"\"}}, \"scene\": {\"xaxis\": {\"backgroundcolor\": \"#E5ECF6\", \"gridcolor\": \"white\", \"gridwidth\": 2, \"linecolor\": \"white\", \"showbackground\": true, \"ticks\": \"\", \"zerolinecolor\": \"white\"}, \"yaxis\": {\"backgroundcolor\": \"#E5ECF6\", \"gridcolor\": \"white\", \"gridwidth\": 2, \"linecolor\": \"white\", \"showbackground\": true, \"ticks\": \"\", \"zerolinecolor\": \"white\"}, \"zaxis\": {\"backgroundcolor\": \"#E5ECF6\", \"gridcolor\": \"white\", \"gridwidth\": 2, \"linecolor\": \"white\", \"showbackground\": true, \"ticks\": \"\", \"zerolinecolor\": \"white\"}}, \"shapedefaults\": {\"line\": {\"color\": \"#2a3f5f\"}}, \"ternary\": {\"aaxis\": {\"gridcolor\": \"white\", \"linecolor\": \"white\", \"ticks\": \"\"}, \"baxis\": {\"gridcolor\": \"white\", \"linecolor\": \"white\", \"ticks\": \"\"}, \"bgcolor\": \"#E5ECF6\", \"caxis\": {\"gridcolor\": \"white\", \"linecolor\": \"white\", \"ticks\": \"\"}}, \"title\": {\"x\": 0.05}, \"xaxis\": {\"automargin\": true, \"gridcolor\": \"white\", \"linecolor\": \"white\", \"ticks\": \"\", \"title\": {\"standoff\": 15}, \"zerolinecolor\": \"white\", \"zerolinewidth\": 2}, \"yaxis\": {\"automargin\": true, \"gridcolor\": \"white\", \"linecolor\": \"white\", \"ticks\": \"\", \"title\": {\"standoff\": 15}, \"zerolinecolor\": \"white\", \"zerolinewidth\": 2}}}, \"title\": {\"text\": \"Histograma da nota m\\u00e9dia\", \"x\": 0.5, \"xanchor\": \"center\", \"yanchor\": \"top\"}, \"xaxis\": {\"anchor\": \"y2\", \"domain\": [0.0, 1.0], \"title\": {\"text\": \"Nota M\\u00e9dia\"}, \"zeroline\": false}, \"yaxis\": {\"anchor\": \"free\", \"domain\": [0.35, 1], \"position\": 0.0}, \"yaxis2\": {\"anchor\": \"x\", \"domain\": [0, 0.25], \"dtick\": 1, \"showticklabels\": false}},\n",
              "                        {\"responsive\": true}\n",
              "                    ).then(function(){\n",
              "                            \n",
              "var gd = document.getElementById('f4d90d8b-29fe-44f9-b85d-933b4d1da16a');\n",
              "var x = new MutationObserver(function (mutations, observer) {{\n",
              "        var display = window.getComputedStyle(gd).display;\n",
              "        if (!display || display === 'none') {{\n",
              "            console.log([gd, 'removed!']);\n",
              "            Plotly.purge(gd);\n",
              "            observer.disconnect();\n",
              "        }}\n",
              "}});\n",
              "\n",
              "// Listen for the removal of the full notebook cells\n",
              "var notebookContainer = gd.closest('#notebook-container');\n",
              "if (notebookContainer) {{\n",
              "    x.observe(notebookContainer, {childList: true});\n",
              "}}\n",
              "\n",
              "// Listen for the clearing of the current output cell\n",
              "var outputEl = gd.closest('.output');\n",
              "if (outputEl) {{\n",
              "    x.observe(outputEl, {childList: true});\n",
              "}}\n",
              "\n",
              "                        })\n",
              "                };\n",
              "                \n",
              "            </script>\n",
              "        </div>\n",
              "</body>\n",
              "</html>"
            ]
          },
          "metadata": {
            "tags": []
          }
        }
      ]
    },
    {
      "cell_type": "code",
      "metadata": {
        "id": "kBJpRut7W6gZ",
        "colab_type": "code",
        "colab": {
          "base_uri": "https://localhost:8080/",
          "height": 350
        },
        "outputId": "803ae5ad-7a91-4ff7-c809-dcdee960bb42"
      },
      "source": [
        "# solução cumulativa\n",
        "import matplotlib.pyplot as plt\n",
        "\n",
        "plt.rcParams['figure.figsize'] = (15,5)\n",
        "args = {'cumulative': True}\n",
        "ax = sns.distplot(filmes['nota_media'], hist_kws=args, kde_kws=args, axlabel='Nota Média')\n",
        "\n",
        "ax.set_title('Histograma cumulativo da nota média');"
      ],
      "execution_count": 103,
      "outputs": [
        {
          "output_type": "display_data",
          "data": {
            "image/png": "[encoded data removed]",
            "text/plain": [
              "<Figure size 1080x360 with 1 Axes>"
            ]
          },
          "metadata": {
            "tags": [],
            "needs_background": "light"
          }
        }
      ]
    },
    {
      "cell_type": "markdown",
      "metadata": {
        "id": "Vlb4_UDsW6gd",
        "colab_type": "text"
      },
      "source": [
        "## Pergunta: Visualize o total de votos\n",
        "\n",
        "- histograma\n",
        "- cummulative distribution function"
      ]
    },
    {
      "cell_type": "code",
      "metadata": {
        "id": "KphDNZMsW6ge",
        "colab_type": "code",
        "colab": {
          "base_uri": "https://localhost:8080/",
          "height": 542
        },
        "outputId": "7163a2ae-202a-4108-b142-3b5d2f975e22"
      },
      "source": [
        "# solução histograma\n",
        "import plotly.express as px\n",
        "\n",
        "labels = {'total_de_votos': 'Total de votos', 'count': 'Quantidade de filmes'}\n",
        "hist = px.histogram(filmes, x=filmes['total_de_votos'])\n",
        "\n",
        "nomear_grafico(hist, 'Total de votos x Quantidade de filmes', 'Total de votos', 'Quantidade de filmes')\n",
        "\n",
        "hist.show()"
      ],
      "execution_count": 104,
      "outputs": [
        {
          "output_type": "display_data",
          "data": {
            "text/html": [
              "<html>\n",
              "<head><meta charset=\"utf-8\" /></head>\n",
              "<body>\n",
              "    <div>\n",
              "            <script src=\"https://cdnjs.cloudflare.com/ajax/libs/mathjax/2.7.5/MathJax.js?config=TeX-AMS-MML_SVG\"></script><script type=\"text/javascript\">if (window.MathJax) {MathJax.Hub.Config({SVG: {font: \"STIX-Web\"}});}</script>\n",
              "                <script type=\"text/javascript\">window.PlotlyConfig = {MathJaxConfig: 'local'};</script>\n",
              "        <script src=\"https://cdn.plot.ly/plotly-latest.min.js\"></script>    \n",
              "            <div id=\"9e3656b4-4f22-4f30-af47-83f64d82e8ce\" class=\"plotly-graph-div\" style=\"height:525px; width:100%;\"></div>\n",
              "            <script type=\"text/javascript\">\n",
              "                \n",
              "                    window.PLOTLYENV=window.PLOTLYENV || {};\n",
              "                    \n",
              "                if (document.getElementById(\"9e3656b4-4f22-4f30-af47-83f64d82e8ce\")) {\n",
              "                    Plotly.newPlot(\n",
              "                        '9e3656b4-4f22-4f30-af47-83f64d82e8ce',\n",
              "                        [{\"alignmentgroup\": \"True\", \"bingroup\": \"x\", \"hovertemplate\": \"total_de_votos=%{x}<br>count=%{y}<extra></extra>\", \"legendgroup\": \"\", \"marker\": {\"color\": \"#636efa\"}, \"name\": \"\", \"offsetgroup\": \"\", \"orientation\": \"v\", \"showlegend\": false, \"type\": \"histogram\", \"x\": [215.0, 110.0, 52.0, 102.0, 54.0, 132.0, 70.0, 82.0, 67.0, 88.0, 89.0, 76.0, 177.0, 128.0, 67.0, 104.0, 203.0, 68.0, 204.0, 80.0, 55.0, 84.0, 99.0, 237.0, 104.0, 86.0, 51.0, 201.0, 137.0, 62.0, 57.0, 103.0, 66.0, 144.0, 54.0, 53.0, 62.0, 112.0, 115.0, 104.0, 52.0, 133.0, 70.0, 109.0, 251.0, 68.0, 92.0, 101.0, 133.0, 307.0, 81.0, 140.0, 81.0, 317.0, 108.0, 50.0, 77.0, 98.0, 161.0, 110.0, 57.0, 64.0, 329.0, 103.0, 172.0, 157.0, 74.0, 58.0, 171.0, 178.0, 84.0, 59.0, 55.0, 101.0, 63.0, 76.0, 81.0, 101.0, 190.0, 60.0, 70.0, 238.0, 53.0, 144.0, 66.0, 61.0, 69.0, 220.0, 106.0, 124.0, 93.0, 61.0, 65.0, 65.0, 116.0, 115.0, 183.0, 224.0, 164.0, 189.0, 279.0, 77.0, 146.0, 60.0, 135.0, 181.0, 162.0, 65.0, 53.0, 58.0, 121.0, 123.0, 97.0, 102.0, 202.0, 54.0, 64.0, 82.0, 192.0, 60.0, 84.0, 57.0, 50.0, 100.0, 92.0, 69.0, 109.0, 58.0, 71.0, 64.0, 145.0, 119.0, 71.0, 89.0, 131.0, 63.0, 122.0, 83.0, 62.0, 136.0, 56.0, 133.0, 211.0, 142.0, 200.0, 59.0, 126.0, 72.0, 57.0, 120.0, 58.0, 107.0, 196.0, 126.0, 146.0, 51.0, 83.0, 84.0, 129.0, 102.0, 76.0, 58.0, 64.0, 131.0, 86.0, 79.0, 59.0, 109.0, 91.0, 143.0, 171.0, 57.0, 69.0, 53.0, 66.0, 140.0, 56.0, 62.0, 85.0, 91.0, 68.0, 62.0, 60.0, 68.0, 91.0, 86.0, 85.0, 58.0, 70.0, 52.0, 74.0, 59.0, 100.0, 116.0, 67.0, 59.0, 77.0, 165.0, 82.0, 58.0, 90.0, 97.0, 77.0, 52.0, 56.0, 51.0, 86.0, 80.0, 125.0, 141.0, 140.0, 106.0, 56.0, 96.0, 92.0, 105.0, 64.0, 96.0, 113.0, 53.0, 75.0, 57.0, 60.0, 87.0, 88.0, 188.0, 68.0, 53.0, 55.0, 67.0, 51.0, 50.0, 108.0, 58.0, 91.0, 65.0, 57.0, 80.0, 59.0, 61.0, 88.0, 129.0, 67.0, 92.0, 56.0, 92.0, 54.0, 50.0, 57.0, 94.0, 56.0, 67.0, 278.0, 54.0, 56.0, 87.0, 140.0, 61.0, 63.0, 56.0, 121.0, 75.0, 53.0, 76.0, 53.0, 103.0, 64.0, 53.0, 120.0, 179.0, 87.0, 91.0, 55.0, 204.0, 88.0, 109.0, 53.0, 218.0, 70.0, 97.0, 99.0, 59.0, 79.0, 62.0, 97.0, 111.0, 52.0, 75.0, 61.0, 70.0, 62.0, 60.0, 75.0, 53.0, 61.0, 59.0, 52.0, 170.0, 77.0, 62.0, 61.0, 78.0, 68.0, 50.0, 133.0, 83.0, 53.0, 91.0, 96.0, 72.0, 73.0, 110.0, 93.0, 54.0, 100.0, 64.0, 94.0, 70.0, 159.0, 51.0, 65.0, 67.0, 170.0, 55.0, 56.0, 64.0, 55.0, 51.0, 54.0, 51.0, 109.0, 132.0, 107.0, 119.0, 120.0, 68.0, 198.0, 123.0, 50.0, 85.0, 60.0, 122.0, 92.0, 112.0, 120.0, 61.0, 65.0, 63.0, 87.0, 58.0, 102.0, 188.0, 55.0, 115.0, 75.0, 76.0, 96.0, 71.0, 141.0, 59.0, 58.0, 149.0, 74.0, 66.0, 52.0, 131.0, 79.0, 59.0, 62.0, 69.0, 185.0, 131.0, 110.0, 92.0, 50.0, 93.0, 50.0, 79.0, 57.0, 61.0, 75.0, 77.0, 125.0, 52.0, 61.0, 84.0, 50.0, 78.0, 59.0, 116.0, 50.0, 58.0, 50.0, 74.0, 71.0, 62.0, 100.0, 52.0, 72.0, 77.0, 65.0, 81.0, 107.0, 64.0, 90.0, 81.0, 53.0, 72.0, 61.0, 80.0, 52.0, 56.0, 58.0, 81.0, 55.0, 64.0, 62.0, 65.0, 149.0, 94.0, 54.0, 104.0, 71.0, 88.0, 59.0, 105.0, 76.0, 58.0, 65.0, 53.0, 97.0, 58.0, 67.0, 53.0, 55.0, 143.0, 57.0, 58.0, 50.0, 69.0, 54.0, 76.0, 50.0, 71.0, 54.0, 52.0, 73.0, 59.0, 50.0, 54.0], \"xaxis\": \"x\", \"yaxis\": \"y\"}],\n",
              "                        {\"barmode\": \"relative\", \"legend\": {\"tracegroupgap\": 0}, \"margin\": {\"t\": 60}, \"template\": {\"data\": {\"bar\": [{\"error_x\": {\"color\": \"#2a3f5f\"}, \"error_y\": {\"color\": \"#2a3f5f\"}, \"marker\": {\"line\": {\"color\": \"#E5ECF6\", \"width\": 0.5}}, \"type\": \"bar\"}], \"barpolar\": [{\"marker\": {\"line\": {\"color\": \"#E5ECF6\", \"width\": 0.5}}, \"type\": \"barpolar\"}], \"carpet\": [{\"aaxis\": {\"endlinecolor\": \"#2a3f5f\", \"gridcolor\": \"white\", \"linecolor\": \"white\", \"minorgridcolor\": \"white\", \"startlinecolor\": \"#2a3f5f\"}, \"baxis\": {\"endlinecolor\": \"#2a3f5f\", \"gridcolor\": \"white\", \"linecolor\": \"white\", \"minorgridcolor\": \"white\", \"startlinecolor\": \"#2a3f5f\"}, \"type\": \"carpet\"}], \"choropleth\": [{\"colorbar\": {\"outlinewidth\": 0, \"ticks\": \"\"}, \"type\": \"choropleth\"}], \"contour\": [{\"colorbar\": {\"outlinewidth\": 0, \"ticks\": \"\"}, \"colorscale\": [[0.0, \"#0d0887\"], [0.1111111111111111, \"#46039f\"], [0.2222222222222222, \"#7201a8\"], [0.3333333333333333, \"#9c179e\"], [0.4444444444444444, \"#bd3786\"], [0.5555555555555556, \"#d8576b\"], [0.6666666666666666, \"#ed7953\"], [0.7777777777777778, \"#fb9f3a\"], [0.8888888888888888, \"#fdca26\"], [1.0, \"#f0f921\"]], \"type\": \"contour\"}], \"contourcarpet\": [{\"colorbar\": {\"outlinewidth\": 0, \"ticks\": \"\"}, \"type\": \"contourcarpet\"}], \"heatmap\": [{\"colorbar\": {\"outlinewidth\": 0, \"ticks\": \"\"}, \"colorscale\": [[0.0, \"#0d0887\"], [0.1111111111111111, \"#46039f\"], [0.2222222222222222, \"#7201a8\"], [0.3333333333333333, \"#9c179e\"], [0.4444444444444444, \"#bd3786\"], [0.5555555555555556, \"#d8576b\"], [0.6666666666666666, \"#ed7953\"], [0.7777777777777778, \"#fb9f3a\"], [0.8888888888888888, \"#fdca26\"], [1.0, \"#f0f921\"]], \"type\": \"heatmap\"}], \"heatmapgl\": [{\"colorbar\": {\"outlinewidth\": 0, \"ticks\": \"\"}, \"colorscale\": [[0.0, \"#0d0887\"], [0.1111111111111111, \"#46039f\"], [0.2222222222222222, \"#7201a8\"], [0.3333333333333333, \"#9c179e\"], [0.4444444444444444, \"#bd3786\"], [0.5555555555555556, \"#d8576b\"], [0.6666666666666666, \"#ed7953\"], [0.7777777777777778, \"#fb9f3a\"], [0.8888888888888888, \"#fdca26\"], [1.0, \"#f0f921\"]], \"type\": \"heatmapgl\"}], \"histogram\": [{\"marker\": {\"colorbar\": {\"outlinewidth\": 0, \"ticks\": \"\"}}, \"type\": \"histogram\"}], \"histogram2d\": [{\"colorbar\": {\"outlinewidth\": 0, \"ticks\": \"\"}, \"colorscale\": [[0.0, \"#0d0887\"], [0.1111111111111111, \"#46039f\"], [0.2222222222222222, \"#7201a8\"], [0.3333333333333333, \"#9c179e\"], [0.4444444444444444, \"#bd3786\"], [0.5555555555555556, \"#d8576b\"], [0.6666666666666666, \"#ed7953\"], [0.7777777777777778, \"#fb9f3a\"], [0.8888888888888888, \"#fdca26\"], [1.0, \"#f0f921\"]], \"type\": \"histogram2d\"}], \"histogram2dcontour\": [{\"colorbar\": {\"outlinewidth\": 0, \"ticks\": \"\"}, \"colorscale\": [[0.0, \"#0d0887\"], [0.1111111111111111, \"#46039f\"], [0.2222222222222222, \"#7201a8\"], [0.3333333333333333, \"#9c179e\"], [0.4444444444444444, \"#bd3786\"], [0.5555555555555556, \"#d8576b\"], [0.6666666666666666, \"#ed7953\"], [0.7777777777777778, \"#fb9f3a\"], [0.8888888888888888, \"#fdca26\"], [1.0, \"#f0f921\"]], \"type\": \"histogram2dcontour\"}], \"mesh3d\": [{\"colorbar\": {\"outlinewidth\": 0, \"ticks\": \"\"}, \"type\": \"mesh3d\"}], \"parcoords\": [{\"line\": {\"colorbar\": {\"outlinewidth\": 0, \"ticks\": \"\"}}, \"type\": \"parcoords\"}], \"pie\": [{\"automargin\": true, \"type\": \"pie\"}], \"scatter\": [{\"marker\": {\"colorbar\": {\"outlinewidth\": 0, \"ticks\": \"\"}}, \"type\": \"scatter\"}], \"scatter3d\": [{\"line\": {\"colorbar\": {\"outlinewidth\": 0, \"ticks\": \"\"}}, \"marker\": {\"colorbar\": {\"outlinewidth\": 0, \"ticks\": \"\"}}, \"type\": \"scatter3d\"}], \"scattercarpet\": [{\"marker\": {\"colorbar\": {\"outlinewidth\": 0, \"ticks\": \"\"}}, \"type\": \"scattercarpet\"}], \"scattergeo\": [{\"marker\": {\"colorbar\": {\"outlinewidth\": 0, \"ticks\": \"\"}}, \"type\": \"scattergeo\"}], \"scattergl\": [{\"marker\": {\"colorbar\": {\"outlinewidth\": 0, \"ticks\": \"\"}}, \"type\": \"scattergl\"}], \"scattermapbox\": [{\"marker\": {\"colorbar\": {\"outlinewidth\": 0, \"ticks\": \"\"}}, \"type\": \"scattermapbox\"}], \"scatterpolar\": [{\"marker\": {\"colorbar\": {\"outlinewidth\": 0, \"ticks\": \"\"}}, \"type\": \"scatterpolar\"}], \"scatterpolargl\": [{\"marker\": {\"colorbar\": {\"outlinewidth\": 0, \"ticks\": \"\"}}, \"type\": \"scatterpolargl\"}], \"scatterternary\": [{\"marker\": {\"colorbar\": {\"outlinewidth\": 0, \"ticks\": \"\"}}, \"type\": \"scatterternary\"}], \"surface\": [{\"colorbar\": {\"outlinewidth\": 0, \"ticks\": \"\"}, \"colorscale\": [[0.0, \"#0d0887\"], [0.1111111111111111, \"#46039f\"], [0.2222222222222222, \"#7201a8\"], [0.3333333333333333, \"#9c179e\"], [0.4444444444444444, \"#bd3786\"], [0.5555555555555556, \"#d8576b\"], [0.6666666666666666, \"#ed7953\"], [0.7777777777777778, \"#fb9f3a\"], [0.8888888888888888, \"#fdca26\"], [1.0, \"#f0f921\"]], \"type\": \"surface\"}], \"table\": [{\"cells\": {\"fill\": {\"color\": \"#EBF0F8\"}, \"line\": {\"color\": \"white\"}}, \"header\": {\"fill\": {\"color\": \"#C8D4E3\"}, \"line\": {\"color\": \"white\"}}, \"type\": \"table\"}]}, \"layout\": {\"annotationdefaults\": {\"arrowcolor\": \"#2a3f5f\", \"arrowhead\": 0, \"arrowwidth\": 1}, \"coloraxis\": {\"colorbar\": {\"outlinewidth\": 0, \"ticks\": \"\"}}, \"colorscale\": {\"diverging\": [[0, \"#8e0152\"], [0.1, \"#c51b7d\"], [0.2, \"#de77ae\"], [0.3, \"#f1b6da\"], [0.4, \"#fde0ef\"], [0.5, \"#f7f7f7\"], [0.6, \"#e6f5d0\"], [0.7, \"#b8e186\"], [0.8, \"#7fbc41\"], [0.9, \"#4d9221\"], [1, \"#276419\"]], \"sequential\": [[0.0, \"#0d0887\"], [0.1111111111111111, \"#46039f\"], [0.2222222222222222, \"#7201a8\"], [0.3333333333333333, \"#9c179e\"], [0.4444444444444444, \"#bd3786\"], [0.5555555555555556, \"#d8576b\"], [0.6666666666666666, \"#ed7953\"], [0.7777777777777778, \"#fb9f3a\"], [0.8888888888888888, \"#fdca26\"], [1.0, \"#f0f921\"]], \"sequentialminus\": [[0.0, \"#0d0887\"], [0.1111111111111111, \"#46039f\"], [0.2222222222222222, \"#7201a8\"], [0.3333333333333333, \"#9c179e\"], [0.4444444444444444, \"#bd3786\"], [0.5555555555555556, \"#d8576b\"], [0.6666666666666666, \"#ed7953\"], [0.7777777777777778, \"#fb9f3a\"], [0.8888888888888888, \"#fdca26\"], [1.0, \"#f0f921\"]]}, \"colorway\": [\"#636efa\", \"#EF553B\", \"#00cc96\", \"#ab63fa\", \"#FFA15A\", \"#19d3f3\", \"#FF6692\", \"#B6E880\", \"#FF97FF\", \"#FECB52\"], \"font\": {\"color\": \"#2a3f5f\"}, \"geo\": {\"bgcolor\": \"white\", \"lakecolor\": \"white\", \"landcolor\": \"#E5ECF6\", \"showlakes\": true, \"showland\": true, \"subunitcolor\": \"white\"}, \"hoverlabel\": {\"align\": \"left\"}, \"hovermode\": \"closest\", \"mapbox\": {\"style\": \"light\"}, \"paper_bgcolor\": \"white\", \"plot_bgcolor\": \"#E5ECF6\", \"polar\": {\"angularaxis\": {\"gridcolor\": \"white\", \"linecolor\": \"white\", \"ticks\": \"\"}, \"bgcolor\": \"#E5ECF6\", \"radialaxis\": {\"gridcolor\": \"white\", \"linecolor\": \"white\", \"ticks\": \"\"}}, \"scene\": {\"xaxis\": {\"backgroundcolor\": \"#E5ECF6\", \"gridcolor\": \"white\", \"gridwidth\": 2, \"linecolor\": \"white\", \"showbackground\": true, \"ticks\": \"\", \"zerolinecolor\": \"white\"}, \"yaxis\": {\"backgroundcolor\": \"#E5ECF6\", \"gridcolor\": \"white\", \"gridwidth\": 2, \"linecolor\": \"white\", \"showbackground\": true, \"ticks\": \"\", \"zerolinecolor\": \"white\"}, \"zaxis\": {\"backgroundcolor\": \"#E5ECF6\", \"gridcolor\": \"white\", \"gridwidth\": 2, \"linecolor\": \"white\", \"showbackground\": true, \"ticks\": \"\", \"zerolinecolor\": \"white\"}}, \"shapedefaults\": {\"line\": {\"color\": \"#2a3f5f\"}}, \"ternary\": {\"aaxis\": {\"gridcolor\": \"white\", \"linecolor\": \"white\", \"ticks\": \"\"}, \"baxis\": {\"gridcolor\": \"white\", \"linecolor\": \"white\", \"ticks\": \"\"}, \"bgcolor\": \"#E5ECF6\", \"caxis\": {\"gridcolor\": \"white\", \"linecolor\": \"white\", \"ticks\": \"\"}}, \"title\": {\"x\": 0.05}, \"xaxis\": {\"automargin\": true, \"gridcolor\": \"white\", \"linecolor\": \"white\", \"ticks\": \"\", \"title\": {\"standoff\": 15}, \"zerolinecolor\": \"white\", \"zerolinewidth\": 2}, \"yaxis\": {\"automargin\": true, \"gridcolor\": \"white\", \"linecolor\": \"white\", \"ticks\": \"\", \"title\": {\"standoff\": 15}, \"zerolinecolor\": \"white\", \"zerolinewidth\": 2}}}, \"title\": {\"text\": \"Total de votos x Quantidade de filmes\", \"x\": 0.5, \"xanchor\": \"center\", \"yanchor\": \"top\"}, \"xaxis\": {\"anchor\": \"y\", \"domain\": [0.0, 1.0], \"title\": {\"text\": \"Total de votos\"}}, \"yaxis\": {\"anchor\": \"x\", \"domain\": [0.0, 1.0], \"title\": {\"text\": \"Quantidade de filmes\"}}},\n",
              "                        {\"responsive\": true}\n",
              "                    ).then(function(){\n",
              "                            \n",
              "var gd = document.getElementById('9e3656b4-4f22-4f30-af47-83f64d82e8ce');\n",
              "var x = new MutationObserver(function (mutations, observer) {{\n",
              "        var display = window.getComputedStyle(gd).display;\n",
              "        if (!display || display === 'none') {{\n",
              "            console.log([gd, 'removed!']);\n",
              "            Plotly.purge(gd);\n",
              "            observer.disconnect();\n",
              "        }}\n",
              "}});\n",
              "\n",
              "// Listen for the removal of the full notebook cells\n",
              "var notebookContainer = gd.closest('#notebook-container');\n",
              "if (notebookContainer) {{\n",
              "    x.observe(notebookContainer, {childList: true});\n",
              "}}\n",
              "\n",
              "// Listen for the clearing of the current output cell\n",
              "var outputEl = gd.closest('.output');\n",
              "if (outputEl) {{\n",
              "    x.observe(outputEl, {childList: true});\n",
              "}}\n",
              "\n",
              "                        })\n",
              "                };\n",
              "                \n",
              "            </script>\n",
              "        </div>\n",
              "</body>\n",
              "</html>"
            ]
          },
          "metadata": {
            "tags": []
          }
        }
      ]
    },
    {
      "cell_type": "code",
      "metadata": {
        "id": "s34QtilFW6gg",
        "colab_type": "code",
        "colab": {
          "base_uri": "https://localhost:8080/",
          "height": 350
        },
        "outputId": "12149b58-97bb-4708-c2a4-912d1fc24827"
      },
      "source": [
        "# solução cumulativa\n",
        "\n",
        "ax = sns.distplot(filmes['total_de_votos'], hist_kws=args, kde_kws=args, axlabel='Total de Votos')\n",
        "\n",
        "ax.set_title('Histograma cumulativo do Total de Votos');"
      ],
      "execution_count": 105,
      "outputs": [
        {
          "output_type": "display_data",
          "data": {
            "image/png": "[encoded data removed]",
            "text/plain": [
              "<Figure size 1080x360 with 1 Axes>"
            ]
          },
          "metadata": {
            "tags": [],
            "needs_background": "light"
          }
        }
      ]
    },
    {
      "cell_type": "markdown",
      "metadata": {
        "id": "vtiJwi-LW6gi",
        "colab_type": "text"
      },
      "source": [
        "## Pergunta: 20% dos filmes do dataframe tem nota maior que? \n",
        "\n",
        "- lembre-se da função `quantile` do pandas"
      ]
    },
    {
      "cell_type": "code",
      "metadata": {
        "id": "j6y-Iw-aW6gi",
        "colab_type": "code",
        "colab": {}
      },
      "source": [
        "# solução\n",
        "nota_limite_dos_20_porcento = filmes['nota_media'].quantile(0.8).round(2)"
      ],
      "execution_count": 106,
      "outputs": []
    },
    {
      "cell_type": "code",
      "metadata": {
        "id": "xztbX811W6gk",
        "colab_type": "code",
        "colab": {
          "base_uri": "https://localhost:8080/",
          "height": 34
        },
        "outputId": "9927ab99-598e-4b2c-bbde-52be09296bb4"
      },
      "source": [
        "print(\"20 porcento dos filmes tem nota maior que de %.2f\" % nota_limite_dos_20_porcento)"
      ],
      "execution_count": 107,
      "outputs": [
        {
          "output_type": "stream",
          "text": [
            "20 porcento dos filmes tem nota maior que de 3.99\n"
          ],
          "name": "stdout"
        }
      ]
    },
    {
      "cell_type": "markdown",
      "metadata": {
        "id": "fjlCaTdIW6gm",
        "colab_type": "text"
      },
      "source": [
        "## Vamos separar a coluna `generos` em diversas colunas.\n",
        "\n",
        "- O código já está pronto."
      ]
    },
    {
      "cell_type": "code",
      "metadata": {
        "id": "LH9W1xAXW6gn",
        "colab_type": "code",
        "colab": {
          "base_uri": "https://localhost:8080/",
          "height": 34
        },
        "outputId": "b1df4c55-e967-4303-8695-9c34956ed4a1"
      },
      "source": [
        "filmes['generos'] = filmes['generos'].str.replace('-', '')\n",
        "generos = filmes['generos'].str.get_dummies()\n",
        "print(\"Temos %d generos distintos\" % generos.shape[1])\n"
      ],
      "execution_count": 108,
      "outputs": [
        {
          "output_type": "stream",
          "text": [
            "Temos 19 generos distintos\n"
          ],
          "name": "stdout"
        }
      ]
    },
    {
      "cell_type": "code",
      "metadata": {
        "id": "gi99tY3TW6go",
        "colab_type": "code",
        "colab": {
          "base_uri": "https://localhost:8080/",
          "height": 346
        },
        "outputId": "f1b10dc7-17bc-47e2-9452-2b4237b0c7ba"
      },
      "source": [
        "filmes = filmes.join(generos).drop(columns=['generos'], axis=1)\n",
        "filmes.head()"
      ],
      "execution_count": 109,
      "outputs": [
        {
          "output_type": "execute_result",
          "data": {
            "text/html": [
              "<div>\n",
              "<style scoped>\n",
              "    .dataframe tbody tr th:only-of-type {\n",
              "        vertical-align: middle;\n",
              "    }\n",
              "\n",
              "    .dataframe tbody tr th {\n",
              "        vertical-align: top;\n",
              "    }\n",
              "\n",
              "    .dataframe thead th {\n",
              "        text-align: right;\n",
              "    }\n",
              "</style>\n",
              "<table border=\"1\" class=\"dataframe\">\n",
              "  <thead>\n",
              "    <tr style=\"text-align: right;\">\n",
              "      <th></th>\n",
              "      <th>titulo</th>\n",
              "      <th>ano_de_lancamento</th>\n",
              "      <th>nota_media</th>\n",
              "      <th>total_de_votos</th>\n",
              "      <th>Action</th>\n",
              "      <th>Adventure</th>\n",
              "      <th>Animation</th>\n",
              "      <th>Children</th>\n",
              "      <th>Comedy</th>\n",
              "      <th>Crime</th>\n",
              "      <th>Documentary</th>\n",
              "      <th>Drama</th>\n",
              "      <th>Fantasy</th>\n",
              "      <th>FilmNoir</th>\n",
              "      <th>Horror</th>\n",
              "      <th>IMAX</th>\n",
              "      <th>Musical</th>\n",
              "      <th>Mystery</th>\n",
              "      <th>Romance</th>\n",
              "      <th>SciFi</th>\n",
              "      <th>Thriller</th>\n",
              "      <th>War</th>\n",
              "      <th>Western</th>\n",
              "    </tr>\n",
              "    <tr>\n",
              "      <th>filmeId</th>\n",
              "      <th></th>\n",
              "      <th></th>\n",
              "      <th></th>\n",
              "      <th></th>\n",
              "      <th></th>\n",
              "      <th></th>\n",
              "      <th></th>\n",
              "      <th></th>\n",
              "      <th></th>\n",
              "      <th></th>\n",
              "      <th></th>\n",
              "      <th></th>\n",
              "      <th></th>\n",
              "      <th></th>\n",
              "      <th></th>\n",
              "      <th></th>\n",
              "      <th></th>\n",
              "      <th></th>\n",
              "      <th></th>\n",
              "      <th></th>\n",
              "      <th></th>\n",
              "      <th></th>\n",
              "      <th></th>\n",
              "    </tr>\n",
              "  </thead>\n",
              "  <tbody>\n",
              "    <tr>\n",
              "      <th>1</th>\n",
              "      <td>Toy Story (1995)</td>\n",
              "      <td>1995.0</td>\n",
              "      <td>3.920930</td>\n",
              "      <td>215.0</td>\n",
              "      <td>0</td>\n",
              "      <td>1</td>\n",
              "      <td>1</td>\n",
              "      <td>1</td>\n",
              "      <td>1</td>\n",
              "      <td>0</td>\n",
              "      <td>0</td>\n",
              "      <td>0</td>\n",
              "      <td>1</td>\n",
              "      <td>0</td>\n",
              "      <td>0</td>\n",
              "      <td>0</td>\n",
              "      <td>0</td>\n",
              "      <td>0</td>\n",
              "      <td>0</td>\n",
              "      <td>0</td>\n",
              "      <td>0</td>\n",
              "      <td>0</td>\n",
              "      <td>0</td>\n",
              "    </tr>\n",
              "    <tr>\n",
              "      <th>2</th>\n",
              "      <td>Jumanji (1995)</td>\n",
              "      <td>1995.0</td>\n",
              "      <td>3.431818</td>\n",
              "      <td>110.0</td>\n",
              "      <td>0</td>\n",
              "      <td>1</td>\n",
              "      <td>0</td>\n",
              "      <td>1</td>\n",
              "      <td>0</td>\n",
              "      <td>0</td>\n",
              "      <td>0</td>\n",
              "      <td>0</td>\n",
              "      <td>1</td>\n",
              "      <td>0</td>\n",
              "      <td>0</td>\n",
              "      <td>0</td>\n",
              "      <td>0</td>\n",
              "      <td>0</td>\n",
              "      <td>0</td>\n",
              "      <td>0</td>\n",
              "      <td>0</td>\n",
              "      <td>0</td>\n",
              "      <td>0</td>\n",
              "    </tr>\n",
              "    <tr>\n",
              "      <th>3</th>\n",
              "      <td>Grumpier Old Men (1995)</td>\n",
              "      <td>1995.0</td>\n",
              "      <td>3.259615</td>\n",
              "      <td>52.0</td>\n",
              "      <td>0</td>\n",
              "      <td>0</td>\n",
              "      <td>0</td>\n",
              "      <td>0</td>\n",
              "      <td>1</td>\n",
              "      <td>0</td>\n",
              "      <td>0</td>\n",
              "      <td>0</td>\n",
              "      <td>0</td>\n",
              "      <td>0</td>\n",
              "      <td>0</td>\n",
              "      <td>0</td>\n",
              "      <td>0</td>\n",
              "      <td>0</td>\n",
              "      <td>1</td>\n",
              "      <td>0</td>\n",
              "      <td>0</td>\n",
              "      <td>0</td>\n",
              "      <td>0</td>\n",
              "    </tr>\n",
              "    <tr>\n",
              "      <th>6</th>\n",
              "      <td>Heat (1995)</td>\n",
              "      <td>1995.0</td>\n",
              "      <td>3.946078</td>\n",
              "      <td>102.0</td>\n",
              "      <td>1</td>\n",
              "      <td>0</td>\n",
              "      <td>0</td>\n",
              "      <td>0</td>\n",
              "      <td>0</td>\n",
              "      <td>1</td>\n",
              "      <td>0</td>\n",
              "      <td>0</td>\n",
              "      <td>0</td>\n",
              "      <td>0</td>\n",
              "      <td>0</td>\n",
              "      <td>0</td>\n",
              "      <td>0</td>\n",
              "      <td>0</td>\n",
              "      <td>0</td>\n",
              "      <td>0</td>\n",
              "      <td>1</td>\n",
              "      <td>0</td>\n",
              "      <td>0</td>\n",
              "    </tr>\n",
              "    <tr>\n",
              "      <th>7</th>\n",
              "      <td>Sabrina (1995)</td>\n",
              "      <td>1995.0</td>\n",
              "      <td>3.185185</td>\n",
              "      <td>54.0</td>\n",
              "      <td>0</td>\n",
              "      <td>0</td>\n",
              "      <td>0</td>\n",
              "      <td>0</td>\n",
              "      <td>1</td>\n",
              "      <td>0</td>\n",
              "      <td>0</td>\n",
              "      <td>0</td>\n",
              "      <td>0</td>\n",
              "      <td>0</td>\n",
              "      <td>0</td>\n",
              "      <td>0</td>\n",
              "      <td>0</td>\n",
              "      <td>0</td>\n",
              "      <td>1</td>\n",
              "      <td>0</td>\n",
              "      <td>0</td>\n",
              "      <td>0</td>\n",
              "      <td>0</td>\n",
              "    </tr>\n",
              "  </tbody>\n",
              "</table>\n",
              "</div>"
            ],
            "text/plain": [
              "                          titulo  ano_de_lancamento  ...  War  Western\n",
              "filmeId                                              ...              \n",
              "1               Toy Story (1995)             1995.0  ...    0        0\n",
              "2                 Jumanji (1995)             1995.0  ...    0        0\n",
              "3        Grumpier Old Men (1995)             1995.0  ...    0        0\n",
              "6                    Heat (1995)             1995.0  ...    0        0\n",
              "7                 Sabrina (1995)             1995.0  ...    0        0\n",
              "\n",
              "[5 rows x 23 columns]"
            ]
          },
          "metadata": {
            "tags": []
          },
          "execution_count": 109
        }
      ]
    },
    {
      "cell_type": "markdown",
      "metadata": {
        "id": "ERtZhvADW6gq",
        "colab_type": "text"
      },
      "source": [
        "## Pergunta: visualização de quantos filmes existem por genero\n",
        "\n",
        "- Para cada um dos generos você deve agrupar o número de filmes\n",
        "- Ordene as barras, na esquerda o genero com mais filmes, na direita o que tem menos filmes\n",
        "\n",
        "Dica:\n",
        "\n",
        "- Para fazer a soma de uma ou mais colunas individualmente você pode usar `seu_dataframe.sum()`\n",
        "- Não precisa usar o dataframe `filmes`, somente o dataframe `generos`\n",
        "- Em certas situações é mais fácil usar as funções de plotagem do pandas ao invés do seaborn"
      ]
    },
    {
      "cell_type": "code",
      "metadata": {
        "id": "R7k-lRPhW6gr",
        "colab_type": "code",
        "colab": {
          "base_uri": "https://localhost:8080/",
          "height": 542
        },
        "outputId": "33a46960-9ec0-4383-f3a0-b24ba2e14db4"
      },
      "source": [
        "# solução\n",
        "\n",
        "import plotly.graph_objects as go\n",
        "\n",
        "quantidade_filmes_genero = generos.melt(var_name='Genero', value_name='Quantidade').groupby('Genero').sum()\n",
        "f = go.Figure()\n",
        "barras = f.add_trace(\n",
        "    go.Bar(\n",
        "        x=quantidade_filmes_genero.index,\n",
        "        y=quantidade_filmes_genero['Quantidade'],\n",
        "    ))\n",
        "\n",
        "barras.update_layout(xaxis={'categoryorder':'total descending'})\n",
        "nomear_grafico(barras, 'Quantidade de filmes por genero', 'Gerneros', 'Quantidade de filmes')\n",
        "barras.show()"
      ],
      "execution_count": 110,
      "outputs": [
        {
          "output_type": "display_data",
          "data": {
            "text/html": [
              "<html>\n",
              "<head><meta charset=\"utf-8\" /></head>\n",
              "<body>\n",
              "    <div>\n",
              "            <script src=\"https://cdnjs.cloudflare.com/ajax/libs/mathjax/2.7.5/MathJax.js?config=TeX-AMS-MML_SVG\"></script><script type=\"text/javascript\">if (window.MathJax) {MathJax.Hub.Config({SVG: {font: \"STIX-Web\"}});}</script>\n",
              "                <script type=\"text/javascript\">window.PlotlyConfig = {MathJaxConfig: 'local'};</script>\n",
              "        <script src=\"https://cdn.plot.ly/plotly-latest.min.js\"></script>    \n",
              "            <div id=\"46f2d3f5-f078-44c7-8625-a857b5bfcd30\" class=\"plotly-graph-div\" style=\"height:525px; width:100%;\"></div>\n",
              "            <script type=\"text/javascript\">\n",
              "                \n",
              "                    window.PLOTLYENV=window.PLOTLYENV || {};\n",
              "                    \n",
              "                if (document.getElementById(\"46f2d3f5-f078-44c7-8625-a857b5bfcd30\")) {\n",
              "                    Plotly.newPlot(\n",
              "                        '46f2d3f5-f078-44c7-8625-a857b5bfcd30',\n",
              "                        [{\"type\": \"bar\", \"x\": [\"Action\", \"Adventure\", \"Animation\", \"Children\", \"Comedy\", \"Crime\", \"Documentary\", \"Drama\", \"Fantasy\", \"FilmNoir\", \"Horror\", \"IMAX\", \"Musical\", \"Mystery\", \"Romance\", \"SciFi\", \"Thriller\", \"War\", \"Western\"], \"y\": [164, 132, 32, 47, 181, 87, 2, 166, 66, 4, 26, 28, 21, 38, 85, 92, 121, 19, 12]}],\n",
              "                        {\"template\": {\"data\": {\"bar\": [{\"error_x\": {\"color\": \"#2a3f5f\"}, \"error_y\": {\"color\": \"#2a3f5f\"}, \"marker\": {\"line\": {\"color\": \"#E5ECF6\", \"width\": 0.5}}, \"type\": \"bar\"}], \"barpolar\": [{\"marker\": {\"line\": {\"color\": \"#E5ECF6\", \"width\": 0.5}}, \"type\": \"barpolar\"}], \"carpet\": [{\"aaxis\": {\"endlinecolor\": \"#2a3f5f\", \"gridcolor\": \"white\", \"linecolor\": \"white\", \"minorgridcolor\": \"white\", \"startlinecolor\": \"#2a3f5f\"}, \"baxis\": {\"endlinecolor\": \"#2a3f5f\", \"gridcolor\": \"white\", \"linecolor\": \"white\", \"minorgridcolor\": \"white\", \"startlinecolor\": \"#2a3f5f\"}, \"type\": \"carpet\"}], \"choropleth\": [{\"colorbar\": {\"outlinewidth\": 0, \"ticks\": \"\"}, \"type\": \"choropleth\"}], \"contour\": [{\"colorbar\": {\"outlinewidth\": 0, \"ticks\": \"\"}, \"colorscale\": [[0.0, \"#0d0887\"], [0.1111111111111111, \"#46039f\"], [0.2222222222222222, \"#7201a8\"], [0.3333333333333333, \"#9c179e\"], [0.4444444444444444, \"#bd3786\"], [0.5555555555555556, \"#d8576b\"], [0.6666666666666666, \"#ed7953\"], [0.7777777777777778, \"#fb9f3a\"], [0.8888888888888888, \"#fdca26\"], [1.0, \"#f0f921\"]], \"type\": \"contour\"}], \"contourcarpet\": [{\"colorbar\": {\"outlinewidth\": 0, \"ticks\": \"\"}, \"type\": \"contourcarpet\"}], \"heatmap\": [{\"colorbar\": {\"outlinewidth\": 0, \"ticks\": \"\"}, \"colorscale\": [[0.0, \"#0d0887\"], [0.1111111111111111, \"#46039f\"], [0.2222222222222222, \"#7201a8\"], [0.3333333333333333, \"#9c179e\"], [0.4444444444444444, \"#bd3786\"], [0.5555555555555556, \"#d8576b\"], [0.6666666666666666, \"#ed7953\"], [0.7777777777777778, \"#fb9f3a\"], [0.8888888888888888, \"#fdca26\"], [1.0, \"#f0f921\"]], \"type\": \"heatmap\"}], \"heatmapgl\": [{\"colorbar\": {\"outlinewidth\": 0, \"ticks\": \"\"}, \"colorscale\": [[0.0, \"#0d0887\"], [0.1111111111111111, \"#46039f\"], [0.2222222222222222, \"#7201a8\"], [0.3333333333333333, \"#9c179e\"], [0.4444444444444444, \"#bd3786\"], [0.5555555555555556, \"#d8576b\"], [0.6666666666666666, \"#ed7953\"], [0.7777777777777778, \"#fb9f3a\"], [0.8888888888888888, \"#fdca26\"], [1.0, \"#f0f921\"]], \"type\": \"heatmapgl\"}], \"histogram\": [{\"marker\": {\"colorbar\": {\"outlinewidth\": 0, \"ticks\": \"\"}}, \"type\": \"histogram\"}], \"histogram2d\": [{\"colorbar\": {\"outlinewidth\": 0, \"ticks\": \"\"}, \"colorscale\": [[0.0, \"#0d0887\"], [0.1111111111111111, \"#46039f\"], [0.2222222222222222, \"#7201a8\"], [0.3333333333333333, \"#9c179e\"], [0.4444444444444444, \"#bd3786\"], [0.5555555555555556, \"#d8576b\"], [0.6666666666666666, \"#ed7953\"], [0.7777777777777778, \"#fb9f3a\"], [0.8888888888888888, \"#fdca26\"], [1.0, \"#f0f921\"]], \"type\": \"histogram2d\"}], \"histogram2dcontour\": [{\"colorbar\": {\"outlinewidth\": 0, \"ticks\": \"\"}, \"colorscale\": [[0.0, \"#0d0887\"], [0.1111111111111111, \"#46039f\"], [0.2222222222222222, \"#7201a8\"], [0.3333333333333333, \"#9c179e\"], [0.4444444444444444, \"#bd3786\"], [0.5555555555555556, \"#d8576b\"], [0.6666666666666666, \"#ed7953\"], [0.7777777777777778, \"#fb9f3a\"], [0.8888888888888888, \"#fdca26\"], [1.0, \"#f0f921\"]], \"type\": \"histogram2dcontour\"}], \"mesh3d\": [{\"colorbar\": {\"outlinewidth\": 0, \"ticks\": \"\"}, \"type\": \"mesh3d\"}], \"parcoords\": [{\"line\": {\"colorbar\": {\"outlinewidth\": 0, \"ticks\": \"\"}}, \"type\": \"parcoords\"}], \"pie\": [{\"automargin\": true, \"type\": \"pie\"}], \"scatter\": [{\"marker\": {\"colorbar\": {\"outlinewidth\": 0, \"ticks\": \"\"}}, \"type\": \"scatter\"}], \"scatter3d\": [{\"line\": {\"colorbar\": {\"outlinewidth\": 0, \"ticks\": \"\"}}, \"marker\": {\"colorbar\": {\"outlinewidth\": 0, \"ticks\": \"\"}}, \"type\": \"scatter3d\"}], \"scattercarpet\": [{\"marker\": {\"colorbar\": {\"outlinewidth\": 0, \"ticks\": \"\"}}, \"type\": \"scattercarpet\"}], \"scattergeo\": [{\"marker\": {\"colorbar\": {\"outlinewidth\": 0, \"ticks\": \"\"}}, \"type\": \"scattergeo\"}], \"scattergl\": [{\"marker\": {\"colorbar\": {\"outlinewidth\": 0, \"ticks\": \"\"}}, \"type\": \"scattergl\"}], \"scattermapbox\": [{\"marker\": {\"colorbar\": {\"outlinewidth\": 0, \"ticks\": \"\"}}, \"type\": \"scattermapbox\"}], \"scatterpolar\": [{\"marker\": {\"colorbar\": {\"outlinewidth\": 0, \"ticks\": \"\"}}, \"type\": \"scatterpolar\"}], \"scatterpolargl\": [{\"marker\": {\"colorbar\": {\"outlinewidth\": 0, \"ticks\": \"\"}}, \"type\": \"scatterpolargl\"}], \"scatterternary\": [{\"marker\": {\"colorbar\": {\"outlinewidth\": 0, \"ticks\": \"\"}}, \"type\": \"scatterternary\"}], \"surface\": [{\"colorbar\": {\"outlinewidth\": 0, \"ticks\": \"\"}, \"colorscale\": [[0.0, \"#0d0887\"], [0.1111111111111111, \"#46039f\"], [0.2222222222222222, \"#7201a8\"], [0.3333333333333333, \"#9c179e\"], [0.4444444444444444, \"#bd3786\"], [0.5555555555555556, \"#d8576b\"], [0.6666666666666666, \"#ed7953\"], [0.7777777777777778, \"#fb9f3a\"], [0.8888888888888888, \"#fdca26\"], [1.0, \"#f0f921\"]], \"type\": \"surface\"}], \"table\": [{\"cells\": {\"fill\": {\"color\": \"#EBF0F8\"}, \"line\": {\"color\": \"white\"}}, \"header\": {\"fill\": {\"color\": \"#C8D4E3\"}, \"line\": {\"color\": \"white\"}}, \"type\": \"table\"}]}, \"layout\": {\"annotationdefaults\": {\"arrowcolor\": \"#2a3f5f\", \"arrowhead\": 0, \"arrowwidth\": 1}, \"coloraxis\": {\"colorbar\": {\"outlinewidth\": 0, \"ticks\": \"\"}}, \"colorscale\": {\"diverging\": [[0, \"#8e0152\"], [0.1, \"#c51b7d\"], [0.2, \"#de77ae\"], [0.3, \"#f1b6da\"], [0.4, \"#fde0ef\"], [0.5, \"#f7f7f7\"], [0.6, \"#e6f5d0\"], [0.7, \"#b8e186\"], [0.8, \"#7fbc41\"], [0.9, \"#4d9221\"], [1, \"#276419\"]], \"sequential\": [[0.0, \"#0d0887\"], [0.1111111111111111, \"#46039f\"], [0.2222222222222222, \"#7201a8\"], [0.3333333333333333, \"#9c179e\"], [0.4444444444444444, \"#bd3786\"], [0.5555555555555556, \"#d8576b\"], [0.6666666666666666, \"#ed7953\"], [0.7777777777777778, \"#fb9f3a\"], [0.8888888888888888, \"#fdca26\"], [1.0, \"#f0f921\"]], \"sequentialminus\": [[0.0, \"#0d0887\"], [0.1111111111111111, \"#46039f\"], [0.2222222222222222, \"#7201a8\"], [0.3333333333333333, \"#9c179e\"], [0.4444444444444444, \"#bd3786\"], [0.5555555555555556, \"#d8576b\"], [0.6666666666666666, \"#ed7953\"], [0.7777777777777778, \"#fb9f3a\"], [0.8888888888888888, \"#fdca26\"], [1.0, \"#f0f921\"]]}, \"colorway\": [\"#636efa\", \"#EF553B\", \"#00cc96\", \"#ab63fa\", \"#FFA15A\", \"#19d3f3\", \"#FF6692\", \"#B6E880\", \"#FF97FF\", \"#FECB52\"], \"font\": {\"color\": \"#2a3f5f\"}, \"geo\": {\"bgcolor\": \"white\", \"lakecolor\": \"white\", \"landcolor\": \"#E5ECF6\", \"showlakes\": true, \"showland\": true, \"subunitcolor\": \"white\"}, \"hoverlabel\": {\"align\": \"left\"}, \"hovermode\": \"closest\", \"mapbox\": {\"style\": \"light\"}, \"paper_bgcolor\": \"white\", \"plot_bgcolor\": \"#E5ECF6\", \"polar\": {\"angularaxis\": {\"gridcolor\": \"white\", \"linecolor\": \"white\", \"ticks\": \"\"}, \"bgcolor\": \"#E5ECF6\", \"radialaxis\": {\"gridcolor\": \"white\", \"linecolor\": \"white\", \"ticks\": \"\"}}, \"scene\": {\"xaxis\": {\"backgroundcolor\": \"#E5ECF6\", \"gridcolor\": \"white\", \"gridwidth\": 2, \"linecolor\": \"white\", \"showbackground\": true, \"ticks\": \"\", \"zerolinecolor\": \"white\"}, \"yaxis\": {\"backgroundcolor\": \"#E5ECF6\", \"gridcolor\": \"white\", \"gridwidth\": 2, \"linecolor\": \"white\", \"showbackground\": true, \"ticks\": \"\", \"zerolinecolor\": \"white\"}, \"zaxis\": {\"backgroundcolor\": \"#E5ECF6\", \"gridcolor\": \"white\", \"gridwidth\": 2, \"linecolor\": \"white\", \"showbackground\": true, \"ticks\": \"\", \"zerolinecolor\": \"white\"}}, \"shapedefaults\": {\"line\": {\"color\": \"#2a3f5f\"}}, \"ternary\": {\"aaxis\": {\"gridcolor\": \"white\", \"linecolor\": \"white\", \"ticks\": \"\"}, \"baxis\": {\"gridcolor\": \"white\", \"linecolor\": \"white\", \"ticks\": \"\"}, \"bgcolor\": \"#E5ECF6\", \"caxis\": {\"gridcolor\": \"white\", \"linecolor\": \"white\", \"ticks\": \"\"}}, \"title\": {\"x\": 0.05}, \"xaxis\": {\"automargin\": true, \"gridcolor\": \"white\", \"linecolor\": \"white\", \"ticks\": \"\", \"title\": {\"standoff\": 15}, \"zerolinecolor\": \"white\", \"zerolinewidth\": 2}, \"yaxis\": {\"automargin\": true, \"gridcolor\": \"white\", \"linecolor\": \"white\", \"ticks\": \"\", \"title\": {\"standoff\": 15}, \"zerolinecolor\": \"white\", \"zerolinewidth\": 2}}}, \"title\": {\"text\": \"Quantidade de filmes por genero\", \"x\": 0.5, \"xanchor\": \"center\", \"yanchor\": \"top\"}, \"xaxis\": {\"categoryorder\": \"total descending\", \"title\": {\"text\": \"Gerneros\"}}, \"yaxis\": {\"title\": {\"text\": \"Quantidade de filmes\"}}},\n",
              "                        {\"responsive\": true}\n",
              "                    ).then(function(){\n",
              "                            \n",
              "var gd = document.getElementById('46f2d3f5-f078-44c7-8625-a857b5bfcd30');\n",
              "var x = new MutationObserver(function (mutations, observer) {{\n",
              "        var display = window.getComputedStyle(gd).display;\n",
              "        if (!display || display === 'none') {{\n",
              "            console.log([gd, 'removed!']);\n",
              "            Plotly.purge(gd);\n",
              "            observer.disconnect();\n",
              "        }}\n",
              "}});\n",
              "\n",
              "// Listen for the removal of the full notebook cells\n",
              "var notebookContainer = gd.closest('#notebook-container');\n",
              "if (notebookContainer) {{\n",
              "    x.observe(notebookContainer, {childList: true});\n",
              "}}\n",
              "\n",
              "// Listen for the clearing of the current output cell\n",
              "var outputEl = gd.closest('.output');\n",
              "if (outputEl) {{\n",
              "    x.observe(outputEl, {childList: true});\n",
              "}}\n",
              "\n",
              "                        })\n",
              "                };\n",
              "                \n",
              "            </script>\n",
              "        </div>\n",
              "</body>\n",
              "</html>"
            ]
          },
          "metadata": {
            "tags": []
          }
        }
      ]
    },
    {
      "cell_type": "markdown",
      "metadata": {
        "id": "1A31CaRYW6gv",
        "colab_type": "text"
      },
      "source": [
        "## Pergunta: Quais são os 5 generos com mais filmes?\n",
        "\n",
        "Dica:\n",
        "\n",
        "- `sort_values()` pode ordenar uma Series do pandas"
      ]
    },
    {
      "cell_type": "code",
      "metadata": {
        "id": "pw42FgOFW6gv",
        "colab_type": "code",
        "colab": {}
      },
      "source": [
        "# solução\n",
        "top5_generos_em_quantidade_de_filmes = quantidade_filmes_genero.sort_values(by='Quantidade', ascending=False)\n",
        "top5_generos_em_quantidade_de_filmes = top5_generos_em_quantidade_de_filmes.iloc[:5]\n"
      ],
      "execution_count": 111,
      "outputs": []
    },
    {
      "cell_type": "code",
      "metadata": {
        "id": "L3vwAwpCW6gy",
        "colab_type": "code",
        "colab": {
          "base_uri": "https://localhost:8080/",
          "height": 134
        },
        "outputId": "9eab97b3-fe88-4fb5-b29b-40c1fd3e8ff0"
      },
      "source": [
        "print(top5_generos_em_quantidade_de_filmes)"
      ],
      "execution_count": 112,
      "outputs": [
        {
          "output_type": "stream",
          "text": [
            "           Quantidade\n",
            "Genero               \n",
            "Comedy            181\n",
            "Drama             166\n",
            "Action            164\n",
            "Adventure         132\n",
            "Thriller          121\n"
          ],
          "name": "stdout"
        }
      ]
    },
    {
      "cell_type": "markdown",
      "metadata": {
        "id": "ceVuyqgBW6g1",
        "colab_type": "text"
      },
      "source": [
        "## Pergunta: visualização de votos por genero\n",
        "\n",
        "- o código que gera os votos por genero já está pronto\n",
        "- ordene as categorias da mais visualizada para a menos visualizada\n",
        "- gere a visualização por genero"
      ]
    },
    {
      "cell_type": "code",
      "metadata": {
        "id": "cVyqyfZzW6g2",
        "colab_type": "code",
        "colab": {
          "base_uri": "https://localhost:8080/",
          "height": 225
        },
        "outputId": "0c367eb0-a7be-4a67-fd5d-f3c744298b9b"
      },
      "source": [
        "votos_por_genero_por_filme = pd.DataFrame((generos.values.T * filmes['total_de_votos'].values).T, columns = generos.columns)\n",
        "votos_por_genero_por_filme = votos_por_genero_por_filme.melt(var_name='Genero', value_name='Quantidade').groupby('Genero').sum()\n",
        "votos_por_genero_por_filme.head()"
      ],
      "execution_count": 113,
      "outputs": [
        {
          "output_type": "execute_result",
          "data": {
            "text/html": [
              "<div>\n",
              "<style scoped>\n",
              "    .dataframe tbody tr th:only-of-type {\n",
              "        vertical-align: middle;\n",
              "    }\n",
              "\n",
              "    .dataframe tbody tr th {\n",
              "        vertical-align: top;\n",
              "    }\n",
              "\n",
              "    .dataframe thead th {\n",
              "        text-align: right;\n",
              "    }\n",
              "</style>\n",
              "<table border=\"1\" class=\"dataframe\">\n",
              "  <thead>\n",
              "    <tr style=\"text-align: right;\">\n",
              "      <th></th>\n",
              "      <th>Quantidade</th>\n",
              "    </tr>\n",
              "    <tr>\n",
              "      <th>Genero</th>\n",
              "      <th></th>\n",
              "    </tr>\n",
              "  </thead>\n",
              "  <tbody>\n",
              "    <tr>\n",
              "      <th>Action</th>\n",
              "      <td>15734.0</td>\n",
              "    </tr>\n",
              "    <tr>\n",
              "      <th>Adventure</th>\n",
              "      <td>13117.0</td>\n",
              "    </tr>\n",
              "    <tr>\n",
              "      <th>Animation</th>\n",
              "      <td>3066.0</td>\n",
              "    </tr>\n",
              "    <tr>\n",
              "      <th>Children</th>\n",
              "      <td>4331.0</td>\n",
              "    </tr>\n",
              "    <tr>\n",
              "      <th>Comedy</th>\n",
              "      <td>15330.0</td>\n",
              "    </tr>\n",
              "  </tbody>\n",
              "</table>\n",
              "</div>"
            ],
            "text/plain": [
              "           Quantidade\n",
              "Genero               \n",
              "Action        15734.0\n",
              "Adventure     13117.0\n",
              "Animation      3066.0\n",
              "Children       4331.0\n",
              "Comedy        15330.0"
            ]
          },
          "metadata": {
            "tags": []
          },
          "execution_count": 113
        }
      ]
    },
    {
      "cell_type": "code",
      "metadata": {
        "id": "gt9cn_e9W6g4",
        "colab_type": "code",
        "colab": {
          "base_uri": "https://localhost:8080/",
          "height": 225
        },
        "outputId": "95ffc8c5-0a63-4c39-b19e-2e4df34952dd"
      },
      "source": [
        "# solucão\n",
        "votos_por_genero_por_filme = votos_por_genero_por_filme.sort_values('Quantidade', ascending=False)\n",
        "votos_por_genero_por_filme.head()"
      ],
      "execution_count": 114,
      "outputs": [
        {
          "output_type": "execute_result",
          "data": {
            "text/html": [
              "<div>\n",
              "<style scoped>\n",
              "    .dataframe tbody tr th:only-of-type {\n",
              "        vertical-align: middle;\n",
              "    }\n",
              "\n",
              "    .dataframe tbody tr th {\n",
              "        vertical-align: top;\n",
              "    }\n",
              "\n",
              "    .dataframe thead th {\n",
              "        text-align: right;\n",
              "    }\n",
              "</style>\n",
              "<table border=\"1\" class=\"dataframe\">\n",
              "  <thead>\n",
              "    <tr style=\"text-align: right;\">\n",
              "      <th></th>\n",
              "      <th>Quantidade</th>\n",
              "    </tr>\n",
              "    <tr>\n",
              "      <th>Genero</th>\n",
              "      <th></th>\n",
              "    </tr>\n",
              "  </thead>\n",
              "  <tbody>\n",
              "    <tr>\n",
              "      <th>Action</th>\n",
              "      <td>15734.0</td>\n",
              "    </tr>\n",
              "    <tr>\n",
              "      <th>Drama</th>\n",
              "      <td>15445.0</td>\n",
              "    </tr>\n",
              "    <tr>\n",
              "      <th>Comedy</th>\n",
              "      <td>15330.0</td>\n",
              "    </tr>\n",
              "    <tr>\n",
              "      <th>Adventure</th>\n",
              "      <td>13117.0</td>\n",
              "    </tr>\n",
              "    <tr>\n",
              "      <th>Thriller</th>\n",
              "      <td>11907.0</td>\n",
              "    </tr>\n",
              "  </tbody>\n",
              "</table>\n",
              "</div>"
            ],
            "text/plain": [
              "           Quantidade\n",
              "Genero               \n",
              "Action        15734.0\n",
              "Drama         15445.0\n",
              "Comedy        15330.0\n",
              "Adventure     13117.0\n",
              "Thriller      11907.0"
            ]
          },
          "metadata": {
            "tags": []
          },
          "execution_count": 114
        }
      ]
    },
    {
      "cell_type": "code",
      "metadata": {
        "id": "4uTpl8NfW6g5",
        "colab_type": "code",
        "colab": {
          "base_uri": "https://localhost:8080/",
          "height": 542
        },
        "outputId": "610b986b-d479-4b08-eee2-09dc91499072"
      },
      "source": [
        "# solução\n",
        "\n",
        "votos_genero = go.Figure(\n",
        "    go.Bar(\n",
        "        x=votos_por_genero_por_filme.index,\n",
        "        y=votos_por_genero_por_filme['Quantidade'],\n",
        "    ))\n",
        "nomear_grafico(votos_genero, 'Total de votos por genero', 'Generos', 'Total de votos')\n",
        "votos_genero.show()"
      ],
      "execution_count": 115,
      "outputs": [
        {
          "output_type": "display_data",
          "data": {
            "text/html": [
              "<html>\n",
              "<head><meta charset=\"utf-8\" /></head>\n",
              "<body>\n",
              "    <div>\n",
              "            <script src=\"https://cdnjs.cloudflare.com/ajax/libs/mathjax/2.7.5/MathJax.js?config=TeX-AMS-MML_SVG\"></script><script type=\"text/javascript\">if (window.MathJax) {MathJax.Hub.Config({SVG: {font: \"STIX-Web\"}});}</script>\n",
              "                <script type=\"text/javascript\">window.PlotlyConfig = {MathJaxConfig: 'local'};</script>\n",
              "        <script src=\"https://cdn.plot.ly/plotly-latest.min.js\"></script>    \n",
              "            <div id=\"dd767e2c-f3de-4fc5-a1e8-ed0e6b716944\" class=\"plotly-graph-div\" style=\"height:525px; width:100%;\"></div>\n",
              "            <script type=\"text/javascript\">\n",
              "                \n",
              "                    window.PLOTLYENV=window.PLOTLYENV || {};\n",
              "                    \n",
              "                if (document.getElementById(\"dd767e2c-f3de-4fc5-a1e8-ed0e6b716944\")) {\n",
              "                    Plotly.newPlot(\n",
              "                        'dd767e2c-f3de-4fc5-a1e8-ed0e6b716944',\n",
              "                        [{\"type\": \"bar\", \"x\": [\"Action\", \"Drama\", \"Comedy\", \"Adventure\", \"Thriller\", \"SciFi\", \"Crime\", \"Romance\", \"Fantasy\", \"Children\", \"Mystery\", \"Animation\", \"IMAX\", \"Horror\", \"War\", \"Musical\", \"Western\", \"FilmNoir\", \"Documentary\"], \"y\": [15734.0, 15445.0, 15330.0, 13117.0, 11907.0, 8989.0, 8649.0, 7444.0, 5993.0, 4331.0, 3452.0, 3066.0, 2492.0, 2215.0, 2113.0, 1822.0, 900.0, 291.0, 108.0]}],\n",
              "                        {\"template\": {\"data\": {\"bar\": [{\"error_x\": {\"color\": \"#2a3f5f\"}, \"error_y\": {\"color\": \"#2a3f5f\"}, \"marker\": {\"line\": {\"color\": \"#E5ECF6\", \"width\": 0.5}}, \"type\": \"bar\"}], \"barpolar\": [{\"marker\": {\"line\": {\"color\": \"#E5ECF6\", \"width\": 0.5}}, \"type\": \"barpolar\"}], \"carpet\": [{\"aaxis\": {\"endlinecolor\": \"#2a3f5f\", \"gridcolor\": \"white\", \"linecolor\": \"white\", \"minorgridcolor\": \"white\", \"startlinecolor\": \"#2a3f5f\"}, \"baxis\": {\"endlinecolor\": \"#2a3f5f\", \"gridcolor\": \"white\", \"linecolor\": \"white\", \"minorgridcolor\": \"white\", \"startlinecolor\": \"#2a3f5f\"}, \"type\": \"carpet\"}], \"choropleth\": [{\"colorbar\": {\"outlinewidth\": 0, \"ticks\": \"\"}, \"type\": \"choropleth\"}], \"contour\": [{\"colorbar\": {\"outlinewidth\": 0, \"ticks\": \"\"}, \"colorscale\": [[0.0, \"#0d0887\"], [0.1111111111111111, \"#46039f\"], [0.2222222222222222, \"#7201a8\"], [0.3333333333333333, \"#9c179e\"], [0.4444444444444444, \"#bd3786\"], [0.5555555555555556, \"#d8576b\"], [0.6666666666666666, \"#ed7953\"], [0.7777777777777778, \"#fb9f3a\"], [0.8888888888888888, \"#fdca26\"], [1.0, \"#f0f921\"]], \"type\": \"contour\"}], \"contourcarpet\": [{\"colorbar\": {\"outlinewidth\": 0, \"ticks\": \"\"}, \"type\": \"contourcarpet\"}], \"heatmap\": [{\"colorbar\": {\"outlinewidth\": 0, \"ticks\": \"\"}, \"colorscale\": [[0.0, \"#0d0887\"], [0.1111111111111111, \"#46039f\"], [0.2222222222222222, \"#7201a8\"], [0.3333333333333333, \"#9c179e\"], [0.4444444444444444, \"#bd3786\"], [0.5555555555555556, \"#d8576b\"], [0.6666666666666666, \"#ed7953\"], [0.7777777777777778, \"#fb9f3a\"], [0.8888888888888888, \"#fdca26\"], [1.0, \"#f0f921\"]], \"type\": \"heatmap\"}], \"heatmapgl\": [{\"colorbar\": {\"outlinewidth\": 0, \"ticks\": \"\"}, \"colorscale\": [[0.0, \"#0d0887\"], [0.1111111111111111, \"#46039f\"], [0.2222222222222222, \"#7201a8\"], [0.3333333333333333, \"#9c179e\"], [0.4444444444444444, \"#bd3786\"], [0.5555555555555556, \"#d8576b\"], [0.6666666666666666, \"#ed7953\"], [0.7777777777777778, \"#fb9f3a\"], [0.8888888888888888, \"#fdca26\"], [1.0, \"#f0f921\"]], \"type\": \"heatmapgl\"}], \"histogram\": [{\"marker\": {\"colorbar\": {\"outlinewidth\": 0, \"ticks\": \"\"}}, \"type\": \"histogram\"}], \"histogram2d\": [{\"colorbar\": {\"outlinewidth\": 0, \"ticks\": \"\"}, \"colorscale\": [[0.0, \"#0d0887\"], [0.1111111111111111, \"#46039f\"], [0.2222222222222222, \"#7201a8\"], [0.3333333333333333, \"#9c179e\"], [0.4444444444444444, \"#bd3786\"], [0.5555555555555556, \"#d8576b\"], [0.6666666666666666, \"#ed7953\"], [0.7777777777777778, \"#fb9f3a\"], [0.8888888888888888, \"#fdca26\"], [1.0, \"#f0f921\"]], \"type\": \"histogram2d\"}], \"histogram2dcontour\": [{\"colorbar\": {\"outlinewidth\": 0, \"ticks\": \"\"}, \"colorscale\": [[0.0, \"#0d0887\"], [0.1111111111111111, \"#46039f\"], [0.2222222222222222, \"#7201a8\"], [0.3333333333333333, \"#9c179e\"], [0.4444444444444444, \"#bd3786\"], [0.5555555555555556, \"#d8576b\"], [0.6666666666666666, \"#ed7953\"], [0.7777777777777778, \"#fb9f3a\"], [0.8888888888888888, \"#fdca26\"], [1.0, \"#f0f921\"]], \"type\": \"histogram2dcontour\"}], \"mesh3d\": [{\"colorbar\": {\"outlinewidth\": 0, \"ticks\": \"\"}, \"type\": \"mesh3d\"}], \"parcoords\": [{\"line\": {\"colorbar\": {\"outlinewidth\": 0, \"ticks\": \"\"}}, \"type\": \"parcoords\"}], \"pie\": [{\"automargin\": true, \"type\": \"pie\"}], \"scatter\": [{\"marker\": {\"colorbar\": {\"outlinewidth\": 0, \"ticks\": \"\"}}, \"type\": \"scatter\"}], \"scatter3d\": [{\"line\": {\"colorbar\": {\"outlinewidth\": 0, \"ticks\": \"\"}}, \"marker\": {\"colorbar\": {\"outlinewidth\": 0, \"ticks\": \"\"}}, \"type\": \"scatter3d\"}], \"scattercarpet\": [{\"marker\": {\"colorbar\": {\"outlinewidth\": 0, \"ticks\": \"\"}}, \"type\": \"scattercarpet\"}], \"scattergeo\": [{\"marker\": {\"colorbar\": {\"outlinewidth\": 0, \"ticks\": \"\"}}, \"type\": \"scattergeo\"}], \"scattergl\": [{\"marker\": {\"colorbar\": {\"outlinewidth\": 0, \"ticks\": \"\"}}, \"type\": \"scattergl\"}], \"scattermapbox\": [{\"marker\": {\"colorbar\": {\"outlinewidth\": 0, \"ticks\": \"\"}}, \"type\": \"scattermapbox\"}], \"scatterpolar\": [{\"marker\": {\"colorbar\": {\"outlinewidth\": 0, \"ticks\": \"\"}}, \"type\": \"scatterpolar\"}], \"scatterpolargl\": [{\"marker\": {\"colorbar\": {\"outlinewidth\": 0, \"ticks\": \"\"}}, \"type\": \"scatterpolargl\"}], \"scatterternary\": [{\"marker\": {\"colorbar\": {\"outlinewidth\": 0, \"ticks\": \"\"}}, \"type\": \"scatterternary\"}], \"surface\": [{\"colorbar\": {\"outlinewidth\": 0, \"ticks\": \"\"}, \"colorscale\": [[0.0, \"#0d0887\"], [0.1111111111111111, \"#46039f\"], [0.2222222222222222, \"#7201a8\"], [0.3333333333333333, \"#9c179e\"], [0.4444444444444444, \"#bd3786\"], [0.5555555555555556, \"#d8576b\"], [0.6666666666666666, \"#ed7953\"], [0.7777777777777778, \"#fb9f3a\"], [0.8888888888888888, \"#fdca26\"], [1.0, \"#f0f921\"]], \"type\": \"surface\"}], \"table\": [{\"cells\": {\"fill\": {\"color\": \"#EBF0F8\"}, \"line\": {\"color\": \"white\"}}, \"header\": {\"fill\": {\"color\": \"#C8D4E3\"}, \"line\": {\"color\": \"white\"}}, \"type\": \"table\"}]}, \"layout\": {\"annotationdefaults\": {\"arrowcolor\": \"#2a3f5f\", \"arrowhead\": 0, \"arrowwidth\": 1}, \"coloraxis\": {\"colorbar\": {\"outlinewidth\": 0, \"ticks\": \"\"}}, \"colorscale\": {\"diverging\": [[0, \"#8e0152\"], [0.1, \"#c51b7d\"], [0.2, \"#de77ae\"], [0.3, \"#f1b6da\"], [0.4, \"#fde0ef\"], [0.5, \"#f7f7f7\"], [0.6, \"#e6f5d0\"], [0.7, \"#b8e186\"], [0.8, \"#7fbc41\"], [0.9, \"#4d9221\"], [1, \"#276419\"]], \"sequential\": [[0.0, \"#0d0887\"], [0.1111111111111111, \"#46039f\"], [0.2222222222222222, \"#7201a8\"], [0.3333333333333333, \"#9c179e\"], [0.4444444444444444, \"#bd3786\"], [0.5555555555555556, \"#d8576b\"], [0.6666666666666666, \"#ed7953\"], [0.7777777777777778, \"#fb9f3a\"], [0.8888888888888888, \"#fdca26\"], [1.0, \"#f0f921\"]], \"sequentialminus\": [[0.0, \"#0d0887\"], [0.1111111111111111, \"#46039f\"], [0.2222222222222222, \"#7201a8\"], [0.3333333333333333, \"#9c179e\"], [0.4444444444444444, \"#bd3786\"], [0.5555555555555556, \"#d8576b\"], [0.6666666666666666, \"#ed7953\"], [0.7777777777777778, \"#fb9f3a\"], [0.8888888888888888, \"#fdca26\"], [1.0, \"#f0f921\"]]}, \"colorway\": [\"#636efa\", \"#EF553B\", \"#00cc96\", \"#ab63fa\", \"#FFA15A\", \"#19d3f3\", \"#FF6692\", \"#B6E880\", \"#FF97FF\", \"#FECB52\"], \"font\": {\"color\": \"#2a3f5f\"}, \"geo\": {\"bgcolor\": \"white\", \"lakecolor\": \"white\", \"landcolor\": \"#E5ECF6\", \"showlakes\": true, \"showland\": true, \"subunitcolor\": \"white\"}, \"hoverlabel\": {\"align\": \"left\"}, \"hovermode\": \"closest\", \"mapbox\": {\"style\": \"light\"}, \"paper_bgcolor\": \"white\", \"plot_bgcolor\": \"#E5ECF6\", \"polar\": {\"angularaxis\": {\"gridcolor\": \"white\", \"linecolor\": \"white\", \"ticks\": \"\"}, \"bgcolor\": \"#E5ECF6\", \"radialaxis\": {\"gridcolor\": \"white\", \"linecolor\": \"white\", \"ticks\": \"\"}}, \"scene\": {\"xaxis\": {\"backgroundcolor\": \"#E5ECF6\", \"gridcolor\": \"white\", \"gridwidth\": 2, \"linecolor\": \"white\", \"showbackground\": true, \"ticks\": \"\", \"zerolinecolor\": \"white\"}, \"yaxis\": {\"backgroundcolor\": \"#E5ECF6\", \"gridcolor\": \"white\", \"gridwidth\": 2, \"linecolor\": \"white\", \"showbackground\": true, \"ticks\": \"\", \"zerolinecolor\": \"white\"}, \"zaxis\": {\"backgroundcolor\": \"#E5ECF6\", \"gridcolor\": \"white\", \"gridwidth\": 2, \"linecolor\": \"white\", \"showbackground\": true, \"ticks\": \"\", \"zerolinecolor\": \"white\"}}, \"shapedefaults\": {\"line\": {\"color\": \"#2a3f5f\"}}, \"ternary\": {\"aaxis\": {\"gridcolor\": \"white\", \"linecolor\": \"white\", \"ticks\": \"\"}, \"baxis\": {\"gridcolor\": \"white\", \"linecolor\": \"white\", \"ticks\": \"\"}, \"bgcolor\": \"#E5ECF6\", \"caxis\": {\"gridcolor\": \"white\", \"linecolor\": \"white\", \"ticks\": \"\"}}, \"title\": {\"x\": 0.05}, \"xaxis\": {\"automargin\": true, \"gridcolor\": \"white\", \"linecolor\": \"white\", \"ticks\": \"\", \"title\": {\"standoff\": 15}, \"zerolinecolor\": \"white\", \"zerolinewidth\": 2}, \"yaxis\": {\"automargin\": true, \"gridcolor\": \"white\", \"linecolor\": \"white\", \"ticks\": \"\", \"title\": {\"standoff\": 15}, \"zerolinecolor\": \"white\", \"zerolinewidth\": 2}}}, \"title\": {\"text\": \"Total de votos por genero\", \"x\": 0.5, \"xanchor\": \"center\", \"yanchor\": \"top\"}, \"xaxis\": {\"title\": {\"text\": \"Generos\"}}, \"yaxis\": {\"title\": {\"text\": \"Total de votos\"}}},\n",
              "                        {\"responsive\": true}\n",
              "                    ).then(function(){\n",
              "                            \n",
              "var gd = document.getElementById('dd767e2c-f3de-4fc5-a1e8-ed0e6b716944');\n",
              "var x = new MutationObserver(function (mutations, observer) {{\n",
              "        var display = window.getComputedStyle(gd).display;\n",
              "        if (!display || display === 'none') {{\n",
              "            console.log([gd, 'removed!']);\n",
              "            Plotly.purge(gd);\n",
              "            observer.disconnect();\n",
              "        }}\n",
              "}});\n",
              "\n",
              "// Listen for the removal of the full notebook cells\n",
              "var notebookContainer = gd.closest('#notebook-container');\n",
              "if (notebookContainer) {{\n",
              "    x.observe(notebookContainer, {childList: true});\n",
              "}}\n",
              "\n",
              "// Listen for the clearing of the current output cell\n",
              "var outputEl = gd.closest('.output');\n",
              "if (outputEl) {{\n",
              "    x.observe(outputEl, {childList: true});\n",
              "}}\n",
              "\n",
              "                        })\n",
              "                };\n",
              "                \n",
              "            </script>\n",
              "        </div>\n",
              "</body>\n",
              "</html>"
            ]
          },
          "metadata": {
            "tags": []
          }
        }
      ]
    },
    {
      "cell_type": "markdown",
      "metadata": {
        "id": "SGIN9QlGW6g8",
        "colab_type": "text"
      },
      "source": [
        "## Pergunta : votos por filme por genero\n",
        "\n",
        "Queremos entender a quantidade de votos em relação a quantidade de filmes existentes naquele genero.\n",
        "\n",
        "Por exemplo: \n",
        "- se temos 1000 votos de `Ação` e 10 filmes desse genero, foram 100 votos por filme nesse genero.\n",
        "- se o gênero `Documentário` tem 2 filmes e 500 votos, ele tem 250 votos por filme nesse gênero.\n",
        "\n",
        "Queremos entender isso, a \"popularidade\" média de um filme em cada categoria, isto é, o número de votos dividido pelo número de filmes, organizado para cada categoria.\n",
        "\n",
        "- Você já possui o número de votos por genero\n",
        "- Calcule o número de votos por genero dividido pelo total de filmes por genero\n",
        "- Ordene do maior para o menor\n",
        "- Plote um gráfico para visualizarmos esses dados"
      ]
    },
    {
      "cell_type": "code",
      "metadata": {
        "id": "j07cHCsxW6g9",
        "colab_type": "code",
        "colab": {
          "base_uri": "https://localhost:8080/",
          "height": 225
        },
        "outputId": "a966751e-9add-40f2-9fd3-10729695c616"
      },
      "source": [
        "# solucao código\n",
        "votos_por_filmes_por_genero = round(votos_por_genero_por_filme/quantidade_filmes_genero,2).sort_values('Quantidade', ascending=False)\n",
        "votos_por_filmes_por_genero.head()"
      ],
      "execution_count": 116,
      "outputs": [
        {
          "output_type": "execute_result",
          "data": {
            "text/html": [
              "<div>\n",
              "<style scoped>\n",
              "    .dataframe tbody tr th:only-of-type {\n",
              "        vertical-align: middle;\n",
              "    }\n",
              "\n",
              "    .dataframe tbody tr th {\n",
              "        vertical-align: top;\n",
              "    }\n",
              "\n",
              "    .dataframe thead th {\n",
              "        text-align: right;\n",
              "    }\n",
              "</style>\n",
              "<table border=\"1\" class=\"dataframe\">\n",
              "  <thead>\n",
              "    <tr style=\"text-align: right;\">\n",
              "      <th></th>\n",
              "      <th>Quantidade</th>\n",
              "    </tr>\n",
              "    <tr>\n",
              "      <th>Genero</th>\n",
              "      <th></th>\n",
              "    </tr>\n",
              "  </thead>\n",
              "  <tbody>\n",
              "    <tr>\n",
              "      <th>War</th>\n",
              "      <td>111.21</td>\n",
              "    </tr>\n",
              "    <tr>\n",
              "      <th>Crime</th>\n",
              "      <td>99.41</td>\n",
              "    </tr>\n",
              "    <tr>\n",
              "      <th>Adventure</th>\n",
              "      <td>99.37</td>\n",
              "    </tr>\n",
              "    <tr>\n",
              "      <th>Thriller</th>\n",
              "      <td>98.40</td>\n",
              "    </tr>\n",
              "    <tr>\n",
              "      <th>SciFi</th>\n",
              "      <td>97.71</td>\n",
              "    </tr>\n",
              "  </tbody>\n",
              "</table>\n",
              "</div>"
            ],
            "text/plain": [
              "           Quantidade\n",
              "Genero               \n",
              "War            111.21\n",
              "Crime           99.41\n",
              "Adventure       99.37\n",
              "Thriller        98.40\n",
              "SciFi           97.71"
            ]
          },
          "metadata": {
            "tags": []
          },
          "execution_count": 116
        }
      ]
    },
    {
      "cell_type": "code",
      "metadata": {
        "id": "zmiarreVW6g_",
        "colab_type": "code",
        "colab": {
          "base_uri": "https://localhost:8080/",
          "height": 542
        },
        "outputId": "cdcad035-10d8-4109-f357-dd2e37a33078"
      },
      "source": [
        "# solução com visualização \n",
        "barras = go.Figure(\n",
        "    go.Bar(\n",
        "        x=votos_por_filmes_por_genero.index,\n",
        "        y=votos_por_filmes_por_genero['Quantidade'],\n",
        "        \n",
        "    ))\n",
        "\n",
        "\n",
        "nomear_grafico(barras, 'Quantidade de votos por filmes por genero', 'Generos', 'Filmes por genero')\n",
        "\n",
        "barras.show()"
      ],
      "execution_count": 117,
      "outputs": [
        {
          "output_type": "display_data",
          "data": {
            "text/html": [
              "<html>\n",
              "<head><meta charset=\"utf-8\" /></head>\n",
              "<body>\n",
              "    <div>\n",
              "            <script src=\"https://cdnjs.cloudflare.com/ajax/libs/mathjax/2.7.5/MathJax.js?config=TeX-AMS-MML_SVG\"></script><script type=\"text/javascript\">if (window.MathJax) {MathJax.Hub.Config({SVG: {font: \"STIX-Web\"}});}</script>\n",
              "                <script type=\"text/javascript\">window.PlotlyConfig = {MathJaxConfig: 'local'};</script>\n",
              "        <script src=\"https://cdn.plot.ly/plotly-latest.min.js\"></script>    \n",
              "            <div id=\"807e00c9-5bf0-44f7-9d9a-2a67f9cd200f\" class=\"plotly-graph-div\" style=\"height:525px; width:100%;\"></div>\n",
              "            <script type=\"text/javascript\">\n",
              "                \n",
              "                    window.PLOTLYENV=window.PLOTLYENV || {};\n",
              "                    \n",
              "                if (document.getElementById(\"807e00c9-5bf0-44f7-9d9a-2a67f9cd200f\")) {\n",
              "                    Plotly.newPlot(\n",
              "                        '807e00c9-5bf0-44f7-9d9a-2a67f9cd200f',\n",
              "                        [{\"type\": \"bar\", \"x\": [\"War\", \"Crime\", \"Adventure\", \"Thriller\", \"SciFi\", \"Action\", \"Animation\", \"Drama\", \"Children\", \"Mystery\", \"Fantasy\", \"IMAX\", \"Romance\", \"Musical\", \"Horror\", \"Comedy\", \"Western\", \"FilmNoir\", \"Documentary\"], \"y\": [111.21, 99.41, 99.37, 98.4, 97.71, 95.94, 95.81, 93.04, 92.15, 90.84, 90.8, 89.0, 87.58, 86.76, 85.19, 84.7, 75.0, 72.75, 54.0]}],\n",
              "                        {\"template\": {\"data\": {\"bar\": [{\"error_x\": {\"color\": \"#2a3f5f\"}, \"error_y\": {\"color\": \"#2a3f5f\"}, \"marker\": {\"line\": {\"color\": \"#E5ECF6\", \"width\": 0.5}}, \"type\": \"bar\"}], \"barpolar\": [{\"marker\": {\"line\": {\"color\": \"#E5ECF6\", \"width\": 0.5}}, \"type\": \"barpolar\"}], \"carpet\": [{\"aaxis\": {\"endlinecolor\": \"#2a3f5f\", \"gridcolor\": \"white\", \"linecolor\": \"white\", \"minorgridcolor\": \"white\", \"startlinecolor\": \"#2a3f5f\"}, \"baxis\": {\"endlinecolor\": \"#2a3f5f\", \"gridcolor\": \"white\", \"linecolor\": \"white\", \"minorgridcolor\": \"white\", \"startlinecolor\": \"#2a3f5f\"}, \"type\": \"carpet\"}], \"choropleth\": [{\"colorbar\": {\"outlinewidth\": 0, \"ticks\": \"\"}, \"type\": \"choropleth\"}], \"contour\": [{\"colorbar\": {\"outlinewidth\": 0, \"ticks\": \"\"}, \"colorscale\": [[0.0, \"#0d0887\"], [0.1111111111111111, \"#46039f\"], [0.2222222222222222, \"#7201a8\"], [0.3333333333333333, \"#9c179e\"], [0.4444444444444444, \"#bd3786\"], [0.5555555555555556, \"#d8576b\"], [0.6666666666666666, \"#ed7953\"], [0.7777777777777778, \"#fb9f3a\"], [0.8888888888888888, \"#fdca26\"], [1.0, \"#f0f921\"]], \"type\": \"contour\"}], \"contourcarpet\": [{\"colorbar\": {\"outlinewidth\": 0, \"ticks\": \"\"}, \"type\": \"contourcarpet\"}], \"heatmap\": [{\"colorbar\": {\"outlinewidth\": 0, \"ticks\": \"\"}, \"colorscale\": [[0.0, \"#0d0887\"], [0.1111111111111111, \"#46039f\"], [0.2222222222222222, \"#7201a8\"], [0.3333333333333333, \"#9c179e\"], [0.4444444444444444, \"#bd3786\"], [0.5555555555555556, \"#d8576b\"], [0.6666666666666666, \"#ed7953\"], [0.7777777777777778, \"#fb9f3a\"], [0.8888888888888888, \"#fdca26\"], [1.0, \"#f0f921\"]], \"type\": \"heatmap\"}], \"heatmapgl\": [{\"colorbar\": {\"outlinewidth\": 0, \"ticks\": \"\"}, \"colorscale\": [[0.0, \"#0d0887\"], [0.1111111111111111, \"#46039f\"], [0.2222222222222222, \"#7201a8\"], [0.3333333333333333, \"#9c179e\"], [0.4444444444444444, \"#bd3786\"], [0.5555555555555556, \"#d8576b\"], [0.6666666666666666, \"#ed7953\"], [0.7777777777777778, \"#fb9f3a\"], [0.8888888888888888, \"#fdca26\"], [1.0, \"#f0f921\"]], \"type\": \"heatmapgl\"}], \"histogram\": [{\"marker\": {\"colorbar\": {\"outlinewidth\": 0, \"ticks\": \"\"}}, \"type\": \"histogram\"}], \"histogram2d\": [{\"colorbar\": {\"outlinewidth\": 0, \"ticks\": \"\"}, \"colorscale\": [[0.0, \"#0d0887\"], [0.1111111111111111, \"#46039f\"], [0.2222222222222222, \"#7201a8\"], [0.3333333333333333, \"#9c179e\"], [0.4444444444444444, \"#bd3786\"], [0.5555555555555556, \"#d8576b\"], [0.6666666666666666, \"#ed7953\"], [0.7777777777777778, \"#fb9f3a\"], [0.8888888888888888, \"#fdca26\"], [1.0, \"#f0f921\"]], \"type\": \"histogram2d\"}], \"histogram2dcontour\": [{\"colorbar\": {\"outlinewidth\": 0, \"ticks\": \"\"}, \"colorscale\": [[0.0, \"#0d0887\"], [0.1111111111111111, \"#46039f\"], [0.2222222222222222, \"#7201a8\"], [0.3333333333333333, \"#9c179e\"], [0.4444444444444444, \"#bd3786\"], [0.5555555555555556, \"#d8576b\"], [0.6666666666666666, \"#ed7953\"], [0.7777777777777778, \"#fb9f3a\"], [0.8888888888888888, \"#fdca26\"], [1.0, \"#f0f921\"]], \"type\": \"histogram2dcontour\"}], \"mesh3d\": [{\"colorbar\": {\"outlinewidth\": 0, \"ticks\": \"\"}, \"type\": \"mesh3d\"}], \"parcoords\": [{\"line\": {\"colorbar\": {\"outlinewidth\": 0, \"ticks\": \"\"}}, \"type\": \"parcoords\"}], \"pie\": [{\"automargin\": true, \"type\": \"pie\"}], \"scatter\": [{\"marker\": {\"colorbar\": {\"outlinewidth\": 0, \"ticks\": \"\"}}, \"type\": \"scatter\"}], \"scatter3d\": [{\"line\": {\"colorbar\": {\"outlinewidth\": 0, \"ticks\": \"\"}}, \"marker\": {\"colorbar\": {\"outlinewidth\": 0, \"ticks\": \"\"}}, \"type\": \"scatter3d\"}], \"scattercarpet\": [{\"marker\": {\"colorbar\": {\"outlinewidth\": 0, \"ticks\": \"\"}}, \"type\": \"scattercarpet\"}], \"scattergeo\": [{\"marker\": {\"colorbar\": {\"outlinewidth\": 0, \"ticks\": \"\"}}, \"type\": \"scattergeo\"}], \"scattergl\": [{\"marker\": {\"colorbar\": {\"outlinewidth\": 0, \"ticks\": \"\"}}, \"type\": \"scattergl\"}], \"scattermapbox\": [{\"marker\": {\"colorbar\": {\"outlinewidth\": 0, \"ticks\": \"\"}}, \"type\": \"scattermapbox\"}], \"scatterpolar\": [{\"marker\": {\"colorbar\": {\"outlinewidth\": 0, \"ticks\": \"\"}}, \"type\": \"scatterpolar\"}], \"scatterpolargl\": [{\"marker\": {\"colorbar\": {\"outlinewidth\": 0, \"ticks\": \"\"}}, \"type\": \"scatterpolargl\"}], \"scatterternary\": [{\"marker\": {\"colorbar\": {\"outlinewidth\": 0, \"ticks\": \"\"}}, \"type\": \"scatterternary\"}], \"surface\": [{\"colorbar\": {\"outlinewidth\": 0, \"ticks\": \"\"}, \"colorscale\": [[0.0, \"#0d0887\"], [0.1111111111111111, \"#46039f\"], [0.2222222222222222, \"#7201a8\"], [0.3333333333333333, \"#9c179e\"], [0.4444444444444444, \"#bd3786\"], [0.5555555555555556, \"#d8576b\"], [0.6666666666666666, \"#ed7953\"], [0.7777777777777778, \"#fb9f3a\"], [0.8888888888888888, \"#fdca26\"], [1.0, \"#f0f921\"]], \"type\": \"surface\"}], \"table\": [{\"cells\": {\"fill\": {\"color\": \"#EBF0F8\"}, \"line\": {\"color\": \"white\"}}, \"header\": {\"fill\": {\"color\": \"#C8D4E3\"}, \"line\": {\"color\": \"white\"}}, \"type\": \"table\"}]}, \"layout\": {\"annotationdefaults\": {\"arrowcolor\": \"#2a3f5f\", \"arrowhead\": 0, \"arrowwidth\": 1}, \"coloraxis\": {\"colorbar\": {\"outlinewidth\": 0, \"ticks\": \"\"}}, \"colorscale\": {\"diverging\": [[0, \"#8e0152\"], [0.1, \"#c51b7d\"], [0.2, \"#de77ae\"], [0.3, \"#f1b6da\"], [0.4, \"#fde0ef\"], [0.5, \"#f7f7f7\"], [0.6, \"#e6f5d0\"], [0.7, \"#b8e186\"], [0.8, \"#7fbc41\"], [0.9, \"#4d9221\"], [1, \"#276419\"]], \"sequential\": [[0.0, \"#0d0887\"], [0.1111111111111111, \"#46039f\"], [0.2222222222222222, \"#7201a8\"], [0.3333333333333333, \"#9c179e\"], [0.4444444444444444, \"#bd3786\"], [0.5555555555555556, \"#d8576b\"], [0.6666666666666666, \"#ed7953\"], [0.7777777777777778, \"#fb9f3a\"], [0.8888888888888888, \"#fdca26\"], [1.0, \"#f0f921\"]], \"sequentialminus\": [[0.0, \"#0d0887\"], [0.1111111111111111, \"#46039f\"], [0.2222222222222222, \"#7201a8\"], [0.3333333333333333, \"#9c179e\"], [0.4444444444444444, \"#bd3786\"], [0.5555555555555556, \"#d8576b\"], [0.6666666666666666, \"#ed7953\"], [0.7777777777777778, \"#fb9f3a\"], [0.8888888888888888, \"#fdca26\"], [1.0, \"#f0f921\"]]}, \"colorway\": [\"#636efa\", \"#EF553B\", \"#00cc96\", \"#ab63fa\", \"#FFA15A\", \"#19d3f3\", \"#FF6692\", \"#B6E880\", \"#FF97FF\", \"#FECB52\"], \"font\": {\"color\": \"#2a3f5f\"}, \"geo\": {\"bgcolor\": \"white\", \"lakecolor\": \"white\", \"landcolor\": \"#E5ECF6\", \"showlakes\": true, \"showland\": true, \"subunitcolor\": \"white\"}, \"hoverlabel\": {\"align\": \"left\"}, \"hovermode\": \"closest\", \"mapbox\": {\"style\": \"light\"}, \"paper_bgcolor\": \"white\", \"plot_bgcolor\": \"#E5ECF6\", \"polar\": {\"angularaxis\": {\"gridcolor\": \"white\", \"linecolor\": \"white\", \"ticks\": \"\"}, \"bgcolor\": \"#E5ECF6\", \"radialaxis\": {\"gridcolor\": \"white\", \"linecolor\": \"white\", \"ticks\": \"\"}}, \"scene\": {\"xaxis\": {\"backgroundcolor\": \"#E5ECF6\", \"gridcolor\": \"white\", \"gridwidth\": 2, \"linecolor\": \"white\", \"showbackground\": true, \"ticks\": \"\", \"zerolinecolor\": \"white\"}, \"yaxis\": {\"backgroundcolor\": \"#E5ECF6\", \"gridcolor\": \"white\", \"gridwidth\": 2, \"linecolor\": \"white\", \"showbackground\": true, \"ticks\": \"\", \"zerolinecolor\": \"white\"}, \"zaxis\": {\"backgroundcolor\": \"#E5ECF6\", \"gridcolor\": \"white\", \"gridwidth\": 2, \"linecolor\": \"white\", \"showbackground\": true, \"ticks\": \"\", \"zerolinecolor\": \"white\"}}, \"shapedefaults\": {\"line\": {\"color\": \"#2a3f5f\"}}, \"ternary\": {\"aaxis\": {\"gridcolor\": \"white\", \"linecolor\": \"white\", \"ticks\": \"\"}, \"baxis\": {\"gridcolor\": \"white\", \"linecolor\": \"white\", \"ticks\": \"\"}, \"bgcolor\": \"#E5ECF6\", \"caxis\": {\"gridcolor\": \"white\", \"linecolor\": \"white\", \"ticks\": \"\"}}, \"title\": {\"x\": 0.05}, \"xaxis\": {\"automargin\": true, \"gridcolor\": \"white\", \"linecolor\": \"white\", \"ticks\": \"\", \"title\": {\"standoff\": 15}, \"zerolinecolor\": \"white\", \"zerolinewidth\": 2}, \"yaxis\": {\"automargin\": true, \"gridcolor\": \"white\", \"linecolor\": \"white\", \"ticks\": \"\", \"title\": {\"standoff\": 15}, \"zerolinecolor\": \"white\", \"zerolinewidth\": 2}}}, \"title\": {\"text\": \"Quantidade de votos por filmes por genero\", \"x\": 0.5, \"xanchor\": \"center\", \"yanchor\": \"top\"}, \"xaxis\": {\"title\": {\"text\": \"Generos\"}}, \"yaxis\": {\"title\": {\"text\": \"Filmes por genero\"}}},\n",
              "                        {\"responsive\": true}\n",
              "                    ).then(function(){\n",
              "                            \n",
              "var gd = document.getElementById('807e00c9-5bf0-44f7-9d9a-2a67f9cd200f');\n",
              "var x = new MutationObserver(function (mutations, observer) {{\n",
              "        var display = window.getComputedStyle(gd).display;\n",
              "        if (!display || display === 'none') {{\n",
              "            console.log([gd, 'removed!']);\n",
              "            Plotly.purge(gd);\n",
              "            observer.disconnect();\n",
              "        }}\n",
              "}});\n",
              "\n",
              "// Listen for the removal of the full notebook cells\n",
              "var notebookContainer = gd.closest('#notebook-container');\n",
              "if (notebookContainer) {{\n",
              "    x.observe(notebookContainer, {childList: true});\n",
              "}}\n",
              "\n",
              "// Listen for the clearing of the current output cell\n",
              "var outputEl = gd.closest('.output');\n",
              "if (outputEl) {{\n",
              "    x.observe(outputEl, {childList: true});\n",
              "}}\n",
              "\n",
              "                        })\n",
              "                };\n",
              "                \n",
              "            </script>\n",
              "        </div>\n",
              "</body>\n",
              "</html>"
            ]
          },
          "metadata": {
            "tags": []
          }
        }
      ]
    },
    {
      "cell_type": "markdown",
      "metadata": {
        "id": "VKFExpBmW6hB",
        "colab_type": "text"
      },
      "source": [
        "## Pergunta: Olhando as 3 últimas visualizações o que você conclui sobre os generos `Action` e `War`?"
      ]
    },
    {
      "cell_type": "markdown",
      "metadata": {
        "id": "HBJtFmcnW6hB",
        "colab_type": "text"
      },
      "source": [
        "### Solução (texto livre):\n",
        "    \n",
        "O genero action possui muitos filmes em nossos dados, um total de 164 filmes e 15mil avaliações, o maior genero avaliado em nossos dados mas se fomos levar em consideração a quantidade de filmes pela quantidade de votos esse genero tem um total de 96 votos por filmes\n",
        "\n",
        "war\n",
        "O genero war possui apenas 19 filmes em nossos dados e 2113 votos na categoria, isso significa que as pessoas que assistem esse tipo de filme normalmente fazem suas avaliações\n",
        "se nos dividirmos os 19 filmes pelos 2113 votos, teriamos 111 votos por filmes, é a maior quantidade de votos por filmes em nossos dados\n",
        "    "
      ]
    },
    {
      "cell_type": "markdown",
      "metadata": {
        "id": "cAlyDYz1W6hC",
        "colab_type": "text"
      },
      "source": [
        "## Pergunta: Crie 2 boxplots no mesmo plot comparando a coluna `total_de_votos` dos filmes de categoria `Horror` e `Adventure`  \n",
        "\n",
        "Dica:\n",
        "\n",
        "- as vezes é mais fácil usar o boxplot do matplotlib ao invés do seaborn\n",
        "- plt.boxplot suporta o parâmetro labels com uma lista de nomes para cada boxplot plotado"
      ]
    },
    {
      "cell_type": "code",
      "metadata": {
        "id": "w8kLHnCRW6hC",
        "colab_type": "code",
        "colab": {
          "base_uri": "https://localhost:8080/",
          "height": 542
        },
        "outputId": "53368d40-45b0-4412-8e1b-40c35495e6e5"
      },
      "source": [
        "# solução:\n",
        "horror = filmes['total_de_votos'][filmes['Horror'] == 1]\n",
        "adventure = filmes['total_de_votos'][filmes['Adventure'] == 1]\n",
        "\n",
        "fig = go.Figure()\n",
        "fig.add_trace(go.Box(y=horror, name='Horror'))\n",
        "fig.add_trace(go.Box(y=adventure, name='Adventure'))\n",
        "\n",
        "nomear_grafico(fig, 'boxplot dos generos horror e aventura', 'Generos', 'Votos')\n",
        "fig.show()"
      ],
      "execution_count": 118,
      "outputs": [
        {
          "output_type": "display_data",
          "data": {
            "text/html": [
              "<html>\n",
              "<head><meta charset=\"utf-8\" /></head>\n",
              "<body>\n",
              "    <div>\n",
              "            <script src=\"https://cdnjs.cloudflare.com/ajax/libs/mathjax/2.7.5/MathJax.js?config=TeX-AMS-MML_SVG\"></script><script type=\"text/javascript\">if (window.MathJax) {MathJax.Hub.Config({SVG: {font: \"STIX-Web\"}});}</script>\n",
              "                <script type=\"text/javascript\">window.PlotlyConfig = {MathJaxConfig: 'local'};</script>\n",
              "        <script src=\"https://cdn.plot.ly/plotly-latest.min.js\"></script>    \n",
              "            <div id=\"4a2737bc-3290-455c-81c2-7d688ee52cb5\" class=\"plotly-graph-div\" style=\"height:525px; width:100%;\"></div>\n",
              "            <script type=\"text/javascript\">\n",
              "                \n",
              "                    window.PLOTLYENV=window.PLOTLYENV || {};\n",
              "                    \n",
              "                if (document.getElementById(\"4a2737bc-3290-455c-81c2-7d688ee52cb5\")) {\n",
              "                    Plotly.newPlot(\n",
              "                        '4a2737bc-3290-455c-81c2-7d688ee52cb5',\n",
              "                        [{\"name\": \"Horror\", \"type\": \"box\", \"y\": [55.0, 109.0, 279.0, 126.0, 146.0, 51.0, 83.0, 109.0, 91.0, 70.0, 53.0, 58.0, 87.0, 63.0, 53.0, 64.0, 179.0, 62.0, 59.0, 50.0, 55.0, 63.0, 58.0, 77.0, 62.0, 53.0]}, {\"name\": \"Adventure\", \"type\": \"box\", \"y\": [215.0, 110.0, 132.0, 84.0, 201.0, 137.0, 62.0, 57.0, 115.0, 133.0, 251.0, 140.0, 108.0, 172.0, 74.0, 178.0, 55.0, 101.0, 81.0, 238.0, 53.0, 61.0, 183.0, 164.0, 162.0, 65.0, 53.0, 121.0, 123.0, 202.0, 57.0, 92.0, 109.0, 62.0, 136.0, 211.0, 142.0, 200.0, 126.0, 72.0, 196.0, 51.0, 91.0, 171.0, 140.0, 91.0, 68.0, 62.0, 100.0, 116.0, 67.0, 59.0, 90.0, 57.0, 87.0, 88.0, 68.0, 50.0, 108.0, 92.0, 54.0, 57.0, 87.0, 140.0, 61.0, 121.0, 88.0, 53.0, 97.0, 79.0, 97.0, 75.0, 60.0, 53.0, 170.0, 77.0, 133.0, 94.0, 170.0, 56.0, 132.0, 107.0, 198.0, 85.0, 122.0, 92.0, 87.0, 102.0, 188.0, 75.0, 76.0, 96.0, 141.0, 149.0, 79.0, 62.0, 185.0, 92.0, 50.0, 93.0, 79.0, 61.0, 125.0, 61.0, 78.0, 59.0, 50.0, 50.0, 71.0, 62.0, 72.0, 77.0, 64.0, 81.0, 53.0, 56.0, 58.0, 94.0, 104.0, 59.0, 105.0, 58.0, 97.0, 53.0, 55.0, 50.0, 69.0, 54.0, 76.0, 50.0, 59.0, 54.0]}],\n",
              "                        {\"template\": {\"data\": {\"bar\": [{\"error_x\": {\"color\": \"#2a3f5f\"}, \"error_y\": {\"color\": \"#2a3f5f\"}, \"marker\": {\"line\": {\"color\": \"#E5ECF6\", \"width\": 0.5}}, \"type\": \"bar\"}], \"barpolar\": [{\"marker\": {\"line\": {\"color\": \"#E5ECF6\", \"width\": 0.5}}, \"type\": \"barpolar\"}], \"carpet\": [{\"aaxis\": {\"endlinecolor\": \"#2a3f5f\", \"gridcolor\": \"white\", \"linecolor\": \"white\", \"minorgridcolor\": \"white\", \"startlinecolor\": \"#2a3f5f\"}, \"baxis\": {\"endlinecolor\": \"#2a3f5f\", \"gridcolor\": \"white\", \"linecolor\": \"white\", \"minorgridcolor\": \"white\", \"startlinecolor\": \"#2a3f5f\"}, \"type\": \"carpet\"}], \"choropleth\": [{\"colorbar\": {\"outlinewidth\": 0, \"ticks\": \"\"}, \"type\": \"choropleth\"}], \"contour\": [{\"colorbar\": {\"outlinewidth\": 0, \"ticks\": \"\"}, \"colorscale\": [[0.0, \"#0d0887\"], [0.1111111111111111, \"#46039f\"], [0.2222222222222222, \"#7201a8\"], [0.3333333333333333, \"#9c179e\"], [0.4444444444444444, \"#bd3786\"], [0.5555555555555556, \"#d8576b\"], [0.6666666666666666, \"#ed7953\"], [0.7777777777777778, \"#fb9f3a\"], [0.8888888888888888, \"#fdca26\"], [1.0, \"#f0f921\"]], \"type\": \"contour\"}], \"contourcarpet\": [{\"colorbar\": {\"outlinewidth\": 0, \"ticks\": \"\"}, \"type\": \"contourcarpet\"}], \"heatmap\": [{\"colorbar\": {\"outlinewidth\": 0, \"ticks\": \"\"}, \"colorscale\": [[0.0, \"#0d0887\"], [0.1111111111111111, \"#46039f\"], [0.2222222222222222, \"#7201a8\"], [0.3333333333333333, \"#9c179e\"], [0.4444444444444444, \"#bd3786\"], [0.5555555555555556, \"#d8576b\"], [0.6666666666666666, \"#ed7953\"], [0.7777777777777778, \"#fb9f3a\"], [0.8888888888888888, \"#fdca26\"], [1.0, \"#f0f921\"]], \"type\": \"heatmap\"}], \"heatmapgl\": [{\"colorbar\": {\"outlinewidth\": 0, \"ticks\": \"\"}, \"colorscale\": [[0.0, \"#0d0887\"], [0.1111111111111111, \"#46039f\"], [0.2222222222222222, \"#7201a8\"], [0.3333333333333333, \"#9c179e\"], [0.4444444444444444, \"#bd3786\"], [0.5555555555555556, \"#d8576b\"], [0.6666666666666666, \"#ed7953\"], [0.7777777777777778, \"#fb9f3a\"], [0.8888888888888888, \"#fdca26\"], [1.0, \"#f0f921\"]], \"type\": \"heatmapgl\"}], \"histogram\": [{\"marker\": {\"colorbar\": {\"outlinewidth\": 0, \"ticks\": \"\"}}, \"type\": \"histogram\"}], \"histogram2d\": [{\"colorbar\": {\"outlinewidth\": 0, \"ticks\": \"\"}, \"colorscale\": [[0.0, \"#0d0887\"], [0.1111111111111111, \"#46039f\"], [0.2222222222222222, \"#7201a8\"], [0.3333333333333333, \"#9c179e\"], [0.4444444444444444, \"#bd3786\"], [0.5555555555555556, \"#d8576b\"], [0.6666666666666666, \"#ed7953\"], [0.7777777777777778, \"#fb9f3a\"], [0.8888888888888888, \"#fdca26\"], [1.0, \"#f0f921\"]], \"type\": \"histogram2d\"}], \"histogram2dcontour\": [{\"colorbar\": {\"outlinewidth\": 0, \"ticks\": \"\"}, \"colorscale\": [[0.0, \"#0d0887\"], [0.1111111111111111, \"#46039f\"], [0.2222222222222222, \"#7201a8\"], [0.3333333333333333, \"#9c179e\"], [0.4444444444444444, \"#bd3786\"], [0.5555555555555556, \"#d8576b\"], [0.6666666666666666, \"#ed7953\"], [0.7777777777777778, \"#fb9f3a\"], [0.8888888888888888, \"#fdca26\"], [1.0, \"#f0f921\"]], \"type\": \"histogram2dcontour\"}], \"mesh3d\": [{\"colorbar\": {\"outlinewidth\": 0, \"ticks\": \"\"}, \"type\": \"mesh3d\"}], \"parcoords\": [{\"line\": {\"colorbar\": {\"outlinewidth\": 0, \"ticks\": \"\"}}, \"type\": \"parcoords\"}], \"pie\": [{\"automargin\": true, \"type\": \"pie\"}], \"scatter\": [{\"marker\": {\"colorbar\": {\"outlinewidth\": 0, \"ticks\": \"\"}}, \"type\": \"scatter\"}], \"scatter3d\": [{\"line\": {\"colorbar\": {\"outlinewidth\": 0, \"ticks\": \"\"}}, \"marker\": {\"colorbar\": {\"outlinewidth\": 0, \"ticks\": \"\"}}, \"type\": \"scatter3d\"}], \"scattercarpet\": [{\"marker\": {\"colorbar\": {\"outlinewidth\": 0, \"ticks\": \"\"}}, \"type\": \"scattercarpet\"}], \"scattergeo\": [{\"marker\": {\"colorbar\": {\"outlinewidth\": 0, \"ticks\": \"\"}}, \"type\": \"scattergeo\"}], \"scattergl\": [{\"marker\": {\"colorbar\": {\"outlinewidth\": 0, \"ticks\": \"\"}}, \"type\": \"scattergl\"}], \"scattermapbox\": [{\"marker\": {\"colorbar\": {\"outlinewidth\": 0, \"ticks\": \"\"}}, \"type\": \"scattermapbox\"}], \"scatterpolar\": [{\"marker\": {\"colorbar\": {\"outlinewidth\": 0, \"ticks\": \"\"}}, \"type\": \"scatterpolar\"}], \"scatterpolargl\": [{\"marker\": {\"colorbar\": {\"outlinewidth\": 0, \"ticks\": \"\"}}, \"type\": \"scatterpolargl\"}], \"scatterternary\": [{\"marker\": {\"colorbar\": {\"outlinewidth\": 0, \"ticks\": \"\"}}, \"type\": \"scatterternary\"}], \"surface\": [{\"colorbar\": {\"outlinewidth\": 0, \"ticks\": \"\"}, \"colorscale\": [[0.0, \"#0d0887\"], [0.1111111111111111, \"#46039f\"], [0.2222222222222222, \"#7201a8\"], [0.3333333333333333, \"#9c179e\"], [0.4444444444444444, \"#bd3786\"], [0.5555555555555556, \"#d8576b\"], [0.6666666666666666, \"#ed7953\"], [0.7777777777777778, \"#fb9f3a\"], [0.8888888888888888, \"#fdca26\"], [1.0, \"#f0f921\"]], \"type\": \"surface\"}], \"table\": [{\"cells\": {\"fill\": {\"color\": \"#EBF0F8\"}, \"line\": {\"color\": \"white\"}}, \"header\": {\"fill\": {\"color\": \"#C8D4E3\"}, \"line\": {\"color\": \"white\"}}, \"type\": \"table\"}]}, \"layout\": {\"annotationdefaults\": {\"arrowcolor\": \"#2a3f5f\", \"arrowhead\": 0, \"arrowwidth\": 1}, \"coloraxis\": {\"colorbar\": {\"outlinewidth\": 0, \"ticks\": \"\"}}, \"colorscale\": {\"diverging\": [[0, \"#8e0152\"], [0.1, \"#c51b7d\"], [0.2, \"#de77ae\"], [0.3, \"#f1b6da\"], [0.4, \"#fde0ef\"], [0.5, \"#f7f7f7\"], [0.6, \"#e6f5d0\"], [0.7, \"#b8e186\"], [0.8, \"#7fbc41\"], [0.9, \"#4d9221\"], [1, \"#276419\"]], \"sequential\": [[0.0, \"#0d0887\"], [0.1111111111111111, \"#46039f\"], [0.2222222222222222, \"#7201a8\"], [0.3333333333333333, \"#9c179e\"], [0.4444444444444444, \"#bd3786\"], [0.5555555555555556, \"#d8576b\"], [0.6666666666666666, \"#ed7953\"], [0.7777777777777778, \"#fb9f3a\"], [0.8888888888888888, \"#fdca26\"], [1.0, \"#f0f921\"]], \"sequentialminus\": [[0.0, \"#0d0887\"], [0.1111111111111111, \"#46039f\"], [0.2222222222222222, \"#7201a8\"], [0.3333333333333333, \"#9c179e\"], [0.4444444444444444, \"#bd3786\"], [0.5555555555555556, \"#d8576b\"], [0.6666666666666666, \"#ed7953\"], [0.7777777777777778, \"#fb9f3a\"], [0.8888888888888888, \"#fdca26\"], [1.0, \"#f0f921\"]]}, \"colorway\": [\"#636efa\", \"#EF553B\", \"#00cc96\", \"#ab63fa\", \"#FFA15A\", \"#19d3f3\", \"#FF6692\", \"#B6E880\", \"#FF97FF\", \"#FECB52\"], \"font\": {\"color\": \"#2a3f5f\"}, \"geo\": {\"bgcolor\": \"white\", \"lakecolor\": \"white\", \"landcolor\": \"#E5ECF6\", \"showlakes\": true, \"showland\": true, \"subunitcolor\": \"white\"}, \"hoverlabel\": {\"align\": \"left\"}, \"hovermode\": \"closest\", \"mapbox\": {\"style\": \"light\"}, \"paper_bgcolor\": \"white\", \"plot_bgcolor\": \"#E5ECF6\", \"polar\": {\"angularaxis\": {\"gridcolor\": \"white\", \"linecolor\": \"white\", \"ticks\": \"\"}, \"bgcolor\": \"#E5ECF6\", \"radialaxis\": {\"gridcolor\": \"white\", \"linecolor\": \"white\", \"ticks\": \"\"}}, \"scene\": {\"xaxis\": {\"backgroundcolor\": \"#E5ECF6\", \"gridcolor\": \"white\", \"gridwidth\": 2, \"linecolor\": \"white\", \"showbackground\": true, \"ticks\": \"\", \"zerolinecolor\": \"white\"}, \"yaxis\": {\"backgroundcolor\": \"#E5ECF6\", \"gridcolor\": \"white\", \"gridwidth\": 2, \"linecolor\": \"white\", \"showbackground\": true, \"ticks\": \"\", \"zerolinecolor\": \"white\"}, \"zaxis\": {\"backgroundcolor\": \"#E5ECF6\", \"gridcolor\": \"white\", \"gridwidth\": 2, \"linecolor\": \"white\", \"showbackground\": true, \"ticks\": \"\", \"zerolinecolor\": \"white\"}}, \"shapedefaults\": {\"line\": {\"color\": \"#2a3f5f\"}}, \"ternary\": {\"aaxis\": {\"gridcolor\": \"white\", \"linecolor\": \"white\", \"ticks\": \"\"}, \"baxis\": {\"gridcolor\": \"white\", \"linecolor\": \"white\", \"ticks\": \"\"}, \"bgcolor\": \"#E5ECF6\", \"caxis\": {\"gridcolor\": \"white\", \"linecolor\": \"white\", \"ticks\": \"\"}}, \"title\": {\"x\": 0.05}, \"xaxis\": {\"automargin\": true, \"gridcolor\": \"white\", \"linecolor\": \"white\", \"ticks\": \"\", \"title\": {\"standoff\": 15}, \"zerolinecolor\": \"white\", \"zerolinewidth\": 2}, \"yaxis\": {\"automargin\": true, \"gridcolor\": \"white\", \"linecolor\": \"white\", \"ticks\": \"\", \"title\": {\"standoff\": 15}, \"zerolinecolor\": \"white\", \"zerolinewidth\": 2}}}, \"title\": {\"text\": \"boxplot dos generos horror e aventura\", \"x\": 0.5, \"xanchor\": \"center\", \"yanchor\": \"top\"}, \"xaxis\": {\"title\": {\"text\": \"Generos\"}}, \"yaxis\": {\"title\": {\"text\": \"Votos\"}}},\n",
              "                        {\"responsive\": true}\n",
              "                    ).then(function(){\n",
              "                            \n",
              "var gd = document.getElementById('4a2737bc-3290-455c-81c2-7d688ee52cb5');\n",
              "var x = new MutationObserver(function (mutations, observer) {{\n",
              "        var display = window.getComputedStyle(gd).display;\n",
              "        if (!display || display === 'none') {{\n",
              "            console.log([gd, 'removed!']);\n",
              "            Plotly.purge(gd);\n",
              "            observer.disconnect();\n",
              "        }}\n",
              "}});\n",
              "\n",
              "// Listen for the removal of the full notebook cells\n",
              "var notebookContainer = gd.closest('#notebook-container');\n",
              "if (notebookContainer) {{\n",
              "    x.observe(notebookContainer, {childList: true});\n",
              "}}\n",
              "\n",
              "// Listen for the clearing of the current output cell\n",
              "var outputEl = gd.closest('.output');\n",
              "if (outputEl) {{\n",
              "    x.observe(outputEl, {childList: true});\n",
              "}}\n",
              "\n",
              "                        })\n",
              "                };\n",
              "                \n",
              "            </script>\n",
              "        </div>\n",
              "</body>\n",
              "</html>"
            ]
          },
          "metadata": {
            "tags": []
          }
        }
      ]
    },
    {
      "cell_type": "markdown",
      "metadata": {
        "id": "QNRdbaGnW6hE",
        "colab_type": "text"
      },
      "source": [
        "## Pergunta: mostre agora um boxplot para cada uma das categorias\n",
        "\n",
        "Dica:\n",
        "- use generos.columns para acessar todos os gêneros\n",
        "- já removemos os hífens dos nomes das colunas quando criamos as colunas de gêneros\n",
        "- plt (pyplot) do matplotlib suporta a função xticks(rotation=90) para rotacionar os labels"
      ]
    },
    {
      "cell_type": "code",
      "metadata": {
        "id": "8nb5hk4ZW6hE",
        "colab_type": "code",
        "colab": {
          "base_uri": "https://localhost:8080/",
          "height": 542
        },
        "outputId": "f0a33ba7-de73-483f-c146-8a691cb4a654"
      },
      "source": [
        "fig = go.Figure()\n",
        "for genero in generos.columns:\n",
        "  df_genero = filmes['total_de_votos'][filmes[genero] == 1]\n",
        "  fig.add_trace(go.Box(x=df_genero, name=genero))\n",
        "  \n",
        "nomear_grafico(fig,'boxplot de todos os generos', 'Total de votos', 'Generos')\n",
        "\n",
        "fig.show()\n"
      ],
      "execution_count": 119,
      "outputs": [
        {
          "output_type": "display_data",
          "data": {
            "text/html": [
              "<html>\n",
              "<head><meta charset=\"utf-8\" /></head>\n",
              "<body>\n",
              "    <div>\n",
              "            <script src=\"https://cdnjs.cloudflare.com/ajax/libs/mathjax/2.7.5/MathJax.js?config=TeX-AMS-MML_SVG\"></script><script type=\"text/javascript\">if (window.MathJax) {MathJax.Hub.Config({SVG: {font: \"STIX-Web\"}});}</script>\n",
              "                <script type=\"text/javascript\">window.PlotlyConfig = {MathJaxConfig: 'local'};</script>\n",
              "        <script src=\"https://cdn.plot.ly/plotly-latest.min.js\"></script>    \n",
              "            <div id=\"112f63e8-dfcf-4a17-bed9-44e7fed05c99\" class=\"plotly-graph-div\" style=\"height:525px; width:100%;\"></div>\n",
              "            <script type=\"text/javascript\">\n",
              "                \n",
              "                    window.PLOTLYENV=window.PLOTLYENV || {};\n",
              "                    \n",
              "                if (document.getElementById(\"112f63e8-dfcf-4a17-bed9-44e7fed05c99\")) {\n",
              "                    Plotly.newPlot(\n",
              "                        '112f63e8-dfcf-4a17-bed9-44e7fed05c99',\n",
              "                        [{\"name\": \"Action\", \"type\": \"box\", \"x\": [102.0, 132.0, 55.0, 84.0, 237.0, 51.0, 137.0, 57.0, 66.0, 144.0, 54.0, 53.0, 62.0, 112.0, 115.0, 251.0, 92.0, 101.0, 133.0, 140.0, 110.0, 64.0, 157.0, 58.0, 171.0, 178.0, 59.0, 101.0, 81.0, 60.0, 70.0, 238.0, 53.0, 124.0, 61.0, 65.0, 224.0, 189.0, 162.0, 65.0, 121.0, 123.0, 202.0, 64.0, 57.0, 145.0, 83.0, 62.0, 211.0, 142.0, 200.0, 126.0, 72.0, 107.0, 196.0, 51.0, 84.0, 131.0, 140.0, 62.0, 91.0, 68.0, 62.0, 60.0, 91.0, 86.0, 100.0, 116.0, 67.0, 59.0, 77.0, 165.0, 58.0, 90.0, 80.0, 92.0, 75.0, 57.0, 60.0, 188.0, 50.0, 108.0, 58.0, 65.0, 67.0, 54.0, 56.0, 278.0, 87.0, 140.0, 61.0, 121.0, 75.0, 53.0, 120.0, 88.0, 53.0, 218.0, 70.0, 61.0, 170.0, 77.0, 61.0, 68.0, 133.0, 72.0, 110.0, 67.0, 50.0, 122.0, 92.0, 112.0, 120.0, 61.0, 75.0, 76.0, 96.0, 59.0, 58.0, 149.0, 131.0, 79.0, 62.0, 185.0, 110.0, 50.0, 79.0, 61.0, 75.0, 125.0, 84.0, 78.0, 59.0, 116.0, 50.0, 50.0, 100.0, 52.0, 72.0, 64.0, 81.0, 53.0, 61.0, 80.0, 56.0, 81.0, 62.0, 149.0, 94.0, 54.0, 88.0, 59.0, 53.0, 97.0, 58.0, 143.0, 50.0, 69.0, 54.0, 76.0, 50.0, 71.0, 59.0, 54.0]}, {\"name\": \"Adventure\", \"type\": \"box\", \"x\": [215.0, 110.0, 132.0, 84.0, 201.0, 137.0, 62.0, 57.0, 115.0, 133.0, 251.0, 140.0, 108.0, 172.0, 74.0, 178.0, 55.0, 101.0, 81.0, 238.0, 53.0, 61.0, 183.0, 164.0, 162.0, 65.0, 53.0, 121.0, 123.0, 202.0, 57.0, 92.0, 109.0, 62.0, 136.0, 211.0, 142.0, 200.0, 126.0, 72.0, 196.0, 51.0, 91.0, 171.0, 140.0, 91.0, 68.0, 62.0, 100.0, 116.0, 67.0, 59.0, 90.0, 57.0, 87.0, 88.0, 68.0, 50.0, 108.0, 92.0, 54.0, 57.0, 87.0, 140.0, 61.0, 121.0, 88.0, 53.0, 97.0, 79.0, 97.0, 75.0, 60.0, 53.0, 170.0, 77.0, 133.0, 94.0, 170.0, 56.0, 132.0, 107.0, 198.0, 85.0, 122.0, 92.0, 87.0, 102.0, 188.0, 75.0, 76.0, 96.0, 141.0, 149.0, 79.0, 62.0, 185.0, 92.0, 50.0, 93.0, 79.0, 61.0, 125.0, 61.0, 78.0, 59.0, 50.0, 50.0, 71.0, 62.0, 72.0, 77.0, 64.0, 81.0, 53.0, 56.0, 58.0, 94.0, 104.0, 59.0, 105.0, 58.0, 97.0, 53.0, 55.0, 50.0, 69.0, 54.0, 76.0, 50.0, 59.0, 54.0]}, {\"name\": \"Animation\", \"type\": \"box\", \"x\": [215.0, 68.0, 172.0, 93.0, 183.0, 77.0, 146.0, 60.0, 53.0, 56.0, 53.0, 53.0, 55.0, 67.0, 92.0, 76.0, 97.0, 97.0, 78.0, 170.0, 132.0, 85.0, 87.0, 141.0, 92.0, 125.0, 72.0, 54.0, 104.0, 105.0, 53.0, 55.0]}, {\"name\": \"Children\", \"type\": \"box\", \"x\": [215.0, 110.0, 128.0, 68.0, 62.0, 172.0, 84.0, 93.0, 116.0, 183.0, 77.0, 146.0, 60.0, 53.0, 92.0, 58.0, 71.0, 119.0, 122.0, 56.0, 53.0, 56.0, 57.0, 68.0, 53.0, 55.0, 67.0, 92.0, 55.0, 97.0, 97.0, 78.0, 170.0, 132.0, 107.0, 85.0, 141.0, 92.0, 125.0, 61.0, 62.0, 72.0, 54.0, 104.0, 105.0, 53.0, 55.0]}, {\"name\": \"Comedy\", \"type\": \"box\", \"x\": [215.0, 52.0, 54.0, 70.0, 88.0, 89.0, 104.0, 55.0, 99.0, 86.0, 51.0, 137.0, 104.0, 133.0, 70.0, 307.0, 81.0, 50.0, 98.0, 161.0, 329.0, 103.0, 157.0, 74.0, 58.0, 178.0, 84.0, 59.0, 55.0, 63.0, 76.0, 60.0, 53.0, 144.0, 69.0, 106.0, 61.0, 116.0, 115.0, 183.0, 135.0, 181.0, 53.0, 58.0, 97.0, 102.0, 54.0, 82.0, 50.0, 71.0, 119.0, 71.0, 89.0, 136.0, 56.0, 142.0, 51.0, 84.0, 58.0, 64.0, 79.0, 143.0, 171.0, 69.0, 66.0, 85.0, 68.0, 86.0, 58.0, 70.0, 74.0, 59.0, 100.0, 116.0, 165.0, 52.0, 56.0, 125.0, 106.0, 56.0, 96.0, 105.0, 113.0, 75.0, 57.0, 60.0, 87.0, 88.0, 68.0, 53.0, 55.0, 67.0, 51.0, 91.0, 59.0, 61.0, 88.0, 92.0, 56.0, 92.0, 54.0, 50.0, 57.0, 94.0, 67.0, 54.0, 56.0, 87.0, 63.0, 56.0, 121.0, 53.0, 76.0, 53.0, 103.0, 120.0, 87.0, 91.0, 55.0, 109.0, 97.0, 99.0, 59.0, 79.0, 97.0, 75.0, 61.0, 62.0, 75.0, 53.0, 52.0, 62.0, 78.0, 50.0, 53.0, 91.0, 72.0, 93.0, 54.0, 64.0, 94.0, 65.0, 170.0, 64.0, 54.0, 132.0, 120.0, 68.0, 85.0, 60.0, 61.0, 65.0, 71.0, 141.0, 149.0, 74.0, 66.0, 59.0, 92.0, 50.0, 57.0, 77.0, 125.0, 61.0, 59.0, 58.0, 74.0, 77.0, 65.0, 61.0, 52.0, 56.0, 55.0, 65.0, 54.0, 76.0, 53.0, 55.0, 54.0, 52.0, 54.0]}, {\"name\": \"Crime\", \"type\": \"box\", \"x\": [102.0, 82.0, 89.0, 67.0, 204.0, 104.0, 51.0, 137.0, 144.0, 62.0, 112.0, 92.0, 133.0, 307.0, 317.0, 110.0, 64.0, 157.0, 59.0, 65.0, 189.0, 279.0, 181.0, 102.0, 192.0, 50.0, 145.0, 71.0, 131.0, 56.0, 120.0, 126.0, 83.0, 129.0, 64.0, 59.0, 60.0, 52.0, 59.0, 77.0, 97.0, 106.0, 75.0, 65.0, 57.0, 129.0, 94.0, 67.0, 75.0, 218.0, 70.0, 97.0, 111.0, 59.0, 61.0, 93.0, 64.0, 94.0, 70.0, 51.0, 67.0, 51.0, 51.0, 119.0, 120.0, 55.0, 115.0, 75.0, 59.0, 52.0, 131.0, 75.0, 84.0, 50.0, 116.0, 107.0, 53.0, 61.0, 81.0, 64.0, 149.0, 71.0, 76.0, 58.0, 143.0, 76.0, 54.0]}, {\"name\": \"Documentary\", \"type\": \"box\", \"x\": [58.0, 50.0]}, {\"name\": \"Drama\", \"type\": \"box\", \"x\": [70.0, 82.0, 67.0, 76.0, 128.0, 67.0, 68.0, 80.0, 237.0, 104.0, 51.0, 201.0, 103.0, 54.0, 52.0, 70.0, 109.0, 68.0, 101.0, 133.0, 307.0, 81.0, 81.0, 317.0, 108.0, 77.0, 110.0, 57.0, 329.0, 172.0, 101.0, 144.0, 66.0, 61.0, 220.0, 106.0, 65.0, 115.0, 164.0, 77.0, 181.0, 102.0, 64.0, 192.0, 60.0, 100.0, 69.0, 109.0, 58.0, 63.0, 122.0, 133.0, 57.0, 120.0, 58.0, 107.0, 126.0, 129.0, 102.0, 76.0, 86.0, 79.0, 91.0, 57.0, 56.0, 85.0, 52.0, 77.0, 82.0, 77.0, 52.0, 56.0, 51.0, 86.0, 125.0, 141.0, 140.0, 96.0, 64.0, 96.0, 113.0, 75.0, 188.0, 65.0, 57.0, 80.0, 61.0, 88.0, 129.0, 56.0, 92.0, 56.0, 64.0, 53.0, 179.0, 91.0, 204.0, 218.0, 70.0, 99.0, 111.0, 52.0, 70.0, 60.0, 75.0, 170.0, 68.0, 83.0, 96.0, 73.0, 110.0, 100.0, 70.0, 51.0, 65.0, 67.0, 55.0, 56.0, 55.0, 51.0, 51.0, 109.0, 68.0, 123.0, 50.0, 55.0, 115.0, 75.0, 71.0, 74.0, 52.0, 59.0, 62.0, 69.0, 185.0, 131.0, 110.0, 50.0, 50.0, 52.0, 50.0, 77.0, 81.0, 107.0, 64.0, 90.0, 53.0, 72.0, 52.0, 58.0, 64.0, 65.0, 149.0, 71.0, 88.0, 105.0, 67.0, 143.0, 57.0, 58.0, 50.0, 54.0, 71.0, 54.0, 52.0, 50.0]}, {\"name\": \"Fantasy\", \"type\": \"box\", \"x\": [215.0, 110.0, 81.0, 64.0, 157.0, 84.0, 53.0, 93.0, 115.0, 77.0, 146.0, 60.0, 65.0, 53.0, 82.0, 92.0, 58.0, 71.0, 119.0, 136.0, 142.0, 59.0, 51.0, 143.0, 69.0, 53.0, 56.0, 57.0, 68.0, 51.0, 108.0, 91.0, 80.0, 61.0, 87.0, 91.0, 97.0, 99.0, 79.0, 62.0, 97.0, 53.0, 170.0, 132.0, 107.0, 198.0, 87.0, 102.0, 188.0, 71.0, 149.0, 69.0, 185.0, 93.0, 61.0, 71.0, 62.0, 72.0, 81.0, 80.0, 56.0, 58.0, 58.0, 53.0, 55.0, 50.0]}, {\"name\": \"FilmNoir\", \"type\": \"box\", \"x\": [59.0, 97.0, 51.0, 84.0]}, {\"name\": \"Horror\", \"type\": \"box\", \"x\": [55.0, 109.0, 279.0, 126.0, 146.0, 51.0, 83.0, 109.0, 91.0, 70.0, 53.0, 58.0, 87.0, 63.0, 53.0, 64.0, 179.0, 62.0, 59.0, 50.0, 55.0, 63.0, 58.0, 77.0, 62.0, 53.0]}, {\"name\": \"IMAX\", \"type\": \"box\", \"x\": [201.0, 172.0, 146.0, 92.0, 96.0, 79.0, 93.0, 79.0, 61.0, 116.0, 71.0, 100.0, 80.0, 58.0, 62.0, 149.0, 54.0, 59.0, 58.0, 97.0, 53.0, 55.0, 143.0, 50.0, 69.0, 76.0, 50.0, 73.0]}, {\"name\": \"Musical\", \"type\": \"box\", \"x\": [68.0, 172.0, 93.0, 183.0, 77.0, 146.0, 60.0, 92.0, 71.0, 64.0, 119.0, 84.0, 53.0, 68.0, 53.0, 67.0, 63.0, 76.0, 55.0, 66.0, 92.0]}, {\"name\": \"Mystery\", \"type\": \"box\", \"x\": [177.0, 203.0, 204.0, 57.0, 57.0, 162.0, 60.0, 84.0, 57.0, 69.0, 131.0, 59.0, 70.0, 97.0, 77.0, 51.0, 53.0, 53.0, 179.0, 97.0, 62.0, 59.0, 159.0, 55.0, 51.0, 109.0, 112.0, 120.0, 52.0, 84.0, 90.0, 61.0, 58.0, 65.0, 58.0, 67.0, 143.0, 50.0]}, {\"name\": \"Romance\", \"type\": \"box\", \"x\": [52.0, 54.0, 70.0, 67.0, 76.0, 104.0, 68.0, 66.0, 54.0, 68.0, 98.0, 329.0, 103.0, 171.0, 178.0, 76.0, 61.0, 106.0, 61.0, 115.0, 146.0, 135.0, 58.0, 123.0, 82.0, 60.0, 57.0, 100.0, 58.0, 64.0, 83.0, 142.0, 58.0, 79.0, 143.0, 85.0, 68.0, 85.0, 59.0, 52.0, 141.0, 140.0, 56.0, 96.0, 92.0, 105.0, 60.0, 55.0, 67.0, 51.0, 80.0, 88.0, 92.0, 54.0, 50.0, 54.0, 56.0, 103.0, 91.0, 204.0, 62.0, 75.0, 110.0, 54.0, 65.0, 170.0, 55.0, 64.0, 120.0, 123.0, 60.0, 71.0, 74.0, 59.0, 69.0, 131.0, 92.0, 59.0, 58.0, 74.0, 52.0, 65.0, 104.0, 71.0, 58.0]}, {\"name\": \"SciFi\", \"type\": \"box\", \"x\": [177.0, 57.0, 53.0, 62.0, 115.0, 251.0, 101.0, 140.0, 108.0, 63.0, 81.0, 238.0, 124.0, 224.0, 53.0, 202.0, 82.0, 109.0, 122.0, 62.0, 211.0, 59.0, 126.0, 120.0, 196.0, 146.0, 131.0, 171.0, 91.0, 62.0, 86.0, 116.0, 67.0, 165.0, 82.0, 86.0, 80.0, 125.0, 92.0, 87.0, 88.0, 68.0, 50.0, 56.0, 278.0, 140.0, 61.0, 63.0, 53.0, 120.0, 88.0, 70.0, 59.0, 75.0, 60.0, 61.0, 133.0, 73.0, 56.0, 109.0, 122.0, 92.0, 120.0, 61.0, 63.0, 76.0, 96.0, 58.0, 79.0, 131.0, 50.0, 79.0, 61.0, 78.0, 50.0, 50.0, 100.0, 52.0, 64.0, 90.0, 62.0, 94.0, 104.0, 59.0, 65.0, 97.0, 143.0, 69.0, 54.0, 73.0, 59.0, 54.0]}, {\"name\": \"Thriller\", \"type\": \"box\", \"x\": [102.0, 132.0, 89.0, 177.0, 203.0, 204.0, 55.0, 84.0, 104.0, 51.0, 103.0, 144.0, 53.0, 112.0, 52.0, 92.0, 101.0, 133.0, 307.0, 110.0, 57.0, 64.0, 171.0, 178.0, 59.0, 101.0, 101.0, 190.0, 70.0, 238.0, 124.0, 65.0, 115.0, 189.0, 279.0, 181.0, 162.0, 121.0, 123.0, 202.0, 54.0, 64.0, 60.0, 84.0, 57.0, 145.0, 131.0, 62.0, 120.0, 131.0, 59.0, 91.0, 68.0, 62.0, 70.0, 67.0, 59.0, 77.0, 58.0, 90.0, 97.0, 77.0, 51.0, 86.0, 92.0, 58.0, 57.0, 67.0, 67.0, 278.0, 87.0, 64.0, 53.0, 88.0, 53.0, 218.0, 70.0, 61.0, 59.0, 77.0, 93.0, 70.0, 159.0, 55.0, 51.0, 51.0, 109.0, 119.0, 122.0, 112.0, 120.0, 63.0, 75.0, 76.0, 96.0, 131.0, 79.0, 110.0, 50.0, 61.0, 75.0, 84.0, 50.0, 71.0, 100.0, 52.0, 81.0, 107.0, 64.0, 90.0, 81.0, 53.0, 81.0, 62.0, 65.0, 58.0, 67.0, 143.0, 54.0, 50.0, 50.0]}, {\"name\": \"War\", \"type\": \"box\", \"x\": [237.0, 103.0, 68.0, 329.0, 60.0, 220.0, 97.0, 63.0, 107.0, 102.0, 188.0, 88.0, 68.0, 50.0, 62.0, 53.0, 80.0, 88.0, 50.0]}, {\"name\": \"Western\", \"type\": \"box\", \"x\": [66.0, 68.0, 74.0, 55.0, 65.0, 164.0, 72.0, 62.0, 88.0, 53.0, 62.0, 71.0]}],\n",
              "                        {\"template\": {\"data\": {\"bar\": [{\"error_x\": {\"color\": \"#2a3f5f\"}, \"error_y\": {\"color\": \"#2a3f5f\"}, \"marker\": {\"line\": {\"color\": \"#E5ECF6\", \"width\": 0.5}}, \"type\": \"bar\"}], \"barpolar\": [{\"marker\": {\"line\": {\"color\": \"#E5ECF6\", \"width\": 0.5}}, \"type\": \"barpolar\"}], \"carpet\": [{\"aaxis\": {\"endlinecolor\": \"#2a3f5f\", \"gridcolor\": \"white\", \"linecolor\": \"white\", \"minorgridcolor\": \"white\", \"startlinecolor\": \"#2a3f5f\"}, \"baxis\": {\"endlinecolor\": \"#2a3f5f\", \"gridcolor\": \"white\", \"linecolor\": \"white\", \"minorgridcolor\": \"white\", \"startlinecolor\": \"#2a3f5f\"}, \"type\": \"carpet\"}], \"choropleth\": [{\"colorbar\": {\"outlinewidth\": 0, \"ticks\": \"\"}, \"type\": \"choropleth\"}], \"contour\": [{\"colorbar\": {\"outlinewidth\": 0, \"ticks\": \"\"}, \"colorscale\": [[0.0, \"#0d0887\"], [0.1111111111111111, \"#46039f\"], [0.2222222222222222, \"#7201a8\"], [0.3333333333333333, \"#9c179e\"], [0.4444444444444444, \"#bd3786\"], [0.5555555555555556, \"#d8576b\"], [0.6666666666666666, \"#ed7953\"], [0.7777777777777778, \"#fb9f3a\"], [0.8888888888888888, \"#fdca26\"], [1.0, \"#f0f921\"]], \"type\": \"contour\"}], \"contourcarpet\": [{\"colorbar\": {\"outlinewidth\": 0, \"ticks\": \"\"}, \"type\": \"contourcarpet\"}], \"heatmap\": [{\"colorbar\": {\"outlinewidth\": 0, \"ticks\": \"\"}, \"colorscale\": [[0.0, \"#0d0887\"], [0.1111111111111111, \"#46039f\"], [0.2222222222222222, \"#7201a8\"], [0.3333333333333333, \"#9c179e\"], [0.4444444444444444, \"#bd3786\"], [0.5555555555555556, \"#d8576b\"], [0.6666666666666666, \"#ed7953\"], [0.7777777777777778, \"#fb9f3a\"], [0.8888888888888888, \"#fdca26\"], [1.0, \"#f0f921\"]], \"type\": \"heatmap\"}], \"heatmapgl\": [{\"colorbar\": {\"outlinewidth\": 0, \"ticks\": \"\"}, \"colorscale\": [[0.0, \"#0d0887\"], [0.1111111111111111, \"#46039f\"], [0.2222222222222222, \"#7201a8\"], [0.3333333333333333, \"#9c179e\"], [0.4444444444444444, \"#bd3786\"], [0.5555555555555556, \"#d8576b\"], [0.6666666666666666, \"#ed7953\"], [0.7777777777777778, \"#fb9f3a\"], [0.8888888888888888, \"#fdca26\"], [1.0, \"#f0f921\"]], \"type\": \"heatmapgl\"}], \"histogram\": [{\"marker\": {\"colorbar\": {\"outlinewidth\": 0, \"ticks\": \"\"}}, \"type\": \"histogram\"}], \"histogram2d\": [{\"colorbar\": {\"outlinewidth\": 0, \"ticks\": \"\"}, \"colorscale\": [[0.0, \"#0d0887\"], [0.1111111111111111, \"#46039f\"], [0.2222222222222222, \"#7201a8\"], [0.3333333333333333, \"#9c179e\"], [0.4444444444444444, \"#bd3786\"], [0.5555555555555556, \"#d8576b\"], [0.6666666666666666, \"#ed7953\"], [0.7777777777777778, \"#fb9f3a\"], [0.8888888888888888, \"#fdca26\"], [1.0, \"#f0f921\"]], \"type\": \"histogram2d\"}], \"histogram2dcontour\": [{\"colorbar\": {\"outlinewidth\": 0, \"ticks\": \"\"}, \"colorscale\": [[0.0, \"#0d0887\"], [0.1111111111111111, \"#46039f\"], [0.2222222222222222, \"#7201a8\"], [0.3333333333333333, \"#9c179e\"], [0.4444444444444444, \"#bd3786\"], [0.5555555555555556, \"#d8576b\"], [0.6666666666666666, \"#ed7953\"], [0.7777777777777778, \"#fb9f3a\"], [0.8888888888888888, \"#fdca26\"], [1.0, \"#f0f921\"]], \"type\": \"histogram2dcontour\"}], \"mesh3d\": [{\"colorbar\": {\"outlinewidth\": 0, \"ticks\": \"\"}, \"type\": \"mesh3d\"}], \"parcoords\": [{\"line\": {\"colorbar\": {\"outlinewidth\": 0, \"ticks\": \"\"}}, \"type\": \"parcoords\"}], \"pie\": [{\"automargin\": true, \"type\": \"pie\"}], \"scatter\": [{\"marker\": {\"colorbar\": {\"outlinewidth\": 0, \"ticks\": \"\"}}, \"type\": \"scatter\"}], \"scatter3d\": [{\"line\": {\"colorbar\": {\"outlinewidth\": 0, \"ticks\": \"\"}}, \"marker\": {\"colorbar\": {\"outlinewidth\": 0, \"ticks\": \"\"}}, \"type\": \"scatter3d\"}], \"scattercarpet\": [{\"marker\": {\"colorbar\": {\"outlinewidth\": 0, \"ticks\": \"\"}}, \"type\": \"scattercarpet\"}], \"scattergeo\": [{\"marker\": {\"colorbar\": {\"outlinewidth\": 0, \"ticks\": \"\"}}, \"type\": \"scattergeo\"}], \"scattergl\": [{\"marker\": {\"colorbar\": {\"outlinewidth\": 0, \"ticks\": \"\"}}, \"type\": \"scattergl\"}], \"scattermapbox\": [{\"marker\": {\"colorbar\": {\"outlinewidth\": 0, \"ticks\": \"\"}}, \"type\": \"scattermapbox\"}], \"scatterpolar\": [{\"marker\": {\"colorbar\": {\"outlinewidth\": 0, \"ticks\": \"\"}}, \"type\": \"scatterpolar\"}], \"scatterpolargl\": [{\"marker\": {\"colorbar\": {\"outlinewidth\": 0, \"ticks\": \"\"}}, \"type\": \"scatterpolargl\"}], \"scatterternary\": [{\"marker\": {\"colorbar\": {\"outlinewidth\": 0, \"ticks\": \"\"}}, \"type\": \"scatterternary\"}], \"surface\": [{\"colorbar\": {\"outlinewidth\": 0, \"ticks\": \"\"}, \"colorscale\": [[0.0, \"#0d0887\"], [0.1111111111111111, \"#46039f\"], [0.2222222222222222, \"#7201a8\"], [0.3333333333333333, \"#9c179e\"], [0.4444444444444444, \"#bd3786\"], [0.5555555555555556, \"#d8576b\"], [0.6666666666666666, \"#ed7953\"], [0.7777777777777778, \"#fb9f3a\"], [0.8888888888888888, \"#fdca26\"], [1.0, \"#f0f921\"]], \"type\": \"surface\"}], \"table\": [{\"cells\": {\"fill\": {\"color\": \"#EBF0F8\"}, \"line\": {\"color\": \"white\"}}, \"header\": {\"fill\": {\"color\": \"#C8D4E3\"}, \"line\": {\"color\": \"white\"}}, \"type\": \"table\"}]}, \"layout\": {\"annotationdefaults\": {\"arrowcolor\": \"#2a3f5f\", \"arrowhead\": 0, \"arrowwidth\": 1}, \"coloraxis\": {\"colorbar\": {\"outlinewidth\": 0, \"ticks\": \"\"}}, \"colorscale\": {\"diverging\": [[0, \"#8e0152\"], [0.1, \"#c51b7d\"], [0.2, \"#de77ae\"], [0.3, \"#f1b6da\"], [0.4, \"#fde0ef\"], [0.5, \"#f7f7f7\"], [0.6, \"#e6f5d0\"], [0.7, \"#b8e186\"], [0.8, \"#7fbc41\"], [0.9, \"#4d9221\"], [1, \"#276419\"]], \"sequential\": [[0.0, \"#0d0887\"], [0.1111111111111111, \"#46039f\"], [0.2222222222222222, \"#7201a8\"], [0.3333333333333333, \"#9c179e\"], [0.4444444444444444, \"#bd3786\"], [0.5555555555555556, \"#d8576b\"], [0.6666666666666666, \"#ed7953\"], [0.7777777777777778, \"#fb9f3a\"], [0.8888888888888888, \"#fdca26\"], [1.0, \"#f0f921\"]], \"sequentialminus\": [[0.0, \"#0d0887\"], [0.1111111111111111, \"#46039f\"], [0.2222222222222222, \"#7201a8\"], [0.3333333333333333, \"#9c179e\"], [0.4444444444444444, \"#bd3786\"], [0.5555555555555556, \"#d8576b\"], [0.6666666666666666, \"#ed7953\"], [0.7777777777777778, \"#fb9f3a\"], [0.8888888888888888, \"#fdca26\"], [1.0, \"#f0f921\"]]}, \"colorway\": [\"#636efa\", \"#EF553B\", \"#00cc96\", \"#ab63fa\", \"#FFA15A\", \"#19d3f3\", \"#FF6692\", \"#B6E880\", \"#FF97FF\", \"#FECB52\"], \"font\": {\"color\": \"#2a3f5f\"}, \"geo\": {\"bgcolor\": \"white\", \"lakecolor\": \"white\", \"landcolor\": \"#E5ECF6\", \"showlakes\": true, \"showland\": true, \"subunitcolor\": \"white\"}, \"hoverlabel\": {\"align\": \"left\"}, \"hovermode\": \"closest\", \"mapbox\": {\"style\": \"light\"}, \"paper_bgcolor\": \"white\", \"plot_bgcolor\": \"#E5ECF6\", \"polar\": {\"angularaxis\": {\"gridcolor\": \"white\", \"linecolor\": \"white\", \"ticks\": \"\"}, \"bgcolor\": \"#E5ECF6\", \"radialaxis\": {\"gridcolor\": \"white\", \"linecolor\": \"white\", \"ticks\": \"\"}}, \"scene\": {\"xaxis\": {\"backgroundcolor\": \"#E5ECF6\", \"gridcolor\": \"white\", \"gridwidth\": 2, \"linecolor\": \"white\", \"showbackground\": true, \"ticks\": \"\", \"zerolinecolor\": \"white\"}, \"yaxis\": {\"backgroundcolor\": \"#E5ECF6\", \"gridcolor\": \"white\", \"gridwidth\": 2, \"linecolor\": \"white\", \"showbackground\": true, \"ticks\": \"\", \"zerolinecolor\": \"white\"}, \"zaxis\": {\"backgroundcolor\": \"#E5ECF6\", \"gridcolor\": \"white\", \"gridwidth\": 2, \"linecolor\": \"white\", \"showbackground\": true, \"ticks\": \"\", \"zerolinecolor\": \"white\"}}, \"shapedefaults\": {\"line\": {\"color\": \"#2a3f5f\"}}, \"ternary\": {\"aaxis\": {\"gridcolor\": \"white\", \"linecolor\": \"white\", \"ticks\": \"\"}, \"baxis\": {\"gridcolor\": \"white\", \"linecolor\": \"white\", \"ticks\": \"\"}, \"bgcolor\": \"#E5ECF6\", \"caxis\": {\"gridcolor\": \"white\", \"linecolor\": \"white\", \"ticks\": \"\"}}, \"title\": {\"x\": 0.05}, \"xaxis\": {\"automargin\": true, \"gridcolor\": \"white\", \"linecolor\": \"white\", \"ticks\": \"\", \"title\": {\"standoff\": 15}, \"zerolinecolor\": \"white\", \"zerolinewidth\": 2}, \"yaxis\": {\"automargin\": true, \"gridcolor\": \"white\", \"linecolor\": \"white\", \"ticks\": \"\", \"title\": {\"standoff\": 15}, \"zerolinecolor\": \"white\", \"zerolinewidth\": 2}}}, \"title\": {\"text\": \"boxplot de todos os generos\", \"x\": 0.5, \"xanchor\": \"center\", \"yanchor\": \"top\"}, \"xaxis\": {\"title\": {\"text\": \"Total de votos\"}}, \"yaxis\": {\"title\": {\"text\": \"Generos\"}}},\n",
              "                        {\"responsive\": true}\n",
              "                    ).then(function(){\n",
              "                            \n",
              "var gd = document.getElementById('112f63e8-dfcf-4a17-bed9-44e7fed05c99');\n",
              "var x = new MutationObserver(function (mutations, observer) {{\n",
              "        var display = window.getComputedStyle(gd).display;\n",
              "        if (!display || display === 'none') {{\n",
              "            console.log([gd, 'removed!']);\n",
              "            Plotly.purge(gd);\n",
              "            observer.disconnect();\n",
              "        }}\n",
              "}});\n",
              "\n",
              "// Listen for the removal of the full notebook cells\n",
              "var notebookContainer = gd.closest('#notebook-container');\n",
              "if (notebookContainer) {{\n",
              "    x.observe(notebookContainer, {childList: true});\n",
              "}}\n",
              "\n",
              "// Listen for the clearing of the current output cell\n",
              "var outputEl = gd.closest('.output');\n",
              "if (outputEl) {{\n",
              "    x.observe(outputEl, {childList: true});\n",
              "}}\n",
              "\n",
              "                        })\n",
              "                };\n",
              "                \n",
              "            </script>\n",
              "        </div>\n",
              "</body>\n",
              "</html>"
            ]
          },
          "metadata": {
            "tags": []
          }
        }
      ]
    },
    {
      "cell_type": "markdown",
      "metadata": {
        "id": "kWBfML8ZW6hG",
        "colab_type": "text"
      },
      "source": [
        "## Pergunta: desejo criar um filme com somente um dos gêneros: `Horror` ou `Adventure`. Quero ter uma chance maior de ter um faturamento que pague minhas contas, mesmo que não seja um super sucesso absurdo de vendas. Qual dos 2 gêneros você sugere?"
      ]
    },
    {
      "cell_type": "markdown",
      "metadata": {
        "id": "XnQDmRmCW6hG",
        "colab_type": "text"
      },
      "source": [
        "### Solução:\n",
        "    \n",
        "Avaliando o nosso grafico boxplot dos generos horror e aventura conseguimos ver que os filmes do genero aventura normalmente recebem mais avaliações, portanto comparando os dois generos eu indicaria um filme de aventura levando em consideração a quantidade de pessoas que avaliaram os dois generos\n"
      ]
    },
    {
      "cell_type": "markdown",
      "metadata": {
        "id": "REQCDzDaW6hH",
        "colab_type": "text"
      },
      "source": [
        "## Pergunta: nossa análise foi até então visual. Aplique um teste estatístico para verificar se existe significância estatística na distribuição dos votos dos filmes de `Adventure` e `Horror`. Sua recomendação continua a mesma? Explique.\n",
        "\n",
        "Passos:\n",
        "\n",
        "- visualize a distribuição de ambas através de histogramas\n",
        "- se suspeitar normalidade na distribuição, faça um teste de normalidade para ambas\n",
        "- aplique um teste adequado de comparação das distribuições\n",
        "- explique o resultado encontrado\n",
        "- utilize p=0.05"
      ]
    },
    {
      "cell_type": "code",
      "metadata": {
        "id": "QUcwS1IaW6hH",
        "colab_type": "code",
        "colab": {
          "base_uri": "https://localhost:8080/",
          "height": 542
        },
        "outputId": "ebb45b92-ccd0-4cd3-8262-8bd2e8852aee"
      },
      "source": [
        "# solucao histograma de aventura\n",
        "x = adventure\n",
        "hist_data = [x]\n",
        "group_labels = ['Total de Votos']\n",
        "\n",
        "fig = ff.create_distplot(hist_data, group_labels, bin_size=0)\n",
        "\n",
        "nomear_grafico(fig, 'Histogramas do genero Aventura', 'Votos')\n",
        "fig.show()\n"
      ],
      "execution_count": 120,
      "outputs": [
        {
          "output_type": "display_data",
          "data": {
            "text/html": [
              "<html>\n",
              "<head><meta charset=\"utf-8\" /></head>\n",
              "<body>\n",
              "    <div>\n",
              "            <script src=\"https://cdnjs.cloudflare.com/ajax/libs/mathjax/2.7.5/MathJax.js?config=TeX-AMS-MML_SVG\"></script><script type=\"text/javascript\">if (window.MathJax) {MathJax.Hub.Config({SVG: {font: \"STIX-Web\"}});}</script>\n",
              "                <script type=\"text/javascript\">window.PlotlyConfig = {MathJaxConfig: 'local'};</script>\n",
              "        <script src=\"https://cdn.plot.ly/plotly-latest.min.js\"></script>    \n",
              "            <div id=\"b146b313-5715-4fea-99a4-11ee22ac3cfc\" class=\"plotly-graph-div\" style=\"height:525px; width:100%;\"></div>\n",
              "            <script type=\"text/javascript\">\n",
              "                \n",
              "                    window.PLOTLYENV=window.PLOTLYENV || {};\n",
              "                    \n",
              "                if (document.getElementById(\"b146b313-5715-4fea-99a4-11ee22ac3cfc\")) {\n",
              "                    Plotly.newPlot(\n",
              "                        'b146b313-5715-4fea-99a4-11ee22ac3cfc',\n",
              "                        [{\"autobinx\": false, \"histnorm\": \"probability density\", \"legendgroup\": \"Total de Votos\", \"marker\": {\"color\": \"rgb(31, 119, 180)\"}, \"name\": \"Total de Votos\", \"opacity\": 0.7, \"type\": \"histogram\", \"x\": [215.0, 110.0, 132.0, 84.0, 201.0, 137.0, 62.0, 57.0, 115.0, 133.0, 251.0, 140.0, 108.0, 172.0, 74.0, 178.0, 55.0, 101.0, 81.0, 238.0, 53.0, 61.0, 183.0, 164.0, 162.0, 65.0, 53.0, 121.0, 123.0, 202.0, 57.0, 92.0, 109.0, 62.0, 136.0, 211.0, 142.0, 200.0, 126.0, 72.0, 196.0, 51.0, 91.0, 171.0, 140.0, 91.0, 68.0, 62.0, 100.0, 116.0, 67.0, 59.0, 90.0, 57.0, 87.0, 88.0, 68.0, 50.0, 108.0, 92.0, 54.0, 57.0, 87.0, 140.0, 61.0, 121.0, 88.0, 53.0, 97.0, 79.0, 97.0, 75.0, 60.0, 53.0, 170.0, 77.0, 133.0, 94.0, 170.0, 56.0, 132.0, 107.0, 198.0, 85.0, 122.0, 92.0, 87.0, 102.0, 188.0, 75.0, 76.0, 96.0, 141.0, 149.0, 79.0, 62.0, 185.0, 92.0, 50.0, 93.0, 79.0, 61.0, 125.0, 61.0, 78.0, 59.0, 50.0, 50.0, 71.0, 62.0, 72.0, 77.0, 64.0, 81.0, 53.0, 56.0, 58.0, 94.0, 104.0, 59.0, 105.0, 58.0, 97.0, 53.0, 55.0, 50.0, 69.0, 54.0, 76.0, 50.0, 59.0, 54.0], \"xaxis\": \"x\", \"xbins\": {\"end\": 251.0, \"size\": 0, \"start\": 50.0}, \"yaxis\": \"y\"}, {\"legendgroup\": \"Total de Votos\", \"marker\": {\"color\": \"rgb(31, 119, 180)\"}, \"mode\": \"lines\", \"name\": \"Total de Votos\", \"showlegend\": false, \"type\": \"scatter\", \"x\": [50.0, 50.402, 50.804, 51.206, 51.608, 52.01, 52.412, 52.814, 53.216, 53.618, 54.019999999999996, 54.422, 54.824, 55.226, 55.628, 56.03, 56.432, 56.834, 57.236, 57.638, 58.04, 58.442, 58.844, 59.246, 59.647999999999996, 60.05, 60.452, 60.854, 61.256, 61.658, 62.06, 62.462, 62.864000000000004, 63.266, 63.668, 64.07, 64.472, 64.874, 65.276, 65.678, 66.08, 66.482, 66.884, 67.286, 67.688, 68.09, 68.492, 68.894, 69.29599999999999, 69.69800000000001, 70.1, 70.502, 70.904, 71.306, 71.708, 72.11, 72.512, 72.914, 73.316, 73.718, 74.12, 74.52199999999999, 74.924, 75.326, 75.72800000000001, 76.13, 76.532, 76.934, 77.336, 77.738, 78.14, 78.542, 78.944, 79.346, 79.748, 80.15, 80.55199999999999, 80.95400000000001, 81.356, 81.758, 82.16, 82.562, 82.964, 83.366, 83.768, 84.17, 84.572, 84.97399999999999, 85.376, 85.77799999999999, 86.18, 86.582, 86.98400000000001, 87.386, 87.788, 88.19, 88.592, 88.994, 89.396, 89.798, 90.2, 90.602, 91.00399999999999, 91.406, 91.80799999999999, 92.21000000000001, 92.612, 93.01400000000001, 93.416, 93.818, 94.22, 94.622, 95.024, 95.426, 95.828, 96.22999999999999, 96.632, 97.03399999999999, 97.436, 97.838, 98.24000000000001, 98.642, 99.044, 99.446, 99.848, 100.25, 100.652, 101.054, 101.456, 101.858, 102.25999999999999, 102.662, 103.064, 103.46600000000001, 103.868, 104.27000000000001, 104.672, 105.074, 105.476, 105.878, 106.28, 106.682, 107.084, 107.48599999999999, 107.888, 108.28999999999999, 108.69200000000001, 109.094, 109.49600000000001, 109.898, 110.3, 110.702, 111.104, 111.506, 111.908, 112.31, 112.712, 113.114, 113.51599999999999, 113.918, 114.32, 114.722, 115.124, 115.526, 115.928, 116.33, 116.732, 117.134, 117.536, 117.938, 118.34, 118.742, 119.144, 119.546, 119.948, 120.35, 120.752, 121.154, 121.556, 121.958, 122.36, 122.762, 123.164, 123.566, 123.968, 124.37, 124.772, 125.174, 125.576, 125.978, 126.38, 126.782, 127.184, 127.586, 127.988, 128.39, 128.792, 129.19400000000002, 129.596, 129.998, 130.4, 130.80200000000002, 131.204, 131.606, 132.00799999999998, 132.41, 132.812, 133.214, 133.61599999999999, 134.018, 134.42000000000002, 134.822, 135.224, 135.626, 136.02800000000002, 136.43, 136.832, 137.23399999999998, 137.636, 138.038, 138.44, 138.84199999999998, 139.244, 139.64600000000002, 140.048, 140.45, 140.852, 141.25400000000002, 141.656, 142.058, 142.45999999999998, 142.862, 143.264, 143.666, 144.06799999999998, 144.47, 144.872, 145.274, 145.676, 146.078, 146.48000000000002, 146.882, 147.284, 147.686, 148.088, 148.49, 148.892, 149.29399999999998, 149.696, 150.098, 150.5, 150.902, 151.304, 151.70600000000002, 152.108, 152.51, 152.912, 153.314, 153.716, 154.118, 154.51999999999998, 154.922, 155.324, 155.726, 156.128, 156.53, 156.93200000000002, 157.334, 157.736, 158.138, 158.54000000000002, 158.942, 159.344, 159.74599999999998, 160.148, 160.55, 160.952, 161.35399999999998, 161.756, 162.15800000000002, 162.56, 162.962, 163.364, 163.76600000000002, 164.168, 164.57, 164.97199999999998, 165.374, 165.776, 166.178, 166.57999999999998, 166.982, 167.38400000000001, 167.786, 168.188, 168.59, 168.99200000000002, 169.394, 169.796, 170.19799999999998, 170.6, 171.002, 171.404, 171.80599999999998, 172.208, 172.61, 173.012, 173.414, 173.816, 174.21800000000002, 174.62, 175.022, 175.424, 175.826, 176.228, 176.63, 177.03199999999998, 177.434, 177.836, 178.238, 178.64, 179.042, 179.444, 179.846, 180.248, 180.65, 181.052, 181.454, 181.856, 182.258, 182.66, 183.062, 183.464, 183.866, 184.268, 184.67, 185.072, 185.474, 185.876, 186.278, 186.68, 187.082, 187.484, 187.886, 188.288, 188.69, 189.092, 189.494, 189.896, 190.298, 190.7, 191.102, 191.504, 191.906, 192.308, 192.71, 193.112, 193.514, 193.916, 194.318, 194.72, 195.122, 195.524, 195.926, 196.328, 196.73, 197.132, 197.534, 197.936, 198.338, 198.74, 199.142, 199.544, 199.946, 200.348, 200.75, 201.152, 201.554, 201.956, 202.358, 202.76, 203.162, 203.564, 203.966, 204.368, 204.77, 205.172, 205.574, 205.976, 206.378, 206.78, 207.182, 207.584, 207.986, 208.388, 208.79, 209.192, 209.594, 209.996, 210.398, 210.8, 211.202, 211.604, 212.006, 212.408, 212.81, 213.212, 213.614, 214.016, 214.418, 214.82, 215.222, 215.624, 216.026, 216.428, 216.83, 217.232, 217.634, 218.036, 218.438, 218.84, 219.242, 219.644, 220.046, 220.448, 220.85, 221.252, 221.654, 222.056, 222.458, 222.86, 223.262, 223.664, 224.066, 224.468, 224.87, 225.272, 225.674, 226.076, 226.478, 226.88, 227.282, 227.684, 228.086, 228.488, 228.89, 229.292, 229.694, 230.096, 230.498, 230.9, 231.302, 231.704, 232.106, 232.508, 232.91, 233.312, 233.714, 234.116, 234.518, 234.92, 235.322, 235.724, 236.126, 236.528, 236.93, 237.332, 237.734, 238.136, 238.538, 238.94, 239.342, 239.744, 240.146, 240.548, 240.95, 241.352, 241.754, 242.156, 242.558, 242.96, 243.362, 243.764, 244.166, 244.568, 244.97, 245.372, 245.774, 246.176, 246.578, 246.98, 247.382, 247.784, 248.186, 248.588, 248.99, 249.392, 249.794, 250.196, 250.598], \"xaxis\": \"x\", \"y\": [0.00812979413034264, 0.008234756073072646, 0.008338031986338493, 0.008439548600037424, 0.008539234976826873, 0.008637022636447793, 0.00873284567380269, 0.008826640870429475, 0.008918347799035064, 0.00900790892077686, 0.0090952696750063, 0.009180378561214945, 0.009263187212952132, 0.009343650463511606, 0.009421726403214915, 0.00949737642814919, 0.009570565280248565, 0.00964126107863974, 0.009709435342203868, 0.009775063003339248, 0.009838122412940948, 0.00989859533664539, 0.009956466942419518, 0.010011725779605352, 0.010064363749560927, 0.010114376068069031, 0.010161761219713565, 0.010206520904451923, 0.010248659976638489, 0.01028818637678007, 0.010325111056328856, 0.010359447895841109, 0.010391213616851797, 0.010420427687834901, 0.010447112224637603, 0.010471291885793042, 0.010492993763130967, 0.010512247268118335, 0.010529084014373117, 0.010543537696803076, 0.01055564396782867, 0.010565440311153989, 0.010572965913552706, 0.01057826153513713, 0.01058136937857727, 0.010582332957734234, 0.01058119696616719, 0.010578007145966642, 0.010572810157358144, 0.0105656534495104, 0.010556585132969684, 0.010545653854129006, 0.010532908672125356, 0.010518398938541581, 0.010502174180272017, 0.010484283985891336, 0.010464777895845967, 0.010443705296766186, 0.010421115320174687, 0.010397056745843906, 0.010371577910031354, 0.010344726618797019, 0.01031655006658273, 0.010287094760207708, 0.010256406448409373, 0.010224530057032952, 0.010191509629947882, 0.010157388275743577, 0.010122208120232254, 0.01008601026476148, 0.0100488347503149, 0.010010720527355936, 0.00997170543134607, 0.009931826163846948, 0.009891118279094195, 0.009849616175910172, 0.009807353094803201, 0.00976436112008263, 0.009720671186801253, 0.009676313092320811, 0.009631315512281127, 0.009585706020739835, 0.00953951111423727, 0.009492756239530017, 0.009445465824727129, 0.00939766331355466, 0.00934937120246726, 0.009300611080320154, 0.00925140367031089, 0.009201768873897256, 0.009151725816396691, 0.0091012928939725, 0.009050487821713327, 0.008999327682515266, 0.008947828976479513, 0.00889600767054378, 0.008843879248071859, 0.008791458758132796, 0.008738760864209843, 0.00868579989208845, 0.008632589876682866, 0.00857914460757213, 0.008525477673027894, 0.008471602502329497, 0.008417532406174657, 0.008363280615008139, 0.008308860315105094, 0.008254284682260552, 0.008199566912951642, 0.008144720252854483, 0.008089758022613582, 0.008034693640776802, 0.007979540643825403, 0.007924312703243992, 0.007869023639591305, 0.007813687433547984, 0.007758318233933262, 0.007702930362697533, 0.007647538316912247, 0.00759215676779354, 0.00753680055680959, 0.00748148468893534, 0.007426224323131265, 0.007371034760135108, 0.007315931427667494, 0.007260929863163197, 0.007206045694150502, 0.007151294616410841, 0.007096692370059498, 0.007042254713697011, 0.006987997396787611, 0.006933936130428311, 0.006880086556677684, 0.006826464216618314, 0.006773084517331461, 0.006719962697965385, 0.006667113795081444, 0.006614552607463811, 0.006562293660579516, 0.006510351170875349, 0.006458739010097745, 0.006407470669820081, 0.006356559226359423, 0.006306017306262105, 0.006255857052533352, 0.0062060900917821045, 0.006156727502446901, 0.006107779784263067, 0.006059256829125122, 0.0060111678934913655, 0.005963521572470318, 0.005916325775720623, 0.005869587705287781, 0.0058233138354921, 0.005777509894973261, 0.005732180850987165, 0.00568733089604101, 0.005642963436942272, 0.005599081086327165, 0.005555685656723228, 0.005512778157190555, 0.005470358792574744, 0.005428426965394304, 0.0053869812803742315, 0.005346019551626379, 0.005305538812466838, 0.005265535327849474, 0.005226004609384368, 0.005186941432899523, 0.005148339858493888, 0.005110193253019771, 0.005072494314923252, 0.005035235101361587, 0.004998407057507657, 0.0049620010479429376, 0.00492600739003208, 0.004890415889164527, 0.00485521587574109, 0.004820396243776649, 0.004785945490983756, 0.004751851760195981, 0.0047181028819847474, 0.004684686418318565, 0.004651589707109352, 0.004618799907487255, 0.00458630404564217, 0.004554089061068098, 0.0045221418530445815, 0.004490449327188604, 0.004458998441909778, 0.004427776254602011, 0.00439676996740554, 0.004365966972374925, 0.004335354895890522, 0.0043049216421538255, 0.00427465543561044, 0.004244544862148242, 0.004214578908923081, 0.004184747002669205, 0.004155039046357464, 0.004125445454070425, 0.004095957183970236, 0.004066565769242203, 0.004037263346904762, 0.004008042684384415, 0.003978897203762846, 0.003949821003611896, 0.003920808878341606, 0.0038918563349955126, 0.0038629596074374137, 0.0038341156678834308, 0.0038053222357433566, 0.00377657778374548, 0.0037478815413292993, 0.003719233495300938, 0.003690634387756278, 0.0036620857112874576, 0.003633589701498157, 0.003605149326863756, 0.003576768275981968, 0.003548450942269572, 0.003520202406170485, 0.0034920284149493283, 0.003463935360154066, 0.0034359302528394393, 0.003408020696651465, 0.0033802148588808452, 0.003352521439600558, 0.0033249496390096514, 0.003297509123111721, 0.003270209987862148, 0.003243062721923538, 0.003216078168173278, 0.0031892674841113478, 0.003162642101319583, 0.003136213684126692, 0.0031099940876351405, 0.003083995315267647, 0.003058229475991639, 0.0030327087413802895, 0.003007445302668154, 0.0029824513279581, 0.002957738919734591, 0.0029333200728356573, 0.002909206633032971, 0.002885410256365508, 0.0028619423693681846, 0.0028388141303316806, 0.0028160363917245942, 0.002793619663902754, 0.0027715740802243443, 0.00274990936368254, 0.0027286347951599736, 0.002707759183401811, 0.0026872908367960428, 0.0026672375370413695, 0.0026476065147744516, 0.0026284044272193723, 0.002609637337913344, 0.0025913106985533973, 0.002573429332999647, 0.0025559974234614707, 0.002539018498883616, 0.0025224954255400503, 0.002506430399834248, 0.0024908249432955406, 0.002475679899752339, 0.002460995434654424, 0.002446771036508039, 0.002433005520379542, 0.0024196970334154585, 0.002406843062319485, 0.002394440442719883, 0.002382485370354147, 0.0023709734139916254, 0.002359899530009124, 0.002349258078529345, 0.0023390428410271836, 0.00232924703930503, 0.0023198633557342803, 0.0023108839546575077, 0.002302300504842969, 0.002294104202881465, 0.0022862857974139017, 0.002278835614077413, 0.00227174358105736, 0.0022649992551330355, 0.0022585918481056646, 0.0022525102534986484, 0.0022467430734219446, 0.0022412786454947785, 0.0022361050697237983, 0.0022312102352370507, 0.0022265818467778523, 0.0022222074508668325, 0.002218074461544765, 0.0022141701856138113, 0.002210481847299768, 0.0022069966122633495, 0.0022037016108942525, 0.002200583960827419, 0.002197630788627134, 0.0021948292505904474, 0.0021921665526279215, 0.0021896299691857557, 0.00218720686117977, 0.0021848846929179737, 0.0021826510479946632, 0.002180493644145184, 0.002178400347056518, 0.002176359183134717, 0.0021743583512359582, 0.002172386233373465, 0.002170431404417829, 0.002168482640813249, 0.0021665289283369837, 0.0021645594689336236, 0.0021625636866600614, 0.0021605312327805824, 0.002158451990055077, 0.002156316076266287, 0.0021541138470347228, 0.002151835897972102, 0.0021494730662260627, 0.002147016431470376, 0.0021444573163959505, 0.002141787286758634, 0.0021389981510401114, 0.002136081959778089, 0.0021330310046215415, 0.002129837817165937, 0.0021264951676221995, 0.002122996063371672, 0.0021193337474574693, 0.0021155016970605227, 0.0021114936220061687, 0.002107303463344459, 0.0021029253920444597, 0.0020983538078396297, 0.0020935833382580717, 0.002088608837867916, 0.0020834253877644667, 0.002078028295321923, 0.0020724130942286765, 0.0020665755448212343, 0.0020605116347277947, 0.0020542175798286457, 0.0020476898255363542, 0.0020409250483950435, 0.002033920157993918, 0.0020266722991865464, 0.0020191788546036864, 0.002011437447443812, 0.00200344594452215, 0.0019952024595557265, 0.001986705356658909, 0.001977953254021, 0.0019689450277348424, 0.001959679815742956, 0.0019501570218656034, 0.0019403763198731232, 0.0019303376575634309, 0.001920041260804028, 0.0019094876374968297, 0.001898677581423277, 0.0018876121759267043, 0.0018762927973885806, 0.001864721118455386, 0.001852899110973063, 0.00184082904858668, 0.0018285135089637185, 0.0018159553756005148, 0.0018031578391728062, 0.0017901243983928766, 0.0017768588603376788, 0.0017633653402143814, 0.0017496482605320217, 0.001735712349650484, 0.001721562639680588, 0.0017072044637119288, 0.0016926434523480795, 0.0016778855295317848, 0.0016629369076460593, 0.0016478040818803, 0.0016324938238539719, 0.0016170131744937762, 0.0016013694361637228, 0.001585570164050981, 0.0015696231568138644, 0.001553536446501797, 0.0015373182877604964, 0.0015209771463390567, 0.001504521686918849, 0.0014879607602874708, 0.0014713033898840324, 0.0014545587577451528, 0.0014377361898838732, 0.0014208451411365152, 0.0014038951795149687, 0.0013868959701045665, 0.0013698572585496623, 0.0013527888541713742, 0.0013357006127636159, 0.0013186024191154254, 0.001301504169308847, 0.001284415752843088, 0.001267347034636601, 0.0012503078369595882, 0.001233307921350072, 0.0012163569705669855, 0.0011994645706340048, 0.0011826401930276698, 0.001165893177063156, 0.0011492327125305144, 0.0011326678226335402, 0.001116207347282461, 0.0010998599267905901, 0.0010836339860237274, 0.0010675377190496715, 0.0010515790743334465, 0.0010357657405220759, 0.0010201051328607399, 0.0010046043802799107, 0.0009892703131909148, 0.0009741094520247811, 0.0009591279965468434, 0.0009443318159768132, 0.0009297264399413377, 0.0009153170502832219, 0.0009011084737485998, 0.0008871051755703613, 0.00087331125396316, 0.0008597304355422487, 0.0008463660716753858, 0.0008332211357739091, 0.0008202982215260485, 0.000807599542072484, 0.0007951269301211002, 0.000782881838994918, 0.0007708653446041902, 0.00075907814833082, 0.000747520580810359, 0.0007361926065941649, 0.0007250938296715669, 0.0007142234998293963, 0.0007035805198237148, 0.0006931634533362583, 0.0006829705336858829, 0.0006729996732631598, 0.0006632484736543715, 0.0006537142364192184, 0.0006443939744849481, 0.0006352844241180259, 0.0006263820574330687, 0.0006176830953975388, 0.0006091835212895891, 0.0006008790945655349, 0.0005927653650926485, 0.0005848376877023473, 0.0005770912370184205, 0.0005695210225146131, 0.0005621219037557652, 0.0005548886057767211, 0.0005478157345533624, 0.0005408977925205053, 0.0005341291940917713, 0.0005275042811372492, 0.0005210173383754476, 0.0005146626086369369, 0.0005084343079581046, 0.0005023266404645629, 0.0004963338130050142, 0.0004904500494977272, 0.00048466960495326746, 0.0004789867791386615, 0.0004733959298498713, 0.00046789148576114746, 0.0004624679588217035, 0.0004571199561719825, 0.0004518421915537944, 0.00044662949619054675, 0.0004414768291158854, 0.0004363792869311194, 0.0004313321129739347, 0.00042633070588302233, 0.00042137062754542026, 0.0004164476104155047, 0.0004115575641967402, 0.0004066965818794386, 0.00040186094512990384, 0.0003970471290284793, 0.0003922518061560395, 0.0003874718500305787, 0.00038270433789748564, 0.0003779465528791021, 0.0003731959854910061, 0.0003684503345343416, 0.00036370750737524875, 0.00035896561962418013, 0.00035422299422947865], \"yaxis\": \"y\"}, {\"legendgroup\": \"Total de Votos\", \"marker\": {\"color\": \"rgb(31, 119, 180)\", \"symbol\": \"line-ns-open\"}, \"mode\": \"markers\", \"name\": \"Total de Votos\", \"showlegend\": false, \"type\": \"scatter\", \"x\": [215.0, 110.0, 132.0, 84.0, 201.0, 137.0, 62.0, 57.0, 115.0, 133.0, 251.0, 140.0, 108.0, 172.0, 74.0, 178.0, 55.0, 101.0, 81.0, 238.0, 53.0, 61.0, 183.0, 164.0, 162.0, 65.0, 53.0, 121.0, 123.0, 202.0, 57.0, 92.0, 109.0, 62.0, 136.0, 211.0, 142.0, 200.0, 126.0, 72.0, 196.0, 51.0, 91.0, 171.0, 140.0, 91.0, 68.0, 62.0, 100.0, 116.0, 67.0, 59.0, 90.0, 57.0, 87.0, 88.0, 68.0, 50.0, 108.0, 92.0, 54.0, 57.0, 87.0, 140.0, 61.0, 121.0, 88.0, 53.0, 97.0, 79.0, 97.0, 75.0, 60.0, 53.0, 170.0, 77.0, 133.0, 94.0, 170.0, 56.0, 132.0, 107.0, 198.0, 85.0, 122.0, 92.0, 87.0, 102.0, 188.0, 75.0, 76.0, 96.0, 141.0, 149.0, 79.0, 62.0, 185.0, 92.0, 50.0, 93.0, 79.0, 61.0, 125.0, 61.0, 78.0, 59.0, 50.0, 50.0, 71.0, 62.0, 72.0, 77.0, 64.0, 81.0, 53.0, 56.0, 58.0, 94.0, 104.0, 59.0, 105.0, 58.0, 97.0, 53.0, 55.0, 50.0, 69.0, 54.0, 76.0, 50.0, 59.0, 54.0], \"xaxis\": \"x\", \"y\": [\"Total de Votos\", \"Total de Votos\", \"Total de Votos\", \"Total de Votos\", \"Total de Votos\", \"Total de Votos\", \"Total de Votos\", \"Total de Votos\", \"Total de Votos\", \"Total de Votos\", \"Total de Votos\", \"Total de Votos\", \"Total de Votos\", \"Total de Votos\", \"Total de Votos\", \"Total de Votos\", \"Total de Votos\", \"Total de Votos\", \"Total de Votos\", \"Total de Votos\", \"Total de Votos\", \"Total de Votos\", \"Total de Votos\", \"Total de Votos\", \"Total de Votos\", \"Total de Votos\", \"Total de Votos\", \"Total de Votos\", \"Total de Votos\", \"Total de Votos\", \"Total de Votos\", \"Total de Votos\", \"Total de Votos\", \"Total de Votos\", \"Total de Votos\", \"Total de Votos\", \"Total de Votos\", \"Total de Votos\", \"Total de Votos\", \"Total de Votos\", \"Total de Votos\", \"Total de Votos\", \"Total de Votos\", \"Total de Votos\", \"Total de Votos\", \"Total de Votos\", \"Total de Votos\", \"Total de Votos\", \"Total de Votos\", \"Total de Votos\", \"Total de Votos\", \"Total de Votos\", \"Total de Votos\", \"Total de Votos\", \"Total de Votos\", \"Total de Votos\", \"Total de Votos\", \"Total de Votos\", \"Total de Votos\", \"Total de Votos\", \"Total de Votos\", \"Total de Votos\", \"Total de Votos\", \"Total de Votos\", \"Total de Votos\", \"Total de Votos\", \"Total de Votos\", \"Total de Votos\", \"Total de Votos\", \"Total de Votos\", \"Total de Votos\", \"Total de Votos\", \"Total de Votos\", \"Total de Votos\", \"Total de Votos\", \"Total de Votos\", \"Total de Votos\", \"Total de Votos\", \"Total de Votos\", \"Total de Votos\", \"Total de Votos\", \"Total de Votos\", \"Total de Votos\", \"Total de Votos\", \"Total de Votos\", \"Total de Votos\", \"Total de Votos\", \"Total de Votos\", \"Total de Votos\", \"Total de Votos\", \"Total de Votos\", \"Total de Votos\", \"Total de Votos\", \"Total de Votos\", \"Total de Votos\", \"Total de Votos\", \"Total de Votos\", \"Total de Votos\", \"Total de Votos\", \"Total de Votos\", \"Total de Votos\", \"Total de Votos\", \"Total de Votos\", \"Total de Votos\", \"Total de Votos\", \"Total de Votos\", \"Total de Votos\", \"Total de Votos\", \"Total de Votos\", \"Total de Votos\", \"Total de Votos\", \"Total de Votos\", \"Total de Votos\", \"Total de Votos\", \"Total de Votos\", \"Total de Votos\", \"Total de Votos\", \"Total de Votos\", \"Total de Votos\", \"Total de Votos\", \"Total de Votos\", \"Total de Votos\", \"Total de Votos\", \"Total de Votos\", \"Total de Votos\", \"Total de Votos\", \"Total de Votos\", \"Total de Votos\", \"Total de Votos\", \"Total de Votos\", \"Total de Votos\", \"Total de Votos\"], \"yaxis\": \"y2\"}],\n",
              "                        {\"barmode\": \"overlay\", \"hovermode\": \"closest\", \"legend\": {\"traceorder\": \"reversed\"}, \"template\": {\"data\": {\"bar\": [{\"error_x\": {\"color\": \"#2a3f5f\"}, \"error_y\": {\"color\": \"#2a3f5f\"}, \"marker\": {\"line\": {\"color\": \"#E5ECF6\", \"width\": 0.5}}, \"type\": \"bar\"}], \"barpolar\": [{\"marker\": {\"line\": {\"color\": \"#E5ECF6\", \"width\": 0.5}}, \"type\": \"barpolar\"}], \"carpet\": [{\"aaxis\": {\"endlinecolor\": \"#2a3f5f\", \"gridcolor\": \"white\", \"linecolor\": \"white\", \"minorgridcolor\": \"white\", \"startlinecolor\": \"#2a3f5f\"}, \"baxis\": {\"endlinecolor\": \"#2a3f5f\", \"gridcolor\": \"white\", \"linecolor\": \"white\", \"minorgridcolor\": \"white\", \"startlinecolor\": \"#2a3f5f\"}, \"type\": \"carpet\"}], \"choropleth\": [{\"colorbar\": {\"outlinewidth\": 0, \"ticks\": \"\"}, \"type\": \"choropleth\"}], \"contour\": [{\"colorbar\": {\"outlinewidth\": 0, \"ticks\": \"\"}, \"colorscale\": [[0.0, \"#0d0887\"], [0.1111111111111111, \"#46039f\"], [0.2222222222222222, \"#7201a8\"], [0.3333333333333333, \"#9c179e\"], [0.4444444444444444, \"#bd3786\"], [0.5555555555555556, \"#d8576b\"], [0.6666666666666666, \"#ed7953\"], [0.7777777777777778, \"#fb9f3a\"], [0.8888888888888888, \"#fdca26\"], [1.0, \"#f0f921\"]], \"type\": \"contour\"}], \"contourcarpet\": [{\"colorbar\": {\"outlinewidth\": 0, \"ticks\": \"\"}, \"type\": \"contourcarpet\"}], \"heatmap\": [{\"colorbar\": {\"outlinewidth\": 0, \"ticks\": \"\"}, \"colorscale\": [[0.0, \"#0d0887\"], [0.1111111111111111, \"#46039f\"], [0.2222222222222222, \"#7201a8\"], [0.3333333333333333, \"#9c179e\"], [0.4444444444444444, \"#bd3786\"], [0.5555555555555556, \"#d8576b\"], [0.6666666666666666, \"#ed7953\"], [0.7777777777777778, \"#fb9f3a\"], [0.8888888888888888, \"#fdca26\"], [1.0, \"#f0f921\"]], \"type\": \"heatmap\"}], \"heatmapgl\": [{\"colorbar\": {\"outlinewidth\": 0, \"ticks\": \"\"}, \"colorscale\": [[0.0, \"#0d0887\"], [0.1111111111111111, \"#46039f\"], [0.2222222222222222, \"#7201a8\"], [0.3333333333333333, \"#9c179e\"], [0.4444444444444444, \"#bd3786\"], [0.5555555555555556, \"#d8576b\"], [0.6666666666666666, \"#ed7953\"], [0.7777777777777778, \"#fb9f3a\"], [0.8888888888888888, \"#fdca26\"], [1.0, \"#f0f921\"]], \"type\": \"heatmapgl\"}], \"histogram\": [{\"marker\": {\"colorbar\": {\"outlinewidth\": 0, \"ticks\": \"\"}}, \"type\": \"histogram\"}], \"histogram2d\": [{\"colorbar\": {\"outlinewidth\": 0, \"ticks\": \"\"}, \"colorscale\": [[0.0, \"#0d0887\"], [0.1111111111111111, \"#46039f\"], [0.2222222222222222, \"#7201a8\"], [0.3333333333333333, \"#9c179e\"], [0.4444444444444444, \"#bd3786\"], [0.5555555555555556, \"#d8576b\"], [0.6666666666666666, \"#ed7953\"], [0.7777777777777778, \"#fb9f3a\"], [0.8888888888888888, \"#fdca26\"], [1.0, \"#f0f921\"]], \"type\": \"histogram2d\"}], \"histogram2dcontour\": [{\"colorbar\": {\"outlinewidth\": 0, \"ticks\": \"\"}, \"colorscale\": [[0.0, \"#0d0887\"], [0.1111111111111111, \"#46039f\"], [0.2222222222222222, \"#7201a8\"], [0.3333333333333333, \"#9c179e\"], [0.4444444444444444, \"#bd3786\"], [0.5555555555555556, \"#d8576b\"], [0.6666666666666666, \"#ed7953\"], [0.7777777777777778, \"#fb9f3a\"], [0.8888888888888888, \"#fdca26\"], [1.0, \"#f0f921\"]], \"type\": \"histogram2dcontour\"}], \"mesh3d\": [{\"colorbar\": {\"outlinewidth\": 0, \"ticks\": \"\"}, \"type\": \"mesh3d\"}], \"parcoords\": [{\"line\": {\"colorbar\": {\"outlinewidth\": 0, \"ticks\": \"\"}}, \"type\": \"parcoords\"}], \"pie\": [{\"automargin\": true, \"type\": \"pie\"}], \"scatter\": [{\"marker\": {\"colorbar\": {\"outlinewidth\": 0, \"ticks\": \"\"}}, \"type\": \"scatter\"}], \"scatter3d\": [{\"line\": {\"colorbar\": {\"outlinewidth\": 0, \"ticks\": \"\"}}, \"marker\": {\"colorbar\": {\"outlinewidth\": 0, \"ticks\": \"\"}}, \"type\": \"scatter3d\"}], \"scattercarpet\": [{\"marker\": {\"colorbar\": {\"outlinewidth\": 0, \"ticks\": \"\"}}, \"type\": \"scattercarpet\"}], \"scattergeo\": [{\"marker\": {\"colorbar\": {\"outlinewidth\": 0, \"ticks\": \"\"}}, \"type\": \"scattergeo\"}], \"scattergl\": [{\"marker\": {\"colorbar\": {\"outlinewidth\": 0, \"ticks\": \"\"}}, \"type\": \"scattergl\"}], \"scattermapbox\": [{\"marker\": {\"colorbar\": {\"outlinewidth\": 0, \"ticks\": \"\"}}, \"type\": \"scattermapbox\"}], \"scatterpolar\": [{\"marker\": {\"colorbar\": {\"outlinewidth\": 0, \"ticks\": \"\"}}, \"type\": \"scatterpolar\"}], \"scatterpolargl\": [{\"marker\": {\"colorbar\": {\"outlinewidth\": 0, \"ticks\": \"\"}}, \"type\": \"scatterpolargl\"}], \"scatterternary\": [{\"marker\": {\"colorbar\": {\"outlinewidth\": 0, \"ticks\": \"\"}}, \"type\": \"scatterternary\"}], \"surface\": [{\"colorbar\": {\"outlinewidth\": 0, \"ticks\": \"\"}, \"colorscale\": [[0.0, \"#0d0887\"], [0.1111111111111111, \"#46039f\"], [0.2222222222222222, \"#7201a8\"], [0.3333333333333333, \"#9c179e\"], [0.4444444444444444, \"#bd3786\"], [0.5555555555555556, \"#d8576b\"], [0.6666666666666666, \"#ed7953\"], [0.7777777777777778, \"#fb9f3a\"], [0.8888888888888888, \"#fdca26\"], [1.0, \"#f0f921\"]], \"type\": \"surface\"}], \"table\": [{\"cells\": {\"fill\": {\"color\": \"#EBF0F8\"}, \"line\": {\"color\": \"white\"}}, \"header\": {\"fill\": {\"color\": \"#C8D4E3\"}, \"line\": {\"color\": \"white\"}}, \"type\": \"table\"}]}, \"layout\": {\"annotationdefaults\": {\"arrowcolor\": \"#2a3f5f\", \"arrowhead\": 0, \"arrowwidth\": 1}, \"coloraxis\": {\"colorbar\": {\"outlinewidth\": 0, \"ticks\": \"\"}}, \"colorscale\": {\"diverging\": [[0, \"#8e0152\"], [0.1, \"#c51b7d\"], [0.2, \"#de77ae\"], [0.3, \"#f1b6da\"], [0.4, \"#fde0ef\"], [0.5, \"#f7f7f7\"], [0.6, \"#e6f5d0\"], [0.7, \"#b8e186\"], [0.8, \"#7fbc41\"], [0.9, \"#4d9221\"], [1, \"#276419\"]], \"sequential\": [[0.0, \"#0d0887\"], [0.1111111111111111, \"#46039f\"], [0.2222222222222222, \"#7201a8\"], [0.3333333333333333, \"#9c179e\"], [0.4444444444444444, \"#bd3786\"], [0.5555555555555556, \"#d8576b\"], [0.6666666666666666, \"#ed7953\"], [0.7777777777777778, \"#fb9f3a\"], [0.8888888888888888, \"#fdca26\"], [1.0, \"#f0f921\"]], \"sequentialminus\": [[0.0, \"#0d0887\"], [0.1111111111111111, \"#46039f\"], [0.2222222222222222, \"#7201a8\"], [0.3333333333333333, \"#9c179e\"], [0.4444444444444444, \"#bd3786\"], [0.5555555555555556, \"#d8576b\"], [0.6666666666666666, \"#ed7953\"], [0.7777777777777778, \"#fb9f3a\"], [0.8888888888888888, \"#fdca26\"], [1.0, \"#f0f921\"]]}, \"colorway\": [\"#636efa\", \"#EF553B\", \"#00cc96\", \"#ab63fa\", \"#FFA15A\", \"#19d3f3\", \"#FF6692\", \"#B6E880\", \"#FF97FF\", \"#FECB52\"], \"font\": {\"color\": \"#2a3f5f\"}, \"geo\": {\"bgcolor\": \"white\", \"lakecolor\": \"white\", \"landcolor\": \"#E5ECF6\", \"showlakes\": true, \"showland\": true, \"subunitcolor\": \"white\"}, \"hoverlabel\": {\"align\": \"left\"}, \"hovermode\": \"closest\", \"mapbox\": {\"style\": \"light\"}, \"paper_bgcolor\": \"white\", \"plot_bgcolor\": \"#E5ECF6\", \"polar\": {\"angularaxis\": {\"gridcolor\": \"white\", \"linecolor\": \"white\", \"ticks\": \"\"}, \"bgcolor\": \"#E5ECF6\", \"radialaxis\": {\"gridcolor\": \"white\", \"linecolor\": \"white\", \"ticks\": \"\"}}, \"scene\": {\"xaxis\": {\"backgroundcolor\": \"#E5ECF6\", \"gridcolor\": \"white\", \"gridwidth\": 2, \"linecolor\": \"white\", \"showbackground\": true, \"ticks\": \"\", \"zerolinecolor\": \"white\"}, \"yaxis\": {\"backgroundcolor\": \"#E5ECF6\", \"gridcolor\": \"white\", \"gridwidth\": 2, \"linecolor\": \"white\", \"showbackground\": true, \"ticks\": \"\", \"zerolinecolor\": \"white\"}, \"zaxis\": {\"backgroundcolor\": \"#E5ECF6\", \"gridcolor\": \"white\", \"gridwidth\": 2, \"linecolor\": \"white\", \"showbackground\": true, \"ticks\": \"\", \"zerolinecolor\": \"white\"}}, \"shapedefaults\": {\"line\": {\"color\": \"#2a3f5f\"}}, \"ternary\": {\"aaxis\": {\"gridcolor\": \"white\", \"linecolor\": \"white\", \"ticks\": \"\"}, \"baxis\": {\"gridcolor\": \"white\", \"linecolor\": \"white\", \"ticks\": \"\"}, \"bgcolor\": \"#E5ECF6\", \"caxis\": {\"gridcolor\": \"white\", \"linecolor\": \"white\", \"ticks\": \"\"}}, \"title\": {\"x\": 0.05}, \"xaxis\": {\"automargin\": true, \"gridcolor\": \"white\", \"linecolor\": \"white\", \"ticks\": \"\", \"title\": {\"standoff\": 15}, \"zerolinecolor\": \"white\", \"zerolinewidth\": 2}, \"yaxis\": {\"automargin\": true, \"gridcolor\": \"white\", \"linecolor\": \"white\", \"ticks\": \"\", \"title\": {\"standoff\": 15}, \"zerolinecolor\": \"white\", \"zerolinewidth\": 2}}}, \"title\": {\"text\": \"Histogramas do genero Aventura\", \"x\": 0.5, \"xanchor\": \"center\", \"yanchor\": \"top\"}, \"xaxis\": {\"anchor\": \"y2\", \"domain\": [0.0, 1.0], \"title\": {\"text\": \"Votos\"}, \"zeroline\": false}, \"yaxis\": {\"anchor\": \"free\", \"domain\": [0.35, 1], \"position\": 0.0}, \"yaxis2\": {\"anchor\": \"x\", \"domain\": [0, 0.25], \"dtick\": 1, \"showticklabels\": false}},\n",
              "                        {\"responsive\": true}\n",
              "                    ).then(function(){\n",
              "                            \n",
              "var gd = document.getElementById('b146b313-5715-4fea-99a4-11ee22ac3cfc');\n",
              "var x = new MutationObserver(function (mutations, observer) {{\n",
              "        var display = window.getComputedStyle(gd).display;\n",
              "        if (!display || display === 'none') {{\n",
              "            console.log([gd, 'removed!']);\n",
              "            Plotly.purge(gd);\n",
              "            observer.disconnect();\n",
              "        }}\n",
              "}});\n",
              "\n",
              "// Listen for the removal of the full notebook cells\n",
              "var notebookContainer = gd.closest('#notebook-container');\n",
              "if (notebookContainer) {{\n",
              "    x.observe(notebookContainer, {childList: true});\n",
              "}}\n",
              "\n",
              "// Listen for the clearing of the current output cell\n",
              "var outputEl = gd.closest('.output');\n",
              "if (outputEl) {{\n",
              "    x.observe(outputEl, {childList: true});\n",
              "}}\n",
              "\n",
              "                        })\n",
              "                };\n",
              "                \n",
              "            </script>\n",
              "        </div>\n",
              "</body>\n",
              "</html>"
            ]
          },
          "metadata": {
            "tags": []
          }
        }
      ]
    },
    {
      "cell_type": "code",
      "metadata": {
        "id": "asIOvfLsWY6S",
        "colab_type": "code",
        "colab": {
          "base_uri": "https://localhost:8080/",
          "height": 542
        },
        "outputId": "8e7dd67d-afd6-46b9-ca05-e68669a3dbcc"
      },
      "source": [
        "# solucao histograma de horror\n",
        "x = horror\n",
        "hist_data = [x]\n",
        "group_labels = ['Total de Votos']\n",
        "\n",
        "fig = ff.create_distplot(hist_data, group_labels, bin_size=0)\n",
        "\n",
        "nomear_grafico(fig, 'Histogramas do genero Horror', 'Votos')\n",
        "fig.show()\n"
      ],
      "execution_count": 121,
      "outputs": [
        {
          "output_type": "display_data",
          "data": {
            "text/html": [
              "<html>\n",
              "<head><meta charset=\"utf-8\" /></head>\n",
              "<body>\n",
              "    <div>\n",
              "            <script src=\"https://cdnjs.cloudflare.com/ajax/libs/mathjax/2.7.5/MathJax.js?config=TeX-AMS-MML_SVG\"></script><script type=\"text/javascript\">if (window.MathJax) {MathJax.Hub.Config({SVG: {font: \"STIX-Web\"}});}</script>\n",
              "                <script type=\"text/javascript\">window.PlotlyConfig = {MathJaxConfig: 'local'};</script>\n",
              "        <script src=\"https://cdn.plot.ly/plotly-latest.min.js\"></script>    \n",
              "            <div id=\"a35bb10b-3e64-49bb-876d-303d95af47e9\" class=\"plotly-graph-div\" style=\"height:525px; width:100%;\"></div>\n",
              "            <script type=\"text/javascript\">\n",
              "                \n",
              "                    window.PLOTLYENV=window.PLOTLYENV || {};\n",
              "                    \n",
              "                if (document.getElementById(\"a35bb10b-3e64-49bb-876d-303d95af47e9\")) {\n",
              "                    Plotly.newPlot(\n",
              "                        'a35bb10b-3e64-49bb-876d-303d95af47e9',\n",
              "                        [{\"autobinx\": false, \"histnorm\": \"probability density\", \"legendgroup\": \"Total de Votos\", \"marker\": {\"color\": \"rgb(31, 119, 180)\"}, \"name\": \"Total de Votos\", \"opacity\": 0.7, \"type\": \"histogram\", \"x\": [55.0, 109.0, 279.0, 126.0, 146.0, 51.0, 83.0, 109.0, 91.0, 70.0, 53.0, 58.0, 87.0, 63.0, 53.0, 64.0, 179.0, 62.0, 59.0, 50.0, 55.0, 63.0, 58.0, 77.0, 62.0, 53.0], \"xaxis\": \"x\", \"xbins\": {\"end\": 279.0, \"size\": 0, \"start\": 50.0}, \"yaxis\": \"y\"}, {\"legendgroup\": \"Total de Votos\", \"marker\": {\"color\": \"rgb(31, 119, 180)\"}, \"mode\": \"lines\", \"name\": \"Total de Votos\", \"showlegend\": false, \"type\": \"scatter\", \"x\": [50.0, 50.458, 50.916, 51.374, 51.832, 52.29, 52.748, 53.206, 53.664, 54.122, 54.58, 55.038, 55.496, 55.954, 56.412, 56.87, 57.328, 57.786, 58.244, 58.702, 59.16, 59.618, 60.076, 60.534, 60.992000000000004, 61.45, 61.908, 62.366, 62.824, 63.282, 63.74, 64.19800000000001, 64.656, 65.114, 65.572, 66.03, 66.488, 66.946, 67.404, 67.862, 68.32, 68.77799999999999, 69.236, 69.694, 70.152, 70.61, 71.068, 71.526, 71.98400000000001, 72.44200000000001, 72.9, 73.358, 73.816, 74.274, 74.732, 75.19, 75.648, 76.106, 76.564, 77.02199999999999, 77.48, 77.938, 78.396, 78.854, 79.312, 79.77, 80.22800000000001, 80.686, 81.144, 81.602, 82.06, 82.518, 82.976, 83.434, 83.892, 84.35, 84.80799999999999, 85.26599999999999, 85.72399999999999, 86.182, 86.64, 87.098, 87.556, 88.01400000000001, 88.47200000000001, 88.93, 89.388, 89.846, 90.304, 90.762, 91.22, 91.678, 92.136, 92.594, 93.05199999999999, 93.50999999999999, 93.968, 94.426, 94.884, 95.342, 95.8, 96.25800000000001, 96.71600000000001, 97.174, 97.632, 98.09, 98.548, 99.006, 99.464, 99.922, 100.38, 100.838, 101.29599999999999, 101.75399999999999, 102.212, 102.67, 103.128, 103.586, 104.044, 104.50200000000001, 104.96000000000001, 105.418, 105.876, 106.334, 106.792, 107.25, 107.708, 108.166, 108.624, 109.082, 109.53999999999999, 109.99799999999999, 110.456, 110.914, 111.372, 111.83, 112.288, 112.74600000000001, 113.20400000000001, 113.662, 114.12, 114.578, 115.036, 115.494, 115.952, 116.41, 116.868, 117.326, 117.784, 118.242, 118.7, 119.158, 119.616, 120.074, 120.532, 120.99, 121.448, 121.906, 122.364, 122.822, 123.28, 123.738, 124.196, 124.654, 125.112, 125.57, 126.028, 126.486, 126.944, 127.402, 127.86, 128.31799999999998, 128.776, 129.23399999999998, 129.692, 130.15, 130.608, 131.066, 131.524, 131.982, 132.44, 132.898, 133.356, 133.814, 134.272, 134.73000000000002, 135.188, 135.64600000000002, 136.10399999999998, 136.562, 137.01999999999998, 137.478, 137.936, 138.394, 138.852, 139.31, 139.768, 140.226, 140.684, 141.142, 141.6, 142.058, 142.51600000000002, 142.974, 143.43200000000002, 143.89, 144.348, 144.80599999999998, 145.264, 145.72199999999998, 146.18, 146.638, 147.096, 147.554, 148.012, 148.47, 148.928, 149.386, 149.844, 150.30200000000002, 150.76, 151.21800000000002, 151.676, 152.13400000000001, 152.59199999999998, 153.05, 153.50799999999998, 153.966, 154.424, 154.882, 155.34, 155.798, 156.256, 156.714, 157.172, 157.63, 158.088, 158.546, 159.00400000000002, 159.462, 159.92000000000002, 160.378, 160.836, 161.29399999999998, 161.752, 162.20999999999998, 162.668, 163.126, 163.584, 164.042, 164.5, 164.958, 165.416, 165.874, 166.332, 166.79000000000002, 167.248, 167.70600000000002, 168.164, 168.622, 169.07999999999998, 169.538, 169.99599999999998, 170.454, 170.912, 171.37, 171.828, 172.286, 172.744, 173.202, 173.66, 174.118, 174.576, 175.034, 175.49200000000002, 175.95, 176.40800000000002, 176.86599999999999, 177.324, 177.78199999999998, 178.24, 178.698, 179.156, 179.614, 180.072, 180.53, 180.988, 181.446, 181.904, 182.362, 182.82, 183.278, 183.736, 184.194, 184.652, 185.11, 185.568, 186.026, 186.484, 186.942, 187.4, 187.858, 188.316, 188.774, 189.232, 189.69, 190.148, 190.606, 191.064, 191.522, 191.98, 192.438, 192.896, 193.354, 193.812, 194.27, 194.728, 195.186, 195.644, 196.102, 196.56, 197.018, 197.476, 197.934, 198.392, 198.85, 199.308, 199.766, 200.224, 200.682, 201.14, 201.598, 202.056, 202.514, 202.972, 203.43, 203.888, 204.346, 204.804, 205.262, 205.72, 206.178, 206.636, 207.094, 207.552, 208.01, 208.468, 208.926, 209.384, 209.842, 210.3, 210.758, 211.216, 211.674, 212.132, 212.59, 213.048, 213.506, 213.964, 214.422, 214.88, 215.338, 215.796, 216.254, 216.712, 217.17, 217.628, 218.086, 218.544, 219.002, 219.46, 219.918, 220.376, 220.834, 221.292, 221.75, 222.208, 222.666, 223.124, 223.582, 224.04, 224.498, 224.956, 225.414, 225.872, 226.33, 226.788, 227.246, 227.704, 228.162, 228.62, 229.078, 229.536, 229.994, 230.452, 230.91, 231.368, 231.826, 232.284, 232.742, 233.2, 233.658, 234.116, 234.574, 235.032, 235.49, 235.948, 236.406, 236.864, 237.322, 237.78, 238.238, 238.696, 239.154, 239.612, 240.07, 240.528, 240.986, 241.444, 241.902, 242.36, 242.818, 243.276, 243.734, 244.192, 244.65, 245.108, 245.566, 246.024, 246.482, 246.94, 247.398, 247.856, 248.314, 248.772, 249.23, 249.688, 250.146, 250.604, 251.062, 251.52, 251.978, 252.436, 252.894, 253.352, 253.81, 254.268, 254.726, 255.184, 255.642, 256.1, 256.558, 257.01599999999996, 257.474, 257.932, 258.39, 258.848, 259.30600000000004, 259.764, 260.222, 260.68, 261.13800000000003, 261.596, 262.054, 262.512, 262.97, 263.428, 263.88599999999997, 264.344, 264.802, 265.26, 265.71799999999996, 266.176, 266.634, 267.092, 267.55, 268.00800000000004, 268.466, 268.924, 269.382, 269.84000000000003, 270.298, 270.756, 271.214, 271.672, 272.13, 272.58799999999997, 273.046, 273.504, 273.962, 274.41999999999996, 274.878, 275.336, 275.794, 276.252, 276.71000000000004, 277.168, 277.626, 278.084, 278.54200000000003], \"xaxis\": \"x\", \"y\": [0.009767937264870722, 0.009835963630948694, 0.00990201970042833, 0.009966066641226108, 0.010028067124932486, 0.010087985370282921, 0.010145787184564273, 0.010201440002883649, 0.010254912925230685, 0.010306176751268567, 0.010355204012793535, 0.010401969003807118, 0.010446447808150043, 0.010488618324651575, 0.010528460289752984, 0.010565955297568676, 0.010601086817353857, 0.010633840208352457, 0.010664202732004538, 0.010692163561497287, 0.010717713788649375, 0.010740846428123377, 0.01076155641896643, 0.010779840623484523, 0.010795697823461025, 0.010809128713735277, 0.010820135893162242, 0.010828723852979196, 0.010834898962610586, 0.010838669452946927, 0.010840045397138565, 0.010839038688949691, 0.010835663018722672, 0.010829933847007108, 0.010821868375912327, 0.010811485518246159, 0.0107988058645068, 0.010783851647798291, 0.010766646706743816, 0.010747216446474311, 0.010725587797773235, 0.010701789174461147, 0.010675850429106699, 0.010647802807153087, 0.010617678899551416, 0.010585512593994503, 0.010551339024846545, 0.010515194521865777, 0.010477116557818505, 0.010437143695084309, 0.010395315531352922, 0.010351672644514158, 0.010306256536842702, 0.010259109578579721, 0.010210274951013345, 0.010159796589159902, 0.010107719124147098, 0.010054087825399965, 0.009998948542729274, 0.009942347648421085, 0.009884331979424848, 0.009824948779735812, 0.009764245643065942, 0.009702270455895496, 0.009639071340995497, 0.009574696601508904, 0.009509194665676013, 0.009442614032286927, 0.009375003216941334, 0.009306410699192899, 0.009236884870652466, 0.009166473984121529, 0.009095226103823711, 0.009023189056799108, 0.008950410385522694, 0.008876937301804567, 0.00880281664202633, 0.008728094823764103, 0.008652817803845265, 0.008577031037882044, 0.008500779441321544, 0.008424107352047946, 0.008347058494568927, 0.008269675945814453, 0.00819200210257262, 0.008114078650583103, 0.008035946535305441, 0.00795764593437553, 0.007879216231760057, 0.007800695993615195, 0.007722122945852193, 0.007643533953409216, 0.007564965001225351, 0.007486451176909431, 0.007408026655093145, 0.007329724683454854, 0.007251577570397475, 0.007173616674360982, 0.0070958723947472085, 0.007018374164432132, 0.006941150443838103, 0.006864228716536204, 0.006787635486346592, 0.0067113962759024716, 0.006635535626641396, 0.006560077100185648, 0.006485043281071725, 0.006410455780787213, 0.006336335243072065, 0.0062627013504396815, 0.006189572831872168, 0.006116967471642961, 0.006044902119219057, 0.005973392700194367, 0.005902454228204818, 0.005832100817775558, 0.005762345698049851, 0.005693201227349267, 0.005624678908514317, 0.005556789404974802, 0.0054895425574991025, 0.005422947401571773, 0.005357012185349184, 0.005291744388143189, 0.005227150739383388, 0.005163237238009013, 0.00510000917224226, 0.005037471139695449, 0.004975627067765458, 0.004914480234269567, 0.004854033288277973, 0.004794288271099224, 0.004735246637375932, 0.004676909276249376, 0.0046192765325527, 0.004562348227993787, 0.004506123682290223, 0.0044506017342200565, 0.004395780762553483, 0.004341658706832054, 0.004288233087963406, 0.004235501028601002, 0.004183459273279947, 0.004132104208281242, 0.004081431881198643, 0.004031438020183556, 0.003982118052845102, 0.003933467124783868, 0.0038854801177394963, 0.003838151667333731, 0.0037914761803919395, 0.003745447851827777, 0.003700060681076989, 0.003655308488067832, 0.003611184928717028, 0.003567683509941465, 0.0035247976041773935, 0.0034825204633999996, 0.003440845232637654, 0.003399764962976359, 0.0033592726240511722, 0.003319361116022541, 0.003280023281036616, 0.003241251914169811, 0.0032030397738588277, 0.003165379591818506, 0.003128264082450746, 0.0030916859517487877, 0.00305563790570193, 0.00302011265820675, 0.002985102938491569, 0.0029506014980617877, 0.0029166011171743644, 0.00288309461085045, 0.0028500748344357603, 0.0028175346887189695, 0.002785467124618814, 0.0027538651474512746, 0.0027227218207885244, 0.002692030269921862, 0.0026617836849411702, 0.002631975323443863, 0.0026025985128864757, 0.0025736466525924755, 0.00254511321542999, 0.002516991749173376, 0.002489275877562764, 0.0024619593010757885, 0.0024350357974258236, 0.0024084992218011375, 0.002382343506859406, 0.0023565626624919432, 0.0023311507753721703, 0.0023061020083026, 0.0022814105993746135, 0.002257070860955263, 0.002233077178515083, 0.002209424009310835, 0.0021861058809368758, 0.0021631173897586993, 0.002140453199241926, 0.0021181080381898073, 0.0020960766989020505, 0.002074354035267519, 0.002052934960802988, 0.0020318144466499734, 0.002010987519541153, 0.0019904492597477494, 0.001970194799018694, 0.0019502193185222546, 0.0019305180468001941, 0.0019110862577443734, 0.001891919268605125, 0.0018730124380404675, 0.001854361164214712, 0.0018359608829546608, 0.0018178070659711505, 0.0017998952191532348, 0.0017822208809419081, 0.0017647796207898084, 0.0017475670377128754, 0.0017305787589395126, 0.0017138104386623732, 0.0016972577568973456, 0.0016809164184540001, 0.0016647821520211566, 0.0016488507093709128, 0.0016331178646838917, 0.0016175794139981529, 0.0016022311747836335, 0.001587068985643633, 0.0015720887061443803, 0.0015572862167732848, 0.0015426574190260374, 0.0015281982356223378, 0.001513904610849567, 0.0014997725110333325, 0.0014857979251334207, 0.0014719768654632814, 0.0014583053685308079, 0.001444779495997776, 0.0014313953357549965, 0.001418149003109796, 0.0014050366420822315, 0.0013920544268059807, 0.001379198563029675, 0.0013664652897140176, 0.001353850880719872, 0.0013413516465821283, 0.0013289639363639962, 0.001316684139586074, 0.0013045086882243681, 0.001292434058771216, 0.0012804567743528853, 0.00126857340689748, 0.0012567805793465942, 0.001245074967904085, 0.001233453304315159, 0.0012219123781689668, 0.0012104490392177152, 0.001199060199705382, 0.0011877428366989702, 0.001176493994415331, 0.0011653107865364893, 0.0011541903985065457, 0.001143130089803154, 0.0011321271961767492, 0.0011211791318507067, 0.0011102833916757577, 0.0010994375532320914, 0.0010886392788727161, 0.001077886317701804, 0.0010671765074819336, 0.0010565077764643034, 0.0010458781451362312, 0.0010352857278804481, 0.001024728734540935, 0.0010142054718903187, 0.0010037143449940751, 0.0009932538584670964, 0.000982822617618424, 0.0009724193294802952, 0.0009620428037179065, 0.0009516919534166544, 0.0009413657957439082, 0.0009310634524827109, 0.0009207841504351468, 0.0009105272216934326, 0.0009002921037771552, 0.0008900783396354159, 0.000879885577512987, 0.0008697135706799373, 0.0008595621770245368, 0.0008494313585095877, 0.0008393211804926812, 0.0008292318109112125, 0.0008191635193333345, 0.0008091166758763358, 0.0007990917499942875, 0.0007890893091370877, 0.0007791100172833473, 0.0007691546333498759, 0.0007592240094807878, 0.0007493190892195358, 0.0007394409055674491, 0.0007295905789325977, 0.0007197693149730357, 0.0007099784023387074, 0.0007002192103165136, 0.0006904931863832172, 0.0006808018536710437, 0.0006711468083510107, 0.000661529716939143, 0.0006519523135308677, 0.0006424163969690009, 0.0006329238279508118, 0.0006234765260797383, 0.0006140764668673901, 0.0006047256786914942, 0.0005954262397154812, 0.0005861802747754021, 0.00057698995223986, 0.0005678574808485974, 0.0005587851065353509, 0.0005497751092405092, 0.000540829799719027, 0.0005319515163489615, 0.0005231426219458804, 0.0005144055005882698, 0.0005057425544589169, 0.0004971562007071077, 0.0004886488683363027, 0.0004802229951217696, 0.0004718810245624773, 0.0004636254028713461, 0.000455458576007736, 0.00044738298675584546, 0.00043940107185246605, 0.00043151525916728864, 0.0004237279649387453, 0.000416041591068102, 0.0004084585224742841, 0.0004009811245116537, 0.0003936117404527155, 0.0003863526890374658, 0.0003792062620908412, 0.00037217472220948077, 0.0003652603005187523, 0.0003584651945007427, 0.0003517915658936762, 0.00034524153866297673, 0.00033881719704394083, 0.0003325205836557888, 0.0003263536976866051, 0.0003203184931484822, 0.0003144168772019741, 0.00030865070854876116, 0.0003030217958912491, 0.0002975318964576403, 0.00029218271459085593, 0.0002869759003995346, 0.00028191304846918576, 0.0002769956966314556, 0.00027222532478934106, 0.0002676033537960937, 0.00026313114438546165, 0.00025880999615084766, 0.0002546411465708994, 0.000250625770079011, 0.0002467649771741719, 0.00024305981357059957, 0.00023951125938358121, 0.00023612022834896263, 0.00023288756707376225, 0.00022981405431541477, 0.00022690040028721994, 0.00022414724598762966, 0.0002215551625510996, 0.00021912465061832138, 0.00021685613972375974, 0.00021474998769854613, 0.00021280648008690364, 0.00021102582957442453, 0.0002094081754266762, 0.0002079535829367701, 0.00020666204288069957, 0.00020553347097943477, 0.00020456770736694698, 0.00020376451606352391, 0.00020312358445394492, 0.00020264452277027862, 0.0002023268635792795, 0.00020217006127456701, 0.00020217349157398404, 0.00020233645102274536, 0.00020265815650320093, 0.00020313774475225075, 0.00020377427188766274, 0.0002045667129447509, 0.00020551396142508058, 0.00020661482885906576, 0.00020786804438452464, 0.0002092722543434432, 0.00021082602189938812, 0.00021252782667817931, 0.00021437606443460257, 0.0002163690467481007, 0.00021850500075052654, 0.00022078206888918127, 0.00022319830872848052, 0.00022575169279371248, 0.0002284401084604398, 0.0002312613578931925, 0.00023421315803716914, 0.00023729314066671533, 0.0002404988524943982, 0.00024382775534451747, 0.0002472772263949085, 0.0002508445584908818, 0.0002545269605351306, 0.0002583215579573919, 0.00026222539326759643, 0.0002662354266961777, 0.000270348536925105, 0.0002745615219131224, 0.000278871099818537, 0.0002832739100227806, 0.0002877665142577907, 0.0002923453978401159, 0.0002970069710144426, 0.0003017475704090594, 0.00030656346060553953, 0.00031145083582471587, 0.0003164058217307683, 0.0003214244773549847, 0.00032650279714050226, 0.0003316367131090467, 0.00033682209715039994, 0.00034205476343503145, 0.0003473304709500091, 0.0003526449261580075, 0.00035799378577888133, 0.0003633726596929667, 0.00036877711396491854, 0.0003742026739865621, 0.00037964482773689015, 0.0003850990291569884, 0.0003905607016373341, 0.0003960252416145505, 0.0004014880222743749, 0.00040694439735723084, 0.0004123897050624725, 0.0004178192720470335, 0.00042322841751386007, 0.0004286124573852169, 0.0004339667085556119, 0.00043928649321879875, 0.0004445671432629958, 0.00044980400472820556, 0.000454992442319209, 0.0004601278439675822, 0.000465205625435802, 0.00047022123495631, 0.0004751701578981626, 0.0004800479214536891, 0.0004848500993374339, 0.0004895723164894498, 0.000494210253774897, 0.0004987596526717491, 0.0005032163199383281, 0.0005075761322522787, 0.000511835040812545, 0.0005159890758958615, 0.0005200343513592386, 0.0005239670690799489, 0.0005277835233245103, 0.0005314801050382293, 0.0005350533060469146, 0.0005384997231624891, 0.0005418160621842951, 0.0005449991417880613, 0.0005480458972946313, 0.0005509533843107341, 0.0005537187822342743, 0.0005563393976168333, 0.0005588126673763197, 0.0005611361618529558, 0.0005633075877020594, 0.0005653247906173859, 0.0005671857578790977, 0.0005688886207207665, 0.0005704316565101407, 0.000571813290738791, 0.0005730320988161044, 0.000574086807663496, 0.0005749762971050862, 0.0005756996010515293, 0.0005762559084740716, 0.0005766445641663613, 0.0005768650692919556], \"yaxis\": \"y\"}, {\"legendgroup\": \"Total de Votos\", \"marker\": {\"color\": \"rgb(31, 119, 180)\", \"symbol\": \"line-ns-open\"}, \"mode\": \"markers\", \"name\": \"Total de Votos\", \"showlegend\": false, \"type\": \"scatter\", \"x\": [55.0, 109.0, 279.0, 126.0, 146.0, 51.0, 83.0, 109.0, 91.0, 70.0, 53.0, 58.0, 87.0, 63.0, 53.0, 64.0, 179.0, 62.0, 59.0, 50.0, 55.0, 63.0, 58.0, 77.0, 62.0, 53.0], \"xaxis\": \"x\", \"y\": [\"Total de Votos\", \"Total de Votos\", \"Total de Votos\", \"Total de Votos\", \"Total de Votos\", \"Total de Votos\", \"Total de Votos\", \"Total de Votos\", \"Total de Votos\", \"Total de Votos\", \"Total de Votos\", \"Total de Votos\", \"Total de Votos\", \"Total de Votos\", \"Total de Votos\", \"Total de Votos\", \"Total de Votos\", \"Total de Votos\", \"Total de Votos\", \"Total de Votos\", \"Total de Votos\", \"Total de Votos\", \"Total de Votos\", \"Total de Votos\", \"Total de Votos\", \"Total de Votos\"], \"yaxis\": \"y2\"}],\n",
              "                        {\"barmode\": \"overlay\", \"hovermode\": \"closest\", \"legend\": {\"traceorder\": \"reversed\"}, \"template\": {\"data\": {\"bar\": [{\"error_x\": {\"color\": \"#2a3f5f\"}, \"error_y\": {\"color\": \"#2a3f5f\"}, \"marker\": {\"line\": {\"color\": \"#E5ECF6\", \"width\": 0.5}}, \"type\": \"bar\"}], \"barpolar\": [{\"marker\": {\"line\": {\"color\": \"#E5ECF6\", \"width\": 0.5}}, \"type\": \"barpolar\"}], \"carpet\": [{\"aaxis\": {\"endlinecolor\": \"#2a3f5f\", \"gridcolor\": \"white\", \"linecolor\": \"white\", \"minorgridcolor\": \"white\", \"startlinecolor\": \"#2a3f5f\"}, \"baxis\": {\"endlinecolor\": \"#2a3f5f\", \"gridcolor\": \"white\", \"linecolor\": \"white\", \"minorgridcolor\": \"white\", \"startlinecolor\": \"#2a3f5f\"}, \"type\": \"carpet\"}], \"choropleth\": [{\"colorbar\": {\"outlinewidth\": 0, \"ticks\": \"\"}, \"type\": \"choropleth\"}], \"contour\": [{\"colorbar\": {\"outlinewidth\": 0, \"ticks\": \"\"}, \"colorscale\": [[0.0, \"#0d0887\"], [0.1111111111111111, \"#46039f\"], [0.2222222222222222, \"#7201a8\"], [0.3333333333333333, \"#9c179e\"], [0.4444444444444444, \"#bd3786\"], [0.5555555555555556, \"#d8576b\"], [0.6666666666666666, \"#ed7953\"], [0.7777777777777778, \"#fb9f3a\"], [0.8888888888888888, \"#fdca26\"], [1.0, \"#f0f921\"]], \"type\": \"contour\"}], \"contourcarpet\": [{\"colorbar\": {\"outlinewidth\": 0, \"ticks\": \"\"}, \"type\": \"contourcarpet\"}], \"heatmap\": [{\"colorbar\": {\"outlinewidth\": 0, \"ticks\": \"\"}, \"colorscale\": [[0.0, \"#0d0887\"], [0.1111111111111111, \"#46039f\"], [0.2222222222222222, \"#7201a8\"], [0.3333333333333333, \"#9c179e\"], [0.4444444444444444, \"#bd3786\"], [0.5555555555555556, \"#d8576b\"], [0.6666666666666666, \"#ed7953\"], [0.7777777777777778, \"#fb9f3a\"], [0.8888888888888888, \"#fdca26\"], [1.0, \"#f0f921\"]], \"type\": \"heatmap\"}], \"heatmapgl\": [{\"colorbar\": {\"outlinewidth\": 0, \"ticks\": \"\"}, \"colorscale\": [[0.0, \"#0d0887\"], [0.1111111111111111, \"#46039f\"], [0.2222222222222222, \"#7201a8\"], [0.3333333333333333, \"#9c179e\"], [0.4444444444444444, \"#bd3786\"], [0.5555555555555556, \"#d8576b\"], [0.6666666666666666, \"#ed7953\"], [0.7777777777777778, \"#fb9f3a\"], [0.8888888888888888, \"#fdca26\"], [1.0, \"#f0f921\"]], \"type\": \"heatmapgl\"}], \"histogram\": [{\"marker\": {\"colorbar\": {\"outlinewidth\": 0, \"ticks\": \"\"}}, \"type\": \"histogram\"}], \"histogram2d\": [{\"colorbar\": {\"outlinewidth\": 0, \"ticks\": \"\"}, \"colorscale\": [[0.0, \"#0d0887\"], [0.1111111111111111, \"#46039f\"], [0.2222222222222222, \"#7201a8\"], [0.3333333333333333, \"#9c179e\"], [0.4444444444444444, \"#bd3786\"], [0.5555555555555556, \"#d8576b\"], [0.6666666666666666, \"#ed7953\"], [0.7777777777777778, \"#fb9f3a\"], [0.8888888888888888, \"#fdca26\"], [1.0, \"#f0f921\"]], \"type\": \"histogram2d\"}], \"histogram2dcontour\": [{\"colorbar\": {\"outlinewidth\": 0, \"ticks\": \"\"}, \"colorscale\": [[0.0, \"#0d0887\"], [0.1111111111111111, \"#46039f\"], [0.2222222222222222, \"#7201a8\"], [0.3333333333333333, \"#9c179e\"], [0.4444444444444444, \"#bd3786\"], [0.5555555555555556, \"#d8576b\"], [0.6666666666666666, \"#ed7953\"], [0.7777777777777778, \"#fb9f3a\"], [0.8888888888888888, \"#fdca26\"], [1.0, \"#f0f921\"]], \"type\": \"histogram2dcontour\"}], \"mesh3d\": [{\"colorbar\": {\"outlinewidth\": 0, \"ticks\": \"\"}, \"type\": \"mesh3d\"}], \"parcoords\": [{\"line\": {\"colorbar\": {\"outlinewidth\": 0, \"ticks\": \"\"}}, \"type\": \"parcoords\"}], \"pie\": [{\"automargin\": true, \"type\": \"pie\"}], \"scatter\": [{\"marker\": {\"colorbar\": {\"outlinewidth\": 0, \"ticks\": \"\"}}, \"type\": \"scatter\"}], \"scatter3d\": [{\"line\": {\"colorbar\": {\"outlinewidth\": 0, \"ticks\": \"\"}}, \"marker\": {\"colorbar\": {\"outlinewidth\": 0, \"ticks\": \"\"}}, \"type\": \"scatter3d\"}], \"scattercarpet\": [{\"marker\": {\"colorbar\": {\"outlinewidth\": 0, \"ticks\": \"\"}}, \"type\": \"scattercarpet\"}], \"scattergeo\": [{\"marker\": {\"colorbar\": {\"outlinewidth\": 0, \"ticks\": \"\"}}, \"type\": \"scattergeo\"}], \"scattergl\": [{\"marker\": {\"colorbar\": {\"outlinewidth\": 0, \"ticks\": \"\"}}, \"type\": \"scattergl\"}], \"scattermapbox\": [{\"marker\": {\"colorbar\": {\"outlinewidth\": 0, \"ticks\": \"\"}}, \"type\": \"scattermapbox\"}], \"scatterpolar\": [{\"marker\": {\"colorbar\": {\"outlinewidth\": 0, \"ticks\": \"\"}}, \"type\": \"scatterpolar\"}], \"scatterpolargl\": [{\"marker\": {\"colorbar\": {\"outlinewidth\": 0, \"ticks\": \"\"}}, \"type\": \"scatterpolargl\"}], \"scatterternary\": [{\"marker\": {\"colorbar\": {\"outlinewidth\": 0, \"ticks\": \"\"}}, \"type\": \"scatterternary\"}], \"surface\": [{\"colorbar\": {\"outlinewidth\": 0, \"ticks\": \"\"}, \"colorscale\": [[0.0, \"#0d0887\"], [0.1111111111111111, \"#46039f\"], [0.2222222222222222, \"#7201a8\"], [0.3333333333333333, \"#9c179e\"], [0.4444444444444444, \"#bd3786\"], [0.5555555555555556, \"#d8576b\"], [0.6666666666666666, \"#ed7953\"], [0.7777777777777778, \"#fb9f3a\"], [0.8888888888888888, \"#fdca26\"], [1.0, \"#f0f921\"]], \"type\": \"surface\"}], \"table\": [{\"cells\": {\"fill\": {\"color\": \"#EBF0F8\"}, \"line\": {\"color\": \"white\"}}, \"header\": {\"fill\": {\"color\": \"#C8D4E3\"}, \"line\": {\"color\": \"white\"}}, \"type\": \"table\"}]}, \"layout\": {\"annotationdefaults\": {\"arrowcolor\": \"#2a3f5f\", \"arrowhead\": 0, \"arrowwidth\": 1}, \"coloraxis\": {\"colorbar\": {\"outlinewidth\": 0, \"ticks\": \"\"}}, \"colorscale\": {\"diverging\": [[0, \"#8e0152\"], [0.1, \"#c51b7d\"], [0.2, \"#de77ae\"], [0.3, \"#f1b6da\"], [0.4, \"#fde0ef\"], [0.5, \"#f7f7f7\"], [0.6, \"#e6f5d0\"], [0.7, \"#b8e186\"], [0.8, \"#7fbc41\"], [0.9, \"#4d9221\"], [1, \"#276419\"]], \"sequential\": [[0.0, \"#0d0887\"], [0.1111111111111111, \"#46039f\"], [0.2222222222222222, \"#7201a8\"], [0.3333333333333333, \"#9c179e\"], [0.4444444444444444, \"#bd3786\"], [0.5555555555555556, \"#d8576b\"], [0.6666666666666666, \"#ed7953\"], [0.7777777777777778, \"#fb9f3a\"], [0.8888888888888888, \"#fdca26\"], [1.0, \"#f0f921\"]], \"sequentialminus\": [[0.0, \"#0d0887\"], [0.1111111111111111, \"#46039f\"], [0.2222222222222222, \"#7201a8\"], [0.3333333333333333, \"#9c179e\"], [0.4444444444444444, \"#bd3786\"], [0.5555555555555556, \"#d8576b\"], [0.6666666666666666, \"#ed7953\"], [0.7777777777777778, \"#fb9f3a\"], [0.8888888888888888, \"#fdca26\"], [1.0, \"#f0f921\"]]}, \"colorway\": [\"#636efa\", \"#EF553B\", \"#00cc96\", \"#ab63fa\", \"#FFA15A\", \"#19d3f3\", \"#FF6692\", \"#B6E880\", \"#FF97FF\", \"#FECB52\"], \"font\": {\"color\": \"#2a3f5f\"}, \"geo\": {\"bgcolor\": \"white\", \"lakecolor\": \"white\", \"landcolor\": \"#E5ECF6\", \"showlakes\": true, \"showland\": true, \"subunitcolor\": \"white\"}, \"hoverlabel\": {\"align\": \"left\"}, \"hovermode\": \"closest\", \"mapbox\": {\"style\": \"light\"}, \"paper_bgcolor\": \"white\", \"plot_bgcolor\": \"#E5ECF6\", \"polar\": {\"angularaxis\": {\"gridcolor\": \"white\", \"linecolor\": \"white\", \"ticks\": \"\"}, \"bgcolor\": \"#E5ECF6\", \"radialaxis\": {\"gridcolor\": \"white\", \"linecolor\": \"white\", \"ticks\": \"\"}}, \"scene\": {\"xaxis\": {\"backgroundcolor\": \"#E5ECF6\", \"gridcolor\": \"white\", \"gridwidth\": 2, \"linecolor\": \"white\", \"showbackground\": true, \"ticks\": \"\", \"zerolinecolor\": \"white\"}, \"yaxis\": {\"backgroundcolor\": \"#E5ECF6\", \"gridcolor\": \"white\", \"gridwidth\": 2, \"linecolor\": \"white\", \"showbackground\": true, \"ticks\": \"\", \"zerolinecolor\": \"white\"}, \"zaxis\": {\"backgroundcolor\": \"#E5ECF6\", \"gridcolor\": \"white\", \"gridwidth\": 2, \"linecolor\": \"white\", \"showbackground\": true, \"ticks\": \"\", \"zerolinecolor\": \"white\"}}, \"shapedefaults\": {\"line\": {\"color\": \"#2a3f5f\"}}, \"ternary\": {\"aaxis\": {\"gridcolor\": \"white\", \"linecolor\": \"white\", \"ticks\": \"\"}, \"baxis\": {\"gridcolor\": \"white\", \"linecolor\": \"white\", \"ticks\": \"\"}, \"bgcolor\": \"#E5ECF6\", \"caxis\": {\"gridcolor\": \"white\", \"linecolor\": \"white\", \"ticks\": \"\"}}, \"title\": {\"x\": 0.05}, \"xaxis\": {\"automargin\": true, \"gridcolor\": \"white\", \"linecolor\": \"white\", \"ticks\": \"\", \"title\": {\"standoff\": 15}, \"zerolinecolor\": \"white\", \"zerolinewidth\": 2}, \"yaxis\": {\"automargin\": true, \"gridcolor\": \"white\", \"linecolor\": \"white\", \"ticks\": \"\", \"title\": {\"standoff\": 15}, \"zerolinecolor\": \"white\", \"zerolinewidth\": 2}}}, \"title\": {\"text\": \"Histogramas do genero Horror\", \"x\": 0.5, \"xanchor\": \"center\", \"yanchor\": \"top\"}, \"xaxis\": {\"anchor\": \"y2\", \"domain\": [0.0, 1.0], \"title\": {\"text\": \"Votos\"}, \"zeroline\": false}, \"yaxis\": {\"anchor\": \"free\", \"domain\": [0.35, 1], \"position\": 0.0}, \"yaxis2\": {\"anchor\": \"x\", \"domain\": [0, 0.25], \"dtick\": 1, \"showticklabels\": false}},\n",
              "                        {\"responsive\": true}\n",
              "                    ).then(function(){\n",
              "                            \n",
              "var gd = document.getElementById('a35bb10b-3e64-49bb-876d-303d95af47e9');\n",
              "var x = new MutationObserver(function (mutations, observer) {{\n",
              "        var display = window.getComputedStyle(gd).display;\n",
              "        if (!display || display === 'none') {{\n",
              "            console.log([gd, 'removed!']);\n",
              "            Plotly.purge(gd);\n",
              "            observer.disconnect();\n",
              "        }}\n",
              "}});\n",
              "\n",
              "// Listen for the removal of the full notebook cells\n",
              "var notebookContainer = gd.closest('#notebook-container');\n",
              "if (notebookContainer) {{\n",
              "    x.observe(notebookContainer, {childList: true});\n",
              "}}\n",
              "\n",
              "// Listen for the clearing of the current output cell\n",
              "var outputEl = gd.closest('.output');\n",
              "if (outputEl) {{\n",
              "    x.observe(outputEl, {childList: true});\n",
              "}}\n",
              "\n",
              "                        })\n",
              "                };\n",
              "                \n",
              "            </script>\n",
              "        </div>\n",
              "</body>\n",
              "</html>"
            ]
          },
          "metadata": {
            "tags": []
          }
        }
      ]
    },
    {
      "cell_type": "code",
      "metadata": {
        "id": "sL5aZXIJW6hJ",
        "colab_type": "code",
        "colab": {}
      },
      "source": [
        "from scipy.stats import normaltest\n",
        "import scipy.stats as sct"
      ],
      "execution_count": 122,
      "outputs": []
    },
    {
      "cell_type": "code",
      "metadata": {
        "id": "JGbGIfsoW6hM",
        "colab_type": "code",
        "colab": {
          "base_uri": "https://localhost:8080/",
          "height": 101
        },
        "outputId": "1a276b21-dc3d-4dfc-e68d-f2fd644bb830"
      },
      "source": [
        "# solucao teste de normalidade ou justificativa para nao utiliza-lo\n",
        "significancia = 0.05\n",
        "media_filmes = round(filmes['total_de_votos'].mean(),2)\n",
        "\n",
        "\n",
        "stat, p = sct.ttest_1samp(adventure, popmean=media_filmes)\n",
        "print('Estatística de teste: {}'.format(stat.round(2)))\n",
        "print('p-valor: {}'.format(p.round(2)))\n",
        "print(f'''Com a informação do p_valor podemos rejeitar a hipotese nula? \n",
        "{\"sim\" if p < significancia else \"não\"} pois o p_valor é {\"menor\" if p < significancia else \"maior\"} que o valor \n",
        "estabelecido anteriormente para p, que seria 0.05''')"
      ],
      "execution_count": 123,
      "outputs": [
        {
          "output_type": "stream",
          "text": [
            "Estatística de teste: 1.82\n",
            "p-valor: 0.07\n",
            "Com a informação do p_valor podemos rejeitar a hipotese nula? \n",
            "não pois o p_valor é maior que o valor \n",
            "estabelecido anteriormente para p, que seria 0.05\n"
          ],
          "name": "stdout"
        }
      ]
    },
    {
      "cell_type": "code",
      "metadata": {
        "id": "tpUIuQEEk1ek",
        "colab_type": "code",
        "colab": {
          "base_uri": "https://localhost:8080/",
          "height": 101
        },
        "outputId": "b5716428-78de-446a-cb09-157fa5c52bf9"
      },
      "source": [
        "# solucao teste de normalidade ou justificativa para nao utiliza-lo\n",
        "significancia = 0.05\n",
        "media_filmes = round(filmes['total_de_votos'].mean(),2)\n",
        "\n",
        "stat, p = sct.ttest_1samp(horror, popmean=media_filmes)\n",
        "print('Estatística de teste: {}'.format(stat.round(2)))\n",
        "print('p-valor: {}'.format(p.round(2)))\n",
        "print(f'''Com a informação do p_valor podemos rejeitar a hipotese nula? \n",
        "{\"sim\" if p < significancia else \"não\"} pois o p_valor é {\"menor\" if p < significancia else \"maior\"} que o valor \n",
        "estabelecido anteriormente para p, que seria 0.05''')"
      ],
      "execution_count": 124,
      "outputs": [
        {
          "output_type": "stream",
          "text": [
            "Estatística de teste: -0.67\n",
            "p-valor: 0.51\n",
            "Com a informação do p_valor podemos rejeitar a hipotese nula? \n",
            "não pois o p_valor é maior que o valor \n",
            "estabelecido anteriormente para p, que seria 0.05\n"
          ],
          "name": "stdout"
        }
      ]
    },
    {
      "cell_type": "code",
      "metadata": {
        "id": "fNtrJ18MW6hP",
        "colab_type": "code",
        "colab": {}
      },
      "source": [
        "# solução com o teste desejado\n"
      ],
      "execution_count": 125,
      "outputs": []
    },
    {
      "cell_type": "markdown",
      "metadata": {
        "id": "Mjwkp3h6W6hR",
        "colab_type": "text"
      },
      "source": [
        "### Solução (explique sua conclusão):\n",
        "Com essas informações chego a conclusão final que um filme de aventura pode atingir um publico maior que um filme de horror\n",
        "Por isso acredito que fazendo um filme de aventura você conseguirar gerar mais receitas que um filme de horror\n"
      ]
    },
    {
      "cell_type": "markdown",
      "metadata": {
        "id": "ZSEb4yzZW6hR",
        "colab_type": "text"
      },
      "source": [
        "## Pergunta: Faça os mesmos boxplots para as notas médias (`nota_media`) dos gêneros `Adventure` e `Horror`."
      ]
    },
    {
      "cell_type": "code",
      "metadata": {
        "id": "O4Sw0ZcfW6hS",
        "colab_type": "code",
        "colab": {
          "base_uri": "https://localhost:8080/",
          "height": 542
        },
        "outputId": "8fa21686-0c2e-4b9f-fcb1-526eca75bc51"
      },
      "source": [
        "# solução:\n",
        "horror = filmes['nota_media'][filmes['Horror'] == 1]\n",
        "adventure = filmes['nota_media'][filmes['Adventure'] == 1]\n",
        "\n",
        "fig = go.Figure()\n",
        "fig.add_trace(go.Box(y=horror, name='Horror'))\n",
        "fig.add_trace(go.Box(y=adventure, name='Adventure'))\n",
        "\n",
        "nomear_grafico(fig, 'boxplot dos generos horror e aventura', 'Generos', 'Média dos votos')\n",
        "fig.show()"
      ],
      "execution_count": 126,
      "outputs": [
        {
          "output_type": "display_data",
          "data": {
            "text/html": [
              "<html>\n",
              "<head><meta charset=\"utf-8\" /></head>\n",
              "<body>\n",
              "    <div>\n",
              "            <script src=\"https://cdnjs.cloudflare.com/ajax/libs/mathjax/2.7.5/MathJax.js?config=TeX-AMS-MML_SVG\"></script><script type=\"text/javascript\">if (window.MathJax) {MathJax.Hub.Config({SVG: {font: \"STIX-Web\"}});}</script>\n",
              "                <script type=\"text/javascript\">window.PlotlyConfig = {MathJaxConfig: 'local'};</script>\n",
              "        <script src=\"https://cdn.plot.ly/plotly-latest.min.js\"></script>    \n",
              "            <div id=\"f7840109-a1ef-499e-a7fb-7d04db747429\" class=\"plotly-graph-div\" style=\"height:525px; width:100%;\"></div>\n",
              "            <script type=\"text/javascript\">\n",
              "                \n",
              "                    window.PLOTLYENV=window.PLOTLYENV || {};\n",
              "                    \n",
              "                if (document.getElementById(\"f7840109-a1ef-499e-a7fb-7d04db747429\")) {\n",
              "                    Plotly.newPlot(\n",
              "                        'f7840109-a1ef-499e-a7fb-7d04db747429',\n",
              "                        [{\"name\": \"Horror\", \"type\": \"box\", \"y\": [3.5090909090909093, 3.458715596330275, 4.161290322580645, 3.9642857142857144, 3.969178082191781, 4.03921568627451, 4.036144578313253, 4.08256880733945, 4.0054945054945055, 3.2, 3.80188679245283, 3.3620689655172415, 3.1206896551724137, 3.3412698412698414, 2.811320754716981, 2.796875, 3.893854748603352, 3.475806451612903, 3.788135593220339, 2.92, 3.6272727272727274, 3.1666666666666665, 3.9741379310344827, 4.0064935064935066, 3.4838709677419355, 3.8773584905660377]}, {\"name\": \"Adventure\", \"type\": \"box\", \"y\": [3.9209302325581397, 3.4318181818181817, 3.496212121212121, 3.0238095238095237, 3.845771144278607, 2.9160583941605838, 2.806451612903226, 2.8771929824561404, 2.9130434782608696, 3.0601503759398496, 4.231075697211155, 3.375, 3.3935185185185186, 3.941860465116279, 3.5, 3.497191011235955, 2.6454545454545455, 3.0346534653465347, 3.0925925925925926, 3.75, 2.9339622641509435, 3.262295081967213, 3.7923497267759565, 3.8353658536585367, 3.537037037037037, 3.0923076923076924, 2.707547169811321, 3.6404958677685952, 3.321138211382114, 3.4455445544554455, 4.184210526315789, 3.880434782608696, 3.8944954128440368, 3.475806451612903, 4.161764705882353, 4.2156398104265405, 4.232394366197183, 4.2075, 3.9642857142857144, 4.145833333333333, 4.137755102040816, 4.03921568627451, 4.0054945054945055, 4.038011695906433, 4.046428571428572, 3.879120879120879, 3.4044117647058822, 3.7661290322580645, 3.535, 3.7456896551724137, 2.753731343283582, 3.0338983050847457, 3.8722222222222222, 3.5701754385964914, 3.5057471264367814, 3.3693181818181817, 2.7573529411764706, 3.34, 3.638888888888889, 3.516304347826087, 3.4537037037037037, 3.175438596491228, 3.1206896551724137, 3.107142857142857, 3.6065573770491803, 3.1983471074380163, 3.653409090909091, 3.839622641509434, 3.5721649484536084, 3.6455696202531644, 3.8608247422680413, 3.58, 3.7416666666666667, 3.358490566037736, 3.9382352941176473, 2.7142857142857144, 3.699248120300752, 3.8085106382978724, 3.8676470588235294, 3.3392857142857144, 3.871212121212121, 3.7616822429906542, 4.106060606060606, 3.6882352941176473, 3.540983606557377, 3.157608695652174, 4.155172413793103, 3.5980392156862746, 4.0212765957446805, 4.1466666666666665, 3.723684210526316, 3.3541666666666665, 3.9609929078014185, 3.778523489932886, 3.151898734177215, 3.903225806451613, 4.118918918918919, 3.5760869565217392, 3.05, 3.913978494623656, 3.8037974683544302, 3.4918032786885247, 3.836, 3.0, 3.4294871794871793, 3.2796610169491527, 3.15, 3.94, 3.816901408450704, 3.443548387096774, 3.5069444444444446, 3.883116883116883, 3.9453125, 3.9444444444444446, 3.7641509433962264, 3.4375, 3.8620689655172415, 3.824468085106383, 4.0576923076923075, 3.864406779661017, 4.004761904761905, 3.8879310344827585, 3.6030927835051547, 3.943396226415094, 4.109090909090909, 3.91, 3.869565217391304, 3.435185185185185, 3.9934210526315788, 3.81, 4.0508474576271185, 3.8333333333333335]}],\n",
              "                        {\"template\": {\"data\": {\"bar\": [{\"error_x\": {\"color\": \"#2a3f5f\"}, \"error_y\": {\"color\": \"#2a3f5f\"}, \"marker\": {\"line\": {\"color\": \"#E5ECF6\", \"width\": 0.5}}, \"type\": \"bar\"}], \"barpolar\": [{\"marker\": {\"line\": {\"color\": \"#E5ECF6\", \"width\": 0.5}}, \"type\": \"barpolar\"}], \"carpet\": [{\"aaxis\": {\"endlinecolor\": \"#2a3f5f\", \"gridcolor\": \"white\", \"linecolor\": \"white\", \"minorgridcolor\": \"white\", \"startlinecolor\": \"#2a3f5f\"}, \"baxis\": {\"endlinecolor\": \"#2a3f5f\", \"gridcolor\": \"white\", \"linecolor\": \"white\", \"minorgridcolor\": \"white\", \"startlinecolor\": \"#2a3f5f\"}, \"type\": \"carpet\"}], \"choropleth\": [{\"colorbar\": {\"outlinewidth\": 0, \"ticks\": \"\"}, \"type\": \"choropleth\"}], \"contour\": [{\"colorbar\": {\"outlinewidth\": 0, \"ticks\": \"\"}, \"colorscale\": [[0.0, \"#0d0887\"], [0.1111111111111111, \"#46039f\"], [0.2222222222222222, \"#7201a8\"], [0.3333333333333333, \"#9c179e\"], [0.4444444444444444, \"#bd3786\"], [0.5555555555555556, \"#d8576b\"], [0.6666666666666666, \"#ed7953\"], [0.7777777777777778, \"#fb9f3a\"], [0.8888888888888888, \"#fdca26\"], [1.0, \"#f0f921\"]], \"type\": \"contour\"}], \"contourcarpet\": [{\"colorbar\": {\"outlinewidth\": 0, \"ticks\": \"\"}, \"type\": \"contourcarpet\"}], \"heatmap\": [{\"colorbar\": {\"outlinewidth\": 0, \"ticks\": \"\"}, \"colorscale\": [[0.0, \"#0d0887\"], [0.1111111111111111, \"#46039f\"], [0.2222222222222222, \"#7201a8\"], [0.3333333333333333, \"#9c179e\"], [0.4444444444444444, \"#bd3786\"], [0.5555555555555556, \"#d8576b\"], [0.6666666666666666, \"#ed7953\"], [0.7777777777777778, \"#fb9f3a\"], [0.8888888888888888, \"#fdca26\"], [1.0, \"#f0f921\"]], \"type\": \"heatmap\"}], \"heatmapgl\": [{\"colorbar\": {\"outlinewidth\": 0, \"ticks\": \"\"}, \"colorscale\": [[0.0, \"#0d0887\"], [0.1111111111111111, \"#46039f\"], [0.2222222222222222, \"#7201a8\"], [0.3333333333333333, \"#9c179e\"], [0.4444444444444444, \"#bd3786\"], [0.5555555555555556, \"#d8576b\"], [0.6666666666666666, \"#ed7953\"], [0.7777777777777778, \"#fb9f3a\"], [0.8888888888888888, \"#fdca26\"], [1.0, \"#f0f921\"]], \"type\": \"heatmapgl\"}], \"histogram\": [{\"marker\": {\"colorbar\": {\"outlinewidth\": 0, \"ticks\": \"\"}}, \"type\": \"histogram\"}], \"histogram2d\": [{\"colorbar\": {\"outlinewidth\": 0, \"ticks\": \"\"}, \"colorscale\": [[0.0, \"#0d0887\"], [0.1111111111111111, \"#46039f\"], [0.2222222222222222, \"#7201a8\"], [0.3333333333333333, \"#9c179e\"], [0.4444444444444444, \"#bd3786\"], [0.5555555555555556, \"#d8576b\"], [0.6666666666666666, \"#ed7953\"], [0.7777777777777778, \"#fb9f3a\"], [0.8888888888888888, \"#fdca26\"], [1.0, \"#f0f921\"]], \"type\": \"histogram2d\"}], \"histogram2dcontour\": [{\"colorbar\": {\"outlinewidth\": 0, \"ticks\": \"\"}, \"colorscale\": [[0.0, \"#0d0887\"], [0.1111111111111111, \"#46039f\"], [0.2222222222222222, \"#7201a8\"], [0.3333333333333333, \"#9c179e\"], [0.4444444444444444, \"#bd3786\"], [0.5555555555555556, \"#d8576b\"], [0.6666666666666666, \"#ed7953\"], [0.7777777777777778, \"#fb9f3a\"], [0.8888888888888888, \"#fdca26\"], [1.0, \"#f0f921\"]], \"type\": \"histogram2dcontour\"}], \"mesh3d\": [{\"colorbar\": {\"outlinewidth\": 0, \"ticks\": \"\"}, \"type\": \"mesh3d\"}], \"parcoords\": [{\"line\": {\"colorbar\": {\"outlinewidth\": 0, \"ticks\": \"\"}}, \"type\": \"parcoords\"}], \"pie\": [{\"automargin\": true, \"type\": \"pie\"}], \"scatter\": [{\"marker\": {\"colorbar\": {\"outlinewidth\": 0, \"ticks\": \"\"}}, \"type\": \"scatter\"}], \"scatter3d\": [{\"line\": {\"colorbar\": {\"outlinewidth\": 0, \"ticks\": \"\"}}, \"marker\": {\"colorbar\": {\"outlinewidth\": 0, \"ticks\": \"\"}}, \"type\": \"scatter3d\"}], \"scattercarpet\": [{\"marker\": {\"colorbar\": {\"outlinewidth\": 0, \"ticks\": \"\"}}, \"type\": \"scattercarpet\"}], \"scattergeo\": [{\"marker\": {\"colorbar\": {\"outlinewidth\": 0, \"ticks\": \"\"}}, \"type\": \"scattergeo\"}], \"scattergl\": [{\"marker\": {\"colorbar\": {\"outlinewidth\": 0, \"ticks\": \"\"}}, \"type\": \"scattergl\"}], \"scattermapbox\": [{\"marker\": {\"colorbar\": {\"outlinewidth\": 0, \"ticks\": \"\"}}, \"type\": \"scattermapbox\"}], \"scatterpolar\": [{\"marker\": {\"colorbar\": {\"outlinewidth\": 0, \"ticks\": \"\"}}, \"type\": \"scatterpolar\"}], \"scatterpolargl\": [{\"marker\": {\"colorbar\": {\"outlinewidth\": 0, \"ticks\": \"\"}}, \"type\": \"scatterpolargl\"}], \"scatterternary\": [{\"marker\": {\"colorbar\": {\"outlinewidth\": 0, \"ticks\": \"\"}}, \"type\": \"scatterternary\"}], \"surface\": [{\"colorbar\": {\"outlinewidth\": 0, \"ticks\": \"\"}, \"colorscale\": [[0.0, \"#0d0887\"], [0.1111111111111111, \"#46039f\"], [0.2222222222222222, \"#7201a8\"], [0.3333333333333333, \"#9c179e\"], [0.4444444444444444, \"#bd3786\"], [0.5555555555555556, \"#d8576b\"], [0.6666666666666666, \"#ed7953\"], [0.7777777777777778, \"#fb9f3a\"], [0.8888888888888888, \"#fdca26\"], [1.0, \"#f0f921\"]], \"type\": \"surface\"}], \"table\": [{\"cells\": {\"fill\": {\"color\": \"#EBF0F8\"}, \"line\": {\"color\": \"white\"}}, \"header\": {\"fill\": {\"color\": \"#C8D4E3\"}, \"line\": {\"color\": \"white\"}}, \"type\": \"table\"}]}, \"layout\": {\"annotationdefaults\": {\"arrowcolor\": \"#2a3f5f\", \"arrowhead\": 0, \"arrowwidth\": 1}, \"coloraxis\": {\"colorbar\": {\"outlinewidth\": 0, \"ticks\": \"\"}}, \"colorscale\": {\"diverging\": [[0, \"#8e0152\"], [0.1, \"#c51b7d\"], [0.2, \"#de77ae\"], [0.3, \"#f1b6da\"], [0.4, \"#fde0ef\"], [0.5, \"#f7f7f7\"], [0.6, \"#e6f5d0\"], [0.7, \"#b8e186\"], [0.8, \"#7fbc41\"], [0.9, \"#4d9221\"], [1, \"#276419\"]], \"sequential\": [[0.0, \"#0d0887\"], [0.1111111111111111, \"#46039f\"], [0.2222222222222222, \"#7201a8\"], [0.3333333333333333, \"#9c179e\"], [0.4444444444444444, \"#bd3786\"], [0.5555555555555556, \"#d8576b\"], [0.6666666666666666, \"#ed7953\"], [0.7777777777777778, \"#fb9f3a\"], [0.8888888888888888, \"#fdca26\"], [1.0, \"#f0f921\"]], \"sequentialminus\": [[0.0, \"#0d0887\"], [0.1111111111111111, \"#46039f\"], [0.2222222222222222, \"#7201a8\"], [0.3333333333333333, \"#9c179e\"], [0.4444444444444444, \"#bd3786\"], [0.5555555555555556, \"#d8576b\"], [0.6666666666666666, \"#ed7953\"], [0.7777777777777778, \"#fb9f3a\"], [0.8888888888888888, \"#fdca26\"], [1.0, \"#f0f921\"]]}, \"colorway\": [\"#636efa\", \"#EF553B\", \"#00cc96\", \"#ab63fa\", \"#FFA15A\", \"#19d3f3\", \"#FF6692\", \"#B6E880\", \"#FF97FF\", \"#FECB52\"], \"font\": {\"color\": \"#2a3f5f\"}, \"geo\": {\"bgcolor\": \"white\", \"lakecolor\": \"white\", \"landcolor\": \"#E5ECF6\", \"showlakes\": true, \"showland\": true, \"subunitcolor\": \"white\"}, \"hoverlabel\": {\"align\": \"left\"}, \"hovermode\": \"closest\", \"mapbox\": {\"style\": \"light\"}, \"paper_bgcolor\": \"white\", \"plot_bgcolor\": \"#E5ECF6\", \"polar\": {\"angularaxis\": {\"gridcolor\": \"white\", \"linecolor\": \"white\", \"ticks\": \"\"}, \"bgcolor\": \"#E5ECF6\", \"radialaxis\": {\"gridcolor\": \"white\", \"linecolor\": \"white\", \"ticks\": \"\"}}, \"scene\": {\"xaxis\": {\"backgroundcolor\": \"#E5ECF6\", \"gridcolor\": \"white\", \"gridwidth\": 2, \"linecolor\": \"white\", \"showbackground\": true, \"ticks\": \"\", \"zerolinecolor\": \"white\"}, \"yaxis\": {\"backgroundcolor\": \"#E5ECF6\", \"gridcolor\": \"white\", \"gridwidth\": 2, \"linecolor\": \"white\", \"showbackground\": true, \"ticks\": \"\", \"zerolinecolor\": \"white\"}, \"zaxis\": {\"backgroundcolor\": \"#E5ECF6\", \"gridcolor\": \"white\", \"gridwidth\": 2, \"linecolor\": \"white\", \"showbackground\": true, \"ticks\": \"\", \"zerolinecolor\": \"white\"}}, \"shapedefaults\": {\"line\": {\"color\": \"#2a3f5f\"}}, \"ternary\": {\"aaxis\": {\"gridcolor\": \"white\", \"linecolor\": \"white\", \"ticks\": \"\"}, \"baxis\": {\"gridcolor\": \"white\", \"linecolor\": \"white\", \"ticks\": \"\"}, \"bgcolor\": \"#E5ECF6\", \"caxis\": {\"gridcolor\": \"white\", \"linecolor\": \"white\", \"ticks\": \"\"}}, \"title\": {\"x\": 0.05}, \"xaxis\": {\"automargin\": true, \"gridcolor\": \"white\", \"linecolor\": \"white\", \"ticks\": \"\", \"title\": {\"standoff\": 15}, \"zerolinecolor\": \"white\", \"zerolinewidth\": 2}, \"yaxis\": {\"automargin\": true, \"gridcolor\": \"white\", \"linecolor\": \"white\", \"ticks\": \"\", \"title\": {\"standoff\": 15}, \"zerolinecolor\": \"white\", \"zerolinewidth\": 2}}}, \"title\": {\"text\": \"boxplot dos generos horror e aventura\", \"x\": 0.5, \"xanchor\": \"center\", \"yanchor\": \"top\"}, \"xaxis\": {\"title\": {\"text\": \"Generos\"}}, \"yaxis\": {\"title\": {\"text\": \"M\\u00e9dia dos votos\"}}},\n",
              "                        {\"responsive\": true}\n",
              "                    ).then(function(){\n",
              "                            \n",
              "var gd = document.getElementById('f7840109-a1ef-499e-a7fb-7d04db747429');\n",
              "var x = new MutationObserver(function (mutations, observer) {{\n",
              "        var display = window.getComputedStyle(gd).display;\n",
              "        if (!display || display === 'none') {{\n",
              "            console.log([gd, 'removed!']);\n",
              "            Plotly.purge(gd);\n",
              "            observer.disconnect();\n",
              "        }}\n",
              "}});\n",
              "\n",
              "// Listen for the removal of the full notebook cells\n",
              "var notebookContainer = gd.closest('#notebook-container');\n",
              "if (notebookContainer) {{\n",
              "    x.observe(notebookContainer, {childList: true});\n",
              "}}\n",
              "\n",
              "// Listen for the clearing of the current output cell\n",
              "var outputEl = gd.closest('.output');\n",
              "if (outputEl) {{\n",
              "    x.observe(outputEl, {childList: true});\n",
              "}}\n",
              "\n",
              "                        })\n",
              "                };\n",
              "                \n",
              "            </script>\n",
              "        </div>\n",
              "</body>\n",
              "</html>"
            ]
          },
          "metadata": {
            "tags": []
          }
        }
      ]
    },
    {
      "cell_type": "code",
      "metadata": {
        "id": "CPd8z9rrW6hW",
        "colab_type": "code",
        "colab": {}
      },
      "source": [
        ""
      ],
      "execution_count": 126,
      "outputs": []
    },
    {
      "cell_type": "markdown",
      "metadata": {
        "id": "UFFP-uhXW6hY",
        "colab_type": "text"
      },
      "source": [
        "## Pergunta: Quero fazer um filme que seja sucesso de crítica, com pessoas dando notas altas, mesmo que não tenha um número muito grande de pessoas assistindo. Qual gênero você recomenda se tenho que escolher somente um entre `Adventure` e `Horror`?"
      ]
    },
    {
      "cell_type": "markdown",
      "metadata": {
        "id": "bcNylFqIW6hZ",
        "colab_type": "text"
      },
      "source": [
        "### Solução:\n",
        "\n",
        "As notas dos filmes estão bem parecidas, conseguimos visualizar que os dois filmes tem 25% das notas acima de 3.9\n",
        "A maior nota fica com o genero aventura que é 4.2, sendo assim minha decisão seria ainda o genero aventura\n"
      ]
    },
    {
      "cell_type": "markdown",
      "metadata": {
        "id": "kmj5zFQ1W6hZ",
        "colab_type": "text"
      },
      "source": [
        "## Pergunta: nossa análise foi até então visual. Aplique um teste estatístico para verificar se existe significância estatística na distribuição das notas dos filmes de `Adventure` e `Horror`.\n",
        "\n",
        "Passos:\n",
        "\n",
        "- visualize a distribuição de ambas através de histogramas\n",
        "- se suspeitar normalidade na distribuição, faça um teste de normalidade para ambas\n",
        "- aplique um teste adequado de comparação das distribuições\n",
        "- explique o resultado encontrado\n",
        "- utilize p=0.05"
      ]
    },
    {
      "cell_type": "code",
      "metadata": {
        "id": "BTBJeMIsW6hb",
        "colab_type": "code",
        "colab": {
          "base_uri": "https://localhost:8080/",
          "height": 542
        },
        "outputId": "53ddcfea-12fe-424f-d693-5c624d783df9"
      },
      "source": [
        "# solucao histograma de aventura\n",
        "\n",
        "x = adventure\n",
        "hist_data = [x]\n",
        "group_labels = ['Total de Votos']\n",
        "\n",
        "fig = ff.create_distplot(hist_data, group_labels, bin_size=0)\n",
        "\n",
        "nomear_grafico(fig, 'Histogramas do genero Aventura', 'Votos')\n",
        "fig.show()\n"
      ],
      "execution_count": 127,
      "outputs": [
        {
          "output_type": "display_data",
          "data": {
            "text/html": [
              "<html>\n",
              "<head><meta charset=\"utf-8\" /></head>\n",
              "<body>\n",
              "    <div>\n",
              "            <script src=\"https://cdnjs.cloudflare.com/ajax/libs/mathjax/2.7.5/MathJax.js?config=TeX-AMS-MML_SVG\"></script><script type=\"text/javascript\">if (window.MathJax) {MathJax.Hub.Config({SVG: {font: \"STIX-Web\"}});}</script>\n",
              "                <script type=\"text/javascript\">window.PlotlyConfig = {MathJaxConfig: 'local'};</script>\n",
              "        <script src=\"https://cdn.plot.ly/plotly-latest.min.js\"></script>    \n",
              "            <div id=\"7cb1e69b-85c6-45af-8cfc-fd0b77baf0b7\" class=\"plotly-graph-div\" style=\"height:525px; width:100%;\"></div>\n",
              "            <script type=\"text/javascript\">\n",
              "                \n",
              "                    window.PLOTLYENV=window.PLOTLYENV || {};\n",
              "                    \n",
              "                if (document.getElementById(\"7cb1e69b-85c6-45af-8cfc-fd0b77baf0b7\")) {\n",
              "                    Plotly.newPlot(\n",
              "                        '7cb1e69b-85c6-45af-8cfc-fd0b77baf0b7',\n",
              "                        [{\"autobinx\": false, \"histnorm\": \"probability density\", \"legendgroup\": \"Total de Votos\", \"marker\": {\"color\": \"rgb(31, 119, 180)\"}, \"name\": \"Total de Votos\", \"opacity\": 0.7, \"type\": \"histogram\", \"x\": [3.9209302325581397, 3.4318181818181817, 3.496212121212121, 3.0238095238095237, 3.845771144278607, 2.9160583941605838, 2.806451612903226, 2.8771929824561404, 2.9130434782608696, 3.0601503759398496, 4.231075697211155, 3.375, 3.3935185185185186, 3.941860465116279, 3.5, 3.497191011235955, 2.6454545454545455, 3.0346534653465347, 3.0925925925925926, 3.75, 2.9339622641509435, 3.262295081967213, 3.7923497267759565, 3.8353658536585367, 3.537037037037037, 3.0923076923076924, 2.707547169811321, 3.6404958677685952, 3.321138211382114, 3.4455445544554455, 4.184210526315789, 3.880434782608696, 3.8944954128440368, 3.475806451612903, 4.161764705882353, 4.2156398104265405, 4.232394366197183, 4.2075, 3.9642857142857144, 4.145833333333333, 4.137755102040816, 4.03921568627451, 4.0054945054945055, 4.038011695906433, 4.046428571428572, 3.879120879120879, 3.4044117647058822, 3.7661290322580645, 3.535, 3.7456896551724137, 2.753731343283582, 3.0338983050847457, 3.8722222222222222, 3.5701754385964914, 3.5057471264367814, 3.3693181818181817, 2.7573529411764706, 3.34, 3.638888888888889, 3.516304347826087, 3.4537037037037037, 3.175438596491228, 3.1206896551724137, 3.107142857142857, 3.6065573770491803, 3.1983471074380163, 3.653409090909091, 3.839622641509434, 3.5721649484536084, 3.6455696202531644, 3.8608247422680413, 3.58, 3.7416666666666667, 3.358490566037736, 3.9382352941176473, 2.7142857142857144, 3.699248120300752, 3.8085106382978724, 3.8676470588235294, 3.3392857142857144, 3.871212121212121, 3.7616822429906542, 4.106060606060606, 3.6882352941176473, 3.540983606557377, 3.157608695652174, 4.155172413793103, 3.5980392156862746, 4.0212765957446805, 4.1466666666666665, 3.723684210526316, 3.3541666666666665, 3.9609929078014185, 3.778523489932886, 3.151898734177215, 3.903225806451613, 4.118918918918919, 3.5760869565217392, 3.05, 3.913978494623656, 3.8037974683544302, 3.4918032786885247, 3.836, 3.0, 3.4294871794871793, 3.2796610169491527, 3.15, 3.94, 3.816901408450704, 3.443548387096774, 3.5069444444444446, 3.883116883116883, 3.9453125, 3.9444444444444446, 3.7641509433962264, 3.4375, 3.8620689655172415, 3.824468085106383, 4.0576923076923075, 3.864406779661017, 4.004761904761905, 3.8879310344827585, 3.6030927835051547, 3.943396226415094, 4.109090909090909, 3.91, 3.869565217391304, 3.435185185185185, 3.9934210526315788, 3.81, 4.0508474576271185, 3.8333333333333335], \"xaxis\": \"x\", \"xbins\": {\"end\": 4.232394366197183, \"size\": 0, \"start\": 2.6454545454545455}, \"yaxis\": \"y\"}, {\"legendgroup\": \"Total de Votos\", \"marker\": {\"color\": \"rgb(31, 119, 180)\"}, \"mode\": \"lines\", \"name\": \"Total de Votos\", \"showlegend\": false, \"type\": \"scatter\", \"x\": [2.6454545454545455, 2.648628425096031, 2.651802304737516, 2.6549761843790014, 2.6581500640204867, 2.661323943661972, 2.6644978233034573, 2.6676717029449426, 2.670845582586428, 2.6740194622279128, 2.677193341869398, 2.6803672215108834, 2.6835411011523687, 2.686714980793854, 2.6898888604353393, 2.6930627400768246, 2.69623661971831, 2.699410499359795, 2.7025843790012805, 2.7057582586427658, 2.708932138284251, 2.7121060179257364, 2.7152798975672217, 2.718453777208707, 2.7216276568501923, 2.7248015364916776, 2.727975416133163, 2.7311492957746477, 2.734323175416133, 2.7374970550576183, 2.7406709346991036, 2.743844814340589, 2.747018693982074, 2.7501925736235595, 2.753366453265045, 2.75654033290653, 2.7597142125480154, 2.7628880921895007, 2.766061971830986, 2.7692358514724713, 2.7724097311139566, 2.775583610755442, 2.778757490396927, 2.7819313700384125, 2.785105249679898, 2.788279129321383, 2.791453008962868, 2.7946268886043533, 2.7978007682458386, 2.800974647887324, 2.804148527528809, 2.8073224071702945, 2.8104962868117798, 2.813670166453265, 2.8168440460947504, 2.8200179257362357, 2.823191805377721, 2.8263656850192063, 2.8295395646606916, 2.832713444302177, 2.835887323943662, 2.8390612035851475, 2.8422350832266328, 2.8454089628681176, 2.848582842509603, 2.851756722151088, 2.8549306017925735, 2.858104481434059, 2.861278361075544, 2.8644522407170294, 2.8676261203585147, 2.8708, 2.8739738796414853, 2.8771477592829706, 2.880321638924456, 2.883495518565941, 2.8866693982074265, 2.889843277848912, 2.893017157490397, 2.8961910371318824, 2.8993649167733677, 2.9025387964148526, 2.9057126760563383, 2.908886555697823, 2.9120604353393085, 2.9152343149807938, 2.918408194622279, 2.9215820742637644, 2.9247559539052497, 2.927929833546735, 2.9311037131882203, 2.9342775928297056, 2.937451472471191, 2.940625352112676, 2.9437992317541615, 2.9469731113956468, 2.950146991037132, 2.953320870678617, 2.9564947503201022, 2.9596686299615875, 2.962842509603073, 2.966016389244558, 2.9691902688860434, 2.9723641485275287, 2.975538028169014, 2.9787119078104993, 2.9818857874519846, 2.98505966709347, 2.9882335467349552, 2.9914074263764405, 2.994581306017926, 2.997755185659411, 3.0009290653008964, 3.0041029449423817, 3.007276824583867, 3.0104507042253523, 3.0136245838668376, 3.016798463508323, 3.019972343149808, 3.023146222791293, 3.0263201024327784, 3.0294939820742637, 3.032667861715749, 3.0358417413572343, 3.0390156209987196, 3.042189500640205, 3.04536338028169, 3.0485372599231755, 3.051711139564661, 3.054885019206146, 3.0580588988476314, 3.0612327784891167, 3.064406658130602, 3.0675805377720873, 3.070754417413572, 3.0739282970550574, 3.0771021766965427, 3.080276056338028, 3.0834499359795133, 3.0866238156209986, 3.089797695262484, 3.0929715749039692, 3.0961454545454545, 3.09931933418694, 3.102493213828425, 3.1056670934699104, 3.1088409731113957, 3.112014852752881, 3.1151887323943663, 3.1183626120358516, 3.121536491677337, 3.1247103713188222, 3.1278842509603075, 3.131058130601793, 3.1342320102432777, 3.137405889884763, 3.1405797695262483, 3.1437536491677336, 3.146927528809219, 3.150101408450704, 3.1532752880921895, 3.156449167733675, 3.15962304737516, 3.1627969270166454, 3.1659708066581307, 3.169144686299616, 3.1723185659411013, 3.1754924455825866, 3.1786663252240714, 3.1818402048655567, 3.185014084507042, 3.1881879641485273, 3.1913618437900126, 3.194535723431498, 3.1977096030729832, 3.2008834827144685, 3.204057362355954, 3.207231241997439, 3.2104051216389244, 3.2135790012804097, 3.216752880921895, 3.2199267605633803, 3.2231006402048656, 3.226274519846351, 3.2294483994878362, 3.2326222791293215, 3.235796158770807, 3.238970038412292, 3.2421439180537774, 3.2453177976952627, 3.248491677336748, 3.251665556978233, 3.254839436619718, 3.2580133162612035, 3.261187195902689, 3.264361075544174, 3.2675349551856594, 3.2707088348271447, 3.27388271446863, 3.2770565941101153, 3.2802304737516006, 3.283404353393086, 3.286578233034571, 3.289752112676056, 3.2929259923175414, 3.296099871959027, 3.299273751600512, 3.3024476312419973, 3.3056215108834826, 3.308795390524968, 3.311969270166453, 3.3151431498079384, 3.3183170294494237, 3.321490909090909, 3.3246647887323943, 3.3278386683738796, 3.331012548015365, 3.3341864276568502, 3.3373603072983355, 3.340534186939821, 3.343708066581306, 3.3468819462227914, 3.3500558258642767, 3.353229705505762, 3.3564035851472473, 3.3595774647887326, 3.3627513444302175, 3.365925224071703, 3.369099103713188, 3.3722729833546734, 3.3754468629961587, 3.378620742637644, 3.3817946222791293, 3.3849685019206146, 3.3881423815621, 3.391316261203585, 3.3944901408450705, 3.397664020486556, 3.4008379001280407, 3.4040117797695264, 3.4071856594110117, 3.4103595390524966, 3.413533418693982, 3.416707298335467, 3.4198811779769525, 3.4230550576184378, 3.426228937259923, 3.4294028169014084, 3.4325766965428937, 3.435750576184379, 3.4389244558258643, 3.4420983354673496, 3.445272215108835, 3.44844609475032, 3.4516199743918055, 3.4547938540332908, 3.457967733674776, 3.4611416133162614, 3.4643154929577467, 3.467489372599232, 3.4706632522407173, 3.473837131882202, 3.4770110115236874, 3.480184891165173, 3.483358770806658, 3.4865326504481433, 3.4897065300896286, 3.492880409731114, 3.496054289372599, 3.4992281690140845, 3.50240204865557, 3.505575928297055, 3.5087498079385404, 3.5119236875800257, 3.515097567221511, 3.518271446862996, 3.521445326504481, 3.5246192061459665, 3.5277930857874518, 3.530966965428937, 3.5341408450704224, 3.5373147247119077, 3.540488604353393, 3.5436624839948783, 3.5468363636363636, 3.550010243277849, 3.553184122919334, 3.5563580025608195, 3.5595318822023048, 3.56270576184379, 3.5658796414852754, 3.5690535211267607, 3.572227400768246, 3.5754012804097313, 3.5785751600512166, 3.581749039692702, 3.5849229193341867, 3.5880967989756725, 3.5912706786171578, 3.5944445582586426, 3.597618437900128, 3.600792317541613, 3.6039661971830985, 3.607140076824584, 3.610313956466069, 3.6134878361075544, 3.6166617157490397, 3.619835595390525, 3.6230094750320103, 3.6261833546734956, 3.6293572343149805, 3.6325311139564658, 3.635704993597951, 3.6388788732394364, 3.6420527528809217, 3.645226632522407, 3.6484005121638923, 3.6515743918053776, 3.654748271446863, 3.657922151088348, 3.6610960307298335, 3.6642699103713188, 3.667443790012804, 3.6706176696542894, 3.6737915492957747, 3.67696542893726, 3.6801393085787453, 3.6833131882202306, 3.686487067861716, 3.689660947503201, 3.6928348271446865, 3.6960087067861718, 3.699182586427657, 3.702356466069142, 3.7055303457106277, 3.708704225352113, 3.711878104993598, 3.7150519846350836, 3.7182258642765684, 3.7213997439180537, 3.724573623559539, 3.7277475032010243, 3.730921382842509, 3.734095262483995, 3.7372691421254802, 3.740443021766965, 3.743616901408451, 3.7467907810499357, 3.749964660691421, 3.7531385403329063, 3.7563124199743916, 3.759486299615877, 3.762660179257362, 3.7658340588988475, 3.769007938540333, 3.772181818181818, 3.7753556978233034, 3.7785295774647887, 3.781703457106274, 3.7848773367477593, 3.7880512163892446, 3.79122509603073, 3.794398975672215, 3.7975728553137005, 3.800746734955186, 3.803920614596671, 3.8070944942381564, 3.8102683738796412, 3.813442253521127, 3.8166161331626123, 3.819790012804097, 3.822963892445583, 3.8261377720870677, 3.829311651728553, 3.8324855313700383, 3.8356594110115236, 3.838833290653009, 3.8420071702944942, 3.8451810499359795, 3.8483549295774644, 3.85152880921895, 3.854702688860435, 3.8578765685019203, 3.8610504481434056, 3.864224327784891, 3.867398207426376, 3.8705720870678615, 3.873745966709347, 3.876919846350832, 3.8800937259923174, 3.8832676056338027, 3.886441485275288, 3.8896153649167733, 3.8927892445582586, 3.895963124199744, 3.899137003841229, 3.9023108834827145, 3.9054847631242, 3.908658642765685, 3.9118325224071704, 3.9150064020486557, 3.918180281690141, 3.9213541613316263, 3.9245280409731116, 3.927701920614597, 3.930875800256082, 3.934049679897567, 3.937223559539053, 3.9403974391805376, 3.943571318822023, 3.9467451984635087, 3.9499190781049935, 3.953092957746479, 3.956266837387964, 3.9594407170294494, 3.9626145966709343, 3.9657884763124196, 3.968962355953905, 3.97213623559539, 3.9753101152368755, 3.978483994878361, 3.981657874519846, 3.9848317541613314, 3.9880056338028167, 3.991179513444302, 3.9943533930857873, 3.9975272727272726, 4.000701152368758, 4.003875032010243, 4.0070489116517285, 4.010222791293214, 4.013396670934699, 4.016570550576184, 4.01974443021767, 4.022918309859155, 4.02609218950064, 4.029266069142126, 4.032439948783611, 4.035613828425096, 4.0387877080665815, 4.041961587708066, 4.045135467349552, 4.0483093469910365, 4.051483226632522, 4.054657106274008, 4.057830985915492, 4.061004865556978, 4.064178745198463, 4.067352624839948, 4.070526504481434, 4.073700384122919, 4.076874263764404, 4.0800481434058895, 4.083222023047375, 4.08639590268886, 4.089569782330345, 4.092743661971831, 4.095917541613316, 4.099091421254801, 4.102265300896287, 4.105439180537772, 4.108613060179257, 4.1117869398207425, 4.114960819462228, 4.118134699103713, 4.121308578745198, 4.124482458386684, 4.127656338028169, 4.130830217669654, 4.13400409731114, 4.137177976952625, 4.14035185659411, 4.1435257362355955, 4.146699615877081, 4.149873495518566, 4.153047375160051, 4.156221254801537, 4.159395134443022, 4.162569014084507, 4.165742893725993, 4.168916773367478, 4.172090653008963, 4.1752645326504485, 4.178438412291933, 4.181612291933419, 4.184786171574904, 4.187960051216389, 4.191133930857875, 4.194307810499359, 4.197481690140845, 4.20065556978233, 4.203829449423815, 4.207003329065301, 4.210177208706786, 4.213351088348271, 4.2165249679897565, 4.219698847631242, 4.222872727272727, 4.226046606914212, 4.229220486555698], \"xaxis\": \"x\", \"y\": [0.12163425523082577, 0.12367192648335545, 0.1257113516987995, 0.12775196385103116, 0.1297932156085661, 0.13183458060779257, 0.13387555467551207, 0.1359156569964145, 0.13795443122122936, 0.13999144651141793, 0.14202629851643647, 0.14405861027974382, 0.14608803306992404, 0.14811424713347568, 0.15013696236603682, 0.15215591889902985, 0.15417088759895317, 0.1561816704767859, 0.15818810100524058, 0.16019004434185768, 0.16218739745623179, 0.16418008915993088, 0.16616808003798358, 0.16815136228110214, 0.17012995941813028, 0.17210392594851365, 0.17407334687491496, 0.1760383371364214, 0.17799904094311142, 0.17995563101308437, 0.1819083077133739, 0.18385729810649606, 0.1858028549047089, 0.18774525533437106, 0.1896847999131147, 0.19162181114284274, 0.19355663212187982, 0.195489625079883, 0.1974211698394264, 0.19935166220842518, 0.2012815123078583, 0.20321114283947636, 0.20514098729844624, 0.20707148813609816, 0.2090030948781584, 0.21093626220405737, 0.2128714479930756, 0.21480911134326944, 0.21674971056925796, 0.21869370118509526, 0.22064153387856314, 0.22259365248331617, 0.224550491955389, 0.22651247636063854, 0.228480016879727, 0.23045350983727417, 0.23243333476181063, 0.2344198524831333, 0.23641340327363905, 0.23841430504013017, 0.24042285157253157, 0.2424393108558302, 0.24446392345145143, 0.24649690095412352, 0.2485384245301454, 0.2505886435427671, 0.2526476742702207, 0.2547155987216993, 0.25679246355636753, 0.2588782791102155, 0.2609730185353178, 0.2630766170557619, 0.26518897134420794, 0.26730993902274097, 0.26943933829132555, 0.27157694768684515, 0.2737225059753465, 0.2758757121797384, 0.27803622574481535, 0.28020366684109693, 0.282377616808559, 0.28455761874093505, 0.2867431782108607, 0.28893376413568883, 0.2911288097834136, 0.29332771391767587, 0.29552984208042316, 0.2977345280103391, 0.29994107519474533, 0.3021487585522239, 0.3043568262428013, 0.3065645016020881, 0.3087709851953571, 0.31097545698711965, 0.31317707862135735, 0.31537499580715134, 0.3175683408040758, 0.31975623500132966, 0.3219377915842095, 0.32411211828118247, 0.3262783201844667, 0.3284355026367032, 0.3305827741759957, 0.33271924953130877, 0.334844052659931, 0.3369563198184763, 0.33905520265865446, 0.3411398713388399, 0.34320951764228985, 0.34526335809269043, 0.34730063705759884, 0.34932062983021783, 0.3513226456798823, 0.3533060308615645, 0.35527017157470414, 0.35721449686164686, 0.3591384814360408, 0.36104164843157704, 0.36292357206157044, 0.36478388018000174, 0.36662225673478677, 0.368438444104234, 0.37023224530786314, 0.3720035260830024, 0.37375221681886345, 0.37547831434008566, 0.3771818835320901, 0.378863058800938, 0.38052204536077205, 0.38215912034235383, 0.38377463371663095, 0.38536900902775095, 0.3869427439304208, 0.3884964105270293, 0.39003065550047955, 0.3915462000392348, 0.3930438395516534, 0.39452444316727403, 0.3959889530233209, 0.3974383833353056, 0.39887381925124415, 0.40029641548962763, 0.40170739476194117, 0.40310804598117084, 0.4044997222583928, 0.40588383869018546, 0.40726186994027, 0.40863534761942066, 0.41000585746834595, 0.41137503634885875, 0.41274456904930534, 0.41411618491080676, 0.415491654281505, 0.4168727848065504, 0.418261417562175, 0.41965942304270537, 0.4210686970099214, 0.42249115621465083, 0.4239287340009768, 0.4253833758038663, 0.4268570345514629, 0.4283516659836635, 0.4298692238989502, 0.4314116553417814, 0.4329808957431187, 0.43457886402692364, 0.4362074576956681, 0.4378685479080725, 0.43956397456243373, 0.44129554139898214, 0.44306501113478036, 0.4448741006446817, 0.4467244762018476, 0.4486177487912525, 0.45055546950950554, 0.4525391250641665, 0.4545701333855553, 0.4566498393638229, 0.458779510723785, 0.46096033404973663, 0.4631934109721032, 0.46547975452742474, 0.467820285702755, 0.4702158301751228, 0.47266711525620986, 0.4751747670519144, 0.4777393078459227, 0.48036115371585086, 0.48304061238993334, 0.48577788135162076, 0.48857304619881675, 0.49142607926382814, 0.4943368384994402, 0.4973050666358167, 0.5003303906122606, 0.5034123212871169, 0.506550253428407, 0.5097434659870462, 0.5129911226537366, 0.5162922726999325, 0.519645852102494, 0.5230506849509298, 0.5265054851353809, 0.5300088583127837, 0.5335593041479021, 0.5371552188252255, 0.5407948978270165, 0.5444765389721022, 0.5481982457093347, 0.5519580306589648, 0.5557538193945656, 0.5595834544574897, 0.5634446995952578, 0.5673352442147005, 0.5712527080401014, 0.5751946459660936, 0.5791585530945139, 0.5831418699439864, 0.587141987820524, 0.591156254337033, 0.5951819790692199, 0.5992164393350231, 0.6032568860843771, 0.6073005498858169, 0.6113446469961561, 0.6153863854992532, 0.6194229714996665, 0.6234516153568356, 0.6274695379452871, 0.6314739769262726, 0.635462193016153, 0.6394314762368327, 0.6433791521335143, 0.647302587945097, 0.6511991987125785, 0.6550664533109302, 0.6589018803900187, 0.6627030742103125, 0.6664677003592823, 0.6701935013346411, 0.6738783019807656, 0.6775200147649705, 0.6811166448805506, 0.6846662951638623, 0.6881671708130604, 0.6916175838964927, 0.6950159576391353, 0.6983608304759104, 0.7016508598611565, 0.7048848258240148, 0.7080616342599768, 0.7111803199493727, 0.7142400492941106, 0.7172401227645422, 0.7201799770489008, 0.7230591868983756, 0.7258774666614738, 0.7286346715019731, 0.7313307982954099, 0.7339659861997011, 0.7365405168961852, 0.7390548144980457, 0.7415094451237828, 0.7439051161341083, 0.7462426750313494, 0.7485231080212067, 0.7507475382373825, 0.7529172236304087, 0.755033554522692, 0.7570980508325722, 0.7591123589709302, 0.7610782484146379, 0.7629976079618749, 0.7648724416751239, 0.7667048645183613, 0.7684970976957188, 0.7702514636996349, 0.7719703810772226, 0.7736563589243063, 0.7753119911172884, 0.7769399502937039, 0.7785429815929651, 0.7801238961695287, 0.7816855644912889, 0.7832309094366718, 0.7847628992044944, 0.7862845400512332, 0.7877988688709082, 0.7893089456332966, 0.7908178456967293, 0.7923286520121487, 0.793844447235582, 0.7953683057665611, 0.7969032857304096, 0.7984524209226364, 0.8000187127339717, 0.8016051220748426, 0.8032145613182815, 0.8048498862804485, 0.8065138882580515, 0.8082092861420532, 0.8099387186270495, 0.8117047365357366, 0.813509795277764, 0.8153562474622048, 0.8172463356826783, 0.8191821854939629, 0.8211657985986569, 0.8231990462621336, 0.8252836629736746, 0.8274212403712169, 0.8296132214467158, 0.8318608950485608, 0.834165390696927, 0.8365276737273265, 0.8389485407769302, 0.8414286156275156, 0.843968345418136, 0.8465679972397712, 0.8492276551233866, 0.8519472174319015, 0.8547263946656364, 0.8575647076898435, 0.8604614863918736, 0.8634158687745302, 0.8664268004910312, 0.8694930348259505, 0.872613133125304, 0.8757854656778786, 0.8790082130486407, 0.8822793678639508, 0.8855967370470365, 0.8889579445010465, 0.8923604342357031, 0.8958014739324529, 0.8992781589417064, 0.9027874167046377, 0.9063260115907555, 0.9098905501413059, 0.9134774867074091, 0.9170831294706612, 0.9207036468328506, 0.924335074160339, 0.9279733208675994, 0.9316141778233963, 0.9352533250621309, 0.9388863397819304, 0.9425087046101774, 0.946115816116381, 0.9497029935514665, 0.9532654877918961, 0.9567984904663446, 0.9602971432420705, 0.9637565472476177, 0.9671717726079884, 0.9705378680680795, 0.9738498706798381, 0.9771028155283453, 0.9802917454719066, 0.9834117208710865, 0.9864578292816529, 0.9894251950864507, 0.9923089890413519, 0.9951044377106647, 0.997806832767683, 1.0004115401364198, 1.0029140089510196, 1.0053097803098905, 1.00759449580216, 1.0097639057847558, 1.0118138773891474, 1.013740402237573, 1.0155396038494668, 1.01720774471974, 1.0187412330515189, 1.0201366291270566, 1.0213906513015725, 1.0225001816059558, 1.0234622709454673, 1.0242741438827683, 1.0249332029949276, 1.0254370327953115, 1.02578340321262, 1.025970272620676, 1.025995790413931, 1.0258582991250604, 1.0255563360823778, 1.0250886346062256, 1.0244541247448604, 1.0236519335517722, 1.0226813849077134, 1.0215419988921048, 1.020233490709802, 1.0187557691805313, 1.0171089347995754, 1.0152932773795442, 1.0133092732842672, 1.0111575822670198, 1.0088390439263866, 1.006354673794171, 1.0037056590707347, 1.0008933540241218, 0.997919275070205, 0.9947850955519332, 0.9914926402364975, 0.9880438795499396, 0.9844409235693405, 0.9806860157932661, 0.9767815267116353, 0.9727299471965375, 0.9685338817358728, 0.9641960415319288, 0.9597192374871142, 0.9551063730992454, 0.950360437288684, 0.9454844971796249, 0.9404816908576494, 0.9353552201254292, 0.9301083432781848, 0.9247443679201158, 0.9192666438425746, 0.9136785559842542, 0.9079835174930759, 0.9021849629088209, 0.8962863414848479, 0.8902911106665032, 0.8842027297429679, 0.8780246536884936, 0.8717603272080083, 0.8654131790011649, 0.8589866162579036, 0.8524840193975696, 0.8459087370625914, 0.8392640813766372, 0.8325533234760694, 0.8257796893223986, 0.8189463558023246, 0.8120564471207927, 0.8051130314913743, 0.7981191181271299, 0.7910776545339889, 0.7839915241075319, 0.7768635440330142, 0.769696463487258, 0.7624929621401274, 0.7552556489521141, 0.74798706126361, 0.7406896641704835, 0.7333658501795776, 0.7260179391368552, 0.7186481784200839, 0.7112587433870945, 0.7038517380698941, 0.6964291961041996, 0.6889930818832691, 0.6815452919243167, 0.6740876564352111, 0.6666219410687028, 0.6591498488509143, 0.6516730222705098, 0.6441930455145934, 0.636711446837148, 0.6292297010456029, 0.6217492320909941, 0.6142714157470791, 0.6067975823637635, 0.5993290196802281, 0.5918669756832101, 0.5844126614960891, 0.5769672542845862, 0.5695319001651661, 0.562107717102533, 0.5546957977829623, 0.5472972124506106, 0.5399130116944114, 0.5325442291736167, 0.5251918842706176, 0.5178569846601929, 0.510540528784961, 0.5032435082274354, 0.49596690996971704, 0.48871171853255924, 0.481478917986217, 0.474269493826228, 0.46708443470797006, 0.45992473403464573, 0.45279139139398755, 0.44568541383983, 0.4386078170154318, 0.4315596261160653, 0.42454187668936133, 0.4175556152723906, 0.4106018998653748, 0.4036818002425344, 0.39679639810131817, 0.38994678705192165, 0.38313407244966197, 0.37635937107341744, 0.3696238106539243, 0.3629285292563263], \"yaxis\": \"y\"}, {\"legendgroup\": \"Total de Votos\", \"marker\": {\"color\": \"rgb(31, 119, 180)\", \"symbol\": \"line-ns-open\"}, \"mode\": \"markers\", \"name\": \"Total de Votos\", \"showlegend\": false, \"type\": \"scatter\", \"x\": [3.9209302325581397, 3.4318181818181817, 3.496212121212121, 3.0238095238095237, 3.845771144278607, 2.9160583941605838, 2.806451612903226, 2.8771929824561404, 2.9130434782608696, 3.0601503759398496, 4.231075697211155, 3.375, 3.3935185185185186, 3.941860465116279, 3.5, 3.497191011235955, 2.6454545454545455, 3.0346534653465347, 3.0925925925925926, 3.75, 2.9339622641509435, 3.262295081967213, 3.7923497267759565, 3.8353658536585367, 3.537037037037037, 3.0923076923076924, 2.707547169811321, 3.6404958677685952, 3.321138211382114, 3.4455445544554455, 4.184210526315789, 3.880434782608696, 3.8944954128440368, 3.475806451612903, 4.161764705882353, 4.2156398104265405, 4.232394366197183, 4.2075, 3.9642857142857144, 4.145833333333333, 4.137755102040816, 4.03921568627451, 4.0054945054945055, 4.038011695906433, 4.046428571428572, 3.879120879120879, 3.4044117647058822, 3.7661290322580645, 3.535, 3.7456896551724137, 2.753731343283582, 3.0338983050847457, 3.8722222222222222, 3.5701754385964914, 3.5057471264367814, 3.3693181818181817, 2.7573529411764706, 3.34, 3.638888888888889, 3.516304347826087, 3.4537037037037037, 3.175438596491228, 3.1206896551724137, 3.107142857142857, 3.6065573770491803, 3.1983471074380163, 3.653409090909091, 3.839622641509434, 3.5721649484536084, 3.6455696202531644, 3.8608247422680413, 3.58, 3.7416666666666667, 3.358490566037736, 3.9382352941176473, 2.7142857142857144, 3.699248120300752, 3.8085106382978724, 3.8676470588235294, 3.3392857142857144, 3.871212121212121, 3.7616822429906542, 4.106060606060606, 3.6882352941176473, 3.540983606557377, 3.157608695652174, 4.155172413793103, 3.5980392156862746, 4.0212765957446805, 4.1466666666666665, 3.723684210526316, 3.3541666666666665, 3.9609929078014185, 3.778523489932886, 3.151898734177215, 3.903225806451613, 4.118918918918919, 3.5760869565217392, 3.05, 3.913978494623656, 3.8037974683544302, 3.4918032786885247, 3.836, 3.0, 3.4294871794871793, 3.2796610169491527, 3.15, 3.94, 3.816901408450704, 3.443548387096774, 3.5069444444444446, 3.883116883116883, 3.9453125, 3.9444444444444446, 3.7641509433962264, 3.4375, 3.8620689655172415, 3.824468085106383, 4.0576923076923075, 3.864406779661017, 4.004761904761905, 3.8879310344827585, 3.6030927835051547, 3.943396226415094, 4.109090909090909, 3.91, 3.869565217391304, 3.435185185185185, 3.9934210526315788, 3.81, 4.0508474576271185, 3.8333333333333335], \"xaxis\": \"x\", \"y\": [\"Total de Votos\", \"Total de Votos\", \"Total de Votos\", \"Total de Votos\", \"Total de Votos\", \"Total de Votos\", \"Total de Votos\", \"Total de Votos\", \"Total de Votos\", \"Total de Votos\", \"Total de Votos\", \"Total de Votos\", \"Total de Votos\", \"Total de Votos\", \"Total de Votos\", \"Total de Votos\", \"Total de Votos\", \"Total de Votos\", \"Total de Votos\", \"Total de Votos\", \"Total de Votos\", \"Total de Votos\", \"Total de Votos\", \"Total de Votos\", \"Total de Votos\", \"Total de Votos\", \"Total de Votos\", \"Total de Votos\", \"Total de Votos\", \"Total de Votos\", \"Total de Votos\", \"Total de Votos\", \"Total de Votos\", \"Total de Votos\", \"Total de Votos\", \"Total de Votos\", \"Total de Votos\", \"Total de Votos\", \"Total de Votos\", \"Total de Votos\", \"Total de Votos\", \"Total de Votos\", \"Total de Votos\", \"Total de Votos\", \"Total de Votos\", \"Total de Votos\", \"Total de Votos\", \"Total de Votos\", \"Total de Votos\", \"Total de Votos\", \"Total de Votos\", \"Total de Votos\", \"Total de Votos\", \"Total de Votos\", \"Total de Votos\", \"Total de Votos\", \"Total de Votos\", \"Total de Votos\", \"Total de Votos\", \"Total de Votos\", \"Total de Votos\", \"Total de Votos\", \"Total de Votos\", \"Total de Votos\", \"Total de Votos\", \"Total de Votos\", \"Total de Votos\", \"Total de Votos\", \"Total de Votos\", \"Total de Votos\", \"Total de Votos\", \"Total de Votos\", \"Total de Votos\", \"Total de Votos\", \"Total de Votos\", \"Total de Votos\", \"Total de Votos\", \"Total de Votos\", \"Total de Votos\", \"Total de Votos\", \"Total de Votos\", \"Total de Votos\", \"Total de Votos\", \"Total de Votos\", \"Total de Votos\", \"Total de Votos\", \"Total de Votos\", \"Total de Votos\", \"Total de Votos\", \"Total de Votos\", \"Total de Votos\", \"Total de Votos\", \"Total de Votos\", \"Total de Votos\", \"Total de Votos\", \"Total de Votos\", \"Total de Votos\", \"Total de Votos\", \"Total de Votos\", \"Total de Votos\", \"Total de Votos\", \"Total de Votos\", \"Total de Votos\", \"Total de Votos\", \"Total de Votos\", \"Total de Votos\", \"Total de Votos\", \"Total de Votos\", \"Total de Votos\", \"Total de Votos\", \"Total de Votos\", \"Total de Votos\", \"Total de Votos\", \"Total de Votos\", \"Total de Votos\", \"Total de Votos\", \"Total de Votos\", \"Total de Votos\", \"Total de Votos\", \"Total de Votos\", \"Total de Votos\", \"Total de Votos\", \"Total de Votos\", \"Total de Votos\", \"Total de Votos\", \"Total de Votos\", \"Total de Votos\", \"Total de Votos\", \"Total de Votos\", \"Total de Votos\", \"Total de Votos\", \"Total de Votos\"], \"yaxis\": \"y2\"}],\n",
              "                        {\"barmode\": \"overlay\", \"hovermode\": \"closest\", \"legend\": {\"traceorder\": \"reversed\"}, \"template\": {\"data\": {\"bar\": [{\"error_x\": {\"color\": \"#2a3f5f\"}, \"error_y\": {\"color\": \"#2a3f5f\"}, \"marker\": {\"line\": {\"color\": \"#E5ECF6\", \"width\": 0.5}}, \"type\": \"bar\"}], \"barpolar\": [{\"marker\": {\"line\": {\"color\": \"#E5ECF6\", \"width\": 0.5}}, \"type\": \"barpolar\"}], \"carpet\": [{\"aaxis\": {\"endlinecolor\": \"#2a3f5f\", \"gridcolor\": \"white\", \"linecolor\": \"white\", \"minorgridcolor\": \"white\", \"startlinecolor\": \"#2a3f5f\"}, \"baxis\": {\"endlinecolor\": \"#2a3f5f\", \"gridcolor\": \"white\", \"linecolor\": \"white\", \"minorgridcolor\": \"white\", \"startlinecolor\": \"#2a3f5f\"}, \"type\": \"carpet\"}], \"choropleth\": [{\"colorbar\": {\"outlinewidth\": 0, \"ticks\": \"\"}, \"type\": \"choropleth\"}], \"contour\": [{\"colorbar\": {\"outlinewidth\": 0, \"ticks\": \"\"}, \"colorscale\": [[0.0, \"#0d0887\"], [0.1111111111111111, \"#46039f\"], [0.2222222222222222, \"#7201a8\"], [0.3333333333333333, \"#9c179e\"], [0.4444444444444444, \"#bd3786\"], [0.5555555555555556, \"#d8576b\"], [0.6666666666666666, \"#ed7953\"], [0.7777777777777778, \"#fb9f3a\"], [0.8888888888888888, \"#fdca26\"], [1.0, \"#f0f921\"]], \"type\": \"contour\"}], \"contourcarpet\": [{\"colorbar\": {\"outlinewidth\": 0, \"ticks\": \"\"}, \"type\": \"contourcarpet\"}], \"heatmap\": [{\"colorbar\": {\"outlinewidth\": 0, \"ticks\": \"\"}, \"colorscale\": [[0.0, \"#0d0887\"], [0.1111111111111111, \"#46039f\"], [0.2222222222222222, \"#7201a8\"], [0.3333333333333333, \"#9c179e\"], [0.4444444444444444, \"#bd3786\"], [0.5555555555555556, \"#d8576b\"], [0.6666666666666666, \"#ed7953\"], [0.7777777777777778, \"#fb9f3a\"], [0.8888888888888888, \"#fdca26\"], [1.0, \"#f0f921\"]], \"type\": \"heatmap\"}], \"heatmapgl\": [{\"colorbar\": {\"outlinewidth\": 0, \"ticks\": \"\"}, \"colorscale\": [[0.0, \"#0d0887\"], [0.1111111111111111, \"#46039f\"], [0.2222222222222222, \"#7201a8\"], [0.3333333333333333, \"#9c179e\"], [0.4444444444444444, \"#bd3786\"], [0.5555555555555556, \"#d8576b\"], [0.6666666666666666, \"#ed7953\"], [0.7777777777777778, \"#fb9f3a\"], [0.8888888888888888, \"#fdca26\"], [1.0, \"#f0f921\"]], \"type\": \"heatmapgl\"}], \"histogram\": [{\"marker\": {\"colorbar\": {\"outlinewidth\": 0, \"ticks\": \"\"}}, \"type\": \"histogram\"}], \"histogram2d\": [{\"colorbar\": {\"outlinewidth\": 0, \"ticks\": \"\"}, \"colorscale\": [[0.0, \"#0d0887\"], [0.1111111111111111, \"#46039f\"], [0.2222222222222222, \"#7201a8\"], [0.3333333333333333, \"#9c179e\"], [0.4444444444444444, \"#bd3786\"], [0.5555555555555556, \"#d8576b\"], [0.6666666666666666, \"#ed7953\"], [0.7777777777777778, \"#fb9f3a\"], [0.8888888888888888, \"#fdca26\"], [1.0, \"#f0f921\"]], \"type\": \"histogram2d\"}], \"histogram2dcontour\": [{\"colorbar\": {\"outlinewidth\": 0, \"ticks\": \"\"}, \"colorscale\": [[0.0, \"#0d0887\"], [0.1111111111111111, \"#46039f\"], [0.2222222222222222, \"#7201a8\"], [0.3333333333333333, \"#9c179e\"], [0.4444444444444444, \"#bd3786\"], [0.5555555555555556, \"#d8576b\"], [0.6666666666666666, \"#ed7953\"], [0.7777777777777778, \"#fb9f3a\"], [0.8888888888888888, \"#fdca26\"], [1.0, \"#f0f921\"]], \"type\": \"histogram2dcontour\"}], \"mesh3d\": [{\"colorbar\": {\"outlinewidth\": 0, \"ticks\": \"\"}, \"type\": \"mesh3d\"}], \"parcoords\": [{\"line\": {\"colorbar\": {\"outlinewidth\": 0, \"ticks\": \"\"}}, \"type\": \"parcoords\"}], \"pie\": [{\"automargin\": true, \"type\": \"pie\"}], \"scatter\": [{\"marker\": {\"colorbar\": {\"outlinewidth\": 0, \"ticks\": \"\"}}, \"type\": \"scatter\"}], \"scatter3d\": [{\"line\": {\"colorbar\": {\"outlinewidth\": 0, \"ticks\": \"\"}}, \"marker\": {\"colorbar\": {\"outlinewidth\": 0, \"ticks\": \"\"}}, \"type\": \"scatter3d\"}], \"scattercarpet\": [{\"marker\": {\"colorbar\": {\"outlinewidth\": 0, \"ticks\": \"\"}}, \"type\": \"scattercarpet\"}], \"scattergeo\": [{\"marker\": {\"colorbar\": {\"outlinewidth\": 0, \"ticks\": \"\"}}, \"type\": \"scattergeo\"}], \"scattergl\": [{\"marker\": {\"colorbar\": {\"outlinewidth\": 0, \"ticks\": \"\"}}, \"type\": \"scattergl\"}], \"scattermapbox\": [{\"marker\": {\"colorbar\": {\"outlinewidth\": 0, \"ticks\": \"\"}}, \"type\": \"scattermapbox\"}], \"scatterpolar\": [{\"marker\": {\"colorbar\": {\"outlinewidth\": 0, \"ticks\": \"\"}}, \"type\": \"scatterpolar\"}], \"scatterpolargl\": [{\"marker\": {\"colorbar\": {\"outlinewidth\": 0, \"ticks\": \"\"}}, \"type\": \"scatterpolargl\"}], \"scatterternary\": [{\"marker\": {\"colorbar\": {\"outlinewidth\": 0, \"ticks\": \"\"}}, \"type\": \"scatterternary\"}], \"surface\": [{\"colorbar\": {\"outlinewidth\": 0, \"ticks\": \"\"}, \"colorscale\": [[0.0, \"#0d0887\"], [0.1111111111111111, \"#46039f\"], [0.2222222222222222, \"#7201a8\"], [0.3333333333333333, \"#9c179e\"], [0.4444444444444444, \"#bd3786\"], [0.5555555555555556, \"#d8576b\"], [0.6666666666666666, \"#ed7953\"], [0.7777777777777778, \"#fb9f3a\"], [0.8888888888888888, \"#fdca26\"], [1.0, \"#f0f921\"]], \"type\": \"surface\"}], \"table\": [{\"cells\": {\"fill\": {\"color\": \"#EBF0F8\"}, \"line\": {\"color\": \"white\"}}, \"header\": {\"fill\": {\"color\": \"#C8D4E3\"}, \"line\": {\"color\": \"white\"}}, \"type\": \"table\"}]}, \"layout\": {\"annotationdefaults\": {\"arrowcolor\": \"#2a3f5f\", \"arrowhead\": 0, \"arrowwidth\": 1}, \"coloraxis\": {\"colorbar\": {\"outlinewidth\": 0, \"ticks\": \"\"}}, \"colorscale\": {\"diverging\": [[0, \"#8e0152\"], [0.1, \"#c51b7d\"], [0.2, \"#de77ae\"], [0.3, \"#f1b6da\"], [0.4, \"#fde0ef\"], [0.5, \"#f7f7f7\"], [0.6, \"#e6f5d0\"], [0.7, \"#b8e186\"], [0.8, \"#7fbc41\"], [0.9, \"#4d9221\"], [1, \"#276419\"]], \"sequential\": [[0.0, \"#0d0887\"], [0.1111111111111111, \"#46039f\"], [0.2222222222222222, \"#7201a8\"], [0.3333333333333333, \"#9c179e\"], [0.4444444444444444, \"#bd3786\"], [0.5555555555555556, \"#d8576b\"], [0.6666666666666666, \"#ed7953\"], [0.7777777777777778, \"#fb9f3a\"], [0.8888888888888888, \"#fdca26\"], [1.0, \"#f0f921\"]], \"sequentialminus\": [[0.0, \"#0d0887\"], [0.1111111111111111, \"#46039f\"], [0.2222222222222222, \"#7201a8\"], [0.3333333333333333, \"#9c179e\"], [0.4444444444444444, \"#bd3786\"], [0.5555555555555556, \"#d8576b\"], [0.6666666666666666, \"#ed7953\"], [0.7777777777777778, \"#fb9f3a\"], [0.8888888888888888, \"#fdca26\"], [1.0, \"#f0f921\"]]}, \"colorway\": [\"#636efa\", \"#EF553B\", \"#00cc96\", \"#ab63fa\", \"#FFA15A\", \"#19d3f3\", \"#FF6692\", \"#B6E880\", \"#FF97FF\", \"#FECB52\"], \"font\": {\"color\": \"#2a3f5f\"}, \"geo\": {\"bgcolor\": \"white\", \"lakecolor\": \"white\", \"landcolor\": \"#E5ECF6\", \"showlakes\": true, \"showland\": true, \"subunitcolor\": \"white\"}, \"hoverlabel\": {\"align\": \"left\"}, \"hovermode\": \"closest\", \"mapbox\": {\"style\": \"light\"}, \"paper_bgcolor\": \"white\", \"plot_bgcolor\": \"#E5ECF6\", \"polar\": {\"angularaxis\": {\"gridcolor\": \"white\", \"linecolor\": \"white\", \"ticks\": \"\"}, \"bgcolor\": \"#E5ECF6\", \"radialaxis\": {\"gridcolor\": \"white\", \"linecolor\": \"white\", \"ticks\": \"\"}}, \"scene\": {\"xaxis\": {\"backgroundcolor\": \"#E5ECF6\", \"gridcolor\": \"white\", \"gridwidth\": 2, \"linecolor\": \"white\", \"showbackground\": true, \"ticks\": \"\", \"zerolinecolor\": \"white\"}, \"yaxis\": {\"backgroundcolor\": \"#E5ECF6\", \"gridcolor\": \"white\", \"gridwidth\": 2, \"linecolor\": \"white\", \"showbackground\": true, \"ticks\": \"\", \"zerolinecolor\": \"white\"}, \"zaxis\": {\"backgroundcolor\": \"#E5ECF6\", \"gridcolor\": \"white\", \"gridwidth\": 2, \"linecolor\": \"white\", \"showbackground\": true, \"ticks\": \"\", \"zerolinecolor\": \"white\"}}, \"shapedefaults\": {\"line\": {\"color\": \"#2a3f5f\"}}, \"ternary\": {\"aaxis\": {\"gridcolor\": \"white\", \"linecolor\": \"white\", \"ticks\": \"\"}, \"baxis\": {\"gridcolor\": \"white\", \"linecolor\": \"white\", \"ticks\": \"\"}, \"bgcolor\": \"#E5ECF6\", \"caxis\": {\"gridcolor\": \"white\", \"linecolor\": \"white\", \"ticks\": \"\"}}, \"title\": {\"x\": 0.05}, \"xaxis\": {\"automargin\": true, \"gridcolor\": \"white\", \"linecolor\": \"white\", \"ticks\": \"\", \"title\": {\"standoff\": 15}, \"zerolinecolor\": \"white\", \"zerolinewidth\": 2}, \"yaxis\": {\"automargin\": true, \"gridcolor\": \"white\", \"linecolor\": \"white\", \"ticks\": \"\", \"title\": {\"standoff\": 15}, \"zerolinecolor\": \"white\", \"zerolinewidth\": 2}}}, \"title\": {\"text\": \"Histogramas do genero Aventura\", \"x\": 0.5, \"xanchor\": \"center\", \"yanchor\": \"top\"}, \"xaxis\": {\"anchor\": \"y2\", \"domain\": [0.0, 1.0], \"title\": {\"text\": \"Votos\"}, \"zeroline\": false}, \"yaxis\": {\"anchor\": \"free\", \"domain\": [0.35, 1], \"position\": 0.0}, \"yaxis2\": {\"anchor\": \"x\", \"domain\": [0, 0.25], \"dtick\": 1, \"showticklabels\": false}},\n",
              "                        {\"responsive\": true}\n",
              "                    ).then(function(){\n",
              "                            \n",
              "var gd = document.getElementById('7cb1e69b-85c6-45af-8cfc-fd0b77baf0b7');\n",
              "var x = new MutationObserver(function (mutations, observer) {{\n",
              "        var display = window.getComputedStyle(gd).display;\n",
              "        if (!display || display === 'none') {{\n",
              "            console.log([gd, 'removed!']);\n",
              "            Plotly.purge(gd);\n",
              "            observer.disconnect();\n",
              "        }}\n",
              "}});\n",
              "\n",
              "// Listen for the removal of the full notebook cells\n",
              "var notebookContainer = gd.closest('#notebook-container');\n",
              "if (notebookContainer) {{\n",
              "    x.observe(notebookContainer, {childList: true});\n",
              "}}\n",
              "\n",
              "// Listen for the clearing of the current output cell\n",
              "var outputEl = gd.closest('.output');\n",
              "if (outputEl) {{\n",
              "    x.observe(outputEl, {childList: true});\n",
              "}}\n",
              "\n",
              "                        })\n",
              "                };\n",
              "                \n",
              "            </script>\n",
              "        </div>\n",
              "</body>\n",
              "</html>"
            ]
          },
          "metadata": {
            "tags": []
          }
        }
      ]
    },
    {
      "cell_type": "code",
      "metadata": {
        "id": "btrBzgNuW6hd",
        "colab_type": "code",
        "colab": {
          "base_uri": "https://localhost:8080/",
          "height": 542
        },
        "outputId": "5fb84b50-0b8f-4fe0-b448-3ac61c38a794"
      },
      "source": [
        "# solucao histograma de horror\n",
        "\n",
        "x = horror\n",
        "hist_data = [x]\n",
        "group_labels = ['Total de Votos']\n",
        "\n",
        "fig = ff.create_distplot(hist_data, group_labels, bin_size=0)\n",
        "\n",
        "nomear_grafico(fig, 'Histogramas do genero Horror', 'Votos')\n",
        "fig.show()\n"
      ],
      "execution_count": 128,
      "outputs": [
        {
          "output_type": "display_data",
          "data": {
            "text/html": [
              "<html>\n",
              "<head><meta charset=\"utf-8\" /></head>\n",
              "<body>\n",
              "    <div>\n",
              "            <script src=\"https://cdnjs.cloudflare.com/ajax/libs/mathjax/2.7.5/MathJax.js?config=TeX-AMS-MML_SVG\"></script><script type=\"text/javascript\">if (window.MathJax) {MathJax.Hub.Config({SVG: {font: \"STIX-Web\"}});}</script>\n",
              "                <script type=\"text/javascript\">window.PlotlyConfig = {MathJaxConfig: 'local'};</script>\n",
              "        <script src=\"https://cdn.plot.ly/plotly-latest.min.js\"></script>    \n",
              "            <div id=\"632d35f6-54b1-44db-a2d0-75d6d09e9e3a\" class=\"plotly-graph-div\" style=\"height:525px; width:100%;\"></div>\n",
              "            <script type=\"text/javascript\">\n",
              "                \n",
              "                    window.PLOTLYENV=window.PLOTLYENV || {};\n",
              "                    \n",
              "                if (document.getElementById(\"632d35f6-54b1-44db-a2d0-75d6d09e9e3a\")) {\n",
              "                    Plotly.newPlot(\n",
              "                        '632d35f6-54b1-44db-a2d0-75d6d09e9e3a',\n",
              "                        [{\"autobinx\": false, \"histnorm\": \"probability density\", \"legendgroup\": \"Total de Votos\", \"marker\": {\"color\": \"rgb(31, 119, 180)\"}, \"name\": \"Total de Votos\", \"opacity\": 0.7, \"type\": \"histogram\", \"x\": [3.5090909090909093, 3.458715596330275, 4.161290322580645, 3.9642857142857144, 3.969178082191781, 4.03921568627451, 4.036144578313253, 4.08256880733945, 4.0054945054945055, 3.2, 3.80188679245283, 3.3620689655172415, 3.1206896551724137, 3.3412698412698414, 2.811320754716981, 2.796875, 3.893854748603352, 3.475806451612903, 3.788135593220339, 2.92, 3.6272727272727274, 3.1666666666666665, 3.9741379310344827, 4.0064935064935066, 3.4838709677419355, 3.8773584905660377], \"xaxis\": \"x\", \"xbins\": {\"end\": 4.161290322580645, \"size\": 0, \"start\": 2.796875}, \"yaxis\": \"y\"}, {\"legendgroup\": \"Total de Votos\", \"marker\": {\"color\": \"rgb(31, 119, 180)\"}, \"mode\": \"lines\", \"name\": \"Total de Votos\", \"showlegend\": false, \"type\": \"scatter\", \"x\": [2.796875, 2.7996038306451614, 2.8023326612903228, 2.8050614919354837, 2.807790322580645, 2.8105191532258065, 2.813247983870968, 2.8159768145161292, 2.81870564516129, 2.8214344758064516, 2.824163306451613, 2.8268921370967743, 2.8296209677419353, 2.8323497983870967, 2.835078629032258, 2.8378074596774194, 2.840536290322581, 2.8432651209677418, 2.845993951612903, 2.8487227822580645, 2.851451612903226, 2.8541804435483873, 2.8569092741935482, 2.8596381048387096, 2.862366935483871, 2.8650957661290324, 2.8678245967741933, 2.8705534274193547, 2.873282258064516, 2.8760110887096775, 2.878739919354839, 2.88146875, 2.884197580645161, 2.8869264112903226, 2.889655241935484, 2.8923840725806453, 2.8951129032258063, 2.8978417338709677, 2.900570564516129, 2.9032993951612904, 2.906028225806452, 2.9087570564516128, 2.911485887096774, 2.9142147177419355, 2.916943548387097, 2.919672379032258, 2.9224012096774192, 2.9251300403225806, 2.927858870967742, 2.9305877016129034, 2.9333165322580643, 2.9360453629032257, 2.938774193548387, 2.9415030241935485, 2.94423185483871, 2.946960685483871, 2.949689516129032, 2.9524183467741936, 2.955147177419355, 2.957876008064516, 2.9606048387096773, 2.9633336693548387, 2.9660625, 2.9687913306451614, 2.9715201612903224, 2.9742489919354838, 2.976977822580645, 2.9797066532258065, 2.982435483870968, 2.985164314516129, 2.9878931451612902, 2.9906219758064516, 2.993350806451613, 2.9960796370967744, 2.9988084677419353, 3.0015372983870967, 3.004266129032258, 3.0069949596774195, 3.0097237903225804, 3.012452620967742, 3.015181451612903, 3.0179102822580646, 3.020639112903226, 3.023367943548387, 3.0260967741935483, 3.0288256048387097, 3.031554435483871, 3.0342832661290324, 3.0370120967741934, 3.0397409274193548, 3.042469758064516, 3.0451985887096775, 3.0479274193548385, 3.05065625, 3.0533850806451612, 3.0561139112903226, 3.058842741935484, 3.061571572580645, 3.0643004032258063, 3.0670292338709677, 3.069758064516129, 3.0724868951612905, 3.0752157258064514, 3.077944556451613, 3.080673387096774, 3.0834022177419356, 3.086131048387097, 3.088859879032258, 3.0915887096774193, 3.0943175403225807, 3.097046370967742, 3.099775201612903, 3.1025040322580644, 3.1052328629032258, 3.107961693548387, 3.1106905241935485, 3.1134193548387095, 3.116148185483871, 3.1188770161290322, 3.1216058467741936, 3.124334677419355, 3.127063508064516, 3.1297923387096773, 3.1325211693548387, 3.13525, 3.137978830645161, 3.1407076612903224, 3.143436491935484, 3.146165322580645, 3.1488941532258066, 3.1516229838709675, 3.154351814516129, 3.1570806451612903, 3.1598094758064517, 3.162538306451613, 3.165267137096774, 3.1679959677419354, 3.1707247983870968, 3.173453629032258, 3.1761824596774195, 3.1789112903225805, 3.181640120967742, 3.1843689516129032, 3.1870977822580646, 3.1898266129032256, 3.192555443548387, 3.1952842741935483, 3.1980131048387097, 3.200741935483871, 3.203470766129032, 3.2061995967741934, 3.208928427419355, 3.211657258064516, 3.2143860887096776, 3.2171149193548385, 3.21984375, 3.2225725806451613, 3.2253014112903227, 3.2280302419354836, 3.230759072580645, 3.2334879032258064, 3.2362167338709678, 3.238945564516129, 3.24167439516129, 3.2444032258064515, 3.247132056451613, 3.2498608870967742, 3.2525897177419356, 3.2553185483870966, 3.258047379032258, 3.2607762096774193, 3.2635050403225807, 3.266233870967742, 3.268962701612903, 3.2716915322580644, 3.274420362903226, 3.277149193548387, 3.2798780241935486, 3.2826068548387095, 3.285335685483871, 3.2880645161290323, 3.2907933467741937, 3.2935221774193546, 3.296251008064516, 3.2989798387096774, 3.3017086693548388, 3.3044374999999997, 3.307166330645161, 3.3098951612903225, 3.312623991935484, 3.3153528225806452, 3.318081653225806, 3.3208104838709676, 3.323539314516129, 3.3262681451612903, 3.3289969758064517, 3.3317258064516126, 3.334454637096774, 3.3371834677419354, 3.339912298387097, 3.342641129032258, 3.345369959677419, 3.3480987903225805, 3.350827620967742, 3.3535564516129033, 3.3562852822580647, 3.3590141129032256, 3.361742943548387, 3.3644717741935484, 3.3672006048387098, 3.369929435483871, 3.372658266129032, 3.3753870967741935, 3.378115927419355, 3.3808447580645162, 3.383573588709677, 3.3863024193548386, 3.38903125, 3.3917600806451613, 3.3944889112903227, 3.3972177419354836, 3.399946572580645, 3.4026754032258064, 3.405404233870968, 3.408133064516129, 3.41086189516129, 3.4135907258064515, 3.416319556451613, 3.4190483870967743, 3.421777217741935, 3.4245060483870966, 3.427234879032258, 3.4299637096774194, 3.4326925403225808, 3.4354213709677417, 3.438150201612903, 3.4408790322580645, 3.443607862903226, 3.4463366935483872, 3.449065524193548, 3.4517943548387096, 3.454523185483871, 3.4572520161290323, 3.4599808467741933, 3.4627096774193546, 3.465438508064516, 3.4681673387096774, 3.470896169354839, 3.4736249999999997, 3.476353830645161, 3.4790826612903225, 3.481811491935484, 3.4845403225806453, 3.487269153225806, 3.4899979838709676, 3.492726814516129, 3.4954556451612904, 3.4981844758064513, 3.5009133064516127, 3.503642137096774, 3.5063709677419355, 3.509099798387097, 3.511828629032258, 3.514557459677419, 3.5172862903225806, 3.520015120967742, 3.5227439516129033, 3.5254727822580643, 3.5282016129032256, 3.530930443548387, 3.5336592741935484, 3.53638810483871, 3.5391169354838707, 3.541845766129032, 3.5445745967741935, 3.547303427419355, 3.5500322580645163, 3.552761088709677, 3.5554899193548386, 3.55821875, 3.5609475806451614, 3.5636764112903223, 3.5664052419354837, 3.569134072580645, 3.5718629032258065, 3.574591733870968, 3.577320564516129, 3.58004939516129, 3.5827782258064516, 3.585507056451613, 3.588235887096774, 3.5909647177419353, 3.5936935483870966, 3.596422379032258, 3.5991512096774194, 3.6018800403225804, 3.6046088709677417, 3.607337701612903, 3.6100665322580645, 3.612795362903226, 3.615524193548387, 3.618253024193548, 3.6209818548387096, 3.623710685483871, 3.6264395161290324, 3.6291683467741933, 3.6318971774193547, 3.634626008064516, 3.6373548387096775, 3.640083669354839, 3.6428125, 3.645541330645161, 3.6482701612903226, 3.650998991935484, 3.6537278225806453, 3.6564566532258063, 3.6591854838709676, 3.661914314516129, 3.66464314516129, 3.6673719758064514, 3.6701008064516127, 3.672829637096774, 3.6755584677419355, 3.6782872983870964, 3.681016129032258, 3.683744959677419, 3.6864737903225806, 3.689202620967742, 3.691931451612903, 3.6946602822580643, 3.6973891129032257, 3.700117943548387, 3.7028467741935485, 3.7055756048387094, 3.708304435483871, 3.711033266129032, 3.7137620967741936, 3.716490927419355, 3.719219758064516, 3.7219485887096773, 3.7246774193548386, 3.72740625, 3.7301350806451614, 3.7328639112903224, 3.7355927419354837, 3.738321572580645, 3.7410504032258065, 3.743779233870968, 3.746508064516129, 3.74923689516129, 3.7519657258064516, 3.7546945564516125, 3.7574233870967744, 3.7601522177419353, 3.7628810483870967, 3.765609879032258, 3.768338709677419, 3.7710675403225804, 3.773796370967742, 3.776525201612903, 3.7792540322580646, 3.7819828629032255, 3.784711693548387, 3.7874405241935483, 3.7901693548387096, 3.792898185483871, 3.795627016129032, 3.7983558467741934, 3.8010846774193547, 3.8038135080645157, 3.8065423387096775, 3.8092711693548384, 3.812, 3.814728830645161, 3.817457661290322, 3.820186491935484, 3.822915322580645, 3.8256441532258063, 3.8283729838709677, 3.831101814516129, 3.8338306451612905, 3.8365594758064514, 3.839288306451613, 3.842017137096774, 3.844745967741935, 3.8474747983870965, 3.850203629032258, 3.8529324596774193, 3.8556612903225806, 3.8583901209677416, 3.8611189516129034, 3.8638477822580644, 3.8665766129032253, 3.869305443548387, 3.872034274193548, 3.8747631048387094, 3.877491935483871, 3.880220766129032, 3.8829495967741936, 3.8856784274193545, 3.8884072580645164, 3.8911360887096773, 3.8938649193548382, 3.89659375, 3.899322580645161, 3.9020514112903224, 3.904780241935484, 3.907509072580645, 3.9102379032258066, 3.9129667338709675, 3.9156955645161293, 3.9184243951612903, 3.921153225806451, 3.9238820564516126, 3.926610887096774, 3.9293397177419354, 3.9320685483870967, 3.934797379032258, 3.9375262096774195, 3.9402550403225804, 3.942983870967742, 3.945712701612903, 3.948441532258064, 3.9511703629032255, 3.953899193548387, 3.9566280241935483, 3.9593568548387097, 3.9620856854838706, 3.9648145161290325, 3.9675433467741934, 3.9702721774193543, 3.973001008064516, 3.975729838709677, 3.9784586693548385, 3.9811875, 3.9839163306451613, 3.9866451612903226, 3.9893739919354836, 3.9921028225806454, 3.9948316532258064, 3.9975604838709673, 4.000289314516129, 4.00301814516129, 4.005746975806451, 4.008475806451613, 4.011204637096775, 4.013933467741936, 4.0166622983870965, 4.019391129032258, 4.022119959677419, 4.02484879032258, 4.027577620967742, 4.030306451612903, 4.033035282258064, 4.035764112903226, 4.038492943548388, 4.0412217741935486, 4.0439506048387095, 4.04667943548387, 4.049408266129032, 4.052137096774193, 4.054865927419355, 4.057594758064516, 4.060323588709677, 4.063052419354839, 4.06578125, 4.0685100806451615, 4.0712389112903224, 4.073967741935483, 4.076696572580645, 4.079425403225806, 4.082154233870968, 4.084883064516129, 4.08761189516129, 4.090340725806452, 4.093069556451613, 4.0957983870967745, 4.098527217741935, 4.101256048387096, 4.103984879032257, 4.106713709677419, 4.109442540322581, 4.112171370967742, 4.114900201612903, 4.117629032258065, 4.120357862903226, 4.1230866935483865, 4.125815524193548, 4.128544354838709, 4.13127318548387, 4.134002016129032, 4.136730846774194, 4.139459677419355, 4.142188508064516, 4.144917338709678, 4.1476461693548385, 4.1503749999999995, 4.153103830645161, 4.155832661290322, 4.158561491935483], \"xaxis\": \"x\", \"y\": [0.2610042077965573, 0.2628267428059882, 0.2646428262952629, 0.2664524098868751, 0.2682554528575599, 0.27005192213739737, 0.27184179230139216, 0.27362504555352524, 0.2754016717032852, 0.2771716681346999, 0.2789350397678888, 0.28069179901317665, 0.28244196571780655, 0.2841855671053076, 0.2859226377075731, 0.2876532192897209, 0.2893773607678125, 0.29109511811951294, 0.292806554287787, 0.29451173907772893, 0.29621074904663836, 0.2979036673874544, 0.29959058380567316, 0.30127159438987866, 0.3029468014760223, 0.30461631350559953, 0.3062802448778706, 0.30793871579628485, 0.30959185210926854, 0.3112397851455503, 0.3128826515441948, 0.3145205930795266, 0.316153756481131, 0.31778229324911644, 0.3194063594648425, 0.32102611559730404, 0.3226417263053793, 0.3242533602361498, 0.3258611898194979, 0.3274653910592013, 0.32906614332073775, 0.3306636291160202, 0.3322580338852863, 0.33384954577635956, 0.33543835542151634, 0.33702465571217916, 0.3386086415716675, 0.3401905097262321, 0.34177045847460763, 0.3433486874563076, 0.3449253974188948, 0.34650078998445794, 0.3480750674155189, 0.34964843238060406, 0.3512210877197042, 0.3527932362098481, 0.35436508033101816, 0.35593682203262417, 0.357508662500761, 0.35908080192646646, 0.3606534392751951, 0.3622267720577174, 0.3638009961026611, 0.3653763053308945, 0.36695289153195787, 0.3685309441427447, 0.3701106500286227, 0.3716921932671939, 0.37327575493487647, 0.3748615128964938, 0.37644964159805244, 0.378040311862879, 0.3796336906912912, 0.3812299410639667, 0.3828292217491695, 0.38443168711399395, 0.38603748693977064, 0.38764676624178795, 0.38925966509346543, 0.39087631845511484, 0.3924968560074214, 0.39412140198977097, 0.3957500750435403, 0.3973829880604686, 0.39902024803621905, 0.4006619559292335, 0.40230820652498145, 0.40395908830569766, 0.4056146833256943, 0.40727506709233596, 0.4089403084527512, 0.41061046948635904, 0.4122856054032766, 0.41396576444867256, 0.41565098781312293, 0.4173413095490285, 0.4190367564931388, 0.42073734819523, 0.4224430968529768, 0.42415400725305274, 0.4258700767184943, 0.4275912950623523, 0.4293176445476573, 0.43104909985371753, 0.43278562804876164, 0.43452718856894423, 0.4362737332037177, 0.43802520608757484, 0.43978154369816763, 0.44154267486079274, 0.4433085207592449, 0.4450789949530263, 0.4468540034009001, 0.44863344449077225, 0.4504172090758882, 0.45220518051731884, 0.4539972347327155, 0.4557932402513095, 0.4575930582751227, 0.4593965427463638, 0.46120354042097716, 0.4630138909483024, 0.4648274269568168, 0.46664397414591086, 0.468463351383663, 0.47028537081056404, 0.47210983794915007, 0.47393655181948763, 0.4757653050604719, 0.4775958840568761, 0.4794280690721037, 0.48126163438658465, 0.4830963484417579, 0.4849319739895809, 0.4867682682475051, 0.4886049830588477, 0.49044186505850357, 0.49227865584391695, 0.4941150921512533, 0.49595090603669195, 0.49778582506276803, 0.4996195724896858, 0.501451867471524, 0.5032824252572496, 0.5051109573964613, 0.5069371719497697, 0.5087607737037279, 0.5105814643902191, 0.5123989429102107, 0.5142129055617678, 0.516023046272237, 0.5178290568344865, 0.5196306271471006, 0.5214274454584189, 0.5232191986143024, 0.525005572309516, 0.5267862513425965, 0.5285609198740934, 0.5303292616880452, 0.5320909604565649, 0.5338457000073942, 0.5355931645942891, 0.537333039170094, 0.5390650096623512, 0.5407887632512973, 0.5425039886500871, 0.5442103763870851, 0.5459076190900557, 0.5475954117720849, 0.5492734521190559, 0.5509414407784969, 0.5525990816496225, 0.5542460821743707, 0.5558821536292481, 0.557507011417782, 0.5591203753633722, 0.56072197000234, 0.5623115248769563, 0.563888774828231, 0.5654534602882433, 0.5670053275717826, 0.568544129167069, 0.5700696240253169, 0.5715815778489003, 0.5730797633778735, 0.5745639606745978, 0.5760339574062209, 0.5774895491247518, 0.5789305395444653, 0.5803567408163761, 0.5817679737995104, 0.5831640683287017, 0.5845448634786397, 0.5859102078238878, 0.5872599596945921, 0.5885939874276005, 0.5899121696126969, 0.5912143953336747, 0.5925005644039487, 0.593770587596425, 0.5950243868673261, 0.5962618955736871, 0.5974830586842265, 0.5986878329832938, 0.5998761872676077, 0.6010481025354889, 0.6022035721682903, 0.6033426021037444, 0.6044652110009273, 0.6055714303965614, 0.6066613048523646, 0.6077348920931696, 0.6087922631355299, 0.6098335024065401, 0.6108587078525982, 0.6118679910378402, 0.6128614772319924, 0.6138393054873736, 0.6148016287048064, 0.615748613688186, 0.6166804411874712, 0.6175973059298617, 0.6184994166389461, 0.6193869960415934, 0.6202602808623873, 0.6211195218054049, 0.6219649835231412, 0.6227969445724083, 0.623615697357031, 0.6244215480571841, 0.6252148165452166, 0.6259958362878274, 0.6267649542344639, 0.6275225306918282, 0.628268939184388, 0.6290045663008029, 0.629729811526184, 0.6304450870601294, 0.631150817620477, 0.6318474402327459, 0.6325354040052353, 0.633215169889778, 0.6338872104281539, 0.6345520094841817, 0.6352100619615303, 0.635861873507297, 0.6365079602014204, 0.6371488482320149, 0.6377850735567204, 0.6384171815501857, 0.6390457266378149, 0.6396712719159237, 0.6402943887584718, 0.6409156564105479, 0.6415356615688053, 0.6421549979490597, 0.642774265841281, 0.6433940716522202, 0.6440150274359367, 0.644637750412504, 0.645262862475181, 0.6458909896863723, 0.6465227617626882, 0.6471588115494608, 0.6477997744850583, 0.6484462880553848, 0.6490989912389418, 0.649758523942859, 0.6504255264303136, 0.6511006387397618, 0.6517845000964353, 0.652477748316559, 0.6531810192047581, 0.6538949459451481, 0.6546201584865944, 0.6553572829226615, 0.6561069408667639, 0.6568697488230576, 0.6576463175536112, 0.6584372514424102, 0.6592431478567576, 0.6600645965066463, 0.6609021788026748, 0.6617564672131035, 0.6626280246206453, 0.663517403679588, 0.664425146173866, 0.6653517823766896, 0.6662978304123535, 0.6672637956208521, 0.668250169925921, 0.669257431207146, 0.670286042676766, 0.671336452261804, 0.6724090919921722, 0.6735043773953701, 0.674622706898433, 0.6757644612377467, 0.6769300028773729, 0.6781196754365157, 0.6793338031267486, 0.6805726901996365, 0.6818366204053651, 0.6831258564629905, 0.6844406395429251, 0.6857811887622487, 0.68714770069345, 0.6885403488871767, 0.6899592834095712, 0.6914046303947651, 0.6928764916130791, 0.6943749440554868, 0.6959000395348653, 0.6974518043045584, 0.6990302386947691, 0.7006353167672631, 0.7022669859888797, 0.7039251669243055, 0.7056097529485655, 0.7073206099796762, 0.7090575762318629, 0.7108204619897555, 0.7126090494039492, 0.714423092308281, 0.7162623160591891, 0.7181264173974695, 0.7200150643327402, 0.7219278960509143, 0.7238645228449287, 0.7258245260690008, 0.727807458116615, 0.7298128424224604, 0.7318401734885001, 0.7338889169343196, 0.7359585095719127, 0.7380483595049989, 0.7401578462529781, 0.7422863208995869, 0.7444331062662952, 0.7465974971104782, 0.7487787603483442, 0.7509761353026023, 0.7531888339748201, 0.7554160413423852, 0.7576569156799873, 0.7599105889054824, 0.7621761669499991, 0.7644527301521187, 0.7667393336759213, 0.7690350079526937, 0.7713387591460402, 0.7736495696401363, 0.7759663985508392, 0.7782881822593244, 0.7806138349679321, 0.7829422492778445, 0.7852722967882153, 0.7876028287163576, 0.7899326765385447, 0.7922606526509829, 0.7945855510504927, 0.7969061480343882, 0.799221202919065, 0.8015294587767449, 0.8038296431898364, 0.8061204690223406, 0.8084006352077039, 0.8106688275525247, 0.8129237195554724, 0.8151639732407895, 0.8173882400057171, 0.819595161481161, 0.8217833704049216, 0.8239514915067782, 0.8260981424047059, 0.828221934511511, 0.8303214739511209, 0.8323953624837958, 0.8344421984394842, 0.8364605776585466, 0.8384490944390781, 0.8404063424900154, 0.84233091588925, 0.8442214100459198, 0.84607642266608, 0.8478945547209308, 0.8496744114167715, 0.8514146031658616, 0.8531137465573594, 0.8547704653274939, 0.8563833913281556, 0.8579511654930523, 0.859472438800615, 0.8609458732328074, 0.8623701427290161, 0.8637439341341976, 0.8650659481404522, 0.8663349002212101, 0.8675495215572221, 0.8687085599535381, 0.869810780746687, 0.8708549677012567, 0.8718399238951, 0.872764472592391, 0.8736274581037706, 0.8744277466328297, 0.8751642271082001, 0.8758358120005107, 0.8764414381235209, 0.8769800674187085, 0.8774506877226518, 0.8778523135165254, 0.8781839866570645, 0.8784447770883664, 0.8786337835339102, 0.8787501341681998, 0.8787929872674551, 0.8787615318387882, 0.8786549882273308, 0.8784726087007941, 0.878213678010965, 0.8778775139316658, 0.8774634677727262, 0.8769709248695344, 0.876399305047766, 0.8757480630629079, 0.8750166890142148, 0.8742047087327699, 0.8733116841433339, 0.872337213599705, 0.871280932193323, 0.8701425120348885, 0.8689216625087884, 0.8676181305001411, 0.8662317005943095, 0.8647621952487503, 0.8632094749370912, 0.8615734382653636, 0.8598540220603342, 0.8580512014299146, 0.8561649897956422, 0.8541954388972686, 0.8521426387695028, 0.8500067176909873, 0.8477878421056142, 0.8454862165163142, 0.843102083351471, 0.8406357228041383, 0.8380874526442793, 0.8354576280042479, 0.8327466411377642, 0.8299549211526813, 0.8270829337178295, 0.8241311807442682, 0.8211002000413019, 0.8179905649476279, 0.814802883938008, 0.8115378002058777, 0.8081959912223396, 0.804778168271987, 0.8012850759660429, 0.7977174917332979, 0.7940762252893822, 0.7903621180848808, 0.786576042732864, 0.7827189024163889, 0.7787916302765497, 0.7747951887816967, 0.7707305690784112, 0.7665987903248833, 0.7624008990073323, 0.7581379682401046, 0.753811097050145, 0.7494214096464841, 0.744970054675457, 0.7404582044623406, 0.7358870542400954, 0.7312578213659622, 0.726571744526596, 0.7218300829324891, 0.7170341155024054, 0.7121851400385636, 0.7072844723933099, 0.7023334456280192, 0.6973334091649825, 0.6922857279330257, 0.6871917815075854, 0.6820529632460266, 0.6768706794189278, 0.6716463483380695, 0.6663813994818972, 0.6610772726191825, 0.6557354169316117, 0.6503572901360446, 0.6449443576071703, 0.6394980915012782, 0.6340199698818418, 0.6285114758476468, 0.6229740966641452, 0.6174093228987173], \"yaxis\": \"y\"}, {\"legendgroup\": \"Total de Votos\", \"marker\": {\"color\": \"rgb(31, 119, 180)\", \"symbol\": \"line-ns-open\"}, \"mode\": \"markers\", \"name\": \"Total de Votos\", \"showlegend\": false, \"type\": \"scatter\", \"x\": [3.5090909090909093, 3.458715596330275, 4.161290322580645, 3.9642857142857144, 3.969178082191781, 4.03921568627451, 4.036144578313253, 4.08256880733945, 4.0054945054945055, 3.2, 3.80188679245283, 3.3620689655172415, 3.1206896551724137, 3.3412698412698414, 2.811320754716981, 2.796875, 3.893854748603352, 3.475806451612903, 3.788135593220339, 2.92, 3.6272727272727274, 3.1666666666666665, 3.9741379310344827, 4.0064935064935066, 3.4838709677419355, 3.8773584905660377], \"xaxis\": \"x\", \"y\": [\"Total de Votos\", \"Total de Votos\", \"Total de Votos\", \"Total de Votos\", \"Total de Votos\", \"Total de Votos\", \"Total de Votos\", \"Total de Votos\", \"Total de Votos\", \"Total de Votos\", \"Total de Votos\", \"Total de Votos\", \"Total de Votos\", \"Total de Votos\", \"Total de Votos\", \"Total de Votos\", \"Total de Votos\", \"Total de Votos\", \"Total de Votos\", \"Total de Votos\", \"Total de Votos\", \"Total de Votos\", \"Total de Votos\", \"Total de Votos\", \"Total de Votos\", \"Total de Votos\"], \"yaxis\": \"y2\"}],\n",
              "                        {\"barmode\": \"overlay\", \"hovermode\": \"closest\", \"legend\": {\"traceorder\": \"reversed\"}, \"template\": {\"data\": {\"bar\": [{\"error_x\": {\"color\": \"#2a3f5f\"}, \"error_y\": {\"color\": \"#2a3f5f\"}, \"marker\": {\"line\": {\"color\": \"#E5ECF6\", \"width\": 0.5}}, \"type\": \"bar\"}], \"barpolar\": [{\"marker\": {\"line\": {\"color\": \"#E5ECF6\", \"width\": 0.5}}, \"type\": \"barpolar\"}], \"carpet\": [{\"aaxis\": {\"endlinecolor\": \"#2a3f5f\", \"gridcolor\": \"white\", \"linecolor\": \"white\", \"minorgridcolor\": \"white\", \"startlinecolor\": \"#2a3f5f\"}, \"baxis\": {\"endlinecolor\": \"#2a3f5f\", \"gridcolor\": \"white\", \"linecolor\": \"white\", \"minorgridcolor\": \"white\", \"startlinecolor\": \"#2a3f5f\"}, \"type\": \"carpet\"}], \"choropleth\": [{\"colorbar\": {\"outlinewidth\": 0, \"ticks\": \"\"}, \"type\": \"choropleth\"}], \"contour\": [{\"colorbar\": {\"outlinewidth\": 0, \"ticks\": \"\"}, \"colorscale\": [[0.0, \"#0d0887\"], [0.1111111111111111, \"#46039f\"], [0.2222222222222222, \"#7201a8\"], [0.3333333333333333, \"#9c179e\"], [0.4444444444444444, \"#bd3786\"], [0.5555555555555556, \"#d8576b\"], [0.6666666666666666, \"#ed7953\"], [0.7777777777777778, \"#fb9f3a\"], [0.8888888888888888, \"#fdca26\"], [1.0, \"#f0f921\"]], \"type\": \"contour\"}], \"contourcarpet\": [{\"colorbar\": {\"outlinewidth\": 0, \"ticks\": \"\"}, \"type\": \"contourcarpet\"}], \"heatmap\": [{\"colorbar\": {\"outlinewidth\": 0, \"ticks\": \"\"}, \"colorscale\": [[0.0, \"#0d0887\"], [0.1111111111111111, \"#46039f\"], [0.2222222222222222, \"#7201a8\"], [0.3333333333333333, \"#9c179e\"], [0.4444444444444444, \"#bd3786\"], [0.5555555555555556, \"#d8576b\"], [0.6666666666666666, \"#ed7953\"], [0.7777777777777778, \"#fb9f3a\"], [0.8888888888888888, \"#fdca26\"], [1.0, \"#f0f921\"]], \"type\": \"heatmap\"}], \"heatmapgl\": [{\"colorbar\": {\"outlinewidth\": 0, \"ticks\": \"\"}, \"colorscale\": [[0.0, \"#0d0887\"], [0.1111111111111111, \"#46039f\"], [0.2222222222222222, \"#7201a8\"], [0.3333333333333333, \"#9c179e\"], [0.4444444444444444, \"#bd3786\"], [0.5555555555555556, \"#d8576b\"], [0.6666666666666666, \"#ed7953\"], [0.7777777777777778, \"#fb9f3a\"], [0.8888888888888888, \"#fdca26\"], [1.0, \"#f0f921\"]], \"type\": \"heatmapgl\"}], \"histogram\": [{\"marker\": {\"colorbar\": {\"outlinewidth\": 0, \"ticks\": \"\"}}, \"type\": \"histogram\"}], \"histogram2d\": [{\"colorbar\": {\"outlinewidth\": 0, \"ticks\": \"\"}, \"colorscale\": [[0.0, \"#0d0887\"], [0.1111111111111111, \"#46039f\"], [0.2222222222222222, \"#7201a8\"], [0.3333333333333333, \"#9c179e\"], [0.4444444444444444, \"#bd3786\"], [0.5555555555555556, \"#d8576b\"], [0.6666666666666666, \"#ed7953\"], [0.7777777777777778, \"#fb9f3a\"], [0.8888888888888888, \"#fdca26\"], [1.0, \"#f0f921\"]], \"type\": \"histogram2d\"}], \"histogram2dcontour\": [{\"colorbar\": {\"outlinewidth\": 0, \"ticks\": \"\"}, \"colorscale\": [[0.0, \"#0d0887\"], [0.1111111111111111, \"#46039f\"], [0.2222222222222222, \"#7201a8\"], [0.3333333333333333, \"#9c179e\"], [0.4444444444444444, \"#bd3786\"], [0.5555555555555556, \"#d8576b\"], [0.6666666666666666, \"#ed7953\"], [0.7777777777777778, \"#fb9f3a\"], [0.8888888888888888, \"#fdca26\"], [1.0, \"#f0f921\"]], \"type\": \"histogram2dcontour\"}], \"mesh3d\": [{\"colorbar\": {\"outlinewidth\": 0, \"ticks\": \"\"}, \"type\": \"mesh3d\"}], \"parcoords\": [{\"line\": {\"colorbar\": {\"outlinewidth\": 0, \"ticks\": \"\"}}, \"type\": \"parcoords\"}], \"pie\": [{\"automargin\": true, \"type\": \"pie\"}], \"scatter\": [{\"marker\": {\"colorbar\": {\"outlinewidth\": 0, \"ticks\": \"\"}}, \"type\": \"scatter\"}], \"scatter3d\": [{\"line\": {\"colorbar\": {\"outlinewidth\": 0, \"ticks\": \"\"}}, \"marker\": {\"colorbar\": {\"outlinewidth\": 0, \"ticks\": \"\"}}, \"type\": \"scatter3d\"}], \"scattercarpet\": [{\"marker\": {\"colorbar\": {\"outlinewidth\": 0, \"ticks\": \"\"}}, \"type\": \"scattercarpet\"}], \"scattergeo\": [{\"marker\": {\"colorbar\": {\"outlinewidth\": 0, \"ticks\": \"\"}}, \"type\": \"scattergeo\"}], \"scattergl\": [{\"marker\": {\"colorbar\": {\"outlinewidth\": 0, \"ticks\": \"\"}}, \"type\": \"scattergl\"}], \"scattermapbox\": [{\"marker\": {\"colorbar\": {\"outlinewidth\": 0, \"ticks\": \"\"}}, \"type\": \"scattermapbox\"}], \"scatterpolar\": [{\"marker\": {\"colorbar\": {\"outlinewidth\": 0, \"ticks\": \"\"}}, \"type\": \"scatterpolar\"}], \"scatterpolargl\": [{\"marker\": {\"colorbar\": {\"outlinewidth\": 0, \"ticks\": \"\"}}, \"type\": \"scatterpolargl\"}], \"scatterternary\": [{\"marker\": {\"colorbar\": {\"outlinewidth\": 0, \"ticks\": \"\"}}, \"type\": \"scatterternary\"}], \"surface\": [{\"colorbar\": {\"outlinewidth\": 0, \"ticks\": \"\"}, \"colorscale\": [[0.0, \"#0d0887\"], [0.1111111111111111, \"#46039f\"], [0.2222222222222222, \"#7201a8\"], [0.3333333333333333, \"#9c179e\"], [0.4444444444444444, \"#bd3786\"], [0.5555555555555556, \"#d8576b\"], [0.6666666666666666, \"#ed7953\"], [0.7777777777777778, \"#fb9f3a\"], [0.8888888888888888, \"#fdca26\"], [1.0, \"#f0f921\"]], \"type\": \"surface\"}], \"table\": [{\"cells\": {\"fill\": {\"color\": \"#EBF0F8\"}, \"line\": {\"color\": \"white\"}}, \"header\": {\"fill\": {\"color\": \"#C8D4E3\"}, \"line\": {\"color\": \"white\"}}, \"type\": \"table\"}]}, \"layout\": {\"annotationdefaults\": {\"arrowcolor\": \"#2a3f5f\", \"arrowhead\": 0, \"arrowwidth\": 1}, \"coloraxis\": {\"colorbar\": {\"outlinewidth\": 0, \"ticks\": \"\"}}, \"colorscale\": {\"diverging\": [[0, \"#8e0152\"], [0.1, \"#c51b7d\"], [0.2, \"#de77ae\"], [0.3, \"#f1b6da\"], [0.4, \"#fde0ef\"], [0.5, \"#f7f7f7\"], [0.6, \"#e6f5d0\"], [0.7, \"#b8e186\"], [0.8, \"#7fbc41\"], [0.9, \"#4d9221\"], [1, \"#276419\"]], \"sequential\": [[0.0, \"#0d0887\"], [0.1111111111111111, \"#46039f\"], [0.2222222222222222, \"#7201a8\"], [0.3333333333333333, \"#9c179e\"], [0.4444444444444444, \"#bd3786\"], [0.5555555555555556, \"#d8576b\"], [0.6666666666666666, \"#ed7953\"], [0.7777777777777778, \"#fb9f3a\"], [0.8888888888888888, \"#fdca26\"], [1.0, \"#f0f921\"]], \"sequentialminus\": [[0.0, \"#0d0887\"], [0.1111111111111111, \"#46039f\"], [0.2222222222222222, \"#7201a8\"], [0.3333333333333333, \"#9c179e\"], [0.4444444444444444, \"#bd3786\"], [0.5555555555555556, \"#d8576b\"], [0.6666666666666666, \"#ed7953\"], [0.7777777777777778, \"#fb9f3a\"], [0.8888888888888888, \"#fdca26\"], [1.0, \"#f0f921\"]]}, \"colorway\": [\"#636efa\", \"#EF553B\", \"#00cc96\", \"#ab63fa\", \"#FFA15A\", \"#19d3f3\", \"#FF6692\", \"#B6E880\", \"#FF97FF\", \"#FECB52\"], \"font\": {\"color\": \"#2a3f5f\"}, \"geo\": {\"bgcolor\": \"white\", \"lakecolor\": \"white\", \"landcolor\": \"#E5ECF6\", \"showlakes\": true, \"showland\": true, \"subunitcolor\": \"white\"}, \"hoverlabel\": {\"align\": \"left\"}, \"hovermode\": \"closest\", \"mapbox\": {\"style\": \"light\"}, \"paper_bgcolor\": \"white\", \"plot_bgcolor\": \"#E5ECF6\", \"polar\": {\"angularaxis\": {\"gridcolor\": \"white\", \"linecolor\": \"white\", \"ticks\": \"\"}, \"bgcolor\": \"#E5ECF6\", \"radialaxis\": {\"gridcolor\": \"white\", \"linecolor\": \"white\", \"ticks\": \"\"}}, \"scene\": {\"xaxis\": {\"backgroundcolor\": \"#E5ECF6\", \"gridcolor\": \"white\", \"gridwidth\": 2, \"linecolor\": \"white\", \"showbackground\": true, \"ticks\": \"\", \"zerolinecolor\": \"white\"}, \"yaxis\": {\"backgroundcolor\": \"#E5ECF6\", \"gridcolor\": \"white\", \"gridwidth\": 2, \"linecolor\": \"white\", \"showbackground\": true, \"ticks\": \"\", \"zerolinecolor\": \"white\"}, \"zaxis\": {\"backgroundcolor\": \"#E5ECF6\", \"gridcolor\": \"white\", \"gridwidth\": 2, \"linecolor\": \"white\", \"showbackground\": true, \"ticks\": \"\", \"zerolinecolor\": \"white\"}}, \"shapedefaults\": {\"line\": {\"color\": \"#2a3f5f\"}}, \"ternary\": {\"aaxis\": {\"gridcolor\": \"white\", \"linecolor\": \"white\", \"ticks\": \"\"}, \"baxis\": {\"gridcolor\": \"white\", \"linecolor\": \"white\", \"ticks\": \"\"}, \"bgcolor\": \"#E5ECF6\", \"caxis\": {\"gridcolor\": \"white\", \"linecolor\": \"white\", \"ticks\": \"\"}}, \"title\": {\"x\": 0.05}, \"xaxis\": {\"automargin\": true, \"gridcolor\": \"white\", \"linecolor\": \"white\", \"ticks\": \"\", \"title\": {\"standoff\": 15}, \"zerolinecolor\": \"white\", \"zerolinewidth\": 2}, \"yaxis\": {\"automargin\": true, \"gridcolor\": \"white\", \"linecolor\": \"white\", \"ticks\": \"\", \"title\": {\"standoff\": 15}, \"zerolinecolor\": \"white\", \"zerolinewidth\": 2}}}, \"title\": {\"text\": \"Histogramas do genero Horror\", \"x\": 0.5, \"xanchor\": \"center\", \"yanchor\": \"top\"}, \"xaxis\": {\"anchor\": \"y2\", \"domain\": [0.0, 1.0], \"title\": {\"text\": \"Votos\"}, \"zeroline\": false}, \"yaxis\": {\"anchor\": \"free\", \"domain\": [0.35, 1], \"position\": 0.0}, \"yaxis2\": {\"anchor\": \"x\", \"domain\": [0, 0.25], \"dtick\": 1, \"showticklabels\": false}},\n",
              "                        {\"responsive\": true}\n",
              "                    ).then(function(){\n",
              "                            \n",
              "var gd = document.getElementById('632d35f6-54b1-44db-a2d0-75d6d09e9e3a');\n",
              "var x = new MutationObserver(function (mutations, observer) {{\n",
              "        var display = window.getComputedStyle(gd).display;\n",
              "        if (!display || display === 'none') {{\n",
              "            console.log([gd, 'removed!']);\n",
              "            Plotly.purge(gd);\n",
              "            observer.disconnect();\n",
              "        }}\n",
              "}});\n",
              "\n",
              "// Listen for the removal of the full notebook cells\n",
              "var notebookContainer = gd.closest('#notebook-container');\n",
              "if (notebookContainer) {{\n",
              "    x.observe(notebookContainer, {childList: true});\n",
              "}}\n",
              "\n",
              "// Listen for the clearing of the current output cell\n",
              "var outputEl = gd.closest('.output');\n",
              "if (outputEl) {{\n",
              "    x.observe(outputEl, {childList: true});\n",
              "}}\n",
              "\n",
              "                        })\n",
              "                };\n",
              "                \n",
              "            </script>\n",
              "        </div>\n",
              "</body>\n",
              "</html>"
            ]
          },
          "metadata": {
            "tags": []
          }
        }
      ]
    },
    {
      "cell_type": "code",
      "metadata": {
        "id": "SxVXIT-brgSV",
        "colab_type": "code",
        "colab": {
          "base_uri": "https://localhost:8080/",
          "height": 67
        },
        "outputId": "bc02cb11-cf74-4fe2-fa21-a71770aae732"
      },
      "source": [
        "print(round(horror.mean(), 2))\n",
        "print(round(adventure.mean(), 2))\n",
        "print(media_filmes)"
      ],
      "execution_count": 129,
      "outputs": [
        {
          "output_type": "stream",
          "text": [
            "3.61\n",
            "3.62\n",
            "91.91\n"
          ],
          "name": "stdout"
        }
      ]
    },
    {
      "cell_type": "code",
      "metadata": {
        "id": "tizNKfhxW6hg",
        "colab_type": "code",
        "colab": {
          "base_uri": "https://localhost:8080/",
          "height": 101
        },
        "outputId": "0a70bf18-20e4-4920-b7dc-20292aa98a77"
      },
      "source": [
        "# solucao teste de normalidade ou justificativa para nao utiliza-lo\n",
        "# Genero Adventure\n",
        "p_valor = 0.05\n",
        "media_filmes = round(filmes['nota_media'].mean(),2)\n",
        "\n",
        "\n",
        "stat, p = sct.ttest_1samp(adventure, popmean=media_filmes)\n",
        "print('Estatística de teste: {}'.format(stat.round(2)))\n",
        "print('p-valor: {}'.format(p.round(2)))\n",
        "print(f'''Com a informação do p_valor podemos rejeitar a hipotese nula? \n",
        "{\"sim\" if p < significancia else \"não\"} pois o p_valor é {\"menor\" if p < significancia else \"maior\"} que o valor \n",
        "estabelecido anteriormente para p, que seria 0.05''')"
      ],
      "execution_count": 130,
      "outputs": [
        {
          "output_type": "stream",
          "text": [
            "Estatística de teste: -1.31\n",
            "p-valor: 0.19\n",
            "Com a informação do p_valor podemos rejeitar a hipotese nula? \n",
            "não pois o p_valor é maior que o valor \n",
            "estabelecido anteriormente para p, que seria 0.05\n"
          ],
          "name": "stdout"
        }
      ]
    },
    {
      "cell_type": "code",
      "metadata": {
        "id": "tJixa1JvqsAE",
        "colab_type": "code",
        "colab": {
          "base_uri": "https://localhost:8080/",
          "height": 101
        },
        "outputId": "57ae0099-e15b-4e90-d975-a7424755666d"
      },
      "source": [
        "# solucao teste de normalidade ou justificativa para nao utiliza-lo\n",
        "# Genero Horror\n",
        "p_valor = 0.05\n",
        "media_filmes = round(filmes['nota_media'].mean(),2)\n",
        "\n",
        "\n",
        "stat, p = sct.ttest_1samp(horror, popmean=media_filmes)\n",
        "print('Estatística de teste: {}'.format(stat.round(2)))\n",
        "print('p-valor: {}'.format(p.round(2)))\n",
        "print(f'''Com a informação do p_valor podemos rejeitar a hipotese nula? \n",
        "{\"sim\" if p < significancia else \"não\"} pois o p_valor é {\"menor\" if p < significancia else \"maior\"} que o valor \n",
        "estabelecido anteriormente para p, que seria 0.05''')"
      ],
      "execution_count": 131,
      "outputs": [
        {
          "output_type": "stream",
          "text": [
            "Estatística de teste: -0.6\n",
            "p-valor: 0.55\n",
            "Com a informação do p_valor podemos rejeitar a hipotese nula? \n",
            "não pois o p_valor é maior que o valor \n",
            "estabelecido anteriormente para p, que seria 0.05\n"
          ],
          "name": "stdout"
        }
      ]
    },
    {
      "cell_type": "code",
      "metadata": {
        "id": "Z8Y0qW9EW6hj",
        "colab_type": "code",
        "colab": {}
      },
      "source": [
        "# solução com o teste desejado\n"
      ],
      "execution_count": 132,
      "outputs": []
    },
    {
      "cell_type": "markdown",
      "metadata": {
        "id": "4fCdthxHW6hk",
        "colab_type": "text"
      },
      "source": [
        "## Sua recomendação para maior sucesso de crítica em nota alta entre `Horror` e `Adventure` continua a mesma? Explique.\n",
        "\n"
      ]
    },
    {
      "cell_type": "markdown",
      "metadata": {
        "id": "mf4NnV64W6hl",
        "colab_type": "text"
      },
      "source": [
        "### Solução:\n",
        "Continuo com a mesma recomendação por conseguir entender que a nota média das avaliações do genero aventura é maior que a nota média do genero horror"
      ]
    },
    {
      "cell_type": "markdown",
      "metadata": {
        "id": "2KSSFqYmW6hl",
        "colab_type": "text"
      },
      "source": [
        "## Pergunta: Quero fazer um filme que seja primeiro sucesso de crítica, com pessoas dando notas altas. Em segundo lugar quero que seja popular (mais pessoas assistam). Com as informações visuais e estatísticas, supondo poder escolher somente um, qual dois 2 gêneros você recomenda agora? `Horror` ou `Adventure`?"
      ]
    },
    {
      "cell_type": "markdown",
      "metadata": {
        "id": "CFpTcWklW6hm",
        "colab_type": "text"
      },
      "source": [
        "### Solução:\n",
        "Com as informações adquiridas nessas analises realizadas a pouco, eu recomendo o genero Aventura\n",
        "\n"
      ]
    },
    {
      "cell_type": "markdown",
      "metadata": {
        "id": "uopIs4EEW6hm",
        "colab_type": "text"
      },
      "source": [
        "## Pergunta: Quais são os top 5 filmes dos 2 generos mais assistidas?\n",
        "\n",
        "- utilize os 2 generos mais votados em `votos_por_genero`\n",
        "- utilize a `nota_media` para definir o top 5 filmes\n",
        "- o resultado são 5, não 10 filmes"
      ]
    },
    {
      "cell_type": "code",
      "metadata": {
        "id": "WlRBJgt8W6hm",
        "colab_type": "code",
        "colab": {}
      },
      "source": [
        "top_2_generos = list(votos_por_genero_por_filme.iloc[0:2].index)\n",
        "\n",
        "top5_filmes = filmes[['titulo', 'nota_media', top_2_generos[0], top_2_generos[1]]\n",
        "                    ][(filmes[top_2_generos[0]] == 1) | (filmes[top_2_generos[1]] == 1)\n",
        "                     ].sort_values('nota_media', ascending=False).head()\n",
        "        "
      ],
      "execution_count": 133,
      "outputs": []
    },
    {
      "cell_type": "code",
      "metadata": {
        "id": "qfG4R9jGW6ho",
        "colab_type": "code",
        "colab": {
          "base_uri": "https://localhost:8080/",
          "height": 34
        },
        "outputId": "a0442c75-e27d-443d-992d-c431e1288273"
      },
      "source": [
        "# solução: calculando os 2 generos mais votados\n",
        "top_2_generos"
      ],
      "execution_count": 134,
      "outputs": [
        {
          "output_type": "execute_result",
          "data": {
            "text/plain": [
              "['Action', 'Drama']"
            ]
          },
          "metadata": {
            "tags": []
          },
          "execution_count": 134
        }
      ]
    },
    {
      "cell_type": "code",
      "metadata": {
        "id": "moo71rqsW6hq",
        "colab_type": "code",
        "colab": {
          "base_uri": "https://localhost:8080/",
          "height": 225
        },
        "outputId": "c9d2d0a6-c91c-4c76-a13f-b03192c3e01a"
      },
      "source": [
        "# solução: encontrando os top 5 filmes desses generos\n",
        "top5_filmes"
      ],
      "execution_count": 135,
      "outputs": [
        {
          "output_type": "execute_result",
          "data": {
            "text/html": [
              "<div>\n",
              "<style scoped>\n",
              "    .dataframe tbody tr th:only-of-type {\n",
              "        vertical-align: middle;\n",
              "    }\n",
              "\n",
              "    .dataframe tbody tr th {\n",
              "        vertical-align: top;\n",
              "    }\n",
              "\n",
              "    .dataframe thead th {\n",
              "        text-align: right;\n",
              "    }\n",
              "</style>\n",
              "<table border=\"1\" class=\"dataframe\">\n",
              "  <thead>\n",
              "    <tr style=\"text-align: right;\">\n",
              "      <th></th>\n",
              "      <th>titulo</th>\n",
              "      <th>nota_media</th>\n",
              "      <th>Action</th>\n",
              "      <th>Drama</th>\n",
              "    </tr>\n",
              "    <tr>\n",
              "      <th>filmeId</th>\n",
              "      <th></th>\n",
              "      <th></th>\n",
              "      <th></th>\n",
              "      <th></th>\n",
              "    </tr>\n",
              "  </thead>\n",
              "  <tbody>\n",
              "    <tr>\n",
              "      <th>318</th>\n",
              "      <td>Shawshank Redemption, The (1994)</td>\n",
              "      <td>4.429022</td>\n",
              "      <td>0</td>\n",
              "      <td>1</td>\n",
              "    </tr>\n",
              "    <tr>\n",
              "      <th>858</th>\n",
              "      <td>Godfather, The (1972)</td>\n",
              "      <td>4.289062</td>\n",
              "      <td>0</td>\n",
              "      <td>1</td>\n",
              "    </tr>\n",
              "    <tr>\n",
              "      <th>2959</th>\n",
              "      <td>Fight Club (1999)</td>\n",
              "      <td>4.272936</td>\n",
              "      <td>1</td>\n",
              "      <td>1</td>\n",
              "    </tr>\n",
              "    <tr>\n",
              "      <th>1276</th>\n",
              "      <td>Cool Hand Luke (1967)</td>\n",
              "      <td>4.271930</td>\n",
              "      <td>0</td>\n",
              "      <td>1</td>\n",
              "    </tr>\n",
              "    <tr>\n",
              "      <th>1221</th>\n",
              "      <td>Godfather: Part II, The (1974)</td>\n",
              "      <td>4.259690</td>\n",
              "      <td>0</td>\n",
              "      <td>1</td>\n",
              "    </tr>\n",
              "  </tbody>\n",
              "</table>\n",
              "</div>"
            ],
            "text/plain": [
              "                                   titulo  nota_media  Action  Drama\n",
              "filmeId                                                             \n",
              "318      Shawshank Redemption, The (1994)    4.429022       0      1\n",
              "858                 Godfather, The (1972)    4.289062       0      1\n",
              "2959                    Fight Club (1999)    4.272936       1      1\n",
              "1276                Cool Hand Luke (1967)    4.271930       0      1\n",
              "1221       Godfather: Part II, The (1974)    4.259690       0      1"
            ]
          },
          "metadata": {
            "tags": []
          },
          "execution_count": 135
        }
      ]
    },
    {
      "cell_type": "markdown",
      "metadata": {
        "id": "vx-8KiUaW6hs",
        "colab_type": "text"
      },
      "source": [
        "## Pergunta: Quais são os 2 generos com maior valor de correlação com a `nota_media`? E os 2 com menor valor de correlação com a `nota_media`?\n",
        "\n",
        "- O pandas possui a função `corr` para calcular correlação entre todas as colunas"
      ]
    },
    {
      "cell_type": "code",
      "metadata": {
        "id": "YjxT1v249fMc",
        "colab_type": "code",
        "colab": {
          "base_uri": "https://localhost:8080/",
          "height": 458
        },
        "outputId": "015fe42c-e441-49af-80a7-05d9a5249498"
      },
      "source": [
        "correlacao = filmes.drop(columns=['ano_de_lancamento']).corr()\n",
        "correlacao.style.format(\"{:.2f}\").background_gradient(cmap=plt.get_cmap('coolwarm'), axis=1)\n"
      ],
      "execution_count": 136,
      "outputs": [
        {
          "output_type": "execute_result",
          "data": {
            "text/html": [
              "<style  type=\"text/css\" >\n",
              "    #T_faa88c82_c221_11ea_bc7b_0242ac1c0002row0_col0 {\n",
              "            background-color:  #b40426;\n",
              "            color:  #f1f1f1;\n",
              "        }    #T_faa88c82_c221_11ea_bc7b_0242ac1c0002row0_col1 {\n",
              "            background-color:  #d7dce3;\n",
              "            color:  #000000;\n",
              "        }    #T_faa88c82_c221_11ea_bc7b_0242ac1c0002row0_col2 {\n",
              "            background-color:  #536edd;\n",
              "            color:  #000000;\n",
              "        }    #T_faa88c82_c221_11ea_bc7b_0242ac1c0002row0_col3 {\n",
              "            background-color:  #6687ed;\n",
              "            color:  #000000;\n",
              "        }    #T_faa88c82_c221_11ea_bc7b_0242ac1c0002row0_col4 {\n",
              "            background-color:  #88abfd;\n",
              "            color:  #000000;\n",
              "        }    #T_faa88c82_c221_11ea_bc7b_0242ac1c0002row0_col5 {\n",
              "            background-color:  #7396f5;\n",
              "            color:  #000000;\n",
              "        }    #T_faa88c82_c221_11ea_bc7b_0242ac1c0002row0_col6 {\n",
              "            background-color:  #3b4cc0;\n",
              "            color:  #f1f1f1;\n",
              "        }    #T_faa88c82_c221_11ea_bc7b_0242ac1c0002row0_col7 {\n",
              "            background-color:  #b1cbfc;\n",
              "            color:  #000000;\n",
              "        }    #T_faa88c82_c221_11ea_bc7b_0242ac1c0002row0_col8 {\n",
              "            background-color:  #7b9ff9;\n",
              "            color:  #000000;\n",
              "        }    #T_faa88c82_c221_11ea_bc7b_0242ac1c0002row0_col9 {\n",
              "            background-color:  #c7d7f0;\n",
              "            color:  #000000;\n",
              "        }    #T_faa88c82_c221_11ea_bc7b_0242ac1c0002row0_col10 {\n",
              "            background-color:  #7699f6;\n",
              "            color:  #000000;\n",
              "        }    #T_faa88c82_c221_11ea_bc7b_0242ac1c0002row0_col11 {\n",
              "            background-color:  #93b5fe;\n",
              "            color:  #000000;\n",
              "        }    #T_faa88c82_c221_11ea_bc7b_0242ac1c0002row0_col12 {\n",
              "            background-color:  #7396f5;\n",
              "            color:  #000000;\n",
              "        }    #T_faa88c82_c221_11ea_bc7b_0242ac1c0002row0_col13 {\n",
              "            background-color:  #8fb1fe;\n",
              "            color:  #000000;\n",
              "        }    #T_faa88c82_c221_11ea_bc7b_0242ac1c0002row0_col14 {\n",
              "            background-color:  #7a9df8;\n",
              "            color:  #000000;\n",
              "        }    #T_faa88c82_c221_11ea_bc7b_0242ac1c0002row0_col15 {\n",
              "            background-color:  #a1c0ff;\n",
              "            color:  #000000;\n",
              "        }    #T_faa88c82_c221_11ea_bc7b_0242ac1c0002row0_col16 {\n",
              "            background-color:  #688aef;\n",
              "            color:  #000000;\n",
              "        }    #T_faa88c82_c221_11ea_bc7b_0242ac1c0002row0_col17 {\n",
              "            background-color:  #5875e1;\n",
              "            color:  #000000;\n",
              "        }    #T_faa88c82_c221_11ea_bc7b_0242ac1c0002row0_col18 {\n",
              "            background-color:  #779af7;\n",
              "            color:  #000000;\n",
              "        }    #T_faa88c82_c221_11ea_bc7b_0242ac1c0002row0_col19 {\n",
              "            background-color:  #9fbfff;\n",
              "            color:  #000000;\n",
              "        }    #T_faa88c82_c221_11ea_bc7b_0242ac1c0002row0_col20 {\n",
              "            background-color:  #6c8ff1;\n",
              "            color:  #000000;\n",
              "        }    #T_faa88c82_c221_11ea_bc7b_0242ac1c0002row1_col0 {\n",
              "            background-color:  #c5d6f2;\n",
              "            color:  #000000;\n",
              "        }    #T_faa88c82_c221_11ea_bc7b_0242ac1c0002row1_col1 {\n",
              "            background-color:  #b40426;\n",
              "            color:  #f1f1f1;\n",
              "        }    #T_faa88c82_c221_11ea_bc7b_0242ac1c0002row1_col2 {\n",
              "            background-color:  #7295f4;\n",
              "            color:  #000000;\n",
              "        }    #T_faa88c82_c221_11ea_bc7b_0242ac1c0002row1_col3 {\n",
              "            background-color:  #7da0f9;\n",
              "            color:  #000000;\n",
              "        }    #T_faa88c82_c221_11ea_bc7b_0242ac1c0002row1_col4 {\n",
              "            background-color:  #6485ec;\n",
              "            color:  #000000;\n",
              "        }    #T_faa88c82_c221_11ea_bc7b_0242ac1c0002row1_col5 {\n",
              "            background-color:  #5e7de7;\n",
              "            color:  #000000;\n",
              "        }    #T_faa88c82_c221_11ea_bc7b_0242ac1c0002row1_col6 {\n",
              "            background-color:  #3b4cc0;\n",
              "            color:  #f1f1f1;\n",
              "        }    #T_faa88c82_c221_11ea_bc7b_0242ac1c0002row1_col7 {\n",
              "            background-color:  #7699f6;\n",
              "            color:  #000000;\n",
              "        }    #T_faa88c82_c221_11ea_bc7b_0242ac1c0002row1_col8 {\n",
              "            background-color:  #4e68d8;\n",
              "            color:  #000000;\n",
              "        }    #T_faa88c82_c221_11ea_bc7b_0242ac1c0002row1_col9 {\n",
              "            background-color:  #6384eb;\n",
              "            color:  #000000;\n",
              "        }    #T_faa88c82_c221_11ea_bc7b_0242ac1c0002row1_col10 {\n",
              "            background-color:  #5a78e4;\n",
              "            color:  #000000;\n",
              "        }    #T_faa88c82_c221_11ea_bc7b_0242ac1c0002row1_col11 {\n",
              "            background-color:  #536edd;\n",
              "            color:  #000000;\n",
              "        }    #T_faa88c82_c221_11ea_bc7b_0242ac1c0002row1_col12 {\n",
              "            background-color:  #536edd;\n",
              "            color:  #000000;\n",
              "        }    #T_faa88c82_c221_11ea_bc7b_0242ac1c0002row1_col13 {\n",
              "            background-color:  #5977e3;\n",
              "            color:  #000000;\n",
              "        }    #T_faa88c82_c221_11ea_bc7b_0242ac1c0002row1_col14 {\n",
              "            background-color:  #5673e0;\n",
              "            color:  #000000;\n",
              "        }    #T_faa88c82_c221_11ea_bc7b_0242ac1c0002row1_col15 {\n",
              "            background-color:  #5b7ae5;\n",
              "            color:  #000000;\n",
              "        }    #T_faa88c82_c221_11ea_bc7b_0242ac1c0002row1_col16 {\n",
              "            background-color:  #506bda;\n",
              "            color:  #000000;\n",
              "        }    #T_faa88c82_c221_11ea_bc7b_0242ac1c0002row1_col17 {\n",
              "            background-color:  #7093f3;\n",
              "            color:  #000000;\n",
              "        }    #T_faa88c82_c221_11ea_bc7b_0242ac1c0002row1_col18 {\n",
              "            background-color:  #779af7;\n",
              "            color:  #000000;\n",
              "        }    #T_faa88c82_c221_11ea_bc7b_0242ac1c0002row1_col19 {\n",
              "            background-color:  #799cf8;\n",
              "            color:  #000000;\n",
              "        }    #T_faa88c82_c221_11ea_bc7b_0242ac1c0002row1_col20 {\n",
              "            background-color:  #4c66d6;\n",
              "            color:  #000000;\n",
              "        }    #T_faa88c82_c221_11ea_bc7b_0242ac1c0002row2_col0 {\n",
              "            background-color:  #5b7ae5;\n",
              "            color:  #000000;\n",
              "        }    #T_faa88c82_c221_11ea_bc7b_0242ac1c0002row2_col1 {\n",
              "            background-color:  #96b7ff;\n",
              "            color:  #000000;\n",
              "        }    #T_faa88c82_c221_11ea_bc7b_0242ac1c0002row2_col2 {\n",
              "            background-color:  #b40426;\n",
              "            color:  #f1f1f1;\n",
              "        }    #T_faa88c82_c221_11ea_bc7b_0242ac1c0002row2_col3 {\n",
              "            background-color:  #d8dce2;\n",
              "            color:  #000000;\n",
              "        }    #T_faa88c82_c221_11ea_bc7b_0242ac1c0002row2_col4 {\n",
              "            background-color:  #5673e0;\n",
              "            color:  #000000;\n",
              "        }    #T_faa88c82_c221_11ea_bc7b_0242ac1c0002row2_col5 {\n",
              "            background-color:  #4c66d6;\n",
              "            color:  #000000;\n",
              "        }    #T_faa88c82_c221_11ea_bc7b_0242ac1c0002row2_col6 {\n",
              "            background-color:  #3b4cc0;\n",
              "            color:  #f1f1f1;\n",
              "        }    #T_faa88c82_c221_11ea_bc7b_0242ac1c0002row2_col7 {\n",
              "            background-color:  #96b7ff;\n",
              "            color:  #000000;\n",
              "        }    #T_faa88c82_c221_11ea_bc7b_0242ac1c0002row2_col8 {\n",
              "            background-color:  #7699f6;\n",
              "            color:  #000000;\n",
              "        }    #T_faa88c82_c221_11ea_bc7b_0242ac1c0002row2_col9 {\n",
              "            background-color:  #4358cb;\n",
              "            color:  #f1f1f1;\n",
              "        }    #T_faa88c82_c221_11ea_bc7b_0242ac1c0002row2_col10 {\n",
              "            background-color:  #6485ec;\n",
              "            color:  #000000;\n",
              "        }    #T_faa88c82_c221_11ea_bc7b_0242ac1c0002row2_col11 {\n",
              "            background-color:  #7ea1fa;\n",
              "            color:  #000000;\n",
              "        }    #T_faa88c82_c221_11ea_bc7b_0242ac1c0002row2_col12 {\n",
              "            background-color:  #81a4fb;\n",
              "            color:  #000000;\n",
              "        }    #T_faa88c82_c221_11ea_bc7b_0242ac1c0002row2_col13 {\n",
              "            background-color:  #a7c5fe;\n",
              "            color:  #000000;\n",
              "        }    #T_faa88c82_c221_11ea_bc7b_0242ac1c0002row2_col14 {\n",
              "            background-color:  #5d7ce6;\n",
              "            color:  #000000;\n",
              "        }    #T_faa88c82_c221_11ea_bc7b_0242ac1c0002row2_col15 {\n",
              "            background-color:  #7396f5;\n",
              "            color:  #000000;\n",
              "        }    #T_faa88c82_c221_11ea_bc7b_0242ac1c0002row2_col16 {\n",
              "            background-color:  #506bda;\n",
              "            color:  #000000;\n",
              "        }    #T_faa88c82_c221_11ea_bc7b_0242ac1c0002row2_col17 {\n",
              "            background-color:  #d7dce3;\n",
              "            color:  #000000;\n",
              "        }    #T_faa88c82_c221_11ea_bc7b_0242ac1c0002row2_col18 {\n",
              "            background-color:  #d4dbe6;\n",
              "            color:  #000000;\n",
              "        }    #T_faa88c82_c221_11ea_bc7b_0242ac1c0002row2_col19 {\n",
              "            background-color:  #97b8ff;\n",
              "            color:  #000000;\n",
              "        }    #T_faa88c82_c221_11ea_bc7b_0242ac1c0002row2_col20 {\n",
              "            background-color:  #92b4fe;\n",
              "            color:  #000000;\n",
              "        }    #T_faa88c82_c221_11ea_bc7b_0242ac1c0002row3_col0 {\n",
              "            background-color:  #6e90f2;\n",
              "            color:  #000000;\n",
              "        }    #T_faa88c82_c221_11ea_bc7b_0242ac1c0002row3_col1 {\n",
              "            background-color:  #a1c0ff;\n",
              "            color:  #000000;\n",
              "        }    #T_faa88c82_c221_11ea_bc7b_0242ac1c0002row3_col2 {\n",
              "            background-color:  #d8dce2;\n",
              "            color:  #000000;\n",
              "        }    #T_faa88c82_c221_11ea_bc7b_0242ac1c0002row3_col3 {\n",
              "            background-color:  #b40426;\n",
              "            color:  #f1f1f1;\n",
              "        }    #T_faa88c82_c221_11ea_bc7b_0242ac1c0002row3_col4 {\n",
              "            background-color:  #b1cbfc;\n",
              "            color:  #000000;\n",
              "        }    #T_faa88c82_c221_11ea_bc7b_0242ac1c0002row3_col5 {\n",
              "            background-color:  #b5cdfa;\n",
              "            color:  #000000;\n",
              "        }    #T_faa88c82_c221_11ea_bc7b_0242ac1c0002row3_col6 {\n",
              "            background-color:  #6b8df0;\n",
              "            color:  #000000;\n",
              "        }    #T_faa88c82_c221_11ea_bc7b_0242ac1c0002row3_col7 {\n",
              "            background-color:  #455cce;\n",
              "            color:  #f1f1f1;\n",
              "        }    #T_faa88c82_c221_11ea_bc7b_0242ac1c0002row3_col8 {\n",
              "            background-color:  #799cf8;\n",
              "            color:  #000000;\n",
              "        }    #T_faa88c82_c221_11ea_bc7b_0242ac1c0002row3_col9 {\n",
              "            background-color:  #3b4cc0;\n",
              "            color:  #f1f1f1;\n",
              "        }    #T_faa88c82_c221_11ea_bc7b_0242ac1c0002row3_col10 {\n",
              "            background-color:  #c4d5f3;\n",
              "            color:  #000000;\n",
              "        }    #T_faa88c82_c221_11ea_bc7b_0242ac1c0002row3_col11 {\n",
              "            background-color:  #7396f5;\n",
              "            color:  #000000;\n",
              "        }    #T_faa88c82_c221_11ea_bc7b_0242ac1c0002row3_col12 {\n",
              "            background-color:  #6a8bef;\n",
              "            color:  #000000;\n",
              "        }    #T_faa88c82_c221_11ea_bc7b_0242ac1c0002row3_col13 {\n",
              "            background-color:  #bed2f6;\n",
              "            color:  #000000;\n",
              "        }    #T_faa88c82_c221_11ea_bc7b_0242ac1c0002row3_col14 {\n",
              "            background-color:  #7699f6;\n",
              "            color:  #000000;\n",
              "        }    #T_faa88c82_c221_11ea_bc7b_0242ac1c0002row3_col15 {\n",
              "            background-color:  #6b8df0;\n",
              "            color:  #000000;\n",
              "        }    #T_faa88c82_c221_11ea_bc7b_0242ac1c0002row3_col16 {\n",
              "            background-color:  #5673e0;\n",
              "            color:  #000000;\n",
              "        }    #T_faa88c82_c221_11ea_bc7b_0242ac1c0002row3_col17 {\n",
              "            background-color:  #ccd9ed;\n",
              "            color:  #000000;\n",
              "        }    #T_faa88c82_c221_11ea_bc7b_0242ac1c0002row3_col18 {\n",
              "            background-color:  #82a6fb;\n",
              "            color:  #000000;\n",
              "        }    #T_faa88c82_c221_11ea_bc7b_0242ac1c0002row3_col19 {\n",
              "            background-color:  #6c8ff1;\n",
              "            color:  #000000;\n",
              "        }    #T_faa88c82_c221_11ea_bc7b_0242ac1c0002row3_col20 {\n",
              "            background-color:  #90b2fe;\n",
              "            color:  #000000;\n",
              "        }    #T_faa88c82_c221_11ea_bc7b_0242ac1c0002row4_col0 {\n",
              "            background-color:  #7699f6;\n",
              "            color:  #000000;\n",
              "        }    #T_faa88c82_c221_11ea_bc7b_0242ac1c0002row4_col1 {\n",
              "            background-color:  #6f92f3;\n",
              "            color:  #000000;\n",
              "        }    #T_faa88c82_c221_11ea_bc7b_0242ac1c0002row4_col2 {\n",
              "            background-color:  #3b4cc0;\n",
              "            color:  #f1f1f1;\n",
              "        }    #T_faa88c82_c221_11ea_bc7b_0242ac1c0002row4_col3 {\n",
              "            background-color:  #9abbff;\n",
              "            color:  #000000;\n",
              "        }    #T_faa88c82_c221_11ea_bc7b_0242ac1c0002row4_col4 {\n",
              "            background-color:  #b40426;\n",
              "            color:  #f1f1f1;\n",
              "        }    #T_faa88c82_c221_11ea_bc7b_0242ac1c0002row4_col5 {\n",
              "            background-color:  #ef886b;\n",
              "            color:  #000000;\n",
              "        }    #T_faa88c82_c221_11ea_bc7b_0242ac1c0002row4_col6 {\n",
              "            background-color:  #8fb1fe;\n",
              "            color:  #000000;\n",
              "        }    #T_faa88c82_c221_11ea_bc7b_0242ac1c0002row4_col7 {\n",
              "            background-color:  #4f69d9;\n",
              "            color:  #000000;\n",
              "        }    #T_faa88c82_c221_11ea_bc7b_0242ac1c0002row4_col8 {\n",
              "            background-color:  #6384eb;\n",
              "            color:  #000000;\n",
              "        }    #T_faa88c82_c221_11ea_bc7b_0242ac1c0002row4_col9 {\n",
              "            background-color:  #485fd1;\n",
              "            color:  #f1f1f1;\n",
              "        }    #T_faa88c82_c221_11ea_bc7b_0242ac1c0002row4_col10 {\n",
              "            background-color:  #adc9fd;\n",
              "            color:  #000000;\n",
              "        }    #T_faa88c82_c221_11ea_bc7b_0242ac1c0002row4_col11 {\n",
              "            background-color:  #6282ea;\n",
              "            color:  #000000;\n",
              "        }    #T_faa88c82_c221_11ea_bc7b_0242ac1c0002row4_col12 {\n",
              "            background-color:  #5572df;\n",
              "            color:  #000000;\n",
              "        }    #T_faa88c82_c221_11ea_bc7b_0242ac1c0002row4_col13 {\n",
              "            background-color:  #89acfd;\n",
              "            color:  #000000;\n",
              "        }    #T_faa88c82_c221_11ea_bc7b_0242ac1c0002row4_col14 {\n",
              "            background-color:  #e0dbd8;\n",
              "            color:  #000000;\n",
              "        }    #T_faa88c82_c221_11ea_bc7b_0242ac1c0002row4_col15 {\n",
              "            background-color:  #5a78e4;\n",
              "            color:  #000000;\n",
              "        }    #T_faa88c82_c221_11ea_bc7b_0242ac1c0002row4_col16 {\n",
              "            background-color:  #6f92f3;\n",
              "            color:  #000000;\n",
              "        }    #T_faa88c82_c221_11ea_bc7b_0242ac1c0002row4_col17 {\n",
              "            background-color:  #4e68d8;\n",
              "            color:  #000000;\n",
              "        }    #T_faa88c82_c221_11ea_bc7b_0242ac1c0002row4_col18 {\n",
              "            background-color:  #3c4ec2;\n",
              "            color:  #f1f1f1;\n",
              "        }    #T_faa88c82_c221_11ea_bc7b_0242ac1c0002row4_col19 {\n",
              "            background-color:  #5977e3;\n",
              "            color:  #000000;\n",
              "        }    #T_faa88c82_c221_11ea_bc7b_0242ac1c0002row4_col20 {\n",
              "            background-color:  #5b7ae5;\n",
              "            color:  #000000;\n",
              "        }    #T_faa88c82_c221_11ea_bc7b_0242ac1c0002row5_col0 {\n",
              "            background-color:  #6a8bef;\n",
              "            color:  #000000;\n",
              "        }    #T_faa88c82_c221_11ea_bc7b_0242ac1c0002row5_col1 {\n",
              "            background-color:  #7396f5;\n",
              "            color:  #000000;\n",
              "        }    #T_faa88c82_c221_11ea_bc7b_0242ac1c0002row5_col2 {\n",
              "            background-color:  #3b4cc0;\n",
              "            color:  #f1f1f1;\n",
              "        }    #T_faa88c82_c221_11ea_bc7b_0242ac1c0002row5_col3 {\n",
              "            background-color:  #a6c4fe;\n",
              "            color:  #000000;\n",
              "        }    #T_faa88c82_c221_11ea_bc7b_0242ac1c0002row5_col4 {\n",
              "            background-color:  #ee8468;\n",
              "            color:  #000000;\n",
              "        }    #T_faa88c82_c221_11ea_bc7b_0242ac1c0002row5_col5 {\n",
              "            background-color:  #b40426;\n",
              "            color:  #f1f1f1;\n",
              "        }    #T_faa88c82_c221_11ea_bc7b_0242ac1c0002row5_col6 {\n",
              "            background-color:  #96b7ff;\n",
              "            color:  #000000;\n",
              "        }    #T_faa88c82_c221_11ea_bc7b_0242ac1c0002row5_col7 {\n",
              "            background-color:  #4f69d9;\n",
              "            color:  #000000;\n",
              "        }    #T_faa88c82_c221_11ea_bc7b_0242ac1c0002row5_col8 {\n",
              "            background-color:  #6c8ff1;\n",
              "            color:  #000000;\n",
              "        }    #T_faa88c82_c221_11ea_bc7b_0242ac1c0002row5_col9 {\n",
              "            background-color:  #506bda;\n",
              "            color:  #000000;\n",
              "        }    #T_faa88c82_c221_11ea_bc7b_0242ac1c0002row5_col10 {\n",
              "            background-color:  #d8dce2;\n",
              "            color:  #000000;\n",
              "        }    #T_faa88c82_c221_11ea_bc7b_0242ac1c0002row5_col11 {\n",
              "            background-color:  #6a8bef;\n",
              "            color:  #000000;\n",
              "        }    #T_faa88c82_c221_11ea_bc7b_0242ac1c0002row5_col12 {\n",
              "            background-color:  #5b7ae5;\n",
              "            color:  #000000;\n",
              "        }    #T_faa88c82_c221_11ea_bc7b_0242ac1c0002row5_col13 {\n",
              "            background-color:  #8db0fe;\n",
              "            color:  #000000;\n",
              "        }    #T_faa88c82_c221_11ea_bc7b_0242ac1c0002row5_col14 {\n",
              "            background-color:  #dfdbd9;\n",
              "            color:  #000000;\n",
              "        }    #T_faa88c82_c221_11ea_bc7b_0242ac1c0002row5_col15 {\n",
              "            background-color:  #5d7ce6;\n",
              "            color:  #000000;\n",
              "        }    #T_faa88c82_c221_11ea_bc7b_0242ac1c0002row5_col16 {\n",
              "            background-color:  #6e90f2;\n",
              "            color:  #000000;\n",
              "        }    #T_faa88c82_c221_11ea_bc7b_0242ac1c0002row5_col17 {\n",
              "            background-color:  #5673e0;\n",
              "            color:  #000000;\n",
              "        }    #T_faa88c82_c221_11ea_bc7b_0242ac1c0002row5_col18 {\n",
              "            background-color:  #3c4ec2;\n",
              "            color:  #f1f1f1;\n",
              "        }    #T_faa88c82_c221_11ea_bc7b_0242ac1c0002row5_col19 {\n",
              "            background-color:  #5e7de7;\n",
              "            color:  #000000;\n",
              "        }    #T_faa88c82_c221_11ea_bc7b_0242ac1c0002row5_col20 {\n",
              "            background-color:  #6384eb;\n",
              "            color:  #000000;\n",
              "        }    #T_faa88c82_c221_11ea_bc7b_0242ac1c0002row6_col0 {\n",
              "            background-color:  #536edd;\n",
              "            color:  #000000;\n",
              "        }    #T_faa88c82_c221_11ea_bc7b_0242ac1c0002row6_col1 {\n",
              "            background-color:  #7295f4;\n",
              "            color:  #000000;\n",
              "        }    #T_faa88c82_c221_11ea_bc7b_0242ac1c0002row6_col2 {\n",
              "            background-color:  #4a63d3;\n",
              "            color:  #f1f1f1;\n",
              "        }    #T_faa88c82_c221_11ea_bc7b_0242ac1c0002row6_col3 {\n",
              "            background-color:  #7b9ff9;\n",
              "            color:  #000000;\n",
              "        }    #T_faa88c82_c221_11ea_bc7b_0242ac1c0002row6_col4 {\n",
              "            background-color:  #b2ccfb;\n",
              "            color:  #000000;\n",
              "        }    #T_faa88c82_c221_11ea_bc7b_0242ac1c0002row6_col5 {\n",
              "            background-color:  #b1cbfc;\n",
              "            color:  #000000;\n",
              "        }    #T_faa88c82_c221_11ea_bc7b_0242ac1c0002row6_col6 {\n",
              "            background-color:  #b40426;\n",
              "            color:  #f1f1f1;\n",
              "        }    #T_faa88c82_c221_11ea_bc7b_0242ac1c0002row6_col7 {\n",
              "            background-color:  #7295f4;\n",
              "            color:  #000000;\n",
              "        }    #T_faa88c82_c221_11ea_bc7b_0242ac1c0002row6_col8 {\n",
              "            background-color:  #96b7ff;\n",
              "            color:  #000000;\n",
              "        }    #T_faa88c82_c221_11ea_bc7b_0242ac1c0002row6_col9 {\n",
              "            background-color:  #4b64d5;\n",
              "            color:  #f1f1f1;\n",
              "        }    #T_faa88c82_c221_11ea_bc7b_0242ac1c0002row6_col10 {\n",
              "            background-color:  #abc8fd;\n",
              "            color:  #000000;\n",
              "        }    #T_faa88c82_c221_11ea_bc7b_0242ac1c0002row6_col11 {\n",
              "            background-color:  #7ea1fa;\n",
              "            color:  #000000;\n",
              "        }    #T_faa88c82_c221_11ea_bc7b_0242ac1c0002row6_col12 {\n",
              "            background-color:  #8caffe;\n",
              "            color:  #000000;\n",
              "        }    #T_faa88c82_c221_11ea_bc7b_0242ac1c0002row6_col13 {\n",
              "            background-color:  #6b8df0;\n",
              "            color:  #000000;\n",
              "        }    #T_faa88c82_c221_11ea_bc7b_0242ac1c0002row6_col14 {\n",
              "            background-color:  #a1c0ff;\n",
              "            color:  #000000;\n",
              "        }    #T_faa88c82_c221_11ea_bc7b_0242ac1c0002row6_col15 {\n",
              "            background-color:  #5f7fe8;\n",
              "            color:  #000000;\n",
              "        }    #T_faa88c82_c221_11ea_bc7b_0242ac1c0002row6_col16 {\n",
              "            background-color:  #cbd8ee;\n",
              "            color:  #000000;\n",
              "        }    #T_faa88c82_c221_11ea_bc7b_0242ac1c0002row6_col17 {\n",
              "            background-color:  #5d7ce6;\n",
              "            color:  #000000;\n",
              "        }    #T_faa88c82_c221_11ea_bc7b_0242ac1c0002row6_col18 {\n",
              "            background-color:  #3b4cc0;\n",
              "            color:  #f1f1f1;\n",
              "        }    #T_faa88c82_c221_11ea_bc7b_0242ac1c0002row6_col19 {\n",
              "            background-color:  #7da0f9;\n",
              "            color:  #000000;\n",
              "        }    #T_faa88c82_c221_11ea_bc7b_0242ac1c0002row6_col20 {\n",
              "            background-color:  #94b6ff;\n",
              "            color:  #000000;\n",
              "        }    #T_faa88c82_c221_11ea_bc7b_0242ac1c0002row7_col0 {\n",
              "            background-color:  #aec9fc;\n",
              "            color:  #000000;\n",
              "        }    #T_faa88c82_c221_11ea_bc7b_0242ac1c0002row7_col1 {\n",
              "            background-color:  #90b2fe;\n",
              "            color:  #000000;\n",
              "        }    #T_faa88c82_c221_11ea_bc7b_0242ac1c0002row7_col2 {\n",
              "            background-color:  #8badfd;\n",
              "            color:  #000000;\n",
              "        }    #T_faa88c82_c221_11ea_bc7b_0242ac1c0002row7_col3 {\n",
              "            background-color:  #3b4cc0;\n",
              "            color:  #f1f1f1;\n",
              "        }    #T_faa88c82_c221_11ea_bc7b_0242ac1c0002row7_col4 {\n",
              "            background-color:  #5f7fe8;\n",
              "            color:  #000000;\n",
              "        }    #T_faa88c82_c221_11ea_bc7b_0242ac1c0002row7_col5 {\n",
              "            background-color:  #5572df;\n",
              "            color:  #000000;\n",
              "        }    #T_faa88c82_c221_11ea_bc7b_0242ac1c0002row7_col6 {\n",
              "            background-color:  #5673e0;\n",
              "            color:  #000000;\n",
              "        }    #T_faa88c82_c221_11ea_bc7b_0242ac1c0002row7_col7 {\n",
              "            background-color:  #b40426;\n",
              "            color:  #f1f1f1;\n",
              "        }    #T_faa88c82_c221_11ea_bc7b_0242ac1c0002row7_col8 {\n",
              "            background-color:  #7093f3;\n",
              "            color:  #000000;\n",
              "        }    #T_faa88c82_c221_11ea_bc7b_0242ac1c0002row7_col9 {\n",
              "            background-color:  #93b5fe;\n",
              "            color:  #000000;\n",
              "        }    #T_faa88c82_c221_11ea_bc7b_0242ac1c0002row7_col10 {\n",
              "            background-color:  #4f69d9;\n",
              "            color:  #000000;\n",
              "        }    #T_faa88c82_c221_11ea_bc7b_0242ac1c0002row7_col11 {\n",
              "            background-color:  #afcafc;\n",
              "            color:  #000000;\n",
              "        }    #T_faa88c82_c221_11ea_bc7b_0242ac1c0002row7_col12 {\n",
              "            background-color:  #6b8df0;\n",
              "            color:  #000000;\n",
              "        }    #T_faa88c82_c221_11ea_bc7b_0242ac1c0002row7_col13 {\n",
              "            background-color:  #6f92f3;\n",
              "            color:  #000000;\n",
              "        }    #T_faa88c82_c221_11ea_bc7b_0242ac1c0002row7_col14 {\n",
              "            background-color:  #5b7ae5;\n",
              "            color:  #000000;\n",
              "        }    #T_faa88c82_c221_11ea_bc7b_0242ac1c0002row7_col15 {\n",
              "            background-color:  #9abbff;\n",
              "            color:  #000000;\n",
              "        }    #T_faa88c82_c221_11ea_bc7b_0242ac1c0002row7_col16 {\n",
              "            background-color:  #4257c9;\n",
              "            color:  #f1f1f1;\n",
              "        }    #T_faa88c82_c221_11ea_bc7b_0242ac1c0002row7_col17 {\n",
              "            background-color:  #4961d2;\n",
              "            color:  #f1f1f1;\n",
              "        }    #T_faa88c82_c221_11ea_bc7b_0242ac1c0002row7_col18 {\n",
              "            background-color:  #bfd3f6;\n",
              "            color:  #000000;\n",
              "        }    #T_faa88c82_c221_11ea_bc7b_0242ac1c0002row7_col19 {\n",
              "            background-color:  #6485ec;\n",
              "            color:  #000000;\n",
              "        }    #T_faa88c82_c221_11ea_bc7b_0242ac1c0002row7_col20 {\n",
              "            background-color:  #6384eb;\n",
              "            color:  #000000;\n",
              "        }    #T_faa88c82_c221_11ea_bc7b_0242ac1c0002row8_col0 {\n",
              "            background-color:  #4961d2;\n",
              "            color:  #f1f1f1;\n",
              "        }    #T_faa88c82_c221_11ea_bc7b_0242ac1c0002row8_col1 {\n",
              "            background-color:  #3b4cc0;\n",
              "            color:  #f1f1f1;\n",
              "        }    #T_faa88c82_c221_11ea_bc7b_0242ac1c0002row8_col2 {\n",
              "            background-color:  #3c4ec2;\n",
              "            color:  #f1f1f1;\n",
              "        }    #T_faa88c82_c221_11ea_bc7b_0242ac1c0002row8_col3 {\n",
              "            background-color:  #3d50c3;\n",
              "            color:  #f1f1f1;\n",
              "        }    #T_faa88c82_c221_11ea_bc7b_0242ac1c0002row8_col4 {\n",
              "            background-color:  #445acc;\n",
              "            color:  #f1f1f1;\n",
              "        }    #T_faa88c82_c221_11ea_bc7b_0242ac1c0002row8_col5 {\n",
              "            background-color:  #4358cb;\n",
              "            color:  #f1f1f1;\n",
              "        }    #T_faa88c82_c221_11ea_bc7b_0242ac1c0002row8_col6 {\n",
              "            background-color:  #4e68d8;\n",
              "            color:  #000000;\n",
              "        }    #T_faa88c82_c221_11ea_bc7b_0242ac1c0002row8_col7 {\n",
              "            background-color:  #4055c8;\n",
              "            color:  #f1f1f1;\n",
              "        }    #T_faa88c82_c221_11ea_bc7b_0242ac1c0002row8_col8 {\n",
              "            background-color:  #b40426;\n",
              "            color:  #f1f1f1;\n",
              "        }    #T_faa88c82_c221_11ea_bc7b_0242ac1c0002row8_col9 {\n",
              "            background-color:  #4f69d9;\n",
              "            color:  #000000;\n",
              "        }    #T_faa88c82_c221_11ea_bc7b_0242ac1c0002row8_col10 {\n",
              "            background-color:  #4257c9;\n",
              "            color:  #f1f1f1;\n",
              "        }    #T_faa88c82_c221_11ea_bc7b_0242ac1c0002row8_col11 {\n",
              "            background-color:  #485fd1;\n",
              "            color:  #f1f1f1;\n",
              "        }    #T_faa88c82_c221_11ea_bc7b_0242ac1c0002row8_col12 {\n",
              "            background-color:  #455cce;\n",
              "            color:  #f1f1f1;\n",
              "        }    #T_faa88c82_c221_11ea_bc7b_0242ac1c0002row8_col13 {\n",
              "            background-color:  #455cce;\n",
              "            color:  #f1f1f1;\n",
              "        }    #T_faa88c82_c221_11ea_bc7b_0242ac1c0002row8_col14 {\n",
              "            background-color:  #455cce;\n",
              "            color:  #f1f1f1;\n",
              "        }    #T_faa88c82_c221_11ea_bc7b_0242ac1c0002row8_col15 {\n",
              "            background-color:  #445acc;\n",
              "            color:  #f1f1f1;\n",
              "        }    #T_faa88c82_c221_11ea_bc7b_0242ac1c0002row8_col16 {\n",
              "            background-color:  #4055c8;\n",
              "            color:  #f1f1f1;\n",
              "        }    #T_faa88c82_c221_11ea_bc7b_0242ac1c0002row8_col17 {\n",
              "            background-color:  #4055c8;\n",
              "            color:  #f1f1f1;\n",
              "        }    #T_faa88c82_c221_11ea_bc7b_0242ac1c0002row8_col18 {\n",
              "            background-color:  #3e51c5;\n",
              "            color:  #f1f1f1;\n",
              "        }    #T_faa88c82_c221_11ea_bc7b_0242ac1c0002row8_col19 {\n",
              "            background-color:  #455cce;\n",
              "            color:  #f1f1f1;\n",
              "        }    #T_faa88c82_c221_11ea_bc7b_0242ac1c0002row8_col20 {\n",
              "            background-color:  #465ecf;\n",
              "            color:  #f1f1f1;\n",
              "        }    #T_faa88c82_c221_11ea_bc7b_0242ac1c0002row9_col0 {\n",
              "            background-color:  #ccd9ed;\n",
              "            color:  #000000;\n",
              "        }    #T_faa88c82_c221_11ea_bc7b_0242ac1c0002row9_col1 {\n",
              "            background-color:  #89acfd;\n",
              "            color:  #000000;\n",
              "        }    #T_faa88c82_c221_11ea_bc7b_0242ac1c0002row9_col2 {\n",
              "            background-color:  #4358cb;\n",
              "            color:  #f1f1f1;\n",
              "        }    #T_faa88c82_c221_11ea_bc7b_0242ac1c0002row9_col3 {\n",
              "            background-color:  #3b4cc0;\n",
              "            color:  #f1f1f1;\n",
              "        }    #T_faa88c82_c221_11ea_bc7b_0242ac1c0002row9_col4 {\n",
              "            background-color:  #6384eb;\n",
              "            color:  #000000;\n",
              "        }    #T_faa88c82_c221_11ea_bc7b_0242ac1c0002row9_col5 {\n",
              "            background-color:  #6282ea;\n",
              "            color:  #000000;\n",
              "        }    #T_faa88c82_c221_11ea_bc7b_0242ac1c0002row9_col6 {\n",
              "            background-color:  #3b4cc0;\n",
              "            color:  #f1f1f1;\n",
              "        }    #T_faa88c82_c221_11ea_bc7b_0242ac1c0002row9_col7 {\n",
              "            background-color:  #9dbdff;\n",
              "            color:  #000000;\n",
              "        }    #T_faa88c82_c221_11ea_bc7b_0242ac1c0002row9_col8 {\n",
              "            background-color:  #89acfd;\n",
              "            color:  #000000;\n",
              "        }    #T_faa88c82_c221_11ea_bc7b_0242ac1c0002row9_col9 {\n",
              "            background-color:  #b40426;\n",
              "            color:  #f1f1f1;\n",
              "        }    #T_faa88c82_c221_11ea_bc7b_0242ac1c0002row9_col10 {\n",
              "            background-color:  #6384eb;\n",
              "            color:  #000000;\n",
              "        }    #T_faa88c82_c221_11ea_bc7b_0242ac1c0002row9_col11 {\n",
              "            background-color:  #7da0f9;\n",
              "            color:  #000000;\n",
              "        }    #T_faa88c82_c221_11ea_bc7b_0242ac1c0002row9_col12 {\n",
              "            background-color:  #6687ed;\n",
              "            color:  #000000;\n",
              "        }    #T_faa88c82_c221_11ea_bc7b_0242ac1c0002row9_col13 {\n",
              "            background-color:  #6e90f2;\n",
              "            color:  #000000;\n",
              "        }    #T_faa88c82_c221_11ea_bc7b_0242ac1c0002row9_col14 {\n",
              "            background-color:  #6e90f2;\n",
              "            color:  #000000;\n",
              "        }    #T_faa88c82_c221_11ea_bc7b_0242ac1c0002row9_col15 {\n",
              "            background-color:  #88abfd;\n",
              "            color:  #000000;\n",
              "        }    #T_faa88c82_c221_11ea_bc7b_0242ac1c0002row9_col16 {\n",
              "            background-color:  #96b7ff;\n",
              "            color:  #000000;\n",
              "        }    #T_faa88c82_c221_11ea_bc7b_0242ac1c0002row9_col17 {\n",
              "            background-color:  #5a78e4;\n",
              "            color:  #000000;\n",
              "        }    #T_faa88c82_c221_11ea_bc7b_0242ac1c0002row9_col18 {\n",
              "            background-color:  #7a9df8;\n",
              "            color:  #000000;\n",
              "        }    #T_faa88c82_c221_11ea_bc7b_0242ac1c0002row9_col19 {\n",
              "            background-color:  #bbd1f8;\n",
              "            color:  #000000;\n",
              "        }    #T_faa88c82_c221_11ea_bc7b_0242ac1c0002row9_col20 {\n",
              "            background-color:  #81a4fb;\n",
              "            color:  #000000;\n",
              "        }    #T_faa88c82_c221_11ea_bc7b_0242ac1c0002row10_col0 {\n",
              "            background-color:  #6485ec;\n",
              "            color:  #000000;\n",
              "        }    #T_faa88c82_c221_11ea_bc7b_0242ac1c0002row10_col1 {\n",
              "            background-color:  #6788ee;\n",
              "            color:  #000000;\n",
              "        }    #T_faa88c82_c221_11ea_bc7b_0242ac1c0002row10_col2 {\n",
              "            background-color:  #4a63d3;\n",
              "            color:  #f1f1f1;\n",
              "        }    #T_faa88c82_c221_11ea_bc7b_0242ac1c0002row10_col3 {\n",
              "            background-color:  #b2ccfb;\n",
              "            color:  #000000;\n",
              "        }    #T_faa88c82_c221_11ea_bc7b_0242ac1c0002row10_col4 {\n",
              "            background-color:  #aec9fc;\n",
              "            color:  #000000;\n",
              "        }    #T_faa88c82_c221_11ea_bc7b_0242ac1c0002row10_col5 {\n",
              "            background-color:  #d4dbe6;\n",
              "            color:  #000000;\n",
              "        }    #T_faa88c82_c221_11ea_bc7b_0242ac1c0002row10_col6 {\n",
              "            background-color:  #86a9fc;\n",
              "            color:  #000000;\n",
              "        }    #T_faa88c82_c221_11ea_bc7b_0242ac1c0002row10_col7 {\n",
              "            background-color:  #4055c8;\n",
              "            color:  #f1f1f1;\n",
              "        }    #T_faa88c82_c221_11ea_bc7b_0242ac1c0002row10_col8 {\n",
              "            background-color:  #6384eb;\n",
              "            color:  #000000;\n",
              "        }    #T_faa88c82_c221_11ea_bc7b_0242ac1c0002row10_col9 {\n",
              "            background-color:  #4961d2;\n",
              "            color:  #f1f1f1;\n",
              "        }    #T_faa88c82_c221_11ea_bc7b_0242ac1c0002row10_col10 {\n",
              "            background-color:  #b40426;\n",
              "            color:  #f1f1f1;\n",
              "        }    #T_faa88c82_c221_11ea_bc7b_0242ac1c0002row10_col11 {\n",
              "            background-color:  #5f7fe8;\n",
              "            color:  #000000;\n",
              "        }    #T_faa88c82_c221_11ea_bc7b_0242ac1c0002row10_col12 {\n",
              "            background-color:  #6485ec;\n",
              "            color:  #000000;\n",
              "        }    #T_faa88c82_c221_11ea_bc7b_0242ac1c0002row10_col13 {\n",
              "            background-color:  #98b9ff;\n",
              "            color:  #000000;\n",
              "        }    #T_faa88c82_c221_11ea_bc7b_0242ac1c0002row10_col14 {\n",
              "            background-color:  #96b7ff;\n",
              "            color:  #000000;\n",
              "        }    #T_faa88c82_c221_11ea_bc7b_0242ac1c0002row10_col15 {\n",
              "            background-color:  #6180e9;\n",
              "            color:  #000000;\n",
              "        }    #T_faa88c82_c221_11ea_bc7b_0242ac1c0002row10_col16 {\n",
              "            background-color:  #7295f4;\n",
              "            color:  #000000;\n",
              "        }    #T_faa88c82_c221_11ea_bc7b_0242ac1c0002row10_col17 {\n",
              "            background-color:  #4358cb;\n",
              "            color:  #f1f1f1;\n",
              "        }    #T_faa88c82_c221_11ea_bc7b_0242ac1c0002row10_col18 {\n",
              "            background-color:  #3b4cc0;\n",
              "            color:  #f1f1f1;\n",
              "        }    #T_faa88c82_c221_11ea_bc7b_0242ac1c0002row10_col19 {\n",
              "            background-color:  #5b7ae5;\n",
              "            color:  #000000;\n",
              "        }    #T_faa88c82_c221_11ea_bc7b_0242ac1c0002row10_col20 {\n",
              "            background-color:  #5875e1;\n",
              "            color:  #000000;\n",
              "        }    #T_faa88c82_c221_11ea_bc7b_0242ac1c0002row11_col0 {\n",
              "            background-color:  #688aef;\n",
              "            color:  #000000;\n",
              "        }    #T_faa88c82_c221_11ea_bc7b_0242ac1c0002row11_col1 {\n",
              "            background-color:  #455cce;\n",
              "            color:  #f1f1f1;\n",
              "        }    #T_faa88c82_c221_11ea_bc7b_0242ac1c0002row11_col2 {\n",
              "            background-color:  #4a63d3;\n",
              "            color:  #f1f1f1;\n",
              "        }    #T_faa88c82_c221_11ea_bc7b_0242ac1c0002row11_col3 {\n",
              "            background-color:  #3e51c5;\n",
              "            color:  #f1f1f1;\n",
              "        }    #T_faa88c82_c221_11ea_bc7b_0242ac1c0002row11_col4 {\n",
              "            background-color:  #4961d2;\n",
              "            color:  #f1f1f1;\n",
              "        }    #T_faa88c82_c221_11ea_bc7b_0242ac1c0002row11_col5 {\n",
              "            background-color:  #465ecf;\n",
              "            color:  #f1f1f1;\n",
              "        }    #T_faa88c82_c221_11ea_bc7b_0242ac1c0002row11_col6 {\n",
              "            background-color:  #3b4cc0;\n",
              "            color:  #f1f1f1;\n",
              "        }    #T_faa88c82_c221_11ea_bc7b_0242ac1c0002row11_col7 {\n",
              "            background-color:  #8db0fe;\n",
              "            color:  #000000;\n",
              "        }    #T_faa88c82_c221_11ea_bc7b_0242ac1c0002row11_col8 {\n",
              "            background-color:  #4e68d8;\n",
              "            color:  #000000;\n",
              "        }    #T_faa88c82_c221_11ea_bc7b_0242ac1c0002row11_col9 {\n",
              "            background-color:  #4961d2;\n",
              "            color:  #f1f1f1;\n",
              "        }    #T_faa88c82_c221_11ea_bc7b_0242ac1c0002row11_col10 {\n",
              "            background-color:  #455cce;\n",
              "            color:  #f1f1f1;\n",
              "        }    #T_faa88c82_c221_11ea_bc7b_0242ac1c0002row11_col11 {\n",
              "            background-color:  #b40426;\n",
              "            color:  #f1f1f1;\n",
              "        }    #T_faa88c82_c221_11ea_bc7b_0242ac1c0002row11_col12 {\n",
              "            background-color:  #4961d2;\n",
              "            color:  #f1f1f1;\n",
              "        }    #T_faa88c82_c221_11ea_bc7b_0242ac1c0002row11_col13 {\n",
              "            background-color:  #4961d2;\n",
              "            color:  #f1f1f1;\n",
              "        }    #T_faa88c82_c221_11ea_bc7b_0242ac1c0002row11_col14 {\n",
              "            background-color:  #4a63d3;\n",
              "            color:  #f1f1f1;\n",
              "        }    #T_faa88c82_c221_11ea_bc7b_0242ac1c0002row11_col15 {\n",
              "            background-color:  #b3cdfb;\n",
              "            color:  #000000;\n",
              "        }    #T_faa88c82_c221_11ea_bc7b_0242ac1c0002row11_col16 {\n",
              "            background-color:  #4358cb;\n",
              "            color:  #f1f1f1;\n",
              "        }    #T_faa88c82_c221_11ea_bc7b_0242ac1c0002row11_col17 {\n",
              "            background-color:  #4358cb;\n",
              "            color:  #f1f1f1;\n",
              "        }    #T_faa88c82_c221_11ea_bc7b_0242ac1c0002row11_col18 {\n",
              "            background-color:  #81a4fb;\n",
              "            color:  #000000;\n",
              "        }    #T_faa88c82_c221_11ea_bc7b_0242ac1c0002row11_col19 {\n",
              "            background-color:  #4a63d3;\n",
              "            color:  #f1f1f1;\n",
              "        }    #T_faa88c82_c221_11ea_bc7b_0242ac1c0002row11_col20 {\n",
              "            background-color:  #4b64d5;\n",
              "            color:  #f1f1f1;\n",
              "        }    #T_faa88c82_c221_11ea_bc7b_0242ac1c0002row12_col0 {\n",
              "            background-color:  #4f69d9;\n",
              "            color:  #000000;\n",
              "        }    #T_faa88c82_c221_11ea_bc7b_0242ac1c0002row12_col1 {\n",
              "            background-color:  #4f69d9;\n",
              "            color:  #000000;\n",
              "        }    #T_faa88c82_c221_11ea_bc7b_0242ac1c0002row12_col2 {\n",
              "            background-color:  #5673e0;\n",
              "            color:  #000000;\n",
              "        }    #T_faa88c82_c221_11ea_bc7b_0242ac1c0002row12_col3 {\n",
              "            background-color:  #3e51c5;\n",
              "            color:  #f1f1f1;\n",
              "        }    #T_faa88c82_c221_11ea_bc7b_0242ac1c0002row12_col4 {\n",
              "            background-color:  #455cce;\n",
              "            color:  #f1f1f1;\n",
              "        }    #T_faa88c82_c221_11ea_bc7b_0242ac1c0002row12_col5 {\n",
              "            background-color:  #4055c8;\n",
              "            color:  #f1f1f1;\n",
              "        }    #T_faa88c82_c221_11ea_bc7b_0242ac1c0002row12_col6 {\n",
              "            background-color:  #506bda;\n",
              "            color:  #000000;\n",
              "        }    #T_faa88c82_c221_11ea_bc7b_0242ac1c0002row12_col7 {\n",
              "            background-color:  #4b64d5;\n",
              "            color:  #f1f1f1;\n",
              "        }    #T_faa88c82_c221_11ea_bc7b_0242ac1c0002row12_col8 {\n",
              "            background-color:  #5470de;\n",
              "            color:  #000000;\n",
              "        }    #T_faa88c82_c221_11ea_bc7b_0242ac1c0002row12_col9 {\n",
              "            background-color:  #3b4cc0;\n",
              "            color:  #f1f1f1;\n",
              "        }    #T_faa88c82_c221_11ea_bc7b_0242ac1c0002row12_col10 {\n",
              "            background-color:  #536edd;\n",
              "            color:  #000000;\n",
              "        }    #T_faa88c82_c221_11ea_bc7b_0242ac1c0002row12_col11 {\n",
              "            background-color:  #536edd;\n",
              "            color:  #000000;\n",
              "        }    #T_faa88c82_c221_11ea_bc7b_0242ac1c0002row12_col12 {\n",
              "            background-color:  #b40426;\n",
              "            color:  #f1f1f1;\n",
              "        }    #T_faa88c82_c221_11ea_bc7b_0242ac1c0002row12_col13 {\n",
              "            background-color:  #516ddb;\n",
              "            color:  #000000;\n",
              "        }    #T_faa88c82_c221_11ea_bc7b_0242ac1c0002row12_col14 {\n",
              "            background-color:  #5673e0;\n",
              "            color:  #000000;\n",
              "        }    #T_faa88c82_c221_11ea_bc7b_0242ac1c0002row12_col15 {\n",
              "            background-color:  #81a4fb;\n",
              "            color:  #000000;\n",
              "        }    #T_faa88c82_c221_11ea_bc7b_0242ac1c0002row12_col16 {\n",
              "            background-color:  #3e51c5;\n",
              "            color:  #f1f1f1;\n",
              "        }    #T_faa88c82_c221_11ea_bc7b_0242ac1c0002row12_col17 {\n",
              "            background-color:  #5e7de7;\n",
              "            color:  #000000;\n",
              "        }    #T_faa88c82_c221_11ea_bc7b_0242ac1c0002row12_col18 {\n",
              "            background-color:  #6c8ff1;\n",
              "            color:  #000000;\n",
              "        }    #T_faa88c82_c221_11ea_bc7b_0242ac1c0002row12_col19 {\n",
              "            background-color:  #4a63d3;\n",
              "            color:  #f1f1f1;\n",
              "        }    #T_faa88c82_c221_11ea_bc7b_0242ac1c0002row12_col20 {\n",
              "            background-color:  #4c66d6;\n",
              "            color:  #000000;\n",
              "        }    #T_faa88c82_c221_11ea_bc7b_0242ac1c0002row13_col0 {\n",
              "            background-color:  #779af7;\n",
              "            color:  #000000;\n",
              "        }    #T_faa88c82_c221_11ea_bc7b_0242ac1c0002row13_col1 {\n",
              "            background-color:  #5f7fe8;\n",
              "            color:  #000000;\n",
              "        }    #T_faa88c82_c221_11ea_bc7b_0242ac1c0002row13_col2 {\n",
              "            background-color:  #8caffe;\n",
              "            color:  #000000;\n",
              "        }    #T_faa88c82_c221_11ea_bc7b_0242ac1c0002row13_col3 {\n",
              "            background-color:  #a6c4fe;\n",
              "            color:  #000000;\n",
              "        }    #T_faa88c82_c221_11ea_bc7b_0242ac1c0002row13_col4 {\n",
              "            background-color:  #85a8fc;\n",
              "            color:  #000000;\n",
              "        }    #T_faa88c82_c221_11ea_bc7b_0242ac1c0002row13_col5 {\n",
              "            background-color:  #80a3fa;\n",
              "            color:  #000000;\n",
              "        }    #T_faa88c82_c221_11ea_bc7b_0242ac1c0002row13_col6 {\n",
              "            background-color:  #3b4cc0;\n",
              "            color:  #f1f1f1;\n",
              "        }    #T_faa88c82_c221_11ea_bc7b_0242ac1c0002row13_col7 {\n",
              "            background-color:  #5b7ae5;\n",
              "            color:  #000000;\n",
              "        }    #T_faa88c82_c221_11ea_bc7b_0242ac1c0002row13_col8 {\n",
              "            background-color:  #5f7fe8;\n",
              "            color:  #000000;\n",
              "        }    #T_faa88c82_c221_11ea_bc7b_0242ac1c0002row13_col9 {\n",
              "            background-color:  #4e68d8;\n",
              "            color:  #000000;\n",
              "        }    #T_faa88c82_c221_11ea_bc7b_0242ac1c0002row13_col10 {\n",
              "            background-color:  #93b5fe;\n",
              "            color:  #000000;\n",
              "        }    #T_faa88c82_c221_11ea_bc7b_0242ac1c0002row13_col11 {\n",
              "            background-color:  #5d7ce6;\n",
              "            color:  #000000;\n",
              "        }    #T_faa88c82_c221_11ea_bc7b_0242ac1c0002row13_col12 {\n",
              "            background-color:  #5d7ce6;\n",
              "            color:  #000000;\n",
              "        }    #T_faa88c82_c221_11ea_bc7b_0242ac1c0002row13_col13 {\n",
              "            background-color:  #b40426;\n",
              "            color:  #f1f1f1;\n",
              "        }    #T_faa88c82_c221_11ea_bc7b_0242ac1c0002row13_col14 {\n",
              "            background-color:  #6e90f2;\n",
              "            color:  #000000;\n",
              "        }    #T_faa88c82_c221_11ea_bc7b_0242ac1c0002row13_col15 {\n",
              "            background-color:  #6b8df0;\n",
              "            color:  #000000;\n",
              "        }    #T_faa88c82_c221_11ea_bc7b_0242ac1c0002row13_col16 {\n",
              "            background-color:  #4f69d9;\n",
              "            color:  #000000;\n",
              "        }    #T_faa88c82_c221_11ea_bc7b_0242ac1c0002row13_col17 {\n",
              "            background-color:  #89acfd;\n",
              "            color:  #000000;\n",
              "        }    #T_faa88c82_c221_11ea_bc7b_0242ac1c0002row13_col18 {\n",
              "            background-color:  #6180e9;\n",
              "            color:  #000000;\n",
              "        }    #T_faa88c82_c221_11ea_bc7b_0242ac1c0002row13_col19 {\n",
              "            background-color:  #6282ea;\n",
              "            color:  #000000;\n",
              "        }    #T_faa88c82_c221_11ea_bc7b_0242ac1c0002row13_col20 {\n",
              "            background-color:  #5875e1;\n",
              "            color:  #000000;\n",
              "        }    #T_faa88c82_c221_11ea_bc7b_0242ac1c0002row14_col0 {\n",
              "            background-color:  #5f7fe8;\n",
              "            color:  #000000;\n",
              "        }    #T_faa88c82_c221_11ea_bc7b_0242ac1c0002row14_col1 {\n",
              "            background-color:  #5b7ae5;\n",
              "            color:  #000000;\n",
              "        }    #T_faa88c82_c221_11ea_bc7b_0242ac1c0002row14_col2 {\n",
              "            background-color:  #3b4cc0;\n",
              "            color:  #f1f1f1;\n",
              "        }    #T_faa88c82_c221_11ea_bc7b_0242ac1c0002row14_col3 {\n",
              "            background-color:  #5470de;\n",
              "            color:  #000000;\n",
              "        }    #T_faa88c82_c221_11ea_bc7b_0242ac1c0002row14_col4 {\n",
              "            background-color:  #dddcdc;\n",
              "            color:  #000000;\n",
              "        }    #T_faa88c82_c221_11ea_bc7b_0242ac1c0002row14_col5 {\n",
              "            background-color:  #d8dce2;\n",
              "            color:  #000000;\n",
              "        }    #T_faa88c82_c221_11ea_bc7b_0242ac1c0002row14_col6 {\n",
              "            background-color:  #7295f4;\n",
              "            color:  #000000;\n",
              "        }    #T_faa88c82_c221_11ea_bc7b_0242ac1c0002row14_col7 {\n",
              "            background-color:  #445acc;\n",
              "            color:  #f1f1f1;\n",
              "        }    #T_faa88c82_c221_11ea_bc7b_0242ac1c0002row14_col8 {\n",
              "            background-color:  #5e7de7;\n",
              "            color:  #000000;\n",
              "        }    #T_faa88c82_c221_11ea_bc7b_0242ac1c0002row14_col9 {\n",
              "            background-color:  #4b64d5;\n",
              "            color:  #f1f1f1;\n",
              "        }    #T_faa88c82_c221_11ea_bc7b_0242ac1c0002row14_col10 {\n",
              "            background-color:  #8fb1fe;\n",
              "            color:  #000000;\n",
              "        }    #T_faa88c82_c221_11ea_bc7b_0242ac1c0002row14_col11 {\n",
              "            background-color:  #5b7ae5;\n",
              "            color:  #000000;\n",
              "        }    #T_faa88c82_c221_11ea_bc7b_0242ac1c0002row14_col12 {\n",
              "            background-color:  #5f7fe8;\n",
              "            color:  #000000;\n",
              "        }    #T_faa88c82_c221_11ea_bc7b_0242ac1c0002row14_col13 {\n",
              "            background-color:  #6b8df0;\n",
              "            color:  #000000;\n",
              "        }    #T_faa88c82_c221_11ea_bc7b_0242ac1c0002row14_col14 {\n",
              "            background-color:  #b40426;\n",
              "            color:  #f1f1f1;\n",
              "        }    #T_faa88c82_c221_11ea_bc7b_0242ac1c0002row14_col15 {\n",
              "            background-color:  #4f69d9;\n",
              "            color:  #000000;\n",
              "        }    #T_faa88c82_c221_11ea_bc7b_0242ac1c0002row14_col16 {\n",
              "            background-color:  #7a9df8;\n",
              "            color:  #000000;\n",
              "        }    #T_faa88c82_c221_11ea_bc7b_0242ac1c0002row14_col17 {\n",
              "            background-color:  #4a63d3;\n",
              "            color:  #f1f1f1;\n",
              "        }    #T_faa88c82_c221_11ea_bc7b_0242ac1c0002row14_col18 {\n",
              "            background-color:  #3d50c3;\n",
              "            color:  #f1f1f1;\n",
              "        }    #T_faa88c82_c221_11ea_bc7b_0242ac1c0002row14_col19 {\n",
              "            background-color:  #5572df;\n",
              "            color:  #000000;\n",
              "        }    #T_faa88c82_c221_11ea_bc7b_0242ac1c0002row14_col20 {\n",
              "            background-color:  #5875e1;\n",
              "            color:  #000000;\n",
              "        }    #T_faa88c82_c221_11ea_bc7b_0242ac1c0002row15_col0 {\n",
              "            background-color:  #96b7ff;\n",
              "            color:  #000000;\n",
              "        }    #T_faa88c82_c221_11ea_bc7b_0242ac1c0002row15_col1 {\n",
              "            background-color:  #6e90f2;\n",
              "            color:  #000000;\n",
              "        }    #T_faa88c82_c221_11ea_bc7b_0242ac1c0002row15_col2 {\n",
              "            background-color:  #5e7de7;\n",
              "            color:  #000000;\n",
              "        }    #T_faa88c82_c221_11ea_bc7b_0242ac1c0002row15_col3 {\n",
              "            background-color:  #5673e0;\n",
              "            color:  #000000;\n",
              "        }    #T_faa88c82_c221_11ea_bc7b_0242ac1c0002row15_col4 {\n",
              "            background-color:  #6180e9;\n",
              "            color:  #000000;\n",
              "        }    #T_faa88c82_c221_11ea_bc7b_0242ac1c0002row15_col5 {\n",
              "            background-color:  #5a78e4;\n",
              "            color:  #000000;\n",
              "        }    #T_faa88c82_c221_11ea_bc7b_0242ac1c0002row15_col6 {\n",
              "            background-color:  #3b4cc0;\n",
              "            color:  #f1f1f1;\n",
              "        }    #T_faa88c82_c221_11ea_bc7b_0242ac1c0002row15_col7 {\n",
              "            background-color:  #92b4fe;\n",
              "            color:  #000000;\n",
              "        }    #T_faa88c82_c221_11ea_bc7b_0242ac1c0002row15_col8 {\n",
              "            background-color:  #6a8bef;\n",
              "            color:  #000000;\n",
              "        }    #T_faa88c82_c221_11ea_bc7b_0242ac1c0002row15_col9 {\n",
              "            background-color:  #7597f6;\n",
              "            color:  #000000;\n",
              "        }    #T_faa88c82_c221_11ea_bc7b_0242ac1c0002row15_col10 {\n",
              "            background-color:  #6687ed;\n",
              "            color:  #000000;\n",
              "        }    #T_faa88c82_c221_11ea_bc7b_0242ac1c0002row15_col11 {\n",
              "            background-color:  #c9d7f0;\n",
              "            color:  #000000;\n",
              "        }    #T_faa88c82_c221_11ea_bc7b_0242ac1c0002row15_col12 {\n",
              "            background-color:  #96b7ff;\n",
              "            color:  #000000;\n",
              "        }    #T_faa88c82_c221_11ea_bc7b_0242ac1c0002row15_col13 {\n",
              "            background-color:  #7699f6;\n",
              "            color:  #000000;\n",
              "        }    #T_faa88c82_c221_11ea_bc7b_0242ac1c0002row15_col14 {\n",
              "            background-color:  #5d7ce6;\n",
              "            color:  #000000;\n",
              "        }    #T_faa88c82_c221_11ea_bc7b_0242ac1c0002row15_col15 {\n",
              "            background-color:  #b40426;\n",
              "            color:  #f1f1f1;\n",
              "        }    #T_faa88c82_c221_11ea_bc7b_0242ac1c0002row15_col16 {\n",
              "            background-color:  #5d7ce6;\n",
              "            color:  #000000;\n",
              "        }    #T_faa88c82_c221_11ea_bc7b_0242ac1c0002row15_col17 {\n",
              "            background-color:  #6b8df0;\n",
              "            color:  #000000;\n",
              "        }    #T_faa88c82_c221_11ea_bc7b_0242ac1c0002row15_col18 {\n",
              "            background-color:  #cbd8ee;\n",
              "            color:  #000000;\n",
              "        }    #T_faa88c82_c221_11ea_bc7b_0242ac1c0002row15_col19 {\n",
              "            background-color:  #5e7de7;\n",
              "            color:  #000000;\n",
              "        }    #T_faa88c82_c221_11ea_bc7b_0242ac1c0002row15_col20 {\n",
              "            background-color:  #6180e9;\n",
              "            color:  #000000;\n",
              "        }    #T_faa88c82_c221_11ea_bc7b_0242ac1c0002row16_col0 {\n",
              "            background-color:  #5d7ce6;\n",
              "            color:  #000000;\n",
              "        }    #T_faa88c82_c221_11ea_bc7b_0242ac1c0002row16_col1 {\n",
              "            background-color:  #6485ec;\n",
              "            color:  #000000;\n",
              "        }    #T_faa88c82_c221_11ea_bc7b_0242ac1c0002row16_col2 {\n",
              "            background-color:  #3c4ec2;\n",
              "            color:  #f1f1f1;\n",
              "        }    #T_faa88c82_c221_11ea_bc7b_0242ac1c0002row16_col3 {\n",
              "            background-color:  #4358cb;\n",
              "            color:  #f1f1f1;\n",
              "        }    #T_faa88c82_c221_11ea_bc7b_0242ac1c0002row16_col4 {\n",
              "            background-color:  #779af7;\n",
              "            color:  #000000;\n",
              "        }    #T_faa88c82_c221_11ea_bc7b_0242ac1c0002row16_col5 {\n",
              "            background-color:  #6c8ff1;\n",
              "            color:  #000000;\n",
              "        }    #T_faa88c82_c221_11ea_bc7b_0242ac1c0002row16_col6 {\n",
              "            background-color:  #b3cdfb;\n",
              "            color:  #000000;\n",
              "        }    #T_faa88c82_c221_11ea_bc7b_0242ac1c0002row16_col7 {\n",
              "            background-color:  #3b4cc0;\n",
              "            color:  #f1f1f1;\n",
              "        }    #T_faa88c82_c221_11ea_bc7b_0242ac1c0002row16_col8 {\n",
              "            background-color:  #688aef;\n",
              "            color:  #000000;\n",
              "        }    #T_faa88c82_c221_11ea_bc7b_0242ac1c0002row16_col9 {\n",
              "            background-color:  #85a8fc;\n",
              "            color:  #000000;\n",
              "        }    #T_faa88c82_c221_11ea_bc7b_0242ac1c0002row16_col10 {\n",
              "            background-color:  #799cf8;\n",
              "            color:  #000000;\n",
              "        }    #T_faa88c82_c221_11ea_bc7b_0242ac1c0002row16_col11 {\n",
              "            background-color:  #6485ec;\n",
              "            color:  #000000;\n",
              "        }    #T_faa88c82_c221_11ea_bc7b_0242ac1c0002row16_col12 {\n",
              "            background-color:  #5673e0;\n",
              "            color:  #000000;\n",
              "        }    #T_faa88c82_c221_11ea_bc7b_0242ac1c0002row16_col13 {\n",
              "            background-color:  #5b7ae5;\n",
              "            color:  #000000;\n",
              "        }    #T_faa88c82_c221_11ea_bc7b_0242ac1c0002row16_col14 {\n",
              "            background-color:  #89acfd;\n",
              "            color:  #000000;\n",
              "        }    #T_faa88c82_c221_11ea_bc7b_0242ac1c0002row16_col15 {\n",
              "            background-color:  #5f7fe8;\n",
              "            color:  #000000;\n",
              "        }    #T_faa88c82_c221_11ea_bc7b_0242ac1c0002row16_col16 {\n",
              "            background-color:  #b40426;\n",
              "            color:  #f1f1f1;\n",
              "        }    #T_faa88c82_c221_11ea_bc7b_0242ac1c0002row16_col17 {\n",
              "            background-color:  #3f53c6;\n",
              "            color:  #f1f1f1;\n",
              "        }    #T_faa88c82_c221_11ea_bc7b_0242ac1c0002row16_col18 {\n",
              "            background-color:  #3b4cc0;\n",
              "            color:  #f1f1f1;\n",
              "        }    #T_faa88c82_c221_11ea_bc7b_0242ac1c0002row16_col19 {\n",
              "            background-color:  #6c8ff1;\n",
              "            color:  #000000;\n",
              "        }    #T_faa88c82_c221_11ea_bc7b_0242ac1c0002row16_col20 {\n",
              "            background-color:  #6e90f2;\n",
              "            color:  #000000;\n",
              "        }    #T_faa88c82_c221_11ea_bc7b_0242ac1c0002row17_col0 {\n",
              "            background-color:  #4e68d8;\n",
              "            color:  #000000;\n",
              "        }    #T_faa88c82_c221_11ea_bc7b_0242ac1c0002row17_col1 {\n",
              "            background-color:  #85a8fc;\n",
              "            color:  #000000;\n",
              "        }    #T_faa88c82_c221_11ea_bc7b_0242ac1c0002row17_col2 {\n",
              "            background-color:  #cdd9ec;\n",
              "            color:  #000000;\n",
              "        }    #T_faa88c82_c221_11ea_bc7b_0242ac1c0002row17_col3 {\n",
              "            background-color:  #c1d4f4;\n",
              "            color:  #000000;\n",
              "        }    #T_faa88c82_c221_11ea_bc7b_0242ac1c0002row17_col4 {\n",
              "            background-color:  #5875e1;\n",
              "            color:  #000000;\n",
              "        }    #T_faa88c82_c221_11ea_bc7b_0242ac1c0002row17_col5 {\n",
              "            background-color:  #5673e0;\n",
              "            color:  #000000;\n",
              "        }    #T_faa88c82_c221_11ea_bc7b_0242ac1c0002row17_col6 {\n",
              "            background-color:  #3b4cc0;\n",
              "            color:  #f1f1f1;\n",
              "        }    #T_faa88c82_c221_11ea_bc7b_0242ac1c0002row17_col7 {\n",
              "            background-color:  #4358cb;\n",
              "            color:  #f1f1f1;\n",
              "        }    #T_faa88c82_c221_11ea_bc7b_0242ac1c0002row17_col8 {\n",
              "            background-color:  #688aef;\n",
              "            color:  #000000;\n",
              "        }    #T_faa88c82_c221_11ea_bc7b_0242ac1c0002row17_col9 {\n",
              "            background-color:  #485fd1;\n",
              "            color:  #f1f1f1;\n",
              "        }    #T_faa88c82_c221_11ea_bc7b_0242ac1c0002row17_col10 {\n",
              "            background-color:  #4a63d3;\n",
              "            color:  #f1f1f1;\n",
              "        }    #T_faa88c82_c221_11ea_bc7b_0242ac1c0002row17_col11 {\n",
              "            background-color:  #6485ec;\n",
              "            color:  #000000;\n",
              "        }    #T_faa88c82_c221_11ea_bc7b_0242ac1c0002row17_col12 {\n",
              "            background-color:  #779af7;\n",
              "            color:  #000000;\n",
              "        }    #T_faa88c82_c221_11ea_bc7b_0242ac1c0002row17_col13 {\n",
              "            background-color:  #96b7ff;\n",
              "            color:  #000000;\n",
              "        }    #T_faa88c82_c221_11ea_bc7b_0242ac1c0002row17_col14 {\n",
              "            background-color:  #5a78e4;\n",
              "            color:  #000000;\n",
              "        }    #T_faa88c82_c221_11ea_bc7b_0242ac1c0002row17_col15 {\n",
              "            background-color:  #6e90f2;\n",
              "            color:  #000000;\n",
              "        }    #T_faa88c82_c221_11ea_bc7b_0242ac1c0002row17_col16 {\n",
              "            background-color:  #4055c8;\n",
              "            color:  #f1f1f1;\n",
              "        }    #T_faa88c82_c221_11ea_bc7b_0242ac1c0002row17_col17 {\n",
              "            background-color:  #b40426;\n",
              "            color:  #f1f1f1;\n",
              "        }    #T_faa88c82_c221_11ea_bc7b_0242ac1c0002row17_col18 {\n",
              "            background-color:  #9bbcff;\n",
              "            color:  #000000;\n",
              "        }    #T_faa88c82_c221_11ea_bc7b_0242ac1c0002row17_col19 {\n",
              "            background-color:  #5572df;\n",
              "            color:  #000000;\n",
              "        }    #T_faa88c82_c221_11ea_bc7b_0242ac1c0002row17_col20 {\n",
              "            background-color:  #6e90f2;\n",
              "            color:  #000000;\n",
              "        }    #T_faa88c82_c221_11ea_bc7b_0242ac1c0002row18_col0 {\n",
              "            background-color:  #8fb1fe;\n",
              "            color:  #000000;\n",
              "        }    #T_faa88c82_c221_11ea_bc7b_0242ac1c0002row18_col1 {\n",
              "            background-color:  #a9c6fd;\n",
              "            color:  #000000;\n",
              "        }    #T_faa88c82_c221_11ea_bc7b_0242ac1c0002row18_col2 {\n",
              "            background-color:  #dbdcde;\n",
              "            color:  #000000;\n",
              "        }    #T_faa88c82_c221_11ea_bc7b_0242ac1c0002row18_col3 {\n",
              "            background-color:  #92b4fe;\n",
              "            color:  #000000;\n",
              "        }    #T_faa88c82_c221_11ea_bc7b_0242ac1c0002row18_col4 {\n",
              "            background-color:  #6788ee;\n",
              "            color:  #000000;\n",
              "        }    #T_faa88c82_c221_11ea_bc7b_0242ac1c0002row18_col5 {\n",
              "            background-color:  #5e7de7;\n",
              "            color:  #000000;\n",
              "        }    #T_faa88c82_c221_11ea_bc7b_0242ac1c0002row18_col6 {\n",
              "            background-color:  #3b4cc0;\n",
              "            color:  #f1f1f1;\n",
              "        }    #T_faa88c82_c221_11ea_bc7b_0242ac1c0002row18_col7 {\n",
              "            background-color:  #cfdaea;\n",
              "            color:  #000000;\n",
              "        }    #T_faa88c82_c221_11ea_bc7b_0242ac1c0002row18_col8 {\n",
              "            background-color:  #88abfd;\n",
              "            color:  #000000;\n",
              "        }    #T_faa88c82_c221_11ea_bc7b_0242ac1c0002row18_col9 {\n",
              "            background-color:  #89acfd;\n",
              "            color:  #000000;\n",
              "        }    #T_faa88c82_c221_11ea_bc7b_0242ac1c0002row18_col10 {\n",
              "            background-color:  #6485ec;\n",
              "            color:  #000000;\n",
              "        }    #T_faa88c82_c221_11ea_bc7b_0242ac1c0002row18_col11 {\n",
              "            background-color:  #bad0f8;\n",
              "            color:  #000000;\n",
              "        }    #T_faa88c82_c221_11ea_bc7b_0242ac1c0002row18_col12 {\n",
              "            background-color:  #a3c2fe;\n",
              "            color:  #000000;\n",
              "        }    #T_faa88c82_c221_11ea_bc7b_0242ac1c0002row18_col13 {\n",
              "            background-color:  #90b2fe;\n",
              "            color:  #000000;\n",
              "        }    #T_faa88c82_c221_11ea_bc7b_0242ac1c0002row18_col14 {\n",
              "            background-color:  #7093f3;\n",
              "            color:  #000000;\n",
              "        }    #T_faa88c82_c221_11ea_bc7b_0242ac1c0002row18_col15 {\n",
              "            background-color:  #dddcdc;\n",
              "            color:  #000000;\n",
              "        }    #T_faa88c82_c221_11ea_bc7b_0242ac1c0002row18_col16 {\n",
              "            background-color:  #5f7fe8;\n",
              "            color:  #000000;\n",
              "        }    #T_faa88c82_c221_11ea_bc7b_0242ac1c0002row18_col17 {\n",
              "            background-color:  #b6cefa;\n",
              "            color:  #000000;\n",
              "        }    #T_faa88c82_c221_11ea_bc7b_0242ac1c0002row18_col18 {\n",
              "            background-color:  #b40426;\n",
              "            color:  #f1f1f1;\n",
              "        }    #T_faa88c82_c221_11ea_bc7b_0242ac1c0002row18_col19 {\n",
              "            background-color:  #85a8fc;\n",
              "            color:  #000000;\n",
              "        }    #T_faa88c82_c221_11ea_bc7b_0242ac1c0002row18_col20 {\n",
              "            background-color:  #799cf8;\n",
              "            color:  #000000;\n",
              "        }    #T_faa88c82_c221_11ea_bc7b_0242ac1c0002row19_col0 {\n",
              "            background-color:  #7ea1fa;\n",
              "            color:  #000000;\n",
              "        }    #T_faa88c82_c221_11ea_bc7b_0242ac1c0002row19_col1 {\n",
              "            background-color:  #7295f4;\n",
              "            color:  #000000;\n",
              "        }    #T_faa88c82_c221_11ea_bc7b_0242ac1c0002row19_col2 {\n",
              "            background-color:  #6c8ff1;\n",
              "            color:  #000000;\n",
              "        }    #T_faa88c82_c221_11ea_bc7b_0242ac1c0002row19_col3 {\n",
              "            background-color:  #3f53c6;\n",
              "            color:  #f1f1f1;\n",
              "        }    #T_faa88c82_c221_11ea_bc7b_0242ac1c0002row19_col4 {\n",
              "            background-color:  #485fd1;\n",
              "            color:  #f1f1f1;\n",
              "        }    #T_faa88c82_c221_11ea_bc7b_0242ac1c0002row19_col5 {\n",
              "            background-color:  #445acc;\n",
              "            color:  #f1f1f1;\n",
              "        }    #T_faa88c82_c221_11ea_bc7b_0242ac1c0002row19_col6 {\n",
              "            background-color:  #4055c8;\n",
              "            color:  #f1f1f1;\n",
              "        }    #T_faa88c82_c221_11ea_bc7b_0242ac1c0002row19_col7 {\n",
              "            background-color:  #4358cb;\n",
              "            color:  #f1f1f1;\n",
              "        }    #T_faa88c82_c221_11ea_bc7b_0242ac1c0002row19_col8 {\n",
              "            background-color:  #5470de;\n",
              "            color:  #000000;\n",
              "        }    #T_faa88c82_c221_11ea_bc7b_0242ac1c0002row19_col9 {\n",
              "            background-color:  #98b9ff;\n",
              "            color:  #000000;\n",
              "        }    #T_faa88c82_c221_11ea_bc7b_0242ac1c0002row19_col10 {\n",
              "            background-color:  #485fd1;\n",
              "            color:  #f1f1f1;\n",
              "        }    #T_faa88c82_c221_11ea_bc7b_0242ac1c0002row19_col11 {\n",
              "            background-color:  #536edd;\n",
              "            color:  #000000;\n",
              "        }    #T_faa88c82_c221_11ea_bc7b_0242ac1c0002row19_col12 {\n",
              "            background-color:  #4961d2;\n",
              "            color:  #f1f1f1;\n",
              "        }    #T_faa88c82_c221_11ea_bc7b_0242ac1c0002row19_col13 {\n",
              "            background-color:  #5572df;\n",
              "            color:  #000000;\n",
              "        }    #T_faa88c82_c221_11ea_bc7b_0242ac1c0002row19_col14 {\n",
              "            background-color:  #4a63d3;\n",
              "            color:  #f1f1f1;\n",
              "        }    #T_faa88c82_c221_11ea_bc7b_0242ac1c0002row19_col15 {\n",
              "            background-color:  #455cce;\n",
              "            color:  #f1f1f1;\n",
              "        }    #T_faa88c82_c221_11ea_bc7b_0242ac1c0002row19_col16 {\n",
              "            background-color:  #536edd;\n",
              "            color:  #000000;\n",
              "        }    #T_faa88c82_c221_11ea_bc7b_0242ac1c0002row19_col17 {\n",
              "            background-color:  #3b4cc0;\n",
              "            color:  #f1f1f1;\n",
              "        }    #T_faa88c82_c221_11ea_bc7b_0242ac1c0002row19_col18 {\n",
              "            background-color:  #4961d2;\n",
              "            color:  #f1f1f1;\n",
              "        }    #T_faa88c82_c221_11ea_bc7b_0242ac1c0002row19_col19 {\n",
              "            background-color:  #b40426;\n",
              "            color:  #f1f1f1;\n",
              "        }    #T_faa88c82_c221_11ea_bc7b_0242ac1c0002row19_col20 {\n",
              "            background-color:  #6282ea;\n",
              "            color:  #000000;\n",
              "        }    #T_faa88c82_c221_11ea_bc7b_0242ac1c0002row20_col0 {\n",
              "            background-color:  #455cce;\n",
              "            color:  #f1f1f1;\n",
              "        }    #T_faa88c82_c221_11ea_bc7b_0242ac1c0002row20_col1 {\n",
              "            background-color:  #455cce;\n",
              "            color:  #f1f1f1;\n",
              "        }    #T_faa88c82_c221_11ea_bc7b_0242ac1c0002row20_col2 {\n",
              "            background-color:  #6485ec;\n",
              "            color:  #000000;\n",
              "        }    #T_faa88c82_c221_11ea_bc7b_0242ac1c0002row20_col3 {\n",
              "            background-color:  #6384eb;\n",
              "            color:  #000000;\n",
              "        }    #T_faa88c82_c221_11ea_bc7b_0242ac1c0002row20_col4 {\n",
              "            background-color:  #4961d2;\n",
              "            color:  #f1f1f1;\n",
              "        }    #T_faa88c82_c221_11ea_bc7b_0242ac1c0002row20_col5 {\n",
              "            background-color:  #465ecf;\n",
              "            color:  #f1f1f1;\n",
              "        }    #T_faa88c82_c221_11ea_bc7b_0242ac1c0002row20_col6 {\n",
              "            background-color:  #5875e1;\n",
              "            color:  #000000;\n",
              "        }    #T_faa88c82_c221_11ea_bc7b_0242ac1c0002row20_col7 {\n",
              "            background-color:  #3f53c6;\n",
              "            color:  #f1f1f1;\n",
              "        }    #T_faa88c82_c221_11ea_bc7b_0242ac1c0002row20_col8 {\n",
              "            background-color:  #536edd;\n",
              "            color:  #000000;\n",
              "        }    #T_faa88c82_c221_11ea_bc7b_0242ac1c0002row20_col9 {\n",
              "            background-color:  #536edd;\n",
              "            color:  #000000;\n",
              "        }    #T_faa88c82_c221_11ea_bc7b_0242ac1c0002row20_col10 {\n",
              "            background-color:  #4358cb;\n",
              "            color:  #f1f1f1;\n",
              "        }    #T_faa88c82_c221_11ea_bc7b_0242ac1c0002row20_col11 {\n",
              "            background-color:  #516ddb;\n",
              "            color:  #000000;\n",
              "        }    #T_faa88c82_c221_11ea_bc7b_0242ac1c0002row20_col12 {\n",
              "            background-color:  #4a63d3;\n",
              "            color:  #f1f1f1;\n",
              "        }    #T_faa88c82_c221_11ea_bc7b_0242ac1c0002row20_col13 {\n",
              "            background-color:  #4a63d3;\n",
              "            color:  #f1f1f1;\n",
              "        }    #T_faa88c82_c221_11ea_bc7b_0242ac1c0002row20_col14 {\n",
              "            background-color:  #4b64d5;\n",
              "            color:  #f1f1f1;\n",
              "        }    #T_faa88c82_c221_11ea_bc7b_0242ac1c0002row20_col15 {\n",
              "            background-color:  #485fd1;\n",
              "            color:  #f1f1f1;\n",
              "        }    #T_faa88c82_c221_11ea_bc7b_0242ac1c0002row20_col16 {\n",
              "            background-color:  #5470de;\n",
              "            color:  #000000;\n",
              "        }    #T_faa88c82_c221_11ea_bc7b_0242ac1c0002row20_col17 {\n",
              "            background-color:  #516ddb;\n",
              "            color:  #000000;\n",
              "        }    #T_faa88c82_c221_11ea_bc7b_0242ac1c0002row20_col18 {\n",
              "            background-color:  #3b4cc0;\n",
              "            color:  #f1f1f1;\n",
              "        }    #T_faa88c82_c221_11ea_bc7b_0242ac1c0002row20_col19 {\n",
              "            background-color:  #6180e9;\n",
              "            color:  #000000;\n",
              "        }    #T_faa88c82_c221_11ea_bc7b_0242ac1c0002row20_col20 {\n",
              "            background-color:  #b40426;\n",
              "            color:  #f1f1f1;\n",
              "        }</style><table id=\"T_faa88c82_c221_11ea_bc7b_0242ac1c0002\" ><thead>    <tr>        <th class=\"blank level0\" ></th>        <th class=\"col_heading level0 col0\" >nota_media</th>        <th class=\"col_heading level0 col1\" >total_de_votos</th>        <th class=\"col_heading level0 col2\" >Action</th>        <th class=\"col_heading level0 col3\" >Adventure</th>        <th class=\"col_heading level0 col4\" >Animation</th>        <th class=\"col_heading level0 col5\" >Children</th>        <th class=\"col_heading level0 col6\" >Comedy</th>        <th class=\"col_heading level0 col7\" >Crime</th>        <th class=\"col_heading level0 col8\" >Documentary</th>        <th class=\"col_heading level0 col9\" >Drama</th>        <th class=\"col_heading level0 col10\" >Fantasy</th>        <th class=\"col_heading level0 col11\" >FilmNoir</th>        <th class=\"col_heading level0 col12\" >Horror</th>        <th class=\"col_heading level0 col13\" >IMAX</th>        <th class=\"col_heading level0 col14\" >Musical</th>        <th class=\"col_heading level0 col15\" >Mystery</th>        <th class=\"col_heading level0 col16\" >Romance</th>        <th class=\"col_heading level0 col17\" >SciFi</th>        <th class=\"col_heading level0 col18\" >Thriller</th>        <th class=\"col_heading level0 col19\" >War</th>        <th class=\"col_heading level0 col20\" >Western</th>    </tr></thead><tbody>\n",
              "                <tr>\n",
              "                        <th id=\"T_faa88c82_c221_11ea_bc7b_0242ac1c0002level0_row0\" class=\"row_heading level0 row0\" >nota_media</th>\n",
              "                        <td id=\"T_faa88c82_c221_11ea_bc7b_0242ac1c0002row0_col0\" class=\"data row0 col0\" >1.00</td>\n",
              "                        <td id=\"T_faa88c82_c221_11ea_bc7b_0242ac1c0002row0_col1\" class=\"data row0 col1\" >0.34</td>\n",
              "                        <td id=\"T_faa88c82_c221_11ea_bc7b_0242ac1c0002row0_col2\" class=\"data row0 col2\" >-0.15</td>\n",
              "                        <td id=\"T_faa88c82_c221_11ea_bc7b_0242ac1c0002row0_col3\" class=\"data row0 col3\" >-0.08</td>\n",
              "                        <td id=\"T_faa88c82_c221_11ea_bc7b_0242ac1c0002row0_col4\" class=\"data row0 col4\" >0.04</td>\n",
              "                        <td id=\"T_faa88c82_c221_11ea_bc7b_0242ac1c0002row0_col5\" class=\"data row0 col5\" >-0.03</td>\n",
              "                        <td id=\"T_faa88c82_c221_11ea_bc7b_0242ac1c0002row0_col6\" class=\"data row0 col6\" >-0.26</td>\n",
              "                        <td id=\"T_faa88c82_c221_11ea_bc7b_0242ac1c0002row0_col7\" class=\"data row0 col7\" >0.19</td>\n",
              "                        <td id=\"T_faa88c82_c221_11ea_bc7b_0242ac1c0002row0_col8\" class=\"data row0 col8\" >-0.00</td>\n",
              "                        <td id=\"T_faa88c82_c221_11ea_bc7b_0242ac1c0002row0_col9\" class=\"data row0 col9\" >0.28</td>\n",
              "                        <td id=\"T_faa88c82_c221_11ea_bc7b_0242ac1c0002row0_col10\" class=\"data row0 col10\" >-0.02</td>\n",
              "                        <td id=\"T_faa88c82_c221_11ea_bc7b_0242ac1c0002row0_col11\" class=\"data row0 col11\" >0.08</td>\n",
              "                        <td id=\"T_faa88c82_c221_11ea_bc7b_0242ac1c0002row0_col12\" class=\"data row0 col12\" >-0.03</td>\n",
              "                        <td id=\"T_faa88c82_c221_11ea_bc7b_0242ac1c0002row0_col13\" class=\"data row0 col13\" >0.06</td>\n",
              "                        <td id=\"T_faa88c82_c221_11ea_bc7b_0242ac1c0002row0_col14\" class=\"data row0 col14\" >-0.01</td>\n",
              "                        <td id=\"T_faa88c82_c221_11ea_bc7b_0242ac1c0002row0_col15\" class=\"data row0 col15\" >0.13</td>\n",
              "                        <td id=\"T_faa88c82_c221_11ea_bc7b_0242ac1c0002row0_col16\" class=\"data row0 col16\" >-0.07</td>\n",
              "                        <td id=\"T_faa88c82_c221_11ea_bc7b_0242ac1c0002row0_col17\" class=\"data row0 col17\" >-0.14</td>\n",
              "                        <td id=\"T_faa88c82_c221_11ea_bc7b_0242ac1c0002row0_col18\" class=\"data row0 col18\" >-0.02</td>\n",
              "                        <td id=\"T_faa88c82_c221_11ea_bc7b_0242ac1c0002row0_col19\" class=\"data row0 col19\" >0.13</td>\n",
              "                        <td id=\"T_faa88c82_c221_11ea_bc7b_0242ac1c0002row0_col20\" class=\"data row0 col20\" >-0.06</td>\n",
              "            </tr>\n",
              "            <tr>\n",
              "                        <th id=\"T_faa88c82_c221_11ea_bc7b_0242ac1c0002level0_row1\" class=\"row_heading level0 row1\" >total_de_votos</th>\n",
              "                        <td id=\"T_faa88c82_c221_11ea_bc7b_0242ac1c0002row1_col0\" class=\"data row1 col0\" >0.34</td>\n",
              "                        <td id=\"T_faa88c82_c221_11ea_bc7b_0242ac1c0002row1_col1\" class=\"data row1 col1\" >1.00</td>\n",
              "                        <td id=\"T_faa88c82_c221_11ea_bc7b_0242ac1c0002row1_col2\" class=\"data row1 col2\" >0.07</td>\n",
              "                        <td id=\"T_faa88c82_c221_11ea_bc7b_0242ac1c0002row1_col3\" class=\"data row1 col3\" >0.10</td>\n",
              "                        <td id=\"T_faa88c82_c221_11ea_bc7b_0242ac1c0002row1_col4\" class=\"data row1 col4\" >0.02</td>\n",
              "                        <td id=\"T_faa88c82_c221_11ea_bc7b_0242ac1c0002row1_col5\" class=\"data row1 col5\" >0.00</td>\n",
              "                        <td id=\"T_faa88c82_c221_11ea_bc7b_0242ac1c0002row1_col6\" class=\"data row1 col6\" >-0.13</td>\n",
              "                        <td id=\"T_faa88c82_c221_11ea_bc7b_0242ac1c0002row1_col7\" class=\"data row1 col7\" >0.08</td>\n",
              "                        <td id=\"T_faa88c82_c221_11ea_bc7b_0242ac1c0002row1_col8\" class=\"data row1 col8\" >-0.06</td>\n",
              "                        <td id=\"T_faa88c82_c221_11ea_bc7b_0242ac1c0002row1_col9\" class=\"data row1 col9\" >0.02</td>\n",
              "                        <td id=\"T_faa88c82_c221_11ea_bc7b_0242ac1c0002row1_col10\" class=\"data row1 col10\" >-0.01</td>\n",
              "                        <td id=\"T_faa88c82_c221_11ea_bc7b_0242ac1c0002row1_col11\" class=\"data row1 col11\" >-0.04</td>\n",
              "                        <td id=\"T_faa88c82_c221_11ea_bc7b_0242ac1c0002row1_col12\" class=\"data row1 col12\" >-0.04</td>\n",
              "                        <td id=\"T_faa88c82_c221_11ea_bc7b_0242ac1c0002row1_col13\" class=\"data row1 col13\" >-0.02</td>\n",
              "                        <td id=\"T_faa88c82_c221_11ea_bc7b_0242ac1c0002row1_col14\" class=\"data row1 col14\" >-0.02</td>\n",
              "                        <td id=\"T_faa88c82_c221_11ea_bc7b_0242ac1c0002row1_col15\" class=\"data row1 col15\" >-0.01</td>\n",
              "                        <td id=\"T_faa88c82_c221_11ea_bc7b_0242ac1c0002row1_col16\" class=\"data row1 col16\" >-0.05</td>\n",
              "                        <td id=\"T_faa88c82_c221_11ea_bc7b_0242ac1c0002row1_col17\" class=\"data row1 col17\" >0.06</td>\n",
              "                        <td id=\"T_faa88c82_c221_11ea_bc7b_0242ac1c0002row1_col18\" class=\"data row1 col18\" >0.09</td>\n",
              "                        <td id=\"T_faa88c82_c221_11ea_bc7b_0242ac1c0002row1_col19\" class=\"data row1 col19\" >0.09</td>\n",
              "                        <td id=\"T_faa88c82_c221_11ea_bc7b_0242ac1c0002row1_col20\" class=\"data row1 col20\" >-0.06</td>\n",
              "            </tr>\n",
              "            <tr>\n",
              "                        <th id=\"T_faa88c82_c221_11ea_bc7b_0242ac1c0002level0_row2\" class=\"row_heading level0 row2\" >Action</th>\n",
              "                        <td id=\"T_faa88c82_c221_11ea_bc7b_0242ac1c0002row2_col0\" class=\"data row2 col0\" >-0.15</td>\n",
              "                        <td id=\"T_faa88c82_c221_11ea_bc7b_0242ac1c0002row2_col1\" class=\"data row2 col1\" >0.07</td>\n",
              "                        <td id=\"T_faa88c82_c221_11ea_bc7b_0242ac1c0002row2_col2\" class=\"data row2 col2\" >1.00</td>\n",
              "                        <td id=\"T_faa88c82_c221_11ea_bc7b_0242ac1c0002row2_col3\" class=\"data row2 col3\" >0.33</td>\n",
              "                        <td id=\"T_faa88c82_c221_11ea_bc7b_0242ac1c0002row2_col4\" class=\"data row2 col4\" >-0.17</td>\n",
              "                        <td id=\"T_faa88c82_c221_11ea_bc7b_0242ac1c0002row2_col5\" class=\"data row2 col5\" >-0.21</td>\n",
              "                        <td id=\"T_faa88c82_c221_11ea_bc7b_0242ac1c0002row2_col6\" class=\"data row2 col6\" >-0.29</td>\n",
              "                        <td id=\"T_faa88c82_c221_11ea_bc7b_0242ac1c0002row2_col7\" class=\"data row2 col7\" >0.06</td>\n",
              "                        <td id=\"T_faa88c82_c221_11ea_bc7b_0242ac1c0002row2_col8\" class=\"data row2 col8\" >-0.05</td>\n",
              "                        <td id=\"T_faa88c82_c221_11ea_bc7b_0242ac1c0002row2_col9\" class=\"data row2 col9\" >-0.25</td>\n",
              "                        <td id=\"T_faa88c82_c221_11ea_bc7b_0242ac1c0002row2_col10\" class=\"data row2 col10\" >-0.12</td>\n",
              "                        <td id=\"T_faa88c82_c221_11ea_bc7b_0242ac1c0002row2_col11\" class=\"data row2 col11\" >-0.02</td>\n",
              "                        <td id=\"T_faa88c82_c221_11ea_bc7b_0242ac1c0002row2_col12\" class=\"data row2 col12\" >-0.01</td>\n",
              "                        <td id=\"T_faa88c82_c221_11ea_bc7b_0242ac1c0002row2_col13\" class=\"data row2 col13\" >0.13</td>\n",
              "                        <td id=\"T_faa88c82_c221_11ea_bc7b_0242ac1c0002row2_col14\" class=\"data row2 col14\" >-0.15</td>\n",
              "                        <td id=\"T_faa88c82_c221_11ea_bc7b_0242ac1c0002row2_col15\" class=\"data row2 col15\" >-0.06</td>\n",
              "                        <td id=\"T_faa88c82_c221_11ea_bc7b_0242ac1c0002row2_col16\" class=\"data row2 col16\" >-0.20</td>\n",
              "                        <td id=\"T_faa88c82_c221_11ea_bc7b_0242ac1c0002row2_col17\" class=\"data row2 col17\" >0.33</td>\n",
              "                        <td id=\"T_faa88c82_c221_11ea_bc7b_0242ac1c0002row2_col18\" class=\"data row2 col18\" >0.31</td>\n",
              "                        <td id=\"T_faa88c82_c221_11ea_bc7b_0242ac1c0002row2_col19\" class=\"data row2 col19\" >0.07</td>\n",
              "                        <td id=\"T_faa88c82_c221_11ea_bc7b_0242ac1c0002row2_col20\" class=\"data row2 col20\" >0.05</td>\n",
              "            </tr>\n",
              "            <tr>\n",
              "                        <th id=\"T_faa88c82_c221_11ea_bc7b_0242ac1c0002level0_row3\" class=\"row_heading level0 row3\" >Adventure</th>\n",
              "                        <td id=\"T_faa88c82_c221_11ea_bc7b_0242ac1c0002row3_col0\" class=\"data row3 col0\" >-0.08</td>\n",
              "                        <td id=\"T_faa88c82_c221_11ea_bc7b_0242ac1c0002row3_col1\" class=\"data row3 col1\" >0.10</td>\n",
              "                        <td id=\"T_faa88c82_c221_11ea_bc7b_0242ac1c0002row3_col2\" class=\"data row3 col2\" >0.33</td>\n",
              "                        <td id=\"T_faa88c82_c221_11ea_bc7b_0242ac1c0002row3_col3\" class=\"data row3 col3\" >1.00</td>\n",
              "                        <td id=\"T_faa88c82_c221_11ea_bc7b_0242ac1c0002row3_col4\" class=\"data row3 col4\" >0.16</td>\n",
              "                        <td id=\"T_faa88c82_c221_11ea_bc7b_0242ac1c0002row3_col5\" class=\"data row3 col5\" >0.18</td>\n",
              "                        <td id=\"T_faa88c82_c221_11ea_bc7b_0242ac1c0002row3_col6\" class=\"data row3 col6\" >-0.09</td>\n",
              "                        <td id=\"T_faa88c82_c221_11ea_bc7b_0242ac1c0002row3_col7\" class=\"data row3 col7\" >-0.24</td>\n",
              "                        <td id=\"T_faa88c82_c221_11ea_bc7b_0242ac1c0002row3_col8\" class=\"data row3 col8\" >-0.04</td>\n",
              "                        <td id=\"T_faa88c82_c221_11ea_bc7b_0242ac1c0002row3_col9\" class=\"data row3 col9\" >-0.29</td>\n",
              "                        <td id=\"T_faa88c82_c221_11ea_bc7b_0242ac1c0002row3_col10\" class=\"data row3 col10\" >0.24</td>\n",
              "                        <td id=\"T_faa88c82_c221_11ea_bc7b_0242ac1c0002row3_col11\" class=\"data row3 col11\" >-0.06</td>\n",
              "                        <td id=\"T_faa88c82_c221_11ea_bc7b_0242ac1c0002row3_col12\" class=\"data row3 col12\" >-0.10</td>\n",
              "                        <td id=\"T_faa88c82_c221_11ea_bc7b_0242ac1c0002row3_col13\" class=\"data row3 col13\" >0.22</td>\n",
              "                        <td id=\"T_faa88c82_c221_11ea_bc7b_0242ac1c0002row3_col14\" class=\"data row3 col14\" >-0.05</td>\n",
              "                        <td id=\"T_faa88c82_c221_11ea_bc7b_0242ac1c0002row3_col15\" class=\"data row3 col15\" >-0.09</td>\n",
              "                        <td id=\"T_faa88c82_c221_11ea_bc7b_0242ac1c0002row3_col16\" class=\"data row3 col16\" >-0.17</td>\n",
              "                        <td id=\"T_faa88c82_c221_11ea_bc7b_0242ac1c0002row3_col17\" class=\"data row3 col17\" >0.28</td>\n",
              "                        <td id=\"T_faa88c82_c221_11ea_bc7b_0242ac1c0002row3_col18\" class=\"data row3 col18\" >-0.01</td>\n",
              "                        <td id=\"T_faa88c82_c221_11ea_bc7b_0242ac1c0002row3_col19\" class=\"data row3 col19\" >-0.09</td>\n",
              "                        <td id=\"T_faa88c82_c221_11ea_bc7b_0242ac1c0002row3_col20\" class=\"data row3 col20\" >0.04</td>\n",
              "            </tr>\n",
              "            <tr>\n",
              "                        <th id=\"T_faa88c82_c221_11ea_bc7b_0242ac1c0002level0_row4\" class=\"row_heading level0 row4\" >Animation</th>\n",
              "                        <td id=\"T_faa88c82_c221_11ea_bc7b_0242ac1c0002row4_col0\" class=\"data row4 col0\" >0.04</td>\n",
              "                        <td id=\"T_faa88c82_c221_11ea_bc7b_0242ac1c0002row4_col1\" class=\"data row4 col1\" >0.02</td>\n",
              "                        <td id=\"T_faa88c82_c221_11ea_bc7b_0242ac1c0002row4_col2\" class=\"data row4 col2\" >-0.17</td>\n",
              "                        <td id=\"T_faa88c82_c221_11ea_bc7b_0242ac1c0002row4_col3\" class=\"data row4 col3\" >0.16</td>\n",
              "                        <td id=\"T_faa88c82_c221_11ea_bc7b_0242ac1c0002row4_col4\" class=\"data row4 col4\" >1.00</td>\n",
              "                        <td id=\"T_faa88c82_c221_11ea_bc7b_0242ac1c0002row4_col5\" class=\"data row4 col5\" >0.75</td>\n",
              "                        <td id=\"T_faa88c82_c221_11ea_bc7b_0242ac1c0002row4_col6\" class=\"data row4 col6\" >0.13</td>\n",
              "                        <td id=\"T_faa88c82_c221_11ea_bc7b_0242ac1c0002row4_col7\" class=\"data row4 col7\" >-0.09</td>\n",
              "                        <td id=\"T_faa88c82_c221_11ea_bc7b_0242ac1c0002row4_col8\" class=\"data row4 col8\" >-0.02</td>\n",
              "                        <td id=\"T_faa88c82_c221_11ea_bc7b_0242ac1c0002row4_col9\" class=\"data row4 col9\" >-0.12</td>\n",
              "                        <td id=\"T_faa88c82_c221_11ea_bc7b_0242ac1c0002row4_col10\" class=\"data row4 col10\" >0.23</td>\n",
              "                        <td id=\"T_faa88c82_c221_11ea_bc7b_0242ac1c0002row4_col11\" class=\"data row4 col11\" >-0.03</td>\n",
              "                        <td id=\"T_faa88c82_c221_11ea_bc7b_0242ac1c0002row4_col12\" class=\"data row4 col12\" >-0.07</td>\n",
              "                        <td id=\"T_faa88c82_c221_11ea_bc7b_0242ac1c0002row4_col13\" class=\"data row4 col13\" >0.11</td>\n",
              "                        <td id=\"T_faa88c82_c221_11ea_bc7b_0242ac1c0002row4_col14\" class=\"data row4 col14\" >0.43</td>\n",
              "                        <td id=\"T_faa88c82_c221_11ea_bc7b_0242ac1c0002row4_col15\" class=\"data row4 col15\" >-0.05</td>\n",
              "                        <td id=\"T_faa88c82_c221_11ea_bc7b_0242ac1c0002row4_col16\" class=\"data row4 col16\" >0.02</td>\n",
              "                        <td id=\"T_faa88c82_c221_11ea_bc7b_0242ac1c0002row4_col17\" class=\"data row4 col17\" >-0.10</td>\n",
              "                        <td id=\"T_faa88c82_c221_11ea_bc7b_0242ac1c0002row4_col18\" class=\"data row4 col18\" >-0.17</td>\n",
              "                        <td id=\"T_faa88c82_c221_11ea_bc7b_0242ac1c0002row4_col19\" class=\"data row4 col19\" >-0.06</td>\n",
              "                        <td id=\"T_faa88c82_c221_11ea_bc7b_0242ac1c0002row4_col20\" class=\"data row4 col20\" >-0.05</td>\n",
              "            </tr>\n",
              "            <tr>\n",
              "                        <th id=\"T_faa88c82_c221_11ea_bc7b_0242ac1c0002level0_row5\" class=\"row_heading level0 row5\" >Children</th>\n",
              "                        <td id=\"T_faa88c82_c221_11ea_bc7b_0242ac1c0002row5_col0\" class=\"data row5 col0\" >-0.03</td>\n",
              "                        <td id=\"T_faa88c82_c221_11ea_bc7b_0242ac1c0002row5_col1\" class=\"data row5 col1\" >0.00</td>\n",
              "                        <td id=\"T_faa88c82_c221_11ea_bc7b_0242ac1c0002row5_col2\" class=\"data row5 col2\" >-0.21</td>\n",
              "                        <td id=\"T_faa88c82_c221_11ea_bc7b_0242ac1c0002row5_col3\" class=\"data row5 col3\" >0.18</td>\n",
              "                        <td id=\"T_faa88c82_c221_11ea_bc7b_0242ac1c0002row5_col4\" class=\"data row5 col4\" >0.75</td>\n",
              "                        <td id=\"T_faa88c82_c221_11ea_bc7b_0242ac1c0002row5_col5\" class=\"data row5 col5\" >1.00</td>\n",
              "                        <td id=\"T_faa88c82_c221_11ea_bc7b_0242ac1c0002row5_col6\" class=\"data row5 col6\" >0.12</td>\n",
              "                        <td id=\"T_faa88c82_c221_11ea_bc7b_0242ac1c0002row5_col7\" class=\"data row5 col7\" >-0.13</td>\n",
              "                        <td id=\"T_faa88c82_c221_11ea_bc7b_0242ac1c0002row5_col8\" class=\"data row5 col8\" >-0.02</td>\n",
              "                        <td id=\"T_faa88c82_c221_11ea_bc7b_0242ac1c0002row5_col9\" class=\"data row5 col9\" >-0.13</td>\n",
              "                        <td id=\"T_faa88c82_c221_11ea_bc7b_0242ac1c0002row5_col10\" class=\"data row5 col10\" >0.37</td>\n",
              "                        <td id=\"T_faa88c82_c221_11ea_bc7b_0242ac1c0002row5_col11\" class=\"data row5 col11\" >-0.03</td>\n",
              "                        <td id=\"T_faa88c82_c221_11ea_bc7b_0242ac1c0002row5_col12\" class=\"data row5 col12\" >-0.08</td>\n",
              "                        <td id=\"T_faa88c82_c221_11ea_bc7b_0242ac1c0002row5_col13\" class=\"data row5 col13\" >0.09</td>\n",
              "                        <td id=\"T_faa88c82_c221_11ea_bc7b_0242ac1c0002row5_col14\" class=\"data row5 col14\" >0.41</td>\n",
              "                        <td id=\"T_faa88c82_c221_11ea_bc7b_0242ac1c0002row5_col15\" class=\"data row5 col15\" >-0.08</td>\n",
              "                        <td id=\"T_faa88c82_c221_11ea_bc7b_0242ac1c0002row5_col16\" class=\"data row5 col16\" >-0.02</td>\n",
              "                        <td id=\"T_faa88c82_c221_11ea_bc7b_0242ac1c0002row5_col17\" class=\"data row5 col17\" >-0.10</td>\n",
              "                        <td id=\"T_faa88c82_c221_11ea_bc7b_0242ac1c0002row5_col18\" class=\"data row5 col18\" >-0.21</td>\n",
              "                        <td id=\"T_faa88c82_c221_11ea_bc7b_0242ac1c0002row5_col19\" class=\"data row5 col19\" >-0.07</td>\n",
              "                        <td id=\"T_faa88c82_c221_11ea_bc7b_0242ac1c0002row5_col20\" class=\"data row5 col20\" >-0.06</td>\n",
              "            </tr>\n",
              "            <tr>\n",
              "                        <th id=\"T_faa88c82_c221_11ea_bc7b_0242ac1c0002level0_row6\" class=\"row_heading level0 row6\" >Comedy</th>\n",
              "                        <td id=\"T_faa88c82_c221_11ea_bc7b_0242ac1c0002row6_col0\" class=\"data row6 col0\" >-0.26</td>\n",
              "                        <td id=\"T_faa88c82_c221_11ea_bc7b_0242ac1c0002row6_col1\" class=\"data row6 col1\" >-0.13</td>\n",
              "                        <td id=\"T_faa88c82_c221_11ea_bc7b_0242ac1c0002row6_col2\" class=\"data row6 col2\" >-0.29</td>\n",
              "                        <td id=\"T_faa88c82_c221_11ea_bc7b_0242ac1c0002row6_col3\" class=\"data row6 col3\" >-0.09</td>\n",
              "                        <td id=\"T_faa88c82_c221_11ea_bc7b_0242ac1c0002row6_col4\" class=\"data row6 col4\" >0.13</td>\n",
              "                        <td id=\"T_faa88c82_c221_11ea_bc7b_0242ac1c0002row6_col5\" class=\"data row6 col5\" >0.12</td>\n",
              "                        <td id=\"T_faa88c82_c221_11ea_bc7b_0242ac1c0002row6_col6\" class=\"data row6 col6\" >1.00</td>\n",
              "                        <td id=\"T_faa88c82_c221_11ea_bc7b_0242ac1c0002row6_col7\" class=\"data row6 col7\" >-0.13</td>\n",
              "                        <td id=\"T_faa88c82_c221_11ea_bc7b_0242ac1c0002row6_col8\" class=\"data row6 col8\" >0.01</td>\n",
              "                        <td id=\"T_faa88c82_c221_11ea_bc7b_0242ac1c0002row6_col9\" class=\"data row6 col9\" >-0.29</td>\n",
              "                        <td id=\"T_faa88c82_c221_11ea_bc7b_0242ac1c0002row6_col10\" class=\"data row6 col10\" >0.10</td>\n",
              "                        <td id=\"T_faa88c82_c221_11ea_bc7b_0242ac1c0002row6_col11\" class=\"data row6 col11\" >-0.08</td>\n",
              "                        <td id=\"T_faa88c82_c221_11ea_bc7b_0242ac1c0002row6_col12\" class=\"data row6 col12\" >-0.03</td>\n",
              "                        <td id=\"T_faa88c82_c221_11ea_bc7b_0242ac1c0002row6_col13\" class=\"data row6 col13\" >-0.16</td>\n",
              "                        <td id=\"T_faa88c82_c221_11ea_bc7b_0242ac1c0002row6_col14\" class=\"data row6 col14\" >0.05</td>\n",
              "                        <td id=\"T_faa88c82_c221_11ea_bc7b_0242ac1c0002row6_col15\" class=\"data row6 col15\" >-0.20</td>\n",
              "                        <td id=\"T_faa88c82_c221_11ea_bc7b_0242ac1c0002row6_col16\" class=\"data row6 col16\" >0.23</td>\n",
              "                        <td id=\"T_faa88c82_c221_11ea_bc7b_0242ac1c0002row6_col17\" class=\"data row6 col17\" >-0.21</td>\n",
              "                        <td id=\"T_faa88c82_c221_11ea_bc7b_0242ac1c0002row6_col18\" class=\"data row6 col18\" >-0.36</td>\n",
              "                        <td id=\"T_faa88c82_c221_11ea_bc7b_0242ac1c0002row6_col19\" class=\"data row6 col19\" >-0.08</td>\n",
              "                        <td id=\"T_faa88c82_c221_11ea_bc7b_0242ac1c0002row6_col20\" class=\"data row6 col20\" >0.00</td>\n",
              "            </tr>\n",
              "            <tr>\n",
              "                        <th id=\"T_faa88c82_c221_11ea_bc7b_0242ac1c0002level0_row7\" class=\"row_heading level0 row7\" >Crime</th>\n",
              "                        <td id=\"T_faa88c82_c221_11ea_bc7b_0242ac1c0002row7_col0\" class=\"data row7 col0\" >0.19</td>\n",
              "                        <td id=\"T_faa88c82_c221_11ea_bc7b_0242ac1c0002row7_col1\" class=\"data row7 col1\" >0.08</td>\n",
              "                        <td id=\"T_faa88c82_c221_11ea_bc7b_0242ac1c0002row7_col2\" class=\"data row7 col2\" >0.06</td>\n",
              "                        <td id=\"T_faa88c82_c221_11ea_bc7b_0242ac1c0002row7_col3\" class=\"data row7 col3\" >-0.24</td>\n",
              "                        <td id=\"T_faa88c82_c221_11ea_bc7b_0242ac1c0002row7_col4\" class=\"data row7 col4\" >-0.09</td>\n",
              "                        <td id=\"T_faa88c82_c221_11ea_bc7b_0242ac1c0002row7_col5\" class=\"data row7 col5\" >-0.13</td>\n",
              "                        <td id=\"T_faa88c82_c221_11ea_bc7b_0242ac1c0002row7_col6\" class=\"data row7 col6\" >-0.13</td>\n",
              "                        <td id=\"T_faa88c82_c221_11ea_bc7b_0242ac1c0002row7_col7\" class=\"data row7 col7\" >1.00</td>\n",
              "                        <td id=\"T_faa88c82_c221_11ea_bc7b_0242ac1c0002row7_col8\" class=\"data row7 col8\" >-0.03</td>\n",
              "                        <td id=\"T_faa88c82_c221_11ea_bc7b_0242ac1c0002row7_col9\" class=\"data row7 col9\" >0.09</td>\n",
              "                        <td id=\"T_faa88c82_c221_11ea_bc7b_0242ac1c0002row7_col10\" class=\"data row7 col10\" >-0.16</td>\n",
              "                        <td id=\"T_faa88c82_c221_11ea_bc7b_0242ac1c0002row7_col11\" class=\"data row7 col11\" >0.19</td>\n",
              "                        <td id=\"T_faa88c82_c221_11ea_bc7b_0242ac1c0002row7_col12\" class=\"data row7 col12\" >-0.05</td>\n",
              "                        <td id=\"T_faa88c82_c221_11ea_bc7b_0242ac1c0002row7_col13\" class=\"data row7 col13\" >-0.03</td>\n",
              "                        <td id=\"T_faa88c82_c221_11ea_bc7b_0242ac1c0002row7_col14\" class=\"data row7 col14\" >-0.11</td>\n",
              "                        <td id=\"T_faa88c82_c221_11ea_bc7b_0242ac1c0002row7_col15\" class=\"data row7 col15\" >0.11</td>\n",
              "                        <td id=\"T_faa88c82_c221_11ea_bc7b_0242ac1c0002row7_col16\" class=\"data row7 col16\" >-0.21</td>\n",
              "                        <td id=\"T_faa88c82_c221_11ea_bc7b_0242ac1c0002row7_col17\" class=\"data row7 col17\" >-0.18</td>\n",
              "                        <td id=\"T_faa88c82_c221_11ea_bc7b_0242ac1c0002row7_col18\" class=\"data row7 col18\" >0.25</td>\n",
              "                        <td id=\"T_faa88c82_c221_11ea_bc7b_0242ac1c0002row7_col19\" class=\"data row7 col19\" >-0.07</td>\n",
              "                        <td id=\"T_faa88c82_c221_11ea_bc7b_0242ac1c0002row7_col20\" class=\"data row7 col20\" >-0.08</td>\n",
              "            </tr>\n",
              "            <tr>\n",
              "                        <th id=\"T_faa88c82_c221_11ea_bc7b_0242ac1c0002level0_row8\" class=\"row_heading level0 row8\" >Documentary</th>\n",
              "                        <td id=\"T_faa88c82_c221_11ea_bc7b_0242ac1c0002row8_col0\" class=\"data row8 col0\" >-0.00</td>\n",
              "                        <td id=\"T_faa88c82_c221_11ea_bc7b_0242ac1c0002row8_col1\" class=\"data row8 col1\" >-0.06</td>\n",
              "                        <td id=\"T_faa88c82_c221_11ea_bc7b_0242ac1c0002row8_col2\" class=\"data row8 col2\" >-0.05</td>\n",
              "                        <td id=\"T_faa88c82_c221_11ea_bc7b_0242ac1c0002row8_col3\" class=\"data row8 col3\" >-0.04</td>\n",
              "                        <td id=\"T_faa88c82_c221_11ea_bc7b_0242ac1c0002row8_col4\" class=\"data row8 col4\" >-0.02</td>\n",
              "                        <td id=\"T_faa88c82_c221_11ea_bc7b_0242ac1c0002row8_col5\" class=\"data row8 col5\" >-0.02</td>\n",
              "                        <td id=\"T_faa88c82_c221_11ea_bc7b_0242ac1c0002row8_col6\" class=\"data row8 col6\" >0.01</td>\n",
              "                        <td id=\"T_faa88c82_c221_11ea_bc7b_0242ac1c0002row8_col7\" class=\"data row8 col7\" >-0.03</td>\n",
              "                        <td id=\"T_faa88c82_c221_11ea_bc7b_0242ac1c0002row8_col8\" class=\"data row8 col8\" >1.00</td>\n",
              "                        <td id=\"T_faa88c82_c221_11ea_bc7b_0242ac1c0002row8_col9\" class=\"data row8 col9\" >0.02</td>\n",
              "                        <td id=\"T_faa88c82_c221_11ea_bc7b_0242ac1c0002row8_col10\" class=\"data row8 col10\" >-0.03</td>\n",
              "                        <td id=\"T_faa88c82_c221_11ea_bc7b_0242ac1c0002row8_col11\" class=\"data row8 col11\" >-0.01</td>\n",
              "                        <td id=\"T_faa88c82_c221_11ea_bc7b_0242ac1c0002row8_col12\" class=\"data row8 col12\" >-0.02</td>\n",
              "                        <td id=\"T_faa88c82_c221_11ea_bc7b_0242ac1c0002row8_col13\" class=\"data row8 col13\" >-0.02</td>\n",
              "                        <td id=\"T_faa88c82_c221_11ea_bc7b_0242ac1c0002row8_col14\" class=\"data row8 col14\" >-0.01</td>\n",
              "                        <td id=\"T_faa88c82_c221_11ea_bc7b_0242ac1c0002row8_col15\" class=\"data row8 col15\" >-0.02</td>\n",
              "                        <td id=\"T_faa88c82_c221_11ea_bc7b_0242ac1c0002row8_col16\" class=\"data row8 col16\" >-0.03</td>\n",
              "                        <td id=\"T_faa88c82_c221_11ea_bc7b_0242ac1c0002row8_col17\" class=\"data row8 col17\" >-0.03</td>\n",
              "                        <td id=\"T_faa88c82_c221_11ea_bc7b_0242ac1c0002row8_col18\" class=\"data row8 col18\" >-0.04</td>\n",
              "                        <td id=\"T_faa88c82_c221_11ea_bc7b_0242ac1c0002row8_col19\" class=\"data row8 col19\" >-0.01</td>\n",
              "                        <td id=\"T_faa88c82_c221_11ea_bc7b_0242ac1c0002row8_col20\" class=\"data row8 col20\" >-0.01</td>\n",
              "            </tr>\n",
              "            <tr>\n",
              "                        <th id=\"T_faa88c82_c221_11ea_bc7b_0242ac1c0002level0_row9\" class=\"row_heading level0 row9\" >Drama</th>\n",
              "                        <td id=\"T_faa88c82_c221_11ea_bc7b_0242ac1c0002row9_col0\" class=\"data row9 col0\" >0.28</td>\n",
              "                        <td id=\"T_faa88c82_c221_11ea_bc7b_0242ac1c0002row9_col1\" class=\"data row9 col1\" >0.02</td>\n",
              "                        <td id=\"T_faa88c82_c221_11ea_bc7b_0242ac1c0002row9_col2\" class=\"data row9 col2\" >-0.25</td>\n",
              "                        <td id=\"T_faa88c82_c221_11ea_bc7b_0242ac1c0002row9_col3\" class=\"data row9 col3\" >-0.29</td>\n",
              "                        <td id=\"T_faa88c82_c221_11ea_bc7b_0242ac1c0002row9_col4\" class=\"data row9 col4\" >-0.12</td>\n",
              "                        <td id=\"T_faa88c82_c221_11ea_bc7b_0242ac1c0002row9_col5\" class=\"data row9 col5\" >-0.13</td>\n",
              "                        <td id=\"T_faa88c82_c221_11ea_bc7b_0242ac1c0002row9_col6\" class=\"data row9 col6\" >-0.29</td>\n",
              "                        <td id=\"T_faa88c82_c221_11ea_bc7b_0242ac1c0002row9_col7\" class=\"data row9 col7\" >0.09</td>\n",
              "                        <td id=\"T_faa88c82_c221_11ea_bc7b_0242ac1c0002row9_col8\" class=\"data row9 col8\" >0.02</td>\n",
              "                        <td id=\"T_faa88c82_c221_11ea_bc7b_0242ac1c0002row9_col9\" class=\"data row9 col9\" >1.00</td>\n",
              "                        <td id=\"T_faa88c82_c221_11ea_bc7b_0242ac1c0002row9_col10\" class=\"data row9 col10\" >-0.12</td>\n",
              "                        <td id=\"T_faa88c82_c221_11ea_bc7b_0242ac1c0002row9_col11\" class=\"data row9 col11\" >-0.02</td>\n",
              "                        <td id=\"T_faa88c82_c221_11ea_bc7b_0242ac1c0002row9_col12\" class=\"data row9 col12\" >-0.11</td>\n",
              "                        <td id=\"T_faa88c82_c221_11ea_bc7b_0242ac1c0002row9_col13\" class=\"data row9 col13\" >-0.08</td>\n",
              "                        <td id=\"T_faa88c82_c221_11ea_bc7b_0242ac1c0002row9_col14\" class=\"data row9 col14\" >-0.08</td>\n",
              "                        <td id=\"T_faa88c82_c221_11ea_bc7b_0242ac1c0002row9_col15\" class=\"data row9 col15\" >0.02</td>\n",
              "                        <td id=\"T_faa88c82_c221_11ea_bc7b_0242ac1c0002row9_col16\" class=\"data row9 col16\" >0.07</td>\n",
              "                        <td id=\"T_faa88c82_c221_11ea_bc7b_0242ac1c0002row9_col17\" class=\"data row9 col17\" >-0.16</td>\n",
              "                        <td id=\"T_faa88c82_c221_11ea_bc7b_0242ac1c0002row9_col18\" class=\"data row9 col18\" >-0.04</td>\n",
              "                        <td id=\"T_faa88c82_c221_11ea_bc7b_0242ac1c0002row9_col19\" class=\"data row9 col19\" >0.21</td>\n",
              "                        <td id=\"T_faa88c82_c221_11ea_bc7b_0242ac1c0002row9_col20\" class=\"data row9 col20\" >-0.01</td>\n",
              "            </tr>\n",
              "            <tr>\n",
              "                        <th id=\"T_faa88c82_c221_11ea_bc7b_0242ac1c0002level0_row10\" class=\"row_heading level0 row10\" >Fantasy</th>\n",
              "                        <td id=\"T_faa88c82_c221_11ea_bc7b_0242ac1c0002row10_col0\" class=\"data row10 col0\" >-0.02</td>\n",
              "                        <td id=\"T_faa88c82_c221_11ea_bc7b_0242ac1c0002row10_col1\" class=\"data row10 col1\" >-0.01</td>\n",
              "                        <td id=\"T_faa88c82_c221_11ea_bc7b_0242ac1c0002row10_col2\" class=\"data row10 col2\" >-0.12</td>\n",
              "                        <td id=\"T_faa88c82_c221_11ea_bc7b_0242ac1c0002row10_col3\" class=\"data row10 col3\" >0.24</td>\n",
              "                        <td id=\"T_faa88c82_c221_11ea_bc7b_0242ac1c0002row10_col4\" class=\"data row10 col4\" >0.23</td>\n",
              "                        <td id=\"T_faa88c82_c221_11ea_bc7b_0242ac1c0002row10_col5\" class=\"data row10 col5\" >0.37</td>\n",
              "                        <td id=\"T_faa88c82_c221_11ea_bc7b_0242ac1c0002row10_col6\" class=\"data row10 col6\" >0.10</td>\n",
              "                        <td id=\"T_faa88c82_c221_11ea_bc7b_0242ac1c0002row10_col7\" class=\"data row10 col7\" >-0.16</td>\n",
              "                        <td id=\"T_faa88c82_c221_11ea_bc7b_0242ac1c0002row10_col8\" class=\"data row10 col8\" >-0.03</td>\n",
              "                        <td id=\"T_faa88c82_c221_11ea_bc7b_0242ac1c0002row10_col9\" class=\"data row10 col9\" >-0.12</td>\n",
              "                        <td id=\"T_faa88c82_c221_11ea_bc7b_0242ac1c0002row10_col10\" class=\"data row10 col10\" >1.00</td>\n",
              "                        <td id=\"T_faa88c82_c221_11ea_bc7b_0242ac1c0002row10_col11\" class=\"data row10 col11\" >-0.04</td>\n",
              "                        <td id=\"T_faa88c82_c221_11ea_bc7b_0242ac1c0002row10_col12\" class=\"data row10 col12\" >-0.02</td>\n",
              "                        <td id=\"T_faa88c82_c221_11ea_bc7b_0242ac1c0002row10_col13\" class=\"data row10 col13\" >0.15</td>\n",
              "                        <td id=\"T_faa88c82_c221_11ea_bc7b_0242ac1c0002row10_col14\" class=\"data row10 col14\" >0.15</td>\n",
              "                        <td id=\"T_faa88c82_c221_11ea_bc7b_0242ac1c0002row10_col15\" class=\"data row10 col15\" >-0.04</td>\n",
              "                        <td id=\"T_faa88c82_c221_11ea_bc7b_0242ac1c0002row10_col16\" class=\"data row10 col16\" >0.02</td>\n",
              "                        <td id=\"T_faa88c82_c221_11ea_bc7b_0242ac1c0002row10_col17\" class=\"data row10 col17\" >-0.15</td>\n",
              "                        <td id=\"T_faa88c82_c221_11ea_bc7b_0242ac1c0002row10_col18\" class=\"data row10 col18\" >-0.18</td>\n",
              "                        <td id=\"T_faa88c82_c221_11ea_bc7b_0242ac1c0002row10_col19\" class=\"data row10 col19\" >-0.06</td>\n",
              "                        <td id=\"T_faa88c82_c221_11ea_bc7b_0242ac1c0002row10_col20\" class=\"data row10 col20\" >-0.07</td>\n",
              "            </tr>\n",
              "            <tr>\n",
              "                        <th id=\"T_faa88c82_c221_11ea_bc7b_0242ac1c0002level0_row11\" class=\"row_heading level0 row11\" >FilmNoir</th>\n",
              "                        <td id=\"T_faa88c82_c221_11ea_bc7b_0242ac1c0002row11_col0\" class=\"data row11 col0\" >0.08</td>\n",
              "                        <td id=\"T_faa88c82_c221_11ea_bc7b_0242ac1c0002row11_col1\" class=\"data row11 col1\" >-0.04</td>\n",
              "                        <td id=\"T_faa88c82_c221_11ea_bc7b_0242ac1c0002row11_col2\" class=\"data row11 col2\" >-0.02</td>\n",
              "                        <td id=\"T_faa88c82_c221_11ea_bc7b_0242ac1c0002row11_col3\" class=\"data row11 col3\" >-0.06</td>\n",
              "                        <td id=\"T_faa88c82_c221_11ea_bc7b_0242ac1c0002row11_col4\" class=\"data row11 col4\" >-0.03</td>\n",
              "                        <td id=\"T_faa88c82_c221_11ea_bc7b_0242ac1c0002row11_col5\" class=\"data row11 col5\" >-0.03</td>\n",
              "                        <td id=\"T_faa88c82_c221_11ea_bc7b_0242ac1c0002row11_col6\" class=\"data row11 col6\" >-0.08</td>\n",
              "                        <td id=\"T_faa88c82_c221_11ea_bc7b_0242ac1c0002row11_col7\" class=\"data row11 col7\" >0.19</td>\n",
              "                        <td id=\"T_faa88c82_c221_11ea_bc7b_0242ac1c0002row11_col8\" class=\"data row11 col8\" >-0.01</td>\n",
              "                        <td id=\"T_faa88c82_c221_11ea_bc7b_0242ac1c0002row11_col9\" class=\"data row11 col9\" >-0.02</td>\n",
              "                        <td id=\"T_faa88c82_c221_11ea_bc7b_0242ac1c0002row11_col10\" class=\"data row11 col10\" >-0.04</td>\n",
              "                        <td id=\"T_faa88c82_c221_11ea_bc7b_0242ac1c0002row11_col11\" class=\"data row11 col11\" >1.00</td>\n",
              "                        <td id=\"T_faa88c82_c221_11ea_bc7b_0242ac1c0002row11_col12\" class=\"data row11 col12\" >-0.02</td>\n",
              "                        <td id=\"T_faa88c82_c221_11ea_bc7b_0242ac1c0002row11_col13\" class=\"data row11 col13\" >-0.02</td>\n",
              "                        <td id=\"T_faa88c82_c221_11ea_bc7b_0242ac1c0002row11_col14\" class=\"data row11 col14\" >-0.02</td>\n",
              "                        <td id=\"T_faa88c82_c221_11ea_bc7b_0242ac1c0002row11_col15\" class=\"data row11 col15\" >0.31</td>\n",
              "                        <td id=\"T_faa88c82_c221_11ea_bc7b_0242ac1c0002row11_col16\" class=\"data row11 col16\" >-0.05</td>\n",
              "                        <td id=\"T_faa88c82_c221_11ea_bc7b_0242ac1c0002row11_col17\" class=\"data row11 col17\" >-0.05</td>\n",
              "                        <td id=\"T_faa88c82_c221_11ea_bc7b_0242ac1c0002row11_col18\" class=\"data row11 col18\" >0.16</td>\n",
              "                        <td id=\"T_faa88c82_c221_11ea_bc7b_0242ac1c0002row11_col19\" class=\"data row11 col19\" >-0.02</td>\n",
              "                        <td id=\"T_faa88c82_c221_11ea_bc7b_0242ac1c0002row11_col20\" class=\"data row11 col20\" >-0.02</td>\n",
              "            </tr>\n",
              "            <tr>\n",
              "                        <th id=\"T_faa88c82_c221_11ea_bc7b_0242ac1c0002level0_row12\" class=\"row_heading level0 row12\" >Horror</th>\n",
              "                        <td id=\"T_faa88c82_c221_11ea_bc7b_0242ac1c0002row12_col0\" class=\"data row12 col0\" >-0.03</td>\n",
              "                        <td id=\"T_faa88c82_c221_11ea_bc7b_0242ac1c0002row12_col1\" class=\"data row12 col1\" >-0.04</td>\n",
              "                        <td id=\"T_faa88c82_c221_11ea_bc7b_0242ac1c0002row12_col2\" class=\"data row12 col2\" >-0.01</td>\n",
              "                        <td id=\"T_faa88c82_c221_11ea_bc7b_0242ac1c0002row12_col3\" class=\"data row12 col3\" >-0.10</td>\n",
              "                        <td id=\"T_faa88c82_c221_11ea_bc7b_0242ac1c0002row12_col4\" class=\"data row12 col4\" >-0.07</td>\n",
              "                        <td id=\"T_faa88c82_c221_11ea_bc7b_0242ac1c0002row12_col5\" class=\"data row12 col5\" >-0.08</td>\n",
              "                        <td id=\"T_faa88c82_c221_11ea_bc7b_0242ac1c0002row12_col6\" class=\"data row12 col6\" >-0.03</td>\n",
              "                        <td id=\"T_faa88c82_c221_11ea_bc7b_0242ac1c0002row12_col7\" class=\"data row12 col7\" >-0.05</td>\n",
              "                        <td id=\"T_faa88c82_c221_11ea_bc7b_0242ac1c0002row12_col8\" class=\"data row12 col8\" >-0.02</td>\n",
              "                        <td id=\"T_faa88c82_c221_11ea_bc7b_0242ac1c0002row12_col9\" class=\"data row12 col9\" >-0.11</td>\n",
              "                        <td id=\"T_faa88c82_c221_11ea_bc7b_0242ac1c0002row12_col10\" class=\"data row12 col10\" >-0.02</td>\n",
              "                        <td id=\"T_faa88c82_c221_11ea_bc7b_0242ac1c0002row12_col11\" class=\"data row12 col11\" >-0.02</td>\n",
              "                        <td id=\"T_faa88c82_c221_11ea_bc7b_0242ac1c0002row12_col12\" class=\"data row12 col12\" >1.00</td>\n",
              "                        <td id=\"T_faa88c82_c221_11ea_bc7b_0242ac1c0002row12_col13\" class=\"data row12 col13\" >-0.02</td>\n",
              "                        <td id=\"T_faa88c82_c221_11ea_bc7b_0242ac1c0002row12_col14\" class=\"data row12 col14\" >-0.01</td>\n",
              "                        <td id=\"T_faa88c82_c221_11ea_bc7b_0242ac1c0002row12_col15\" class=\"data row12 col15\" >0.13</td>\n",
              "                        <td id=\"T_faa88c82_c221_11ea_bc7b_0242ac1c0002row12_col16\" class=\"data row12 col16\" >-0.10</td>\n",
              "                        <td id=\"T_faa88c82_c221_11ea_bc7b_0242ac1c0002row12_col17\" class=\"data row12 col17\" >0.02</td>\n",
              "                        <td id=\"T_faa88c82_c221_11ea_bc7b_0242ac1c0002row12_col18\" class=\"data row12 col18\" >0.06</td>\n",
              "                        <td id=\"T_faa88c82_c221_11ea_bc7b_0242ac1c0002row12_col19\" class=\"data row12 col19\" >-0.05</td>\n",
              "                        <td id=\"T_faa88c82_c221_11ea_bc7b_0242ac1c0002row12_col20\" class=\"data row12 col20\" >-0.04</td>\n",
              "            </tr>\n",
              "            <tr>\n",
              "                        <th id=\"T_faa88c82_c221_11ea_bc7b_0242ac1c0002level0_row13\" class=\"row_heading level0 row13\" >IMAX</th>\n",
              "                        <td id=\"T_faa88c82_c221_11ea_bc7b_0242ac1c0002row13_col0\" class=\"data row13 col0\" >0.06</td>\n",
              "                        <td id=\"T_faa88c82_c221_11ea_bc7b_0242ac1c0002row13_col1\" class=\"data row13 col1\" >-0.02</td>\n",
              "                        <td id=\"T_faa88c82_c221_11ea_bc7b_0242ac1c0002row13_col2\" class=\"data row13 col2\" >0.13</td>\n",
              "                        <td id=\"T_faa88c82_c221_11ea_bc7b_0242ac1c0002row13_col3\" class=\"data row13 col3\" >0.22</td>\n",
              "                        <td id=\"T_faa88c82_c221_11ea_bc7b_0242ac1c0002row13_col4\" class=\"data row13 col4\" >0.11</td>\n",
              "                        <td id=\"T_faa88c82_c221_11ea_bc7b_0242ac1c0002row13_col5\" class=\"data row13 col5\" >0.09</td>\n",
              "                        <td id=\"T_faa88c82_c221_11ea_bc7b_0242ac1c0002row13_col6\" class=\"data row13 col6\" >-0.16</td>\n",
              "                        <td id=\"T_faa88c82_c221_11ea_bc7b_0242ac1c0002row13_col7\" class=\"data row13 col7\" >-0.03</td>\n",
              "                        <td id=\"T_faa88c82_c221_11ea_bc7b_0242ac1c0002row13_col8\" class=\"data row13 col8\" >-0.02</td>\n",
              "                        <td id=\"T_faa88c82_c221_11ea_bc7b_0242ac1c0002row13_col9\" class=\"data row13 col9\" >-0.08</td>\n",
              "                        <td id=\"T_faa88c82_c221_11ea_bc7b_0242ac1c0002row13_col10\" class=\"data row13 col10\" >0.15</td>\n",
              "                        <td id=\"T_faa88c82_c221_11ea_bc7b_0242ac1c0002row13_col11\" class=\"data row13 col11\" >-0.02</td>\n",
              "                        <td id=\"T_faa88c82_c221_11ea_bc7b_0242ac1c0002row13_col12\" class=\"data row13 col12\" >-0.02</td>\n",
              "                        <td id=\"T_faa88c82_c221_11ea_bc7b_0242ac1c0002row13_col13\" class=\"data row13 col13\" >1.00</td>\n",
              "                        <td id=\"T_faa88c82_c221_11ea_bc7b_0242ac1c0002row13_col14\" class=\"data row13 col14\" >0.03</td>\n",
              "                        <td id=\"T_faa88c82_c221_11ea_bc7b_0242ac1c0002row13_col15\" class=\"data row13 col15\" >0.02</td>\n",
              "                        <td id=\"T_faa88c82_c221_11ea_bc7b_0242ac1c0002row13_col16\" class=\"data row13 col16\" >-0.08</td>\n",
              "                        <td id=\"T_faa88c82_c221_11ea_bc7b_0242ac1c0002row13_col17\" class=\"data row13 col17\" >0.12</td>\n",
              "                        <td id=\"T_faa88c82_c221_11ea_bc7b_0242ac1c0002row13_col18\" class=\"data row13 col18\" >-0.01</td>\n",
              "                        <td id=\"T_faa88c82_c221_11ea_bc7b_0242ac1c0002row13_col19\" class=\"data row13 col19\" >-0.01</td>\n",
              "                        <td id=\"T_faa88c82_c221_11ea_bc7b_0242ac1c0002row13_col20\" class=\"data row13 col20\" >-0.04</td>\n",
              "            </tr>\n",
              "            <tr>\n",
              "                        <th id=\"T_faa88c82_c221_11ea_bc7b_0242ac1c0002level0_row14\" class=\"row_heading level0 row14\" >Musical</th>\n",
              "                        <td id=\"T_faa88c82_c221_11ea_bc7b_0242ac1c0002row14_col0\" class=\"data row14 col0\" >-0.01</td>\n",
              "                        <td id=\"T_faa88c82_c221_11ea_bc7b_0242ac1c0002row14_col1\" class=\"data row14 col1\" >-0.02</td>\n",
              "                        <td id=\"T_faa88c82_c221_11ea_bc7b_0242ac1c0002row14_col2\" class=\"data row14 col2\" >-0.15</td>\n",
              "                        <td id=\"T_faa88c82_c221_11ea_bc7b_0242ac1c0002row14_col3\" class=\"data row14 col3\" >-0.05</td>\n",
              "                        <td id=\"T_faa88c82_c221_11ea_bc7b_0242ac1c0002row14_col4\" class=\"data row14 col4\" >0.43</td>\n",
              "                        <td id=\"T_faa88c82_c221_11ea_bc7b_0242ac1c0002row14_col5\" class=\"data row14 col5\" >0.41</td>\n",
              "                        <td id=\"T_faa88c82_c221_11ea_bc7b_0242ac1c0002row14_col6\" class=\"data row14 col6\" >0.05</td>\n",
              "                        <td id=\"T_faa88c82_c221_11ea_bc7b_0242ac1c0002row14_col7\" class=\"data row14 col7\" >-0.11</td>\n",
              "                        <td id=\"T_faa88c82_c221_11ea_bc7b_0242ac1c0002row14_col8\" class=\"data row14 col8\" >-0.01</td>\n",
              "                        <td id=\"T_faa88c82_c221_11ea_bc7b_0242ac1c0002row14_col9\" class=\"data row14 col9\" >-0.08</td>\n",
              "                        <td id=\"T_faa88c82_c221_11ea_bc7b_0242ac1c0002row14_col10\" class=\"data row14 col10\" >0.15</td>\n",
              "                        <td id=\"T_faa88c82_c221_11ea_bc7b_0242ac1c0002row14_col11\" class=\"data row14 col11\" >-0.02</td>\n",
              "                        <td id=\"T_faa88c82_c221_11ea_bc7b_0242ac1c0002row14_col12\" class=\"data row14 col12\" >-0.01</td>\n",
              "                        <td id=\"T_faa88c82_c221_11ea_bc7b_0242ac1c0002row14_col13\" class=\"data row14 col13\" >0.03</td>\n",
              "                        <td id=\"T_faa88c82_c221_11ea_bc7b_0242ac1c0002row14_col14\" class=\"data row14 col14\" >1.00</td>\n",
              "                        <td id=\"T_faa88c82_c221_11ea_bc7b_0242ac1c0002row14_col15\" class=\"data row14 col15\" >-0.07</td>\n",
              "                        <td id=\"T_faa88c82_c221_11ea_bc7b_0242ac1c0002row14_col16\" class=\"data row14 col16\" >0.08</td>\n",
              "                        <td id=\"T_faa88c82_c221_11ea_bc7b_0242ac1c0002row14_col17\" class=\"data row14 col17\" >-0.09</td>\n",
              "                        <td id=\"T_faa88c82_c221_11ea_bc7b_0242ac1c0002row14_col18\" class=\"data row14 col18\" >-0.13</td>\n",
              "                        <td id=\"T_faa88c82_c221_11ea_bc7b_0242ac1c0002row14_col19\" class=\"data row14 col19\" >-0.05</td>\n",
              "                        <td id=\"T_faa88c82_c221_11ea_bc7b_0242ac1c0002row14_col20\" class=\"data row14 col20\" >-0.04</td>\n",
              "            </tr>\n",
              "            <tr>\n",
              "                        <th id=\"T_faa88c82_c221_11ea_bc7b_0242ac1c0002level0_row15\" class=\"row_heading level0 row15\" >Mystery</th>\n",
              "                        <td id=\"T_faa88c82_c221_11ea_bc7b_0242ac1c0002row15_col0\" class=\"data row15 col0\" >0.13</td>\n",
              "                        <td id=\"T_faa88c82_c221_11ea_bc7b_0242ac1c0002row15_col1\" class=\"data row15 col1\" >-0.01</td>\n",
              "                        <td id=\"T_faa88c82_c221_11ea_bc7b_0242ac1c0002row15_col2\" class=\"data row15 col2\" >-0.06</td>\n",
              "                        <td id=\"T_faa88c82_c221_11ea_bc7b_0242ac1c0002row15_col3\" class=\"data row15 col3\" >-0.09</td>\n",
              "                        <td id=\"T_faa88c82_c221_11ea_bc7b_0242ac1c0002row15_col4\" class=\"data row15 col4\" >-0.05</td>\n",
              "                        <td id=\"T_faa88c82_c221_11ea_bc7b_0242ac1c0002row15_col5\" class=\"data row15 col5\" >-0.08</td>\n",
              "                        <td id=\"T_faa88c82_c221_11ea_bc7b_0242ac1c0002row15_col6\" class=\"data row15 col6\" >-0.20</td>\n",
              "                        <td id=\"T_faa88c82_c221_11ea_bc7b_0242ac1c0002row15_col7\" class=\"data row15 col7\" >0.11</td>\n",
              "                        <td id=\"T_faa88c82_c221_11ea_bc7b_0242ac1c0002row15_col8\" class=\"data row15 col8\" >-0.02</td>\n",
              "                        <td id=\"T_faa88c82_c221_11ea_bc7b_0242ac1c0002row15_col9\" class=\"data row15 col9\" >0.02</td>\n",
              "                        <td id=\"T_faa88c82_c221_11ea_bc7b_0242ac1c0002row15_col10\" class=\"data row15 col10\" >-0.04</td>\n",
              "                        <td id=\"T_faa88c82_c221_11ea_bc7b_0242ac1c0002row15_col11\" class=\"data row15 col11\" >0.31</td>\n",
              "                        <td id=\"T_faa88c82_c221_11ea_bc7b_0242ac1c0002row15_col12\" class=\"data row15 col12\" >0.13</td>\n",
              "                        <td id=\"T_faa88c82_c221_11ea_bc7b_0242ac1c0002row15_col13\" class=\"data row15 col13\" >0.02</td>\n",
              "                        <td id=\"T_faa88c82_c221_11ea_bc7b_0242ac1c0002row15_col14\" class=\"data row15 col14\" >-0.07</td>\n",
              "                        <td id=\"T_faa88c82_c221_11ea_bc7b_0242ac1c0002row15_col15\" class=\"data row15 col15\" >1.00</td>\n",
              "                        <td id=\"T_faa88c82_c221_11ea_bc7b_0242ac1c0002row15_col16\" class=\"data row15 col16\" >-0.06</td>\n",
              "                        <td id=\"T_faa88c82_c221_11ea_bc7b_0242ac1c0002row15_col17\" class=\"data row15 col17\" >-0.02</td>\n",
              "                        <td id=\"T_faa88c82_c221_11ea_bc7b_0242ac1c0002row15_col18\" class=\"data row15 col18\" >0.32</td>\n",
              "                        <td id=\"T_faa88c82_c221_11ea_bc7b_0242ac1c0002row15_col19\" class=\"data row15 col19\" >-0.06</td>\n",
              "                        <td id=\"T_faa88c82_c221_11ea_bc7b_0242ac1c0002row15_col20\" class=\"data row15 col20\" >-0.05</td>\n",
              "            </tr>\n",
              "            <tr>\n",
              "                        <th id=\"T_faa88c82_c221_11ea_bc7b_0242ac1c0002level0_row16\" class=\"row_heading level0 row16\" >Romance</th>\n",
              "                        <td id=\"T_faa88c82_c221_11ea_bc7b_0242ac1c0002row16_col0\" class=\"data row16 col0\" >-0.07</td>\n",
              "                        <td id=\"T_faa88c82_c221_11ea_bc7b_0242ac1c0002row16_col1\" class=\"data row16 col1\" >-0.05</td>\n",
              "                        <td id=\"T_faa88c82_c221_11ea_bc7b_0242ac1c0002row16_col2\" class=\"data row16 col2\" >-0.20</td>\n",
              "                        <td id=\"T_faa88c82_c221_11ea_bc7b_0242ac1c0002row16_col3\" class=\"data row16 col3\" >-0.17</td>\n",
              "                        <td id=\"T_faa88c82_c221_11ea_bc7b_0242ac1c0002row16_col4\" class=\"data row16 col4\" >0.02</td>\n",
              "                        <td id=\"T_faa88c82_c221_11ea_bc7b_0242ac1c0002row16_col5\" class=\"data row16 col5\" >-0.02</td>\n",
              "                        <td id=\"T_faa88c82_c221_11ea_bc7b_0242ac1c0002row16_col6\" class=\"data row16 col6\" >0.23</td>\n",
              "                        <td id=\"T_faa88c82_c221_11ea_bc7b_0242ac1c0002row16_col7\" class=\"data row16 col7\" >-0.21</td>\n",
              "                        <td id=\"T_faa88c82_c221_11ea_bc7b_0242ac1c0002row16_col8\" class=\"data row16 col8\" >-0.03</td>\n",
              "                        <td id=\"T_faa88c82_c221_11ea_bc7b_0242ac1c0002row16_col9\" class=\"data row16 col9\" >0.07</td>\n",
              "                        <td id=\"T_faa88c82_c221_11ea_bc7b_0242ac1c0002row16_col10\" class=\"data row16 col10\" >0.02</td>\n",
              "                        <td id=\"T_faa88c82_c221_11ea_bc7b_0242ac1c0002row16_col11\" class=\"data row16 col11\" >-0.05</td>\n",
              "                        <td id=\"T_faa88c82_c221_11ea_bc7b_0242ac1c0002row16_col12\" class=\"data row16 col12\" >-0.10</td>\n",
              "                        <td id=\"T_faa88c82_c221_11ea_bc7b_0242ac1c0002row16_col13\" class=\"data row16 col13\" >-0.08</td>\n",
              "                        <td id=\"T_faa88c82_c221_11ea_bc7b_0242ac1c0002row16_col14\" class=\"data row16 col14\" >0.08</td>\n",
              "                        <td id=\"T_faa88c82_c221_11ea_bc7b_0242ac1c0002row16_col15\" class=\"data row16 col15\" >-0.06</td>\n",
              "                        <td id=\"T_faa88c82_c221_11ea_bc7b_0242ac1c0002row16_col16\" class=\"data row16 col16\" >1.00</td>\n",
              "                        <td id=\"T_faa88c82_c221_11ea_bc7b_0242ac1c0002row16_col17\" class=\"data row16 col17\" >-0.19</td>\n",
              "                        <td id=\"T_faa88c82_c221_11ea_bc7b_0242ac1c0002row16_col18\" class=\"data row16 col18\" >-0.20</td>\n",
              "                        <td id=\"T_faa88c82_c221_11ea_bc7b_0242ac1c0002row16_col19\" class=\"data row16 col19\" >-0.02</td>\n",
              "                        <td id=\"T_faa88c82_c221_11ea_bc7b_0242ac1c0002row16_col20\" class=\"data row16 col20\" >-0.01</td>\n",
              "            </tr>\n",
              "            <tr>\n",
              "                        <th id=\"T_faa88c82_c221_11ea_bc7b_0242ac1c0002level0_row17\" class=\"row_heading level0 row17\" >SciFi</th>\n",
              "                        <td id=\"T_faa88c82_c221_11ea_bc7b_0242ac1c0002row17_col0\" class=\"data row17 col0\" >-0.14</td>\n",
              "                        <td id=\"T_faa88c82_c221_11ea_bc7b_0242ac1c0002row17_col1\" class=\"data row17 col1\" >0.06</td>\n",
              "                        <td id=\"T_faa88c82_c221_11ea_bc7b_0242ac1c0002row17_col2\" class=\"data row17 col2\" >0.33</td>\n",
              "                        <td id=\"T_faa88c82_c221_11ea_bc7b_0242ac1c0002row17_col3\" class=\"data row17 col3\" >0.28</td>\n",
              "                        <td id=\"T_faa88c82_c221_11ea_bc7b_0242ac1c0002row17_col4\" class=\"data row17 col4\" >-0.10</td>\n",
              "                        <td id=\"T_faa88c82_c221_11ea_bc7b_0242ac1c0002row17_col5\" class=\"data row17 col5\" >-0.10</td>\n",
              "                        <td id=\"T_faa88c82_c221_11ea_bc7b_0242ac1c0002row17_col6\" class=\"data row17 col6\" >-0.21</td>\n",
              "                        <td id=\"T_faa88c82_c221_11ea_bc7b_0242ac1c0002row17_col7\" class=\"data row17 col7\" >-0.18</td>\n",
              "                        <td id=\"T_faa88c82_c221_11ea_bc7b_0242ac1c0002row17_col8\" class=\"data row17 col8\" >-0.03</td>\n",
              "                        <td id=\"T_faa88c82_c221_11ea_bc7b_0242ac1c0002row17_col9\" class=\"data row17 col9\" >-0.16</td>\n",
              "                        <td id=\"T_faa88c82_c221_11ea_bc7b_0242ac1c0002row17_col10\" class=\"data row17 col10\" >-0.15</td>\n",
              "                        <td id=\"T_faa88c82_c221_11ea_bc7b_0242ac1c0002row17_col11\" class=\"data row17 col11\" >-0.05</td>\n",
              "                        <td id=\"T_faa88c82_c221_11ea_bc7b_0242ac1c0002row17_col12\" class=\"data row17 col12\" >0.02</td>\n",
              "                        <td id=\"T_faa88c82_c221_11ea_bc7b_0242ac1c0002row17_col13\" class=\"data row17 col13\" >0.12</td>\n",
              "                        <td id=\"T_faa88c82_c221_11ea_bc7b_0242ac1c0002row17_col14\" class=\"data row17 col14\" >-0.09</td>\n",
              "                        <td id=\"T_faa88c82_c221_11ea_bc7b_0242ac1c0002row17_col15\" class=\"data row17 col15\" >-0.02</td>\n",
              "                        <td id=\"T_faa88c82_c221_11ea_bc7b_0242ac1c0002row17_col16\" class=\"data row17 col16\" >-0.19</td>\n",
              "                        <td id=\"T_faa88c82_c221_11ea_bc7b_0242ac1c0002row17_col17\" class=\"data row17 col17\" >1.00</td>\n",
              "                        <td id=\"T_faa88c82_c221_11ea_bc7b_0242ac1c0002row17_col18\" class=\"data row17 col18\" >0.14</td>\n",
              "                        <td id=\"T_faa88c82_c221_11ea_bc7b_0242ac1c0002row17_col19\" class=\"data row17 col19\" >-0.11</td>\n",
              "                        <td id=\"T_faa88c82_c221_11ea_bc7b_0242ac1c0002row17_col20\" class=\"data row17 col20\" >-0.02</td>\n",
              "            </tr>\n",
              "            <tr>\n",
              "                        <th id=\"T_faa88c82_c221_11ea_bc7b_0242ac1c0002level0_row18\" class=\"row_heading level0 row18\" >Thriller</th>\n",
              "                        <td id=\"T_faa88c82_c221_11ea_bc7b_0242ac1c0002row18_col0\" class=\"data row18 col0\" >-0.02</td>\n",
              "                        <td id=\"T_faa88c82_c221_11ea_bc7b_0242ac1c0002row18_col1\" class=\"data row18 col1\" >0.09</td>\n",
              "                        <td id=\"T_faa88c82_c221_11ea_bc7b_0242ac1c0002row18_col2\" class=\"data row18 col2\" >0.31</td>\n",
              "                        <td id=\"T_faa88c82_c221_11ea_bc7b_0242ac1c0002row18_col3\" class=\"data row18 col3\" >-0.01</td>\n",
              "                        <td id=\"T_faa88c82_c221_11ea_bc7b_0242ac1c0002row18_col4\" class=\"data row18 col4\" >-0.17</td>\n",
              "                        <td id=\"T_faa88c82_c221_11ea_bc7b_0242ac1c0002row18_col5\" class=\"data row18 col5\" >-0.21</td>\n",
              "                        <td id=\"T_faa88c82_c221_11ea_bc7b_0242ac1c0002row18_col6\" class=\"data row18 col6\" >-0.36</td>\n",
              "                        <td id=\"T_faa88c82_c221_11ea_bc7b_0242ac1c0002row18_col7\" class=\"data row18 col7\" >0.25</td>\n",
              "                        <td id=\"T_faa88c82_c221_11ea_bc7b_0242ac1c0002row18_col8\" class=\"data row18 col8\" >-0.04</td>\n",
              "                        <td id=\"T_faa88c82_c221_11ea_bc7b_0242ac1c0002row18_col9\" class=\"data row18 col9\" >-0.04</td>\n",
              "                        <td id=\"T_faa88c82_c221_11ea_bc7b_0242ac1c0002row18_col10\" class=\"data row18 col10\" >-0.18</td>\n",
              "                        <td id=\"T_faa88c82_c221_11ea_bc7b_0242ac1c0002row18_col11\" class=\"data row18 col11\" >0.16</td>\n",
              "                        <td id=\"T_faa88c82_c221_11ea_bc7b_0242ac1c0002row18_col12\" class=\"data row18 col12\" >0.06</td>\n",
              "                        <td id=\"T_faa88c82_c221_11ea_bc7b_0242ac1c0002row18_col13\" class=\"data row18 col13\" >-0.01</td>\n",
              "                        <td id=\"T_faa88c82_c221_11ea_bc7b_0242ac1c0002row18_col14\" class=\"data row18 col14\" >-0.13</td>\n",
              "                        <td id=\"T_faa88c82_c221_11ea_bc7b_0242ac1c0002row18_col15\" class=\"data row18 col15\" >0.32</td>\n",
              "                        <td id=\"T_faa88c82_c221_11ea_bc7b_0242ac1c0002row18_col16\" class=\"data row18 col16\" >-0.20</td>\n",
              "                        <td id=\"T_faa88c82_c221_11ea_bc7b_0242ac1c0002row18_col17\" class=\"data row18 col17\" >0.14</td>\n",
              "                        <td id=\"T_faa88c82_c221_11ea_bc7b_0242ac1c0002row18_col18\" class=\"data row18 col18\" >1.00</td>\n",
              "                        <td id=\"T_faa88c82_c221_11ea_bc7b_0242ac1c0002row18_col19\" class=\"data row18 col19\" >-0.05</td>\n",
              "                        <td id=\"T_faa88c82_c221_11ea_bc7b_0242ac1c0002row18_col20\" class=\"data row18 col20\" >-0.10</td>\n",
              "            </tr>\n",
              "            <tr>\n",
              "                        <th id=\"T_faa88c82_c221_11ea_bc7b_0242ac1c0002level0_row19\" class=\"row_heading level0 row19\" >War</th>\n",
              "                        <td id=\"T_faa88c82_c221_11ea_bc7b_0242ac1c0002row19_col0\" class=\"data row19 col0\" >0.13</td>\n",
              "                        <td id=\"T_faa88c82_c221_11ea_bc7b_0242ac1c0002row19_col1\" class=\"data row19 col1\" >0.09</td>\n",
              "                        <td id=\"T_faa88c82_c221_11ea_bc7b_0242ac1c0002row19_col2\" class=\"data row19 col2\" >0.07</td>\n",
              "                        <td id=\"T_faa88c82_c221_11ea_bc7b_0242ac1c0002row19_col3\" class=\"data row19 col3\" >-0.09</td>\n",
              "                        <td id=\"T_faa88c82_c221_11ea_bc7b_0242ac1c0002row19_col4\" class=\"data row19 col4\" >-0.06</td>\n",
              "                        <td id=\"T_faa88c82_c221_11ea_bc7b_0242ac1c0002row19_col5\" class=\"data row19 col5\" >-0.07</td>\n",
              "                        <td id=\"T_faa88c82_c221_11ea_bc7b_0242ac1c0002row19_col6\" class=\"data row19 col6\" >-0.08</td>\n",
              "                        <td id=\"T_faa88c82_c221_11ea_bc7b_0242ac1c0002row19_col7\" class=\"data row19 col7\" >-0.07</td>\n",
              "                        <td id=\"T_faa88c82_c221_11ea_bc7b_0242ac1c0002row19_col8\" class=\"data row19 col8\" >-0.01</td>\n",
              "                        <td id=\"T_faa88c82_c221_11ea_bc7b_0242ac1c0002row19_col9\" class=\"data row19 col9\" >0.21</td>\n",
              "                        <td id=\"T_faa88c82_c221_11ea_bc7b_0242ac1c0002row19_col10\" class=\"data row19 col10\" >-0.06</td>\n",
              "                        <td id=\"T_faa88c82_c221_11ea_bc7b_0242ac1c0002row19_col11\" class=\"data row19 col11\" >-0.02</td>\n",
              "                        <td id=\"T_faa88c82_c221_11ea_bc7b_0242ac1c0002row19_col12\" class=\"data row19 col12\" >-0.05</td>\n",
              "                        <td id=\"T_faa88c82_c221_11ea_bc7b_0242ac1c0002row19_col13\" class=\"data row19 col13\" >-0.01</td>\n",
              "                        <td id=\"T_faa88c82_c221_11ea_bc7b_0242ac1c0002row19_col14\" class=\"data row19 col14\" >-0.05</td>\n",
              "                        <td id=\"T_faa88c82_c221_11ea_bc7b_0242ac1c0002row19_col15\" class=\"data row19 col15\" >-0.06</td>\n",
              "                        <td id=\"T_faa88c82_c221_11ea_bc7b_0242ac1c0002row19_col16\" class=\"data row19 col16\" >-0.02</td>\n",
              "                        <td id=\"T_faa88c82_c221_11ea_bc7b_0242ac1c0002row19_col17\" class=\"data row19 col17\" >-0.11</td>\n",
              "                        <td id=\"T_faa88c82_c221_11ea_bc7b_0242ac1c0002row19_col18\" class=\"data row19 col18\" >-0.05</td>\n",
              "                        <td id=\"T_faa88c82_c221_11ea_bc7b_0242ac1c0002row19_col19\" class=\"data row19 col19\" >1.00</td>\n",
              "                        <td id=\"T_faa88c82_c221_11ea_bc7b_0242ac1c0002row19_col20\" class=\"data row19 col20\" >0.03</td>\n",
              "            </tr>\n",
              "            <tr>\n",
              "                        <th id=\"T_faa88c82_c221_11ea_bc7b_0242ac1c0002level0_row20\" class=\"row_heading level0 row20\" >Western</th>\n",
              "                        <td id=\"T_faa88c82_c221_11ea_bc7b_0242ac1c0002row20_col0\" class=\"data row20 col0\" >-0.06</td>\n",
              "                        <td id=\"T_faa88c82_c221_11ea_bc7b_0242ac1c0002row20_col1\" class=\"data row20 col1\" >-0.06</td>\n",
              "                        <td id=\"T_faa88c82_c221_11ea_bc7b_0242ac1c0002row20_col2\" class=\"data row20 col2\" >0.05</td>\n",
              "                        <td id=\"T_faa88c82_c221_11ea_bc7b_0242ac1c0002row20_col3\" class=\"data row20 col3\" >0.04</td>\n",
              "                        <td id=\"T_faa88c82_c221_11ea_bc7b_0242ac1c0002row20_col4\" class=\"data row20 col4\" >-0.05</td>\n",
              "                        <td id=\"T_faa88c82_c221_11ea_bc7b_0242ac1c0002row20_col5\" class=\"data row20 col5\" >-0.06</td>\n",
              "                        <td id=\"T_faa88c82_c221_11ea_bc7b_0242ac1c0002row20_col6\" class=\"data row20 col6\" >0.00</td>\n",
              "                        <td id=\"T_faa88c82_c221_11ea_bc7b_0242ac1c0002row20_col7\" class=\"data row20 col7\" >-0.08</td>\n",
              "                        <td id=\"T_faa88c82_c221_11ea_bc7b_0242ac1c0002row20_col8\" class=\"data row20 col8\" >-0.01</td>\n",
              "                        <td id=\"T_faa88c82_c221_11ea_bc7b_0242ac1c0002row20_col9\" class=\"data row20 col9\" >-0.01</td>\n",
              "                        <td id=\"T_faa88c82_c221_11ea_bc7b_0242ac1c0002row20_col10\" class=\"data row20 col10\" >-0.07</td>\n",
              "                        <td id=\"T_faa88c82_c221_11ea_bc7b_0242ac1c0002row20_col11\" class=\"data row20 col11\" >-0.02</td>\n",
              "                        <td id=\"T_faa88c82_c221_11ea_bc7b_0242ac1c0002row20_col12\" class=\"data row20 col12\" >-0.04</td>\n",
              "                        <td id=\"T_faa88c82_c221_11ea_bc7b_0242ac1c0002row20_col13\" class=\"data row20 col13\" >-0.04</td>\n",
              "                        <td id=\"T_faa88c82_c221_11ea_bc7b_0242ac1c0002row20_col14\" class=\"data row20 col14\" >-0.04</td>\n",
              "                        <td id=\"T_faa88c82_c221_11ea_bc7b_0242ac1c0002row20_col15\" class=\"data row20 col15\" >-0.05</td>\n",
              "                        <td id=\"T_faa88c82_c221_11ea_bc7b_0242ac1c0002row20_col16\" class=\"data row20 col16\" >-0.01</td>\n",
              "                        <td id=\"T_faa88c82_c221_11ea_bc7b_0242ac1c0002row20_col17\" class=\"data row20 col17\" >-0.02</td>\n",
              "                        <td id=\"T_faa88c82_c221_11ea_bc7b_0242ac1c0002row20_col18\" class=\"data row20 col18\" >-0.10</td>\n",
              "                        <td id=\"T_faa88c82_c221_11ea_bc7b_0242ac1c0002row20_col19\" class=\"data row20 col19\" >0.03</td>\n",
              "                        <td id=\"T_faa88c82_c221_11ea_bc7b_0242ac1c0002row20_col20\" class=\"data row20 col20\" >1.00</td>\n",
              "            </tr>\n",
              "    </tbody></table>"
            ],
            "text/plain": [
              "<pandas.io.formats.style.Styler at 0x7f60ebec00b8>"
            ]
          },
          "metadata": {
            "tags": []
          },
          "execution_count": 136
        }
      ]
    },
    {
      "cell_type": "code",
      "metadata": {
        "id": "K_Dc_UzlW6ht",
        "colab_type": "code",
        "colab": {
          "base_uri": "https://localhost:8080/",
          "height": 101
        },
        "outputId": "7a36df63-bd84-42ba-da21-a773967de881"
      },
      "source": [
        "# solucao\n",
        "'''nota_media_por_genero = pd.DataFrame((generos.values.T * filmes['nota_media'].values).T, columns = generos.columns)\n",
        "nota_media_por_genero = nota_media_por_genero.melt(var_name='Genero', value_name='nota_media')\n",
        "nota_media_por_genero = nota_media_por_genero[nota_media_por_genero['nota_media'] > 0].groupby('Genero').mean()\n",
        "nota_media_por_genero'''\n",
        "correlacao['nota_media'].sort_values().iloc[[0,1,-3,-4]]"
      ],
      "execution_count": 137,
      "outputs": [
        {
          "output_type": "execute_result",
          "data": {
            "text/plain": [
              "Comedy   -0.256005\n",
              "Action   -0.154089\n",
              "Drama     0.277662\n",
              "Crime     0.190220\n",
              "Name: nota_media, dtype: float64"
            ]
          },
          "metadata": {
            "tags": []
          },
          "execution_count": 137
        }
      ]
    },
    {
      "cell_type": "markdown",
      "metadata": {
        "id": "tcUpQ1WCW6hx",
        "colab_type": "text"
      },
      "source": [
        "## Pergunta: Quais são os 2 generos com maior valor de correlação com `total_de_votos`? E quais os 2 com menor valor de correlação com `total_de_votos`?"
      ]
    },
    {
      "cell_type": "code",
      "metadata": {
        "id": "AI2Zy86vW6hx",
        "colab_type": "code",
        "colab": {
          "base_uri": "https://localhost:8080/",
          "height": 101
        },
        "outputId": "4c656458-f033-4fbb-9885-8495eb49a70d"
      },
      "source": [
        "# solucao\n",
        "correlacao['total_de_votos'].sort_values().iloc[[0,1,-3,-4]]\n",
        "\n"
      ],
      "execution_count": 138,
      "outputs": [
        {
          "output_type": "execute_result",
          "data": {
            "text/plain": [
              "Comedy      -0.128527\n",
              "Western     -0.060789\n",
              "Adventure    0.104380\n",
              "War          0.087999\n",
              "Name: total_de_votos, dtype: float64"
            ]
          },
          "metadata": {
            "tags": []
          },
          "execution_count": 138
        }
      ]
    },
    {
      "cell_type": "markdown",
      "metadata": {
        "id": "m0o3wWBMW6hz",
        "colab_type": "text"
      },
      "source": [
        "## Pergunta: Visualize graficamente o relacionamento entre ano de lançamento e nota média\n",
        "\n",
        "- Use o gráfico `lineplot`"
      ]
    },
    {
      "cell_type": "code",
      "metadata": {
        "id": "woVYB22ZFKzG",
        "colab_type": "code",
        "colab": {
          "base_uri": "https://localhost:8080/",
          "height": 34
        },
        "outputId": "11d8ec39-e516-423c-a0dc-81db9eb37181"
      },
      "source": [
        "import plotly\n",
        "print(\"Usando plotly %s\" % plotly.__version__)\n",
        "pd.options.plotting.backend = \"plotly\""
      ],
      "execution_count": 139,
      "outputs": [
        {
          "output_type": "stream",
          "text": [
            "Usando plotly 4.8.2\n"
          ],
          "name": "stdout"
        }
      ]
    },
    {
      "cell_type": "code",
      "metadata": {
        "id": "N57aiJmXW6h0",
        "colab_type": "code",
        "colab": {
          "base_uri": "https://localhost:8080/",
          "height": 542
        },
        "outputId": "3d879acc-33ec-448c-d313-bd092ebcef7f"
      },
      "source": [
        "# solucao\n",
        "fig = filmes.groupby(['ano_de_lancamento'])['nota_media'].mean().plot()\n",
        "nomear_grafico(fig, 'Nota media por ano', 'Ano de lançamento', 'Nota Média')\n",
        "fig.show()"
      ],
      "execution_count": 140,
      "outputs": [
        {
          "output_type": "display_data",
          "data": {
            "text/html": [
              "<html>\n",
              "<head><meta charset=\"utf-8\" /></head>\n",
              "<body>\n",
              "    <div>\n",
              "            <script src=\"https://cdnjs.cloudflare.com/ajax/libs/mathjax/2.7.5/MathJax.js?config=TeX-AMS-MML_SVG\"></script><script type=\"text/javascript\">if (window.MathJax) {MathJax.Hub.Config({SVG: {font: \"STIX-Web\"}});}</script>\n",
              "                <script type=\"text/javascript\">window.PlotlyConfig = {MathJaxConfig: 'local'};</script>\n",
              "        <script src=\"https://cdn.plot.ly/plotly-latest.min.js\"></script>    \n",
              "            <div id=\"2ec1a02b-f7ec-4ff6-bb58-c13dfb50e81b\" class=\"plotly-graph-div\" style=\"height:525px; width:100%;\"></div>\n",
              "            <script type=\"text/javascript\">\n",
              "                \n",
              "                    window.PLOTLYENV=window.PLOTLYENV || {};\n",
              "                    \n",
              "                if (document.getElementById(\"2ec1a02b-f7ec-4ff6-bb58-c13dfb50e81b\")) {\n",
              "                    Plotly.newPlot(\n",
              "                        '2ec1a02b-f7ec-4ff6-bb58-c13dfb50e81b',\n",
              "                        [{\"hovertemplate\": \"variable=nota_media<br>ano_de_lancamento=%{x}<br>value=%{y}<extra></extra>\", \"legendgroup\": \"nota_media\", \"line\": {\"color\": \"#636efa\", \"dash\": \"solid\"}, \"mode\": \"lines\", \"name\": \"nota_media\", \"orientation\": \"v\", \"showlegend\": true, \"type\": \"scatter\", \"x\": [1937.0, 1939.0, 1940.0, 1941.0, 1942.0, 1946.0, 1954.0, 1955.0, 1957.0, 1958.0, 1959.0, 1960.0, 1962.0, 1964.0, 1965.0, 1966.0, 1967.0, 1968.0, 1969.0, 1971.0, 1972.0, 1973.0, 1974.0, 1975.0, 1976.0, 1977.0, 1978.0, 1979.0, 1980.0, 1981.0, 1982.0, 1983.0, 1984.0, 1985.0, 1986.0, 1987.0, 1988.0, 1989.0, 1990.0, 1991.0, 1992.0, 1993.0, 1994.0, 1995.0, 1996.0, 1997.0, 1998.0, 1999.0, 2000.0, 2001.0, 2002.0, 2003.0, 2004.0, 2005.0, 2006.0, 2007.0, 2008.0, 2009.0, 2010.0, 2011.0, 2012.0, 2013.0, 2014.0, 2016.0], \"xaxis\": \"x\", \"y\": [3.616883116883117, 3.880434782608696, 3.616509433962264, 4.043478260869565, 4.24, 4.0344827586206895, 4.261904761904762, 3.4, 4.149122807017544, 4.025, 4.097105263157895, 4.036144578313253, 4.120689655172414, 3.9983292740949357, 3.9375, 4.145833333333333, 4.055136547682397, 3.8490334207077326, 3.943548387096774, 3.934891456582633, 4.2890625, 3.889224646226415, 4.099947955854107, 3.9278841428609232, 3.9669471153846154, 3.9478106730167455, 3.479937215499632, 4.038590180850304, 3.958195468658668, 4.2075, 3.7433322316234796, 4.014439398554537, 3.7259354653955596, 3.891228574536185, 3.711666693493324, 3.7962567995030136, 3.726061414035469, 3.5528069612672017, 3.5283368470076506, 3.8153277441702507, 3.591205864632452, 3.5021069385564827, 3.491464396114671, 3.4547666798827694, 3.3583309713197687, 3.5655175181202723, 3.6293301812310204, 3.5939202634872127, 3.5537730302707655, 3.7781077301929273, 3.5647311801053445, 3.710472973012142, 3.750814085982646, 3.5304298001451255, 3.7912362828448702, 3.7468570127023226, 3.8749438051459513, 3.848429436610453, 4.011729520366271, 3.91, 3.8103666854078115, 3.9166666666666665, 3.9607110741011944, 3.8333333333333335], \"yaxis\": \"y\"}],\n",
              "                        {\"legend\": {\"title\": {\"text\": \"variable\"}, \"tracegroupgap\": 0}, \"margin\": {\"t\": 60}, \"template\": {\"data\": {\"bar\": [{\"error_x\": {\"color\": \"#2a3f5f\"}, \"error_y\": {\"color\": \"#2a3f5f\"}, \"marker\": {\"line\": {\"color\": \"#E5ECF6\", \"width\": 0.5}}, \"type\": \"bar\"}], \"barpolar\": [{\"marker\": {\"line\": {\"color\": \"#E5ECF6\", \"width\": 0.5}}, \"type\": \"barpolar\"}], \"carpet\": [{\"aaxis\": {\"endlinecolor\": \"#2a3f5f\", \"gridcolor\": \"white\", \"linecolor\": \"white\", \"minorgridcolor\": \"white\", \"startlinecolor\": \"#2a3f5f\"}, \"baxis\": {\"endlinecolor\": \"#2a3f5f\", \"gridcolor\": \"white\", \"linecolor\": \"white\", \"minorgridcolor\": \"white\", \"startlinecolor\": \"#2a3f5f\"}, \"type\": \"carpet\"}], \"choropleth\": [{\"colorbar\": {\"outlinewidth\": 0, \"ticks\": \"\"}, \"type\": \"choropleth\"}], \"contour\": [{\"colorbar\": {\"outlinewidth\": 0, \"ticks\": \"\"}, \"colorscale\": [[0.0, \"#0d0887\"], [0.1111111111111111, \"#46039f\"], [0.2222222222222222, \"#7201a8\"], [0.3333333333333333, \"#9c179e\"], [0.4444444444444444, \"#bd3786\"], [0.5555555555555556, \"#d8576b\"], [0.6666666666666666, \"#ed7953\"], [0.7777777777777778, \"#fb9f3a\"], [0.8888888888888888, \"#fdca26\"], [1.0, \"#f0f921\"]], \"type\": \"contour\"}], \"contourcarpet\": [{\"colorbar\": {\"outlinewidth\": 0, \"ticks\": \"\"}, \"type\": \"contourcarpet\"}], \"heatmap\": [{\"colorbar\": {\"outlinewidth\": 0, \"ticks\": \"\"}, \"colorscale\": [[0.0, \"#0d0887\"], [0.1111111111111111, \"#46039f\"], [0.2222222222222222, \"#7201a8\"], [0.3333333333333333, \"#9c179e\"], [0.4444444444444444, \"#bd3786\"], [0.5555555555555556, \"#d8576b\"], [0.6666666666666666, \"#ed7953\"], [0.7777777777777778, \"#fb9f3a\"], [0.8888888888888888, \"#fdca26\"], [1.0, \"#f0f921\"]], \"type\": \"heatmap\"}], \"heatmapgl\": [{\"colorbar\": {\"outlinewidth\": 0, \"ticks\": \"\"}, \"colorscale\": [[0.0, \"#0d0887\"], [0.1111111111111111, \"#46039f\"], [0.2222222222222222, \"#7201a8\"], [0.3333333333333333, \"#9c179e\"], [0.4444444444444444, \"#bd3786\"], [0.5555555555555556, \"#d8576b\"], [0.6666666666666666, \"#ed7953\"], [0.7777777777777778, \"#fb9f3a\"], [0.8888888888888888, \"#fdca26\"], [1.0, \"#f0f921\"]], \"type\": \"heatmapgl\"}], \"histogram\": [{\"marker\": {\"colorbar\": {\"outlinewidth\": 0, \"ticks\": \"\"}}, \"type\": \"histogram\"}], \"histogram2d\": [{\"colorbar\": {\"outlinewidth\": 0, \"ticks\": \"\"}, \"colorscale\": [[0.0, \"#0d0887\"], [0.1111111111111111, \"#46039f\"], [0.2222222222222222, \"#7201a8\"], [0.3333333333333333, \"#9c179e\"], [0.4444444444444444, \"#bd3786\"], [0.5555555555555556, \"#d8576b\"], [0.6666666666666666, \"#ed7953\"], [0.7777777777777778, \"#fb9f3a\"], [0.8888888888888888, \"#fdca26\"], [1.0, \"#f0f921\"]], \"type\": \"histogram2d\"}], \"histogram2dcontour\": [{\"colorbar\": {\"outlinewidth\": 0, \"ticks\": \"\"}, \"colorscale\": [[0.0, \"#0d0887\"], [0.1111111111111111, \"#46039f\"], [0.2222222222222222, \"#7201a8\"], [0.3333333333333333, \"#9c179e\"], [0.4444444444444444, \"#bd3786\"], [0.5555555555555556, \"#d8576b\"], [0.6666666666666666, \"#ed7953\"], [0.7777777777777778, \"#fb9f3a\"], [0.8888888888888888, \"#fdca26\"], [1.0, \"#f0f921\"]], \"type\": \"histogram2dcontour\"}], \"mesh3d\": [{\"colorbar\": {\"outlinewidth\": 0, \"ticks\": \"\"}, \"type\": \"mesh3d\"}], \"parcoords\": [{\"line\": {\"colorbar\": {\"outlinewidth\": 0, \"ticks\": \"\"}}, \"type\": \"parcoords\"}], \"pie\": [{\"automargin\": true, \"type\": \"pie\"}], \"scatter\": [{\"marker\": {\"colorbar\": {\"outlinewidth\": 0, \"ticks\": \"\"}}, \"type\": \"scatter\"}], \"scatter3d\": [{\"line\": {\"colorbar\": {\"outlinewidth\": 0, \"ticks\": \"\"}}, \"marker\": {\"colorbar\": {\"outlinewidth\": 0, \"ticks\": \"\"}}, \"type\": \"scatter3d\"}], \"scattercarpet\": [{\"marker\": {\"colorbar\": {\"outlinewidth\": 0, \"ticks\": \"\"}}, \"type\": \"scattercarpet\"}], \"scattergeo\": [{\"marker\": {\"colorbar\": {\"outlinewidth\": 0, \"ticks\": \"\"}}, \"type\": \"scattergeo\"}], \"scattergl\": [{\"marker\": {\"colorbar\": {\"outlinewidth\": 0, \"ticks\": \"\"}}, \"type\": \"scattergl\"}], \"scattermapbox\": [{\"marker\": {\"colorbar\": {\"outlinewidth\": 0, \"ticks\": \"\"}}, \"type\": \"scattermapbox\"}], \"scatterpolar\": [{\"marker\": {\"colorbar\": {\"outlinewidth\": 0, \"ticks\": \"\"}}, \"type\": \"scatterpolar\"}], \"scatterpolargl\": [{\"marker\": {\"colorbar\": {\"outlinewidth\": 0, \"ticks\": \"\"}}, \"type\": \"scatterpolargl\"}], \"scatterternary\": [{\"marker\": {\"colorbar\": {\"outlinewidth\": 0, \"ticks\": \"\"}}, \"type\": \"scatterternary\"}], \"surface\": [{\"colorbar\": {\"outlinewidth\": 0, \"ticks\": \"\"}, \"colorscale\": [[0.0, \"#0d0887\"], [0.1111111111111111, \"#46039f\"], [0.2222222222222222, \"#7201a8\"], [0.3333333333333333, \"#9c179e\"], [0.4444444444444444, \"#bd3786\"], [0.5555555555555556, \"#d8576b\"], [0.6666666666666666, \"#ed7953\"], [0.7777777777777778, \"#fb9f3a\"], [0.8888888888888888, \"#fdca26\"], [1.0, \"#f0f921\"]], \"type\": \"surface\"}], \"table\": [{\"cells\": {\"fill\": {\"color\": \"#EBF0F8\"}, \"line\": {\"color\": \"white\"}}, \"header\": {\"fill\": {\"color\": \"#C8D4E3\"}, \"line\": {\"color\": \"white\"}}, \"type\": \"table\"}]}, \"layout\": {\"annotationdefaults\": {\"arrowcolor\": \"#2a3f5f\", \"arrowhead\": 0, \"arrowwidth\": 1}, \"coloraxis\": {\"colorbar\": {\"outlinewidth\": 0, \"ticks\": \"\"}}, \"colorscale\": {\"diverging\": [[0, \"#8e0152\"], [0.1, \"#c51b7d\"], [0.2, \"#de77ae\"], [0.3, \"#f1b6da\"], [0.4, \"#fde0ef\"], [0.5, \"#f7f7f7\"], [0.6, \"#e6f5d0\"], [0.7, \"#b8e186\"], [0.8, \"#7fbc41\"], [0.9, \"#4d9221\"], [1, \"#276419\"]], \"sequential\": [[0.0, \"#0d0887\"], [0.1111111111111111, \"#46039f\"], [0.2222222222222222, \"#7201a8\"], [0.3333333333333333, \"#9c179e\"], [0.4444444444444444, \"#bd3786\"], [0.5555555555555556, \"#d8576b\"], [0.6666666666666666, \"#ed7953\"], [0.7777777777777778, \"#fb9f3a\"], [0.8888888888888888, \"#fdca26\"], [1.0, \"#f0f921\"]], \"sequentialminus\": [[0.0, \"#0d0887\"], [0.1111111111111111, \"#46039f\"], [0.2222222222222222, \"#7201a8\"], [0.3333333333333333, \"#9c179e\"], [0.4444444444444444, \"#bd3786\"], [0.5555555555555556, \"#d8576b\"], [0.6666666666666666, \"#ed7953\"], [0.7777777777777778, \"#fb9f3a\"], [0.8888888888888888, \"#fdca26\"], [1.0, \"#f0f921\"]]}, \"colorway\": [\"#636efa\", \"#EF553B\", \"#00cc96\", \"#ab63fa\", \"#FFA15A\", \"#19d3f3\", \"#FF6692\", \"#B6E880\", \"#FF97FF\", \"#FECB52\"], \"font\": {\"color\": \"#2a3f5f\"}, \"geo\": {\"bgcolor\": \"white\", \"lakecolor\": \"white\", \"landcolor\": \"#E5ECF6\", \"showlakes\": true, \"showland\": true, \"subunitcolor\": \"white\"}, \"hoverlabel\": {\"align\": \"left\"}, \"hovermode\": \"closest\", \"mapbox\": {\"style\": \"light\"}, \"paper_bgcolor\": \"white\", \"plot_bgcolor\": \"#E5ECF6\", \"polar\": {\"angularaxis\": {\"gridcolor\": \"white\", \"linecolor\": \"white\", \"ticks\": \"\"}, \"bgcolor\": \"#E5ECF6\", \"radialaxis\": {\"gridcolor\": \"white\", \"linecolor\": \"white\", \"ticks\": \"\"}}, \"scene\": {\"xaxis\": {\"backgroundcolor\": \"#E5ECF6\", \"gridcolor\": \"white\", \"gridwidth\": 2, \"linecolor\": \"white\", \"showbackground\": true, \"ticks\": \"\", \"zerolinecolor\": \"white\"}, \"yaxis\": {\"backgroundcolor\": \"#E5ECF6\", \"gridcolor\": \"white\", \"gridwidth\": 2, \"linecolor\": \"white\", \"showbackground\": true, \"ticks\": \"\", \"zerolinecolor\": \"white\"}, \"zaxis\": {\"backgroundcolor\": \"#E5ECF6\", \"gridcolor\": \"white\", \"gridwidth\": 2, \"linecolor\": \"white\", \"showbackground\": true, \"ticks\": \"\", \"zerolinecolor\": \"white\"}}, \"shapedefaults\": {\"line\": {\"color\": \"#2a3f5f\"}}, \"ternary\": {\"aaxis\": {\"gridcolor\": \"white\", \"linecolor\": \"white\", \"ticks\": \"\"}, \"baxis\": {\"gridcolor\": \"white\", \"linecolor\": \"white\", \"ticks\": \"\"}, \"bgcolor\": \"#E5ECF6\", \"caxis\": {\"gridcolor\": \"white\", \"linecolor\": \"white\", \"ticks\": \"\"}}, \"title\": {\"x\": 0.05}, \"xaxis\": {\"automargin\": true, \"gridcolor\": \"white\", \"linecolor\": \"white\", \"ticks\": \"\", \"title\": {\"standoff\": 15}, \"zerolinecolor\": \"white\", \"zerolinewidth\": 2}, \"yaxis\": {\"automargin\": true, \"gridcolor\": \"white\", \"linecolor\": \"white\", \"ticks\": \"\", \"title\": {\"standoff\": 15}, \"zerolinecolor\": \"white\", \"zerolinewidth\": 2}}}, \"title\": {\"text\": \"Nota media por ano\", \"x\": 0.5, \"xanchor\": \"center\", \"yanchor\": \"top\"}, \"xaxis\": {\"anchor\": \"y\", \"domain\": [0.0, 1.0], \"title\": {\"text\": \"Ano de lan\\u00e7amento\"}}, \"yaxis\": {\"anchor\": \"x\", \"domain\": [0.0, 1.0], \"title\": {\"text\": \"Nota M\\u00e9dia\"}}},\n",
              "                        {\"responsive\": true}\n",
              "                    ).then(function(){\n",
              "                            \n",
              "var gd = document.getElementById('2ec1a02b-f7ec-4ff6-bb58-c13dfb50e81b');\n",
              "var x = new MutationObserver(function (mutations, observer) {{\n",
              "        var display = window.getComputedStyle(gd).display;\n",
              "        if (!display || display === 'none') {{\n",
              "            console.log([gd, 'removed!']);\n",
              "            Plotly.purge(gd);\n",
              "            observer.disconnect();\n",
              "        }}\n",
              "}});\n",
              "\n",
              "// Listen for the removal of the full notebook cells\n",
              "var notebookContainer = gd.closest('#notebook-container');\n",
              "if (notebookContainer) {{\n",
              "    x.observe(notebookContainer, {childList: true});\n",
              "}}\n",
              "\n",
              "// Listen for the clearing of the current output cell\n",
              "var outputEl = gd.closest('.output');\n",
              "if (outputEl) {{\n",
              "    x.observe(outputEl, {childList: true});\n",
              "}}\n",
              "\n",
              "                        })\n",
              "                };\n",
              "                \n",
              "            </script>\n",
              "        </div>\n",
              "</body>\n",
              "</html>"
            ]
          },
          "metadata": {
            "tags": []
          }
        }
      ]
    },
    {
      "cell_type": "markdown",
      "metadata": {
        "id": "3s7Idhx4W6h1",
        "colab_type": "text"
      },
      "source": [
        "## Pergunta: Interprete a correlação entre `ano_de_lancamento` e a `nota_media`?\n",
        "\n",
        "- Calcule a correlação numericamente (use o `corr` do pandas)\n",
        "- Correlação não implica causalidade, qual \"problema\" na coleta dos dados pode gerar esse tipo de correlação?"
      ]
    },
    {
      "cell_type": "code",
      "metadata": {
        "id": "rZ4kWCfhW6h5",
        "colab_type": "code",
        "colab": {
          "base_uri": "https://localhost:8080/",
          "height": 34
        },
        "outputId": "51d03f2c-ad1e-4107-da4e-1ec14079d073"
      },
      "source": [
        "# solução (código)\n",
        "filmes[['ano_de_lancamento', 'nota_media']].corr()['nota_media'].iloc[0]"
      ],
      "execution_count": 141,
      "outputs": [
        {
          "output_type": "execute_result",
          "data": {
            "text/plain": [
              "-0.1591455520444448"
            ]
          },
          "metadata": {
            "tags": []
          },
          "execution_count": 141
        }
      ]
    },
    {
      "cell_type": "markdown",
      "metadata": {
        "id": "l9rwPk-3W6h7",
        "colab_type": "text"
      },
      "source": [
        "### Solução (explicação)\n",
        "Segundo a correlação e o grafico as pessoas avaliaram melhor os filmes mais antigos\n"
      ]
    },
    {
      "cell_type": "markdown",
      "metadata": {
        "id": "4ejfMy8qW6h7",
        "colab_type": "text"
      },
      "source": [
        "## Pergunta: analise um pairplot\n",
        "\n",
        "- crie uma variável chamada `infos` baseada nas colunas `ano_de_lancamento`, `nota_media` e `total_de_votos` de `filmes`\n",
        "- faça o pairplot usando seaborn\n",
        "- coloque uma regressão linear para cada pequeno plot dentro dele"
      ]
    },
    {
      "cell_type": "code",
      "metadata": {
        "id": "H0F05jWpW6h7",
        "colab_type": "code",
        "colab": {
          "base_uri": "https://localhost:8080/",
          "height": 584
        },
        "outputId": "c6d7b613-416a-4900-b134-a28450252e53"
      },
      "source": [
        "# solução\n",
        "infos = filmes[['ano_de_lancamento', 'nota_media', 'total_de_votos']]\n",
        "sns.pairplot(infos, kind=\"reg\", markers='+')\n"
      ],
      "execution_count": 162,
      "outputs": [
        {
          "output_type": "execute_result",
          "data": {
            "text/plain": [
              "<seaborn.axisgrid.PairGrid at 0x7f60e97911d0>"
            ]
          },
          "metadata": {
            "tags": []
          },
          "execution_count": 162
        },
        {
          "output_type": "display_data",
          "data": {
            "image/png": "[encoded data removed]",
            "text/plain": [
              "<Figure size 540x540 with 12 Axes>"
            ]
          },
          "metadata": {
            "tags": []
          }
        }
      ]
    },
    {
      "cell_type": "markdown",
      "metadata": {
        "id": "RoVGtO7vW6h9",
        "colab_type": "text"
      },
      "source": [
        "## Pergunta: analise um pairplot dos filmes de `Animation`\n",
        "\n",
        "- use o dataframe `filmes`\n",
        "- em um único pairplot separe com cores distintas os filmes da categoria `Animation` dos outros\n",
        "- use uma palete como `husl`\n",
        "- use marcadores distintos para cada um dos dois grupos\n",
        "- faça o pairplot usando seaborn e coloque uma regressão linear para cada pequeno plot dentro dele\n",
        "- tanto em x quanto y use somente três variáveis: `total_de_votos`, `ano_de_lancamento`, `nota_media`"
      ]
    },
    {
      "cell_type": "code",
      "metadata": {
        "id": "x4mrNbUiXtkf",
        "colab_type": "code",
        "colab": {}
      },
      "source": [
        "import numpy as np\n",
        "\n",
        "filmes['categorias'] = np.where(filmes['Animation'] == 1, 'Animação', 'Outros filmes')\n",
        "filmes"
      ],
      "execution_count": null,
      "outputs": []
    },
    {
      "cell_type": "code",
      "metadata": {
        "id": "xhYKjkl0W6h9",
        "colab_type": "code",
        "colab": {
          "base_uri": "https://localhost:8080/",
          "height": 584
        },
        "outputId": "5fdeb9b5-3f54-441a-d6e8-ee2d700020b2"
      },
      "source": [
        "sns.pairplot(filmes, vars=['ano_de_lancamento', 'nota_media', 'total_de_votos'],  kind='reg', hue='categorias', palette=\"husl\",markers=[\"o\", \"+\"])\n"
      ],
      "execution_count": 211,
      "outputs": [
        {
          "output_type": "execute_result",
          "data": {
            "text/plain": [
              "<seaborn.axisgrid.PairGrid at 0x7f60e919fb70>"
            ]
          },
          "metadata": {
            "tags": []
          },
          "execution_count": 211
        },
        {
          "output_type": "display_data",
          "data": {
            "image/png": "[encoded data removed]",
            "text/plain": [
              "<Figure size 653.475x540 with 12 Axes>"
            ]
          },
          "metadata": {
            "tags": []
          }
        }
      ]
    },
    {
      "cell_type": "markdown",
      "metadata": {
        "id": "DgKLiXr2W6h-",
        "colab_type": "text"
      },
      "source": [
        "## Pergunta: Analise a regressão em relação ao ano de lançamento.\n",
        "\n",
        "- Como parece se comportar a `nota_media` de filmes de `Animation` mais antigos e mais recentes? (ano_de_lancamento x nota_media). Essa correlação parece ser baixa, mas parece ser linear?\n",
        "- E o `ano_de_lancamento` x `total_de_votos`?\n",
        "- E das outras categorias? Compare isso com os outros filmes.\n",
        "- O que leva você levantar como hipótese para esse resultado?"
      ]
    },
    {
      "cell_type": "markdown",
      "metadata": {
        "id": "IHpFraqoW6h_",
        "colab_type": "text"
      },
      "source": [
        "### Solução:\n",
        "A nota média do genero de animação vem crescendo conforme os anos vão passando, mesmo ela sendo baixa, ela é linear!\n",
        "O publico que interage com esse mesmo genero tambem vem crescendo ao longo do tempo como podemos ver a relação no grafico\n",
        "Já os outros filmes é ao contrario, conforme os anos passam tanto a média quanto os votos vem caindo\n"
      ]
    },
    {
      "cell_type": "markdown",
      "metadata": {
        "id": "xXDfNNVGW6h_",
        "colab_type": "text"
      },
      "source": [
        "## Pergunta: Explore\n",
        "\n",
        "- compartilhe conosco 2 visualizações extras que julgar interessante\n",
        "- explique o que encontrou\n",
        "- use quantas células (texto ou código) julgar necessário"
      ]
    },
    {
      "cell_type": "code",
      "metadata": {
        "id": "Q-285hk6W6iA",
        "colab_type": "code",
        "colab": {}
      },
      "source": [
        "# solução"
      ],
      "execution_count": null,
      "outputs": []
    },
    {
      "cell_type": "code",
      "metadata": {
        "id": "awaJbPn-W6iB",
        "colab_type": "code",
        "colab": {
          "base_uri": "https://localhost:8080/",
          "height": 542
        },
        "outputId": "3b9e4e3c-d154-4e53-fd7a-856d83336a2b"
      },
      "source": [
        "filmes[['titulo', 'ano_de_lancamento',\t'nota_media',\t'total_de_votos']]\n",
        "lanc_por_ano = filmes.groupby(['ano_de_lancamento']).count()['titulo'].plot()\n",
        "nomear_grafico(lanc_por_ano, 'Lançamento de filmes por ano', 'Anos', 'Quantidade de filmes')\n",
        "\n",
        "lanc_por_ano.show()"
      ],
      "execution_count": 224,
      "outputs": [
        {
          "output_type": "display_data",
          "data": {
            "text/html": [
              "<html>\n",
              "<head><meta charset=\"utf-8\" /></head>\n",
              "<body>\n",
              "    <div>\n",
              "            <script src=\"https://cdnjs.cloudflare.com/ajax/libs/mathjax/2.7.5/MathJax.js?config=TeX-AMS-MML_SVG\"></script><script type=\"text/javascript\">if (window.MathJax) {MathJax.Hub.Config({SVG: {font: \"STIX-Web\"}});}</script>\n",
              "                <script type=\"text/javascript\">window.PlotlyConfig = {MathJaxConfig: 'local'};</script>\n",
              "        <script src=\"https://cdn.plot.ly/plotly-latest.min.js\"></script>    \n",
              "            <div id=\"c59f83a6-f6b5-4427-a9e6-8c39751b16c1\" class=\"plotly-graph-div\" style=\"height:525px; width:100%;\"></div>\n",
              "            <script type=\"text/javascript\">\n",
              "                \n",
              "                    window.PLOTLYENV=window.PLOTLYENV || {};\n",
              "                    \n",
              "                if (document.getElementById(\"c59f83a6-f6b5-4427-a9e6-8c39751b16c1\")) {\n",
              "                    Plotly.newPlot(\n",
              "                        'c59f83a6-f6b5-4427-a9e6-8c39751b16c1',\n",
              "                        [{\"hovertemplate\": \"variable=titulo<br>ano_de_lancamento=%{x}<br>value=%{y}<extra></extra>\", \"legendgroup\": \"titulo\", \"line\": {\"color\": \"#636efa\", \"dash\": \"solid\"}, \"mode\": \"lines\", \"name\": \"titulo\", \"orientation\": \"v\", \"showlegend\": true, \"type\": \"scatter\", \"x\": [1937.0, 1939.0, 1940.0, 1941.0, 1942.0, 1946.0, 1954.0, 1955.0, 1957.0, 1958.0, 1959.0, 1960.0, 1962.0, 1964.0, 1965.0, 1966.0, 1967.0, 1968.0, 1969.0, 1971.0, 1972.0, 1973.0, 1974.0, 1975.0, 1976.0, 1977.0, 1978.0, 1979.0, 1980.0, 1981.0, 1982.0, 1983.0, 1984.0, 1985.0, 1986.0, 1987.0, 1988.0, 1989.0, 1990.0, 1991.0, 1992.0, 1993.0, 1994.0, 1995.0, 1996.0, 1997.0, 1998.0, 1999.0, 2000.0, 2001.0, 2002.0, 2003.0, 2004.0, 2005.0, 2006.0, 2007.0, 2008.0, 2009.0, 2010.0, 2011.0, 2012.0, 2013.0, 2014.0, 2016.0], \"xaxis\": \"x\", \"y\": [1, 1, 2, 1, 1, 1, 1, 1, 1, 1, 2, 1, 1, 3, 1, 1, 3, 2, 1, 2, 1, 2, 4, 4, 2, 3, 3, 3, 5, 1, 4, 3, 7, 4, 6, 8, 6, 9, 11, 4, 6, 25, 28, 37, 20, 22, 17, 23, 24, 20, 16, 15, 14, 11, 11, 11, 5, 9, 6, 1, 5, 1, 4, 1], \"yaxis\": \"y\"}],\n",
              "                        {\"legend\": {\"title\": {\"text\": \"variable\"}, \"tracegroupgap\": 0}, \"margin\": {\"t\": 60}, \"template\": {\"data\": {\"bar\": [{\"error_x\": {\"color\": \"#2a3f5f\"}, \"error_y\": {\"color\": \"#2a3f5f\"}, \"marker\": {\"line\": {\"color\": \"#E5ECF6\", \"width\": 0.5}}, \"type\": \"bar\"}], \"barpolar\": [{\"marker\": {\"line\": {\"color\": \"#E5ECF6\", \"width\": 0.5}}, \"type\": \"barpolar\"}], \"carpet\": [{\"aaxis\": {\"endlinecolor\": \"#2a3f5f\", \"gridcolor\": \"white\", \"linecolor\": \"white\", \"minorgridcolor\": \"white\", \"startlinecolor\": \"#2a3f5f\"}, \"baxis\": {\"endlinecolor\": \"#2a3f5f\", \"gridcolor\": \"white\", \"linecolor\": \"white\", \"minorgridcolor\": \"white\", \"startlinecolor\": \"#2a3f5f\"}, \"type\": \"carpet\"}], \"choropleth\": [{\"colorbar\": {\"outlinewidth\": 0, \"ticks\": \"\"}, \"type\": \"choropleth\"}], \"contour\": [{\"colorbar\": {\"outlinewidth\": 0, \"ticks\": \"\"}, \"colorscale\": [[0.0, \"#0d0887\"], [0.1111111111111111, \"#46039f\"], [0.2222222222222222, \"#7201a8\"], [0.3333333333333333, \"#9c179e\"], [0.4444444444444444, \"#bd3786\"], [0.5555555555555556, \"#d8576b\"], [0.6666666666666666, \"#ed7953\"], [0.7777777777777778, \"#fb9f3a\"], [0.8888888888888888, \"#fdca26\"], [1.0, \"#f0f921\"]], \"type\": \"contour\"}], \"contourcarpet\": [{\"colorbar\": {\"outlinewidth\": 0, \"ticks\": \"\"}, \"type\": \"contourcarpet\"}], \"heatmap\": [{\"colorbar\": {\"outlinewidth\": 0, \"ticks\": \"\"}, \"colorscale\": [[0.0, \"#0d0887\"], [0.1111111111111111, \"#46039f\"], [0.2222222222222222, \"#7201a8\"], [0.3333333333333333, \"#9c179e\"], [0.4444444444444444, \"#bd3786\"], [0.5555555555555556, \"#d8576b\"], [0.6666666666666666, \"#ed7953\"], [0.7777777777777778, \"#fb9f3a\"], [0.8888888888888888, \"#fdca26\"], [1.0, \"#f0f921\"]], \"type\": \"heatmap\"}], \"heatmapgl\": [{\"colorbar\": {\"outlinewidth\": 0, \"ticks\": \"\"}, \"colorscale\": [[0.0, \"#0d0887\"], [0.1111111111111111, \"#46039f\"], [0.2222222222222222, \"#7201a8\"], [0.3333333333333333, \"#9c179e\"], [0.4444444444444444, \"#bd3786\"], [0.5555555555555556, \"#d8576b\"], [0.6666666666666666, \"#ed7953\"], [0.7777777777777778, \"#fb9f3a\"], [0.8888888888888888, \"#fdca26\"], [1.0, \"#f0f921\"]], \"type\": \"heatmapgl\"}], \"histogram\": [{\"marker\": {\"colorbar\": {\"outlinewidth\": 0, \"ticks\": \"\"}}, \"type\": \"histogram\"}], \"histogram2d\": [{\"colorbar\": {\"outlinewidth\": 0, \"ticks\": \"\"}, \"colorscale\": [[0.0, \"#0d0887\"], [0.1111111111111111, \"#46039f\"], [0.2222222222222222, \"#7201a8\"], [0.3333333333333333, \"#9c179e\"], [0.4444444444444444, \"#bd3786\"], [0.5555555555555556, \"#d8576b\"], [0.6666666666666666, \"#ed7953\"], [0.7777777777777778, \"#fb9f3a\"], [0.8888888888888888, \"#fdca26\"], [1.0, \"#f0f921\"]], \"type\": \"histogram2d\"}], \"histogram2dcontour\": [{\"colorbar\": {\"outlinewidth\": 0, \"ticks\": \"\"}, \"colorscale\": [[0.0, \"#0d0887\"], [0.1111111111111111, \"#46039f\"], [0.2222222222222222, \"#7201a8\"], [0.3333333333333333, \"#9c179e\"], [0.4444444444444444, \"#bd3786\"], [0.5555555555555556, \"#d8576b\"], [0.6666666666666666, \"#ed7953\"], [0.7777777777777778, \"#fb9f3a\"], [0.8888888888888888, \"#fdca26\"], [1.0, \"#f0f921\"]], \"type\": \"histogram2dcontour\"}], \"mesh3d\": [{\"colorbar\": {\"outlinewidth\": 0, \"ticks\": \"\"}, \"type\": \"mesh3d\"}], \"parcoords\": [{\"line\": {\"colorbar\": {\"outlinewidth\": 0, \"ticks\": \"\"}}, \"type\": \"parcoords\"}], \"pie\": [{\"automargin\": true, \"type\": \"pie\"}], \"scatter\": [{\"marker\": {\"colorbar\": {\"outlinewidth\": 0, \"ticks\": \"\"}}, \"type\": \"scatter\"}], \"scatter3d\": [{\"line\": {\"colorbar\": {\"outlinewidth\": 0, \"ticks\": \"\"}}, \"marker\": {\"colorbar\": {\"outlinewidth\": 0, \"ticks\": \"\"}}, \"type\": \"scatter3d\"}], \"scattercarpet\": [{\"marker\": {\"colorbar\": {\"outlinewidth\": 0, \"ticks\": \"\"}}, \"type\": \"scattercarpet\"}], \"scattergeo\": [{\"marker\": {\"colorbar\": {\"outlinewidth\": 0, \"ticks\": \"\"}}, \"type\": \"scattergeo\"}], \"scattergl\": [{\"marker\": {\"colorbar\": {\"outlinewidth\": 0, \"ticks\": \"\"}}, \"type\": \"scattergl\"}], \"scattermapbox\": [{\"marker\": {\"colorbar\": {\"outlinewidth\": 0, \"ticks\": \"\"}}, \"type\": \"scattermapbox\"}], \"scatterpolar\": [{\"marker\": {\"colorbar\": {\"outlinewidth\": 0, \"ticks\": \"\"}}, \"type\": \"scatterpolar\"}], \"scatterpolargl\": [{\"marker\": {\"colorbar\": {\"outlinewidth\": 0, \"ticks\": \"\"}}, \"type\": \"scatterpolargl\"}], \"scatterternary\": [{\"marker\": {\"colorbar\": {\"outlinewidth\": 0, \"ticks\": \"\"}}, \"type\": \"scatterternary\"}], \"surface\": [{\"colorbar\": {\"outlinewidth\": 0, \"ticks\": \"\"}, \"colorscale\": [[0.0, \"#0d0887\"], [0.1111111111111111, \"#46039f\"], [0.2222222222222222, \"#7201a8\"], [0.3333333333333333, \"#9c179e\"], [0.4444444444444444, \"#bd3786\"], [0.5555555555555556, \"#d8576b\"], [0.6666666666666666, \"#ed7953\"], [0.7777777777777778, \"#fb9f3a\"], [0.8888888888888888, \"#fdca26\"], [1.0, \"#f0f921\"]], \"type\": \"surface\"}], \"table\": [{\"cells\": {\"fill\": {\"color\": \"#EBF0F8\"}, \"line\": {\"color\": \"white\"}}, \"header\": {\"fill\": {\"color\": \"#C8D4E3\"}, \"line\": {\"color\": \"white\"}}, \"type\": \"table\"}]}, \"layout\": {\"annotationdefaults\": {\"arrowcolor\": \"#2a3f5f\", \"arrowhead\": 0, \"arrowwidth\": 1}, \"coloraxis\": {\"colorbar\": {\"outlinewidth\": 0, \"ticks\": \"\"}}, \"colorscale\": {\"diverging\": [[0, \"#8e0152\"], [0.1, \"#c51b7d\"], [0.2, \"#de77ae\"], [0.3, \"#f1b6da\"], [0.4, \"#fde0ef\"], [0.5, \"#f7f7f7\"], [0.6, \"#e6f5d0\"], [0.7, \"#b8e186\"], [0.8, \"#7fbc41\"], [0.9, \"#4d9221\"], [1, \"#276419\"]], \"sequential\": [[0.0, \"#0d0887\"], [0.1111111111111111, \"#46039f\"], [0.2222222222222222, \"#7201a8\"], [0.3333333333333333, \"#9c179e\"], [0.4444444444444444, \"#bd3786\"], [0.5555555555555556, \"#d8576b\"], [0.6666666666666666, \"#ed7953\"], [0.7777777777777778, \"#fb9f3a\"], [0.8888888888888888, \"#fdca26\"], [1.0, \"#f0f921\"]], \"sequentialminus\": [[0.0, \"#0d0887\"], [0.1111111111111111, \"#46039f\"], [0.2222222222222222, \"#7201a8\"], [0.3333333333333333, \"#9c179e\"], [0.4444444444444444, \"#bd3786\"], [0.5555555555555556, \"#d8576b\"], [0.6666666666666666, \"#ed7953\"], [0.7777777777777778, \"#fb9f3a\"], [0.8888888888888888, \"#fdca26\"], [1.0, \"#f0f921\"]]}, \"colorway\": [\"#636efa\", \"#EF553B\", \"#00cc96\", \"#ab63fa\", \"#FFA15A\", \"#19d3f3\", \"#FF6692\", \"#B6E880\", \"#FF97FF\", \"#FECB52\"], \"font\": {\"color\": \"#2a3f5f\"}, \"geo\": {\"bgcolor\": \"white\", \"lakecolor\": \"white\", \"landcolor\": \"#E5ECF6\", \"showlakes\": true, \"showland\": true, \"subunitcolor\": \"white\"}, \"hoverlabel\": {\"align\": \"left\"}, \"hovermode\": \"closest\", \"mapbox\": {\"style\": \"light\"}, \"paper_bgcolor\": \"white\", \"plot_bgcolor\": \"#E5ECF6\", \"polar\": {\"angularaxis\": {\"gridcolor\": \"white\", \"linecolor\": \"white\", \"ticks\": \"\"}, \"bgcolor\": \"#E5ECF6\", \"radialaxis\": {\"gridcolor\": \"white\", \"linecolor\": \"white\", \"ticks\": \"\"}}, \"scene\": {\"xaxis\": {\"backgroundcolor\": \"#E5ECF6\", \"gridcolor\": \"white\", \"gridwidth\": 2, \"linecolor\": \"white\", \"showbackground\": true, \"ticks\": \"\", \"zerolinecolor\": \"white\"}, \"yaxis\": {\"backgroundcolor\": \"#E5ECF6\", \"gridcolor\": \"white\", \"gridwidth\": 2, \"linecolor\": \"white\", \"showbackground\": true, \"ticks\": \"\", \"zerolinecolor\": \"white\"}, \"zaxis\": {\"backgroundcolor\": \"#E5ECF6\", \"gridcolor\": \"white\", \"gridwidth\": 2, \"linecolor\": \"white\", \"showbackground\": true, \"ticks\": \"\", \"zerolinecolor\": \"white\"}}, \"shapedefaults\": {\"line\": {\"color\": \"#2a3f5f\"}}, \"ternary\": {\"aaxis\": {\"gridcolor\": \"white\", \"linecolor\": \"white\", \"ticks\": \"\"}, \"baxis\": {\"gridcolor\": \"white\", \"linecolor\": \"white\", \"ticks\": \"\"}, \"bgcolor\": \"#E5ECF6\", \"caxis\": {\"gridcolor\": \"white\", \"linecolor\": \"white\", \"ticks\": \"\"}}, \"title\": {\"x\": 0.05}, \"xaxis\": {\"automargin\": true, \"gridcolor\": \"white\", \"linecolor\": \"white\", \"ticks\": \"\", \"title\": {\"standoff\": 15}, \"zerolinecolor\": \"white\", \"zerolinewidth\": 2}, \"yaxis\": {\"automargin\": true, \"gridcolor\": \"white\", \"linecolor\": \"white\", \"ticks\": \"\", \"title\": {\"standoff\": 15}, \"zerolinecolor\": \"white\", \"zerolinewidth\": 2}}}, \"title\": {\"text\": \"Lan\\u00e7amento de filmes por ano\", \"x\": 0.5, \"xanchor\": \"center\", \"yanchor\": \"top\"}, \"xaxis\": {\"anchor\": \"y\", \"domain\": [0.0, 1.0], \"title\": {\"text\": \"Anos\"}}, \"yaxis\": {\"anchor\": \"x\", \"domain\": [0.0, 1.0], \"title\": {\"text\": \"Quantidade de filmes\"}}},\n",
              "                        {\"responsive\": true}\n",
              "                    ).then(function(){\n",
              "                            \n",
              "var gd = document.getElementById('c59f83a6-f6b5-4427-a9e6-8c39751b16c1');\n",
              "var x = new MutationObserver(function (mutations, observer) {{\n",
              "        var display = window.getComputedStyle(gd).display;\n",
              "        if (!display || display === 'none') {{\n",
              "            console.log([gd, 'removed!']);\n",
              "            Plotly.purge(gd);\n",
              "            observer.disconnect();\n",
              "        }}\n",
              "}});\n",
              "\n",
              "// Listen for the removal of the full notebook cells\n",
              "var notebookContainer = gd.closest('#notebook-container');\n",
              "if (notebookContainer) {{\n",
              "    x.observe(notebookContainer, {childList: true});\n",
              "}}\n",
              "\n",
              "// Listen for the clearing of the current output cell\n",
              "var outputEl = gd.closest('.output');\n",
              "if (outputEl) {{\n",
              "    x.observe(outputEl, {childList: true});\n",
              "}}\n",
              "\n",
              "                        })\n",
              "                };\n",
              "                \n",
              "            </script>\n",
              "        </div>\n",
              "</body>\n",
              "</html>"
            ]
          },
          "metadata": {
            "tags": []
          }
        }
      ]
    },
    {
      "cell_type": "code",
      "metadata": {
        "id": "U4u_lGYuY_Sh",
        "colab_type": "code",
        "colab": {
          "base_uri": "https://localhost:8080/",
          "height": 134
        },
        "outputId": "1c5c237a-d437-45b8-8d98-2b465f96488d"
      },
      "source": [
        "quantidade_filmes_por_ano = filmes.groupby(['ano_de_lancamento'])['titulo'].count()\n",
        "quantidade_filmes_por_ano.head()"
      ],
      "execution_count": 231,
      "outputs": [
        {
          "output_type": "execute_result",
          "data": {
            "text/plain": [
              "ano_de_lancamento\n",
              "1937.0    1\n",
              "1939.0    1\n",
              "1940.0    2\n",
              "1941.0    1\n",
              "1942.0    1\n",
              "Name: titulo, dtype: int64"
            ]
          },
          "metadata": {
            "tags": []
          },
          "execution_count": 231
        }
      ]
    },
    {
      "cell_type": "code",
      "metadata": {
        "id": "7krwbR35a3sq",
        "colab_type": "code",
        "colab": {
          "base_uri": "https://localhost:8080/",
          "height": 134
        },
        "outputId": "e3d8405b-52c0-4516-9766-0298437d4b88"
      },
      "source": [
        "total_de_votos_por_ano = filmes.groupby(['ano_de_lancamento'])['total_de_votos'].sum()\n",
        "total_de_votos_por_ano.head()"
      ],
      "execution_count": 230,
      "outputs": [
        {
          "output_type": "execute_result",
          "data": {
            "text/plain": [
              "ano_de_lancamento\n",
              "1937.0     77.0\n",
              "1939.0     92.0\n",
              "1940.0    113.0\n",
              "1941.0     69.0\n",
              "1942.0    100.0\n",
              "Name: total_de_votos, dtype: float64"
            ]
          },
          "metadata": {
            "tags": []
          },
          "execution_count": 230
        }
      ]
    },
    {
      "cell_type": "code",
      "metadata": {
        "id": "Qb77ARKzbGmW",
        "colab_type": "code",
        "colab": {
          "base_uri": "https://localhost:8080/",
          "height": 542
        },
        "outputId": "817c9220-fb52-447e-f564-80401ac5bed5"
      },
      "source": [
        "qtd_filmes_por_total_votos = total_de_votos_por_ano / quantidade_filmes_por_ano \n",
        "fig = qtd_filmes_por_total_votos.plot()\n",
        "\n",
        "nomear_grafico(fig, 'Quantidade de filmes por total de votos', 'Anos', 'Total de votos x Total filmes')\n",
        "\n",
        "fig.show()"
      ],
      "execution_count": 236,
      "outputs": [
        {
          "output_type": "display_data",
          "data": {
            "text/html": [
              "<html>\n",
              "<head><meta charset=\"utf-8\" /></head>\n",
              "<body>\n",
              "    <div>\n",
              "            <script src=\"https://cdnjs.cloudflare.com/ajax/libs/mathjax/2.7.5/MathJax.js?config=TeX-AMS-MML_SVG\"></script><script type=\"text/javascript\">if (window.MathJax) {MathJax.Hub.Config({SVG: {font: \"STIX-Web\"}});}</script>\n",
              "                <script type=\"text/javascript\">window.PlotlyConfig = {MathJaxConfig: 'local'};</script>\n",
              "        <script src=\"https://cdn.plot.ly/plotly-latest.min.js\"></script>    \n",
              "            <div id=\"d25917ab-c25e-40c4-9c57-6125490c045c\" class=\"plotly-graph-div\" style=\"height:525px; width:100%;\"></div>\n",
              "            <script type=\"text/javascript\">\n",
              "                \n",
              "                    window.PLOTLYENV=window.PLOTLYENV || {};\n",
              "                    \n",
              "                if (document.getElementById(\"d25917ab-c25e-40c4-9c57-6125490c045c\")) {\n",
              "                    Plotly.newPlot(\n",
              "                        'd25917ab-c25e-40c4-9c57-6125490c045c',\n",
              "                        [{\"hovertemplate\": \"variable=0<br>ano_de_lancamento=%{x}<br>value=%{y}<extra></extra>\", \"legendgroup\": \"0\", \"line\": {\"color\": \"#636efa\", \"dash\": \"solid\"}, \"mode\": \"lines\", \"name\": \"0\", \"orientation\": \"v\", \"showlegend\": true, \"type\": \"scatter\", \"x\": [1937.0, 1939.0, 1940.0, 1941.0, 1942.0, 1946.0, 1954.0, 1955.0, 1957.0, 1958.0, 1959.0, 1960.0, 1962.0, 1964.0, 1965.0, 1966.0, 1967.0, 1968.0, 1969.0, 1971.0, 1972.0, 1973.0, 1974.0, 1975.0, 1976.0, 1977.0, 1978.0, 1979.0, 1980.0, 1981.0, 1982.0, 1983.0, 1984.0, 1985.0, 1986.0, 1987.0, 1988.0, 1989.0, 1990.0, 1991.0, 1992.0, 1993.0, 1994.0, 1995.0, 1996.0, 1997.0, 1998.0, 1999.0, 2000.0, 2001.0, 2002.0, 2003.0, 2004.0, 2005.0, 2006.0, 2007.0, 2008.0, 2009.0, 2010.0, 2011.0, 2012.0, 2013.0, 2014.0, 2016.0], \"xaxis\": \"x\", \"y\": [77.0, 92.0, 56.5, 69.0, 100.0, 58.0, 84.0, 55.0, 57.0, 60.0, 53.5, 83.0, 58.0, 73.66666666666667, 64.0, 72.0, 63.0, 82.5, 62.0, 119.5, 192.0, 58.5, 79.75, 105.75, 84.0, 123.0, 63.666666666666664, 114.0, 108.6, 200.0, 89.5, 106.0, 86.57142857142857, 100.0, 88.16666666666667, 79.0, 98.5, 93.33333333333333, 102.0909090909091, 175.5, 91.83333333333333, 95.76, 126.53571428571429, 104.62162162162163, 96.15, 85.13636363636364, 87.0, 104.82608695652173, 85.54166666666667, 89.25, 89.4375, 91.26666666666667, 78.71428571428571, 69.36363636363636, 76.54545454545455, 64.18181818181819, 94.4, 73.22222222222223, 72.16666666666667, 50.0, 64.0, 54.0, 58.5, 54.0], \"yaxis\": \"y\"}],\n",
              "                        {\"legend\": {\"title\": {\"text\": \"variable\"}, \"tracegroupgap\": 0}, \"margin\": {\"t\": 60}, \"template\": {\"data\": {\"bar\": [{\"error_x\": {\"color\": \"#2a3f5f\"}, \"error_y\": {\"color\": \"#2a3f5f\"}, \"marker\": {\"line\": {\"color\": \"#E5ECF6\", \"width\": 0.5}}, \"type\": \"bar\"}], \"barpolar\": [{\"marker\": {\"line\": {\"color\": \"#E5ECF6\", \"width\": 0.5}}, \"type\": \"barpolar\"}], \"carpet\": [{\"aaxis\": {\"endlinecolor\": \"#2a3f5f\", \"gridcolor\": \"white\", \"linecolor\": \"white\", \"minorgridcolor\": \"white\", \"startlinecolor\": \"#2a3f5f\"}, \"baxis\": {\"endlinecolor\": \"#2a3f5f\", \"gridcolor\": \"white\", \"linecolor\": \"white\", \"minorgridcolor\": \"white\", \"startlinecolor\": \"#2a3f5f\"}, \"type\": \"carpet\"}], \"choropleth\": [{\"colorbar\": {\"outlinewidth\": 0, \"ticks\": \"\"}, \"type\": \"choropleth\"}], \"contour\": [{\"colorbar\": {\"outlinewidth\": 0, \"ticks\": \"\"}, \"colorscale\": [[0.0, \"#0d0887\"], [0.1111111111111111, \"#46039f\"], [0.2222222222222222, \"#7201a8\"], [0.3333333333333333, \"#9c179e\"], [0.4444444444444444, \"#bd3786\"], [0.5555555555555556, \"#d8576b\"], [0.6666666666666666, \"#ed7953\"], [0.7777777777777778, \"#fb9f3a\"], [0.8888888888888888, \"#fdca26\"], [1.0, \"#f0f921\"]], \"type\": \"contour\"}], \"contourcarpet\": [{\"colorbar\": {\"outlinewidth\": 0, \"ticks\": \"\"}, \"type\": \"contourcarpet\"}], \"heatmap\": [{\"colorbar\": {\"outlinewidth\": 0, \"ticks\": \"\"}, \"colorscale\": [[0.0, \"#0d0887\"], [0.1111111111111111, \"#46039f\"], [0.2222222222222222, \"#7201a8\"], [0.3333333333333333, \"#9c179e\"], [0.4444444444444444, \"#bd3786\"], [0.5555555555555556, \"#d8576b\"], [0.6666666666666666, \"#ed7953\"], [0.7777777777777778, \"#fb9f3a\"], [0.8888888888888888, \"#fdca26\"], [1.0, \"#f0f921\"]], \"type\": \"heatmap\"}], \"heatmapgl\": [{\"colorbar\": {\"outlinewidth\": 0, \"ticks\": \"\"}, \"colorscale\": [[0.0, \"#0d0887\"], [0.1111111111111111, \"#46039f\"], [0.2222222222222222, \"#7201a8\"], [0.3333333333333333, \"#9c179e\"], [0.4444444444444444, \"#bd3786\"], [0.5555555555555556, \"#d8576b\"], [0.6666666666666666, \"#ed7953\"], [0.7777777777777778, \"#fb9f3a\"], [0.8888888888888888, \"#fdca26\"], [1.0, \"#f0f921\"]], \"type\": \"heatmapgl\"}], \"histogram\": [{\"marker\": {\"colorbar\": {\"outlinewidth\": 0, \"ticks\": \"\"}}, \"type\": \"histogram\"}], \"histogram2d\": [{\"colorbar\": {\"outlinewidth\": 0, \"ticks\": \"\"}, \"colorscale\": [[0.0, \"#0d0887\"], [0.1111111111111111, \"#46039f\"], [0.2222222222222222, \"#7201a8\"], [0.3333333333333333, \"#9c179e\"], [0.4444444444444444, \"#bd3786\"], [0.5555555555555556, \"#d8576b\"], [0.6666666666666666, \"#ed7953\"], [0.7777777777777778, \"#fb9f3a\"], [0.8888888888888888, \"#fdca26\"], [1.0, \"#f0f921\"]], \"type\": \"histogram2d\"}], \"histogram2dcontour\": [{\"colorbar\": {\"outlinewidth\": 0, \"ticks\": \"\"}, \"colorscale\": [[0.0, \"#0d0887\"], [0.1111111111111111, \"#46039f\"], [0.2222222222222222, \"#7201a8\"], [0.3333333333333333, \"#9c179e\"], [0.4444444444444444, \"#bd3786\"], [0.5555555555555556, \"#d8576b\"], [0.6666666666666666, \"#ed7953\"], [0.7777777777777778, \"#fb9f3a\"], [0.8888888888888888, \"#fdca26\"], [1.0, \"#f0f921\"]], \"type\": \"histogram2dcontour\"}], \"mesh3d\": [{\"colorbar\": {\"outlinewidth\": 0, \"ticks\": \"\"}, \"type\": \"mesh3d\"}], \"parcoords\": [{\"line\": {\"colorbar\": {\"outlinewidth\": 0, \"ticks\": \"\"}}, \"type\": \"parcoords\"}], \"pie\": [{\"automargin\": true, \"type\": \"pie\"}], \"scatter\": [{\"marker\": {\"colorbar\": {\"outlinewidth\": 0, \"ticks\": \"\"}}, \"type\": \"scatter\"}], \"scatter3d\": [{\"line\": {\"colorbar\": {\"outlinewidth\": 0, \"ticks\": \"\"}}, \"marker\": {\"colorbar\": {\"outlinewidth\": 0, \"ticks\": \"\"}}, \"type\": \"scatter3d\"}], \"scattercarpet\": [{\"marker\": {\"colorbar\": {\"outlinewidth\": 0, \"ticks\": \"\"}}, \"type\": \"scattercarpet\"}], \"scattergeo\": [{\"marker\": {\"colorbar\": {\"outlinewidth\": 0, \"ticks\": \"\"}}, \"type\": \"scattergeo\"}], \"scattergl\": [{\"marker\": {\"colorbar\": {\"outlinewidth\": 0, \"ticks\": \"\"}}, \"type\": \"scattergl\"}], \"scattermapbox\": [{\"marker\": {\"colorbar\": {\"outlinewidth\": 0, \"ticks\": \"\"}}, \"type\": \"scattermapbox\"}], \"scatterpolar\": [{\"marker\": {\"colorbar\": {\"outlinewidth\": 0, \"ticks\": \"\"}}, \"type\": \"scatterpolar\"}], \"scatterpolargl\": [{\"marker\": {\"colorbar\": {\"outlinewidth\": 0, \"ticks\": \"\"}}, \"type\": \"scatterpolargl\"}], \"scatterternary\": [{\"marker\": {\"colorbar\": {\"outlinewidth\": 0, \"ticks\": \"\"}}, \"type\": \"scatterternary\"}], \"surface\": [{\"colorbar\": {\"outlinewidth\": 0, \"ticks\": \"\"}, \"colorscale\": [[0.0, \"#0d0887\"], [0.1111111111111111, \"#46039f\"], [0.2222222222222222, \"#7201a8\"], [0.3333333333333333, \"#9c179e\"], [0.4444444444444444, \"#bd3786\"], [0.5555555555555556, \"#d8576b\"], [0.6666666666666666, \"#ed7953\"], [0.7777777777777778, \"#fb9f3a\"], [0.8888888888888888, \"#fdca26\"], [1.0, \"#f0f921\"]], \"type\": \"surface\"}], \"table\": [{\"cells\": {\"fill\": {\"color\": \"#EBF0F8\"}, \"line\": {\"color\": \"white\"}}, \"header\": {\"fill\": {\"color\": \"#C8D4E3\"}, \"line\": {\"color\": \"white\"}}, \"type\": \"table\"}]}, \"layout\": {\"annotationdefaults\": {\"arrowcolor\": \"#2a3f5f\", \"arrowhead\": 0, \"arrowwidth\": 1}, \"coloraxis\": {\"colorbar\": {\"outlinewidth\": 0, \"ticks\": \"\"}}, \"colorscale\": {\"diverging\": [[0, \"#8e0152\"], [0.1, \"#c51b7d\"], [0.2, \"#de77ae\"], [0.3, \"#f1b6da\"], [0.4, \"#fde0ef\"], [0.5, \"#f7f7f7\"], [0.6, \"#e6f5d0\"], [0.7, \"#b8e186\"], [0.8, \"#7fbc41\"], [0.9, \"#4d9221\"], [1, \"#276419\"]], \"sequential\": [[0.0, \"#0d0887\"], [0.1111111111111111, \"#46039f\"], [0.2222222222222222, \"#7201a8\"], [0.3333333333333333, \"#9c179e\"], [0.4444444444444444, \"#bd3786\"], [0.5555555555555556, \"#d8576b\"], [0.6666666666666666, \"#ed7953\"], [0.7777777777777778, \"#fb9f3a\"], [0.8888888888888888, \"#fdca26\"], [1.0, \"#f0f921\"]], \"sequentialminus\": [[0.0, \"#0d0887\"], [0.1111111111111111, \"#46039f\"], [0.2222222222222222, \"#7201a8\"], [0.3333333333333333, \"#9c179e\"], [0.4444444444444444, \"#bd3786\"], [0.5555555555555556, \"#d8576b\"], [0.6666666666666666, \"#ed7953\"], [0.7777777777777778, \"#fb9f3a\"], [0.8888888888888888, \"#fdca26\"], [1.0, \"#f0f921\"]]}, \"colorway\": [\"#636efa\", \"#EF553B\", \"#00cc96\", \"#ab63fa\", \"#FFA15A\", \"#19d3f3\", \"#FF6692\", \"#B6E880\", \"#FF97FF\", \"#FECB52\"], \"font\": {\"color\": \"#2a3f5f\"}, \"geo\": {\"bgcolor\": \"white\", \"lakecolor\": \"white\", \"landcolor\": \"#E5ECF6\", \"showlakes\": true, \"showland\": true, \"subunitcolor\": \"white\"}, \"hoverlabel\": {\"align\": \"left\"}, \"hovermode\": \"closest\", \"mapbox\": {\"style\": \"light\"}, \"paper_bgcolor\": \"white\", \"plot_bgcolor\": \"#E5ECF6\", \"polar\": {\"angularaxis\": {\"gridcolor\": \"white\", \"linecolor\": \"white\", \"ticks\": \"\"}, \"bgcolor\": \"#E5ECF6\", \"radialaxis\": {\"gridcolor\": \"white\", \"linecolor\": \"white\", \"ticks\": \"\"}}, \"scene\": {\"xaxis\": {\"backgroundcolor\": \"#E5ECF6\", \"gridcolor\": \"white\", \"gridwidth\": 2, \"linecolor\": \"white\", \"showbackground\": true, \"ticks\": \"\", \"zerolinecolor\": \"white\"}, \"yaxis\": {\"backgroundcolor\": \"#E5ECF6\", \"gridcolor\": \"white\", \"gridwidth\": 2, \"linecolor\": \"white\", \"showbackground\": true, \"ticks\": \"\", \"zerolinecolor\": \"white\"}, \"zaxis\": {\"backgroundcolor\": \"#E5ECF6\", \"gridcolor\": \"white\", \"gridwidth\": 2, \"linecolor\": \"white\", \"showbackground\": true, \"ticks\": \"\", \"zerolinecolor\": \"white\"}}, \"shapedefaults\": {\"line\": {\"color\": \"#2a3f5f\"}}, \"ternary\": {\"aaxis\": {\"gridcolor\": \"white\", \"linecolor\": \"white\", \"ticks\": \"\"}, \"baxis\": {\"gridcolor\": \"white\", \"linecolor\": \"white\", \"ticks\": \"\"}, \"bgcolor\": \"#E5ECF6\", \"caxis\": {\"gridcolor\": \"white\", \"linecolor\": \"white\", \"ticks\": \"\"}}, \"title\": {\"x\": 0.05}, \"xaxis\": {\"automargin\": true, \"gridcolor\": \"white\", \"linecolor\": \"white\", \"ticks\": \"\", \"title\": {\"standoff\": 15}, \"zerolinecolor\": \"white\", \"zerolinewidth\": 2}, \"yaxis\": {\"automargin\": true, \"gridcolor\": \"white\", \"linecolor\": \"white\", \"ticks\": \"\", \"title\": {\"standoff\": 15}, \"zerolinecolor\": \"white\", \"zerolinewidth\": 2}}}, \"title\": {\"text\": \"Quantidade de filmes por total de votos\", \"x\": 0.5, \"xanchor\": \"center\", \"yanchor\": \"top\"}, \"xaxis\": {\"anchor\": \"y\", \"domain\": [0.0, 1.0], \"title\": {\"text\": \"Anos\"}}, \"yaxis\": {\"anchor\": \"x\", \"domain\": [0.0, 1.0], \"title\": {\"text\": \"Total de votos x Total filmes\"}}},\n",
              "                        {\"responsive\": true}\n",
              "                    ).then(function(){\n",
              "                            \n",
              "var gd = document.getElementById('d25917ab-c25e-40c4-9c57-6125490c045c');\n",
              "var x = new MutationObserver(function (mutations, observer) {{\n",
              "        var display = window.getComputedStyle(gd).display;\n",
              "        if (!display || display === 'none') {{\n",
              "            console.log([gd, 'removed!']);\n",
              "            Plotly.purge(gd);\n",
              "            observer.disconnect();\n",
              "        }}\n",
              "}});\n",
              "\n",
              "// Listen for the removal of the full notebook cells\n",
              "var notebookContainer = gd.closest('#notebook-container');\n",
              "if (notebookContainer) {{\n",
              "    x.observe(notebookContainer, {childList: true});\n",
              "}}\n",
              "\n",
              "// Listen for the clearing of the current output cell\n",
              "var outputEl = gd.closest('.output');\n",
              "if (outputEl) {{\n",
              "    x.observe(outputEl, {childList: true});\n",
              "}}\n",
              "\n",
              "                        })\n",
              "                };\n",
              "                \n",
              "            </script>\n",
              "        </div>\n",
              "</body>\n",
              "</html>"
            ]
          },
          "metadata": {
            "tags": []
          }
        }
      ]
    },
    {
      "cell_type": "code",
      "metadata": {
        "id": "xH7HUIoybgUs",
        "colab_type": "code",
        "colab": {}
      },
      "source": [
        ""
      ],
      "execution_count": null,
      "outputs": []
    }
  ]
}